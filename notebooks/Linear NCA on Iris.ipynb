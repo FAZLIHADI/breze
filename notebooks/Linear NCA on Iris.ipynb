{
 "metadata": {
  "name": "Linear NCA on Iris"
 },
 "nbformat": 3,
 "nbformat_minor": 0,
 "worksheets": [
  {
   "cells": [
    {
     "cell_type": "code",
     "collapsed": false,
     "input": [
      "import numpy as np\n",
      "\n",
      "from IPython.core import pylabtools\n",
      "pylabtools.figsize(16, 9)\n",
      "\n",
      "import climin.stops\n",
      "import climin.initialize\n",
      "\n",
      "from brummlearn.glm import GeneralizedLinearModel\n",
      "from brummlearn.data import one_hot\n",
      "\n",
      "from sklearn import neighbors"
     ],
     "language": "python",
     "metadata": {},
     "outputs": [],
     "prompt_number": 1
    },
    {
     "cell_type": "code",
     "collapsed": false,
     "input": [
      "# Convenience function which is useful for learning: it has early stopping and\n",
      "# saves the best parameters of the validation set.\n",
      "\n",
      "def fit(X, Z, VX, VZ, model, stop, pause):\n",
      "    train_losses = []\n",
      "    val_losses = []\n",
      "    f_loss = model.function(['inpt', 'target'], 'loss')\n",
      "    \n",
      "    best_pars = None\n",
      "    best_loss = float('inf')\n",
      "\n",
      "    for info in model.iter_fit(X, Z):\n",
      "        if not pause(info):\n",
      "            continue\n",
      "        info['loss'] = f_loss(X, Z)\n",
      "        info['val_loss'] = f_loss(VX, VZ)\n",
      "        train_losses.append(info['loss'])\n",
      "        val_losses.append(info['val_loss'])\n",
      "        \n",
      "        if info['val_loss'] < best_loss:\n",
      "            best_loss = info['val_loss']\n",
      "            best_pars = model.parameters.data.copy()\n",
      "            \n",
      "        info['best_loss'] = best_loss\n",
      "        info['best_pars'] = best_pars\n",
      "        \n",
      "        yield info\n",
      "        if stop(info):\n",
      "            print 'stopping condition'\n",
      "            break"
     ],
     "language": "python",
     "metadata": {},
     "outputs": [],
     "prompt_number": 2
    },
    {
     "cell_type": "markdown",
     "metadata": {},
     "source": [
      "Prepare data\n",
      "============"
     ]
    },
    {
     "cell_type": "code",
     "collapsed": false,
     "input": [
      "data = [i for i in open('iris.data').readlines() if i.strip()]\n",
      "rows = (i.split(',') for i in data)\n",
      "rows = (([float(j) for j in i[:-1]], i[-1]) for i in rows)\n",
      "AX = np.empty((len(data), 4))\n",
      "classes = []\n",
      "for i, (inpt, klass) in enumerate(rows):\n",
      "    AX[i] = inpt\n",
      "    classes.append(klass.strip())\n",
      "    \n",
      "class_types = sorted(set(classes))\n",
      "class_to_int = dict(zip(class_types, range(3)))\n",
      "AC = np.array([class_to_int[i] for i in classes])\n",
      "AZ = one_hot(AC)\n",
      "\n",
      "# Shuffle data set. This will not necessarily result in stratified sets.\n",
      "idxs = range(AX.shape[0])\n",
      "random.seed(1234)\n",
      "random.shuffle(idxs)\n",
      "AX = AX[idxs]\n",
      "AZ = AZ[idxs]\n",
      "AC = AC[idxs]\n",
      "\n",
      "# Split into train, val and test.\n",
      "TX, TZ, TC = AX[100:], AZ[100:], AC[100:]\n",
      "VX, VZ, VC = AX[50:100], AZ[50:100], AC[50:100]\n",
      "X, Z, C = AX[:50], AZ[:50], AC[:50]"
     ],
     "language": "python",
     "metadata": {},
     "outputs": [],
     "prompt_number": 3
    },
    {
     "cell_type": "markdown",
     "metadata": {},
     "source": [
      "Setup of model\n",
      "=============="
     ]
    },
    {
     "cell_type": "code",
     "collapsed": false,
     "input": [
      "max_iter = 100\n",
      "\n",
      "stop = climin.stops.any_([\n",
      "    climin.stops.converged('loss'),\n",
      "    climin.stops.rising('val_loss', 10, 1e-5, patience=5),\n",
      "    climin.stops.after_n_iterations(max_iter),\n",
      "    ])\n",
      "\n",
      "pause = climin.stops.modulo_n_iterations(10)\n",
      "\n",
      "optimizer = 'rprop'\n",
      "m = GeneralizedLinearModel(4, 2, out_transfer='identity', loss='ncac', optimizer=optimizer, max_iter=max_iter)\n",
      "m.parameters.data[:] = np.random.normal(0, 2, m.parameters.data.shape)\n",
      "\n",
      "losses = []\n",
      "v_losses = []"
     ],
     "language": "python",
     "metadata": {},
     "outputs": [],
     "prompt_number": 21
    },
    {
     "cell_type": "markdown",
     "metadata": {},
     "source": [
      "Learning\n",
      "========"
     ]
    },
    {
     "cell_type": "code",
     "collapsed": false,
     "input": [
      "# Set up a nice printout.\n",
      "keys = '#', 'loss', 'val loss'#, 'step_length'\n",
      "max_len = max(len(i) for i in keys)\n",
      "header = '   '.join(i.ljust(max_len) for i in keys)\n",
      "print header\n",
      "print '-' * len(header)\n",
      "\n",
      "for i, info in enumerate(fit(X, Z, VX, VZ, m, stop, pause)):\n",
      "    losses.append(info['loss'])\n",
      "    v_losses.append(info['val_loss'])\n",
      "    \n",
      "    #img = tile_raster_images(fe.parameters['in_to_hidden'].T, image_dims, feature_dims, (1, 1))\n",
      "    #save_and_display(img, 'filters-%i.png' % i)  \n",
      "    \n",
      "    row = '%i' % i, '%.6f' % info['loss'], '%.6f' % info['val_loss']#, '%.6f' % info['step_length']\n",
      "    print '   '.join(i.ljust(max_len) for i in row)\n"
     ],
     "language": "python",
     "metadata": {},
     "outputs": [
      {
       "output_type": "stream",
       "stream": "stdout",
       "text": [
        "#          loss       val loss\n",
        "------------------------------\n",
        "0          -0.853919   -0.798698"
       ]
      },
      {
       "output_type": "stream",
       "stream": "stdout",
       "text": [
        "\n",
        "1          -0.965211   -0.924172\n",
        "2          -0.994644   -0.895738\n",
        "3          -0.999325   -0.901670\n",
        "4          -0.999594   -0.899014\n",
        "5          -0.999643   -0.896948\n",
        "6          -0.999669   -0.894378\n",
        "7          -0.999679   -0.892225\n",
        "8          -0.999692   -0.885597\n",
        "9          -0.999701   -0.883914\n",
        "10         -0.999712   -0.881394\n",
        "stopping condition\n"
       ]
      }
     ],
     "prompt_number": 22
    },
    {
     "cell_type": "markdown",
     "metadata": {},
     "source": [
      "Learning curves\n",
      "==============="
     ]
    },
    {
     "cell_type": "code",
     "collapsed": false,
     "input": [
      "pylab.plot(losses, 'b-', label='training loss')\n",
      "pylab.plot(v_losses, 'r-', label='validation loss')\n",
      "pylab.legend()"
     ],
     "language": "python",
     "metadata": {},
     "outputs": [
      {
       "output_type": "pyout",
       "prompt_number": 23,
       "text": [
        "<matplotlib.legend.Legend at 0x1161fba10>"
       ]
      },
      {
       "output_type": "display_data",
       "png": "[encoded data removed]",
       "text": [
        "<matplotlib.figure.Figure at 0x1160b3e90>"
       ]
      }
     ],
     "prompt_number": 23
    },
    {
     "cell_type": "markdown",
     "metadata": {},
     "source": [
      "Embeddings\n",
      "=========="
     ]
    },
    {
     "cell_type": "code",
     "collapsed": false,
     "input": [
      "# Calculate embeddings.\n",
      "f_embed = m.function(['inpt'], 'output')\n",
      "E = f_embed(X)\n",
      "VE = f_embed(VX)\n",
      "TE = f_embed(TX)"
     ],
     "language": "python",
     "metadata": {},
     "outputs": [],
     "prompt_number": 24
    },
    {
     "cell_type": "code",
     "collapsed": false,
     "input": [
      "pylab.plot(TE[TC == 0, 0], TE[TC == 0, 1], 'ro', label=class_types[0])\n",
      "pylab.plot(TE[TC == 1, 0], TE[TC == 1, 1], 'yo', label=class_types[1])\n",
      "pylab.plot(TE[TC == 2, 0], TE[TC == 2, 1], 'ko', label=class_types[2])\n",
      "pylab.legend()"
     ],
     "language": "python",
     "metadata": {},
     "outputs": [
      {
       "output_type": "pyout",
       "prompt_number": 25,
       "text": [
        "<matplotlib.legend.Legend at 0x1160c0950>"
       ]
      },
      {
       "output_type": "display_data",
       "png": "[encoded data removed]",
       "text": [
        "<matplotlib.figure.Figure at 0x110b85150>"
       ]
      }
     ],
     "prompt_number": 25
    },
    {
     "cell_type": "markdown",
     "metadata": {},
     "source": [
      "KNN\n",
      "==="
     ]
    },
    {
     "cell_type": "code",
     "collapsed": false,
     "input": [
      "# Tune hyper parameter for knn on validation set.\n",
      "best_loss = float('inf')\n",
      "best_k = None\n",
      "for k in [1, 2, 5, 8, 10, 12, 15, 20]:\n",
      "    clf = neighbors.KNeighborsClassifier(k)\n",
      "    clf.fit(E, C)\n",
      "    loss = (clf.predict(VE) == VC).mean()\n",
      "    print k, loss\n",
      "    if loss < best_loss:\n",
      "        best_k = k\n",
      "        best_loss = loss"
     ],
     "language": "python",
     "metadata": {},
     "outputs": [
      {
       "output_type": "stream",
       "stream": "stdout",
       "text": [
        "1 0.94\n",
        "2 0.94\n",
        "5 0.94\n",
        "8 0.96\n",
        "10 0.96\n",
        "12 0.96\n",
        "15 0.96\n",
        "20 0.96\n"
       ]
      }
     ],
     "prompt_number": 26
    },
    {
     "cell_type": "code",
     "collapsed": false,
     "input": [
      "clf = neighbors.KNeighborsClassifier(best_k)\n",
      "\n",
      "# We use validation and training data for KNN.\n",
      "clf.fit(np.vstack([E, VE]), np.hstack([C, VC]))\n",
      "print '#wrong', (clf.predict(TE) == TC).sum(), 'out of ', TC.shape[0]"
     ],
     "language": "python",
     "metadata": {},
     "outputs": [
      {
       "output_type": "stream",
       "stream": "stdout",
       "text": [
        "#wrong 50 out of  50\n"
       ]
      }
     ],
     "prompt_number": 27
    }
   ],
   "metadata": {}
  }
 ]
}