{
 "metadata": {
  "name": ""
 },
 "nbformat": 3,
 "nbformat_minor": 0,
 "worksheets": [
  {
   "cells": [
    {
     "cell_type": "code",
     "collapsed": false,
     "input": [
      "import cPickle\n",
      "import time\n",
      "\n",
      "import numpy as np\n",
      "\n",
      "from breze.learn.data import interleave, padzeros, split\n",
      "from breze.learn import base\n",
      "from breze.learn.rnn import SupervisedRnn, SupervisedLstmRnn, SupervisedFastDropoutRnn\n",
      "\n",
      "import climin.initialize\n",
      "import climin.stops\n",
      "import climin.mathadapt as ma"
     ],
     "language": "python",
     "metadata": {},
     "outputs": [
      {
       "output_type": "stream",
       "stream": "stderr",
       "text": [
        "/Library/Python/2.7/site-packages/scipy-0.13.0.dev_c31f167_20130602-py2.7-macosx-10.8-intel.egg/scipy/lib/_util.py:34: DeprecationWarning: Module scipy.linalg.blas.fblas is deprecated, use scipy.linalg.blas instead\n",
        "  DeprecationWarning)\n",
        "/Library/Python/2.7/site-packages/scipy-0.13.0.dev_c31f167_20130602-py2.7-macosx-10.8-intel.egg/scipy/lib/_util.py:34: DeprecationWarning: Module scipy.linalg.blas.fblas is deprecated, use scipy.linalg.blas instead\n",
        "  DeprecationWarning)\n",
        "/Library/Python/2.7/site-packages/scipy-0.13.0.dev_c31f167_20130602-py2.7-macosx-10.8-intel.egg/scipy/lib/_util.py:34: DeprecationWarning: Module scipy.linalg.blas.fblas is deprecated, use scipy.linalg.blas instead\n",
        "  DeprecationWarning)\n",
        "/Library/Python/2.7/site-packages/scipy-0.13.0.dev_c31f167_20130602-py2.7-macosx-10.8-intel.egg/scipy/lib/_util.py:34: DeprecationWarning: Module scipy.linalg.blas.fblas is deprecated, use scipy.linalg.blas instead\n",
        "  DeprecationWarning)\n",
        "/Library/Python/2.7/site-packages/scipy-0.13.0.dev_c31f167_20130602-py2.7-macosx-10.8-intel.egg/scipy/lib/_util.py:34: DeprecationWarning: Module scipy.linalg.blas.fblas is deprecated, use scipy.linalg.blas instead\n",
        "  DeprecationWarning)\n",
        "/Library/Python/2.7/site-packages/scipy-0.13.0.dev_c31f167_20130602-py2.7-macosx-10.8-intel.egg/scipy/lib/_util.py:34: DeprecationWarning: Module scipy.linalg.blas.fblas is deprecated, use scipy.linalg.blas instead\n",
        "  DeprecationWarning)\n",
        "/Library/Python/2.7/site-packages/scipy-0.13.0.dev_c31f167_20130602-py2.7-macosx-10.8-intel.egg/scipy/lib/_util.py:34: DeprecationWarning: Module scipy.linalg.blas.fblas is deprecated, use scipy.linalg.blas instead\n",
        "  DeprecationWarning)\n",
        "/Library/Python/2.7/site-packages/scipy-0.13.0.dev_c31f167_20130602-py2.7-macosx-10.8-intel.egg/scipy/lib/_util.py:34: DeprecationWarning: Module scipy.linalg.blas.fblas is deprecated, use scipy.linalg.blas instead\n",
        "  DeprecationWarning)\n"
       ]
      }
     ],
     "prompt_number": 1
    },
    {
     "cell_type": "code",
     "collapsed": false,
     "input": [
      "SIZE = 108 - 21 + 1\n",
      "\n",
      "\n",
      "def masked(idxs):\n",
      "    x = np.zeros(SIZE)\n",
      "    x[(np.array(idxs) - 21).tolist()] = 1\n",
      "    return x\n",
      "\n",
      "\n",
      "def rolls_from_sequences(seqs):\n",
      "    x = []\n",
      "    for seq in seqs:\n",
      "        x.append([])\n",
      "        for item in seq:\n",
      "            x[-1].append(masked(item))\n",
      "        x[-1] = np.array(x[-1])\n",
      "    return x\n",
      "\n",
      "\n",
      "def load_data(handle):\n",
      "    with open('%s.pickle' % handle) as fp:\n",
      "        data = cPickle.load(fp)\n",
      "\n",
      "    train, valid, test = data['train'], data['valid'], data['test']\n",
      "\n",
      "    x = rolls_from_sequences(data['train'])\n",
      "    vx = rolls_from_sequences(data['valid'])\n",
      "    tx = rolls_from_sequences(data['test'])\n",
      "\n",
      "    print 'size of x', sum([i.size for i in x])\n",
      "    print 'size of vx', sum([i.size for i in vx])\n",
      "\n",
      "    x = split(x, 100)\n",
      "    vx = split(vx, 100)\n",
      "\n",
      "    # Standardize.\n",
      "    #scaler = StandardScaler()\n",
      "    #x, (vx, tx) = static_transform([scaler], x, [vx, tx])\n",
      "\n",
      "    X = interleave(padzeros(x))\n",
      "    VX = interleave(padzeros(vx))\n",
      "\n",
      "    print 'size of X', X.size\n",
      "    print 'size of VX', VX.size\n",
      "\n",
      "    Z, VZ, tz = X[1:], VX[1:], [i[1:] for i in tx]\n",
      "    X, VX, tx = X[:-1], VX[:-1], [i[:-1] for i in tx]\n",
      "\n",
      "    X, VX, Z, VZ = [base.cast_array_to_local_type(i) for i in (X, VX, Z, VZ)]\n",
      "    tx = [base.cast_array_to_local_type(i) for i in tx]\n",
      "    tz = [base.cast_array_to_local_type(i) for i in tz]\n",
      "\n",
      "    print 'training shape', X.shape\n",
      "    print 'validation shape', VX.shape\n",
      "\n",
      "    return X, Z, VX, VZ, tx, tz\n",
      "\n",
      "X, Z, VX, VZ, tx, tz = load_data('JSBChorales')\n"
     ],
     "language": "python",
     "metadata": {},
     "outputs": [
      {
       "output_type": "stream",
       "stream": "stdout",
       "text": [
        "size of x 1215016\n",
        "size of vx 404976\n",
        "size of X 2138400\n",
        "size of VX 730400\n",
        "training shape (99, 243, 88)\n",
        "validation shape (99, 83, 88)\n"
       ]
      }
     ],
     "prompt_number": 2
    },
    {
     "cell_type": "markdown",
     "metadata": {},
     "source": [
      "Modelling\n",
      "===\n",
      "\n",
      "Execute one of the following cells representing (a) plain RNNs and (b) LSTM-RNNs and (c) FD-RNNs."
     ]
    },
    {
     "cell_type": "markdown",
     "metadata": {},
     "source": [
      "Plain RNN\n",
      "---"
     ]
    },
    {
     "cell_type": "code",
     "collapsed": false,
     "input": [
      "optimizer = 'rmsprop', {'steprate': 1e-4, 'momentum': 0.95, 'decay': 0.9}\n",
      "par_std = 0.001\n",
      "in_to_hidden_par_std = 0.001\n",
      "sparsify = 15\n",
      "spectral_radius = 1.2\n",
      "n_layers = 1\n",
      "n_hiddens = 200\n",
      "\n",
      "m = SupervisedRnn(\n",
      "    88, [n_hiddens] * n_layers, 88,  out_transfer='sigmoid', loss='nces', \n",
      "    hidden_transfers=['tanh'],\n",
      "    batch_size=35,\n",
      "    optimizer=optimizer)\n",
      "\n",
      "climin.initialize.randomize_normal(\n",
      "    m.parameters.data, 0, par_std)\n",
      "climin.initialize.randomize_normal(\n",
      "    m.parameters['in_to_hidden'],\n",
      "    0, in_to_hidden_par_std)\n",
      "if sparsify:\n",
      "    climin.initialize.sparsify_columns(\n",
      "        m.parameters['recurrent_0'], sparsify)\n",
      "climin.initialize.bound_spectral_radius(\n",
      "    m.parameters['recurrent_0'], spectral_radius)\n",
      "\n",
      "m.parameters['hidden_bias_0'][...] = 0\n",
      "m.parameters['out_bias'][...] = -.8\n",
      "\n",
      "for i in range(n_layers - 1):\n",
      "    if sparsify:\n",
      "        climin.initialize.sparsify_columns(\n",
      "            m.parameters['hidden_to_hidden_%i' % i],\n",
      "            sparsify)\n",
      "    climin.initialize.sparsify_columns(\n",
      "        m.parameters['recurrent_%i' % i], sparsify)\n",
      "    climin.initialize.bound_spectral_radius(\n",
      "        m.parameters['recurrent_%i' % (i + 1)],\n",
      "        spectral_radius)\n",
      "    m.parameters['hidden_bias_%i' % (i + 1)][...] = 0\n",
      "\n",
      "m.exprs['true_loss'] = m.exprs['loss']\n",
      "\n",
      "def test_nll():\n",
      "    nll = 0\n",
      "    n_time_steps = 0\n",
      "    for x, z in zip(tx, tz):\n",
      "        nll += m.score(x[:, np.newaxis], z[:, np.newaxis]) * x.shape[0]\n",
      "        n_time_steps += x.shape[0]\n",
      "    return nll / n_time_steps"
     ],
     "language": "python",
     "metadata": {},
     "outputs": [],
     "prompt_number": "*"
    },
    {
     "cell_type": "markdown",
     "metadata": {},
     "source": [
      "LSTM-RNN\n",
      "---"
     ]
    },
    {
     "cell_type": "code",
     "collapsed": false,
     "input": [
      "optimizer = 'rmsprop', {'steprate': 1e-3, 'momentum': 0.95, 'decay': 0.9}\n",
      "par_std = 0.001\n",
      "n_layers = 1\n",
      "n_hiddens = 50\n",
      "\n",
      "m = SupervisedLstmRnn(\n",
      "    88, [n_hiddens] * n_layers, 88,  out_transfer='sigmoid', loss='nces', \n",
      "    hidden_transfers=['tanh'],\n",
      "    batch_size=35,\n",
      "    optimizer=optimizer)\n",
      "\n",
      "climin.initialize.randomize_normal(\n",
      "    m.parameters.data, 0, par_std)\n",
      "m.parameters['out_bias'][...] = -.8\n",
      "\n",
      "m.exprs['true_loss'] = m.exprs['loss']\n",
      "\n",
      "def test_nll():\n",
      "    nll = 0\n",
      "    n_time_steps = 0\n",
      "    for x, z in zip(tx, tz):\n",
      "        nll += m.score(x[:, np.newaxis], z[:, np.newaxis]) * x.shape[0]\n",
      "        n_time_steps += x.shape[0]\n",
      "    return nll / n_time_steps"
     ],
     "language": "python",
     "metadata": {},
     "outputs": [],
     "prompt_number": 11
    },
    {
     "cell_type": "markdown",
     "metadata": {},
     "source": [
      "FD-RNN\n",
      "---"
     ]
    },
    {
     "cell_type": "code",
     "collapsed": false,
     "input": [
      "n_layers = 1\n",
      "\n",
      "optimizer = 'rmsprop', {'steprate': 0.001, 'momentum': 0.99, 'decay': 0.8}\n",
      "par_std = 0.0001\n",
      "in_to_hidden_par_std = 0.01\n",
      "p_dropout_inpt = 0.1\n",
      "p_dropout_hiddens = [0.2] * n_layers\n",
      "p_dropout_hidden_to_out = 0.5\n",
      "sparsify = 15\n",
      "spectral_radius = 1.2\n",
      "\n",
      "n_hiddens = 400\n",
      "\n",
      "\n",
      "m = SupervisedFastDropoutRnn(\n",
      "    88, [n_hiddens] * n_layers, 88,  out_transfer='sigmoid', loss='nces', \n",
      "    hidden_transfers=['tanh'] * n_layers,\n",
      "    batch_size=35,\n",
      "    optimizer=optimizer)\n",
      "\n",
      "climin.initialize.randomize_normal(\n",
      "    m.parameters.data, 0, par_std)\n",
      "climin.initialize.randomize_normal(\n",
      "    m.parameters['in_to_hidden'],\n",
      "    0, in_to_hidden_par_std)\n",
      "if sparsify:\n",
      "    climin.initialize.sparsify_columns(\n",
      "        m.parameters['recurrent_0'], sparsify)\n",
      "climin.initialize.bound_spectral_radius(\n",
      "    m.parameters['recurrent_0'], spectral_radius)\n",
      "\n",
      "m.parameters['hidden_bias_0'][...] = 0\n",
      "m.parameters['out_bias'][...] = -.8\n",
      "\n",
      "for i in range(n_layers - 1):\n",
      "    if sparsify:\n",
      "        climin.initialize.sparsify_columns(\n",
      "            m.parameters['hidden_to_hidden_%i' % i],\n",
      "            sparsify)\n",
      "    climin.initialize.sparsify_columns(\n",
      "        m.parameters['recurrent_%i' % i], sparsify)\n",
      "    climin.initialize.bound_spectral_radius(\n",
      "        m.parameters['recurrent_%i' % (i + 1)],\n",
      "        spectral_radius)\n",
      "    m.parameters['hidden_bias_%i' % (i + 1)][...] = 0\n",
      "\n",
      "m.exprs['true_loss'] = m.exprs['loss']\n",
      "\n",
      "def test_nll():\n",
      "    nll = 0\n",
      "    n_time_steps = 0\n",
      "    for x, z in zip(tx, tz):\n",
      "        nll += m.score(x[:, np.newaxis], z[:, np.newaxis]) * x.shape[0]\n",
      "        n_time_steps += x.shape[0]\n",
      "    return nll / n_time_steps"
     ],
     "language": "python",
     "metadata": {},
     "outputs": [],
     "prompt_number": 5
    },
    {
     "cell_type": "markdown",
     "metadata": {},
     "source": [
      "Training\n",
      "==="
     ]
    },
    {
     "cell_type": "code",
     "collapsed": false,
     "input": [
      "max_passes = 100\n",
      "max_minutes = 15\n",
      "max_iter = max_passes * X.shape[1] / m.batch_size\n",
      "batches_per_pass = int(math.ceil(float(X.shape[1]) / m.batch_size))\n",
      "pause = climin.stops.modulo_n_iterations(batches_per_pass)\n",
      "\n",
      "\n",
      "stop = climin.stops.any_([\n",
      "    climin.stops.time_elapsed(max_minutes * 60),\n",
      "    climin.stops.patience('val_loss', 1000, grow_factor=1.1, threshold=0.01),\n",
      "    climin.stops.not_better_than_after(30, 100),\n",
      "])\n",
      "    \n",
      "infos = []\n",
      "start = time.time()\n",
      "# Set up a nice printout.\n",
      "header = '#', 'seconds', 'loss', 'val loss', 'test loss'\n",
      "print '\\t'.join(header)\n",
      "\n",
      "for i, info in enumerate(m.powerfit((X, Z), (VX, VZ), stop, pause, False)):\n",
      "    info['loss'] = float(info['loss'])\n",
      "    info['val_loss'] = float(info['val_loss'])\n",
      "    info['test_loss'] = float(ma.scalar(test_nll()))\n",
      "\n",
      "    info.update({\n",
      "        'time': time.time() - start,\n",
      "    })\n",
      "    template = '\\t'.join(\n",
      "        ['%(n_iter)i', '%(time)g', '%(loss)g', '%(val_loss)g', '%(test_loss)g'])\n",
      "    row = template % info\n",
      "    print row\n",
      "\n",
      "    filtered_info = dict(\n",
      "        (k, v) for k, v in info.items()\n",
      "        #if (not isinstance(v, (np.ndarray, gp.garray)) or v.size <= 1) and k not in ('args', 'kwargs'))\n",
      "        if (not isinstance(v, (np.ndarray, )) or v.size <= 1) and k not in ('args', 'kwargs'))\n",
      "\n",
      "    for key in filtered_info:\n",
      "        if isinstance(filtered_info[key], np.float32):\n",
      "            filtered_info[key] = float(filtered_info[key])\n",
      "    infos.append(filtered_info)\n"
     ],
     "language": "python",
     "metadata": {},
     "outputs": [
      {
       "output_type": "stream",
       "stream": "stdout",
       "text": [
        "#\tseconds\tloss\tval loss\ttest loss\n",
        "0\t54.4962\t0\t34.3803\t35.7578"
       ]
      },
      {
       "output_type": "stream",
       "stream": "stdout",
       "text": [
        "\n",
        "7\t61.2332\t0\t34.0305\t35.4251"
       ]
      },
      {
       "output_type": "stream",
       "stream": "stdout",
       "text": [
        "\n",
        "14\t67.8284\t0\t32.9823\t34.4321"
       ]
      },
      {
       "output_type": "stream",
       "stream": "stdout",
       "text": [
        "\n",
        "21\t74.5862\t0\t31.1192\t32.678"
       ]
      },
      {
       "output_type": "stream",
       "stream": "stdout",
       "text": [
        "\n",
        "28\t81.4392\t0\t28.5598\t30.2879"
       ]
      },
      {
       "output_type": "stream",
       "stream": "stdout",
       "text": [
        "\n",
        "35\t88.2544\t0\t25.5367\t27.4904"
       ]
      },
      {
       "output_type": "stream",
       "stream": "stdout",
       "text": [
        "\n",
        "42\t94.8294\t0\t21.9294\t24.1217"
       ]
      },
      {
       "output_type": "stream",
       "stream": "stdout",
       "text": [
        "\n",
        "49\t101.592\t0\t8.49281\t13.063"
       ]
      },
      {
       "output_type": "stream",
       "stream": "stdout",
       "text": [
        "\n",
        "56\t108.37\t0\t7.89507\t12.3962"
       ]
      },
      {
       "output_type": "stream",
       "stream": "stdout",
       "text": [
        "\n",
        "63\t115.046\t0\t7.6121\t12.101"
       ]
      },
      {
       "output_type": "stream",
       "stream": "stdout",
       "text": [
        "\n",
        "70\t121.883\t0\t7.48599\t11.8906"
       ]
      },
      {
       "output_type": "stream",
       "stream": "stdout",
       "text": [
        "\n",
        "77\t128.691\t0\t7.09948\t11.4206"
       ]
      },
      {
       "output_type": "stream",
       "stream": "stdout",
       "text": [
        "\n",
        "84\t135.428\t0\t6.51658\t11.369"
       ]
      },
      {
       "output_type": "stream",
       "stream": "stdout",
       "text": [
        "\n",
        "91\t142.183\t0\t6.38313\t11.145"
       ]
      },
      {
       "output_type": "stream",
       "stream": "stdout",
       "text": [
        "\n",
        "98\t149.061\t0\t6.38114\t11.2202"
       ]
      },
      {
       "output_type": "stream",
       "stream": "stdout",
       "text": [
        "\n",
        "105\t155.686\t0\t6.26364\t11.1982"
       ]
      },
      {
       "output_type": "stream",
       "stream": "stdout",
       "text": [
        "\n",
        "112\t162.474\t0\t6.20301\t11.1064"
       ]
      },
      {
       "output_type": "stream",
       "stream": "stdout",
       "text": [
        "\n",
        "119\t169.328\t0\t6.09663\t10.9378"
       ]
      },
      {
       "output_type": "stream",
       "stream": "stdout",
       "text": [
        "\n",
        "126\t176.071\t0\t5.96865\t10.657"
       ]
      },
      {
       "output_type": "stream",
       "stream": "stdout",
       "text": [
        "\n",
        "133\t182.888\t0\t5.84234\t10.3906"
       ]
      },
      {
       "output_type": "stream",
       "stream": "stdout",
       "text": [
        "\n",
        "140\t189.691\t0\t5.66606\t10.0652"
       ]
      },
      {
       "output_type": "stream",
       "stream": "stdout",
       "text": [
        "\n",
        "147\t196.483\t0\t5.59097\t9.91408"
       ]
      },
      {
       "output_type": "stream",
       "stream": "stdout",
       "text": [
        "\n",
        "154\t203.195\t0\t5.51445\t9.76605"
       ]
      },
      {
       "output_type": "stream",
       "stream": "stdout",
       "text": [
        "\n",
        "161\t209.747\t0\t5.47666\t9.69726"
       ]
      },
      {
       "output_type": "stream",
       "stream": "stdout",
       "text": [
        "\n",
        "168\t216.573\t0\t5.43018\t9.59425"
       ]
      },
      {
       "output_type": "stream",
       "stream": "stdout",
       "text": [
        "\n",
        "175\t223.408\t0\t5.39172\t9.51827"
       ]
      }
     ],
     "prompt_number": "*"
    },
    {
     "cell_type": "code",
     "collapsed": false,
     "input": [
      "m.parameters.data = info['best_pars']"
     ],
     "language": "python",
     "metadata": {},
     "outputs": [],
     "prompt_number": 16
    },
    {
     "cell_type": "code",
     "collapsed": false,
     "input": [
      "ty = m.predict(tx[0][:, np.newaxis, :])"
     ],
     "language": "python",
     "metadata": {},
     "outputs": [],
     "prompt_number": 17
    },
    {
     "cell_type": "code",
     "collapsed": false,
     "input": [
      "fig = plt.figure(figsize=(16, 9))\n",
      "ax1 = fig.add_subplot(121)\n",
      "ax1.imshow(tx[0].T, cmap=cm.binary, interpolation='none')\n",
      "ax2 = fig.add_subplot(122)\n",
      "ax2.imshow(ty[:, 0].T, cmap=cm.binary, interpolation='none')"
     ],
     "language": "python",
     "metadata": {},
     "outputs": [
      {
       "metadata": {},
       "output_type": "pyout",
       "prompt_number": 18,
       "text": [
        "<matplotlib.image.AxesImage at 0x119f10210>"
       ]
      },
      {
       "metadata": {},
       "output_type": "display_data",
       "png": "[encoded data removed]",
       "text": [
        "<matplotlib.figure.Figure at 0x11629c510>"
       ]
      }
     ],
     "prompt_number": 18
    }
   ],
   "metadata": {}
  }
 ]
}