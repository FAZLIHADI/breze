{
 "metadata": {
  "name": ""
 },
 "nbformat": 3,
 "nbformat_minor": 0,
 "worksheets": [
  {
   "cells": [
    {
     "cell_type": "code",
     "collapsed": false,
     "input": [
      "import cPickle\n",
      "import gzip\n",
      "import time\n",
      "\n",
      "import numpy as np\n",
      "import theano.tensor as T\n",
      "\n",
      "import climin.stops\n",
      "import climin.initialize\n",
      "\n",
      "from breze.learn.linear import Linear\n",
      "from breze.learn.data import one_hot"
     ],
     "language": "python",
     "metadata": {},
     "outputs": [],
     "prompt_number": 3
    },
    {
     "cell_type": "markdown",
     "metadata": {},
     "source": [
      "Prepare Data\n",
      "============\n",
      "\n",
      "We load the MNIST data. It is available at http://www.iro.umontreal.ca/~lisa/deep/data/mnist/mnist.pkl.gz.\n",
      "\n",
      "The inputs all lie between 0 and 1. Each target is a one of k variable."
     ]
    },
    {
     "cell_type": "code",
     "collapsed": false,
     "input": [
      "datafile = 'mnist.pkl.gz'\n",
      "# Load data.                                                                                                   \n",
      "\n",
      "with gzip.open(datafile,'rb') as f:                                                                        \n",
      "    train_set, val_set, test_set = cPickle.load(f)                                                       \n",
      "\n",
      "X, Z = train_set                                                                                               \n",
      "VX, VZ = val_set\n",
      "TX, TZ = test_set\n",
      "\n",
      "Z = one_hot(Z, 10)\n",
      "VZ = one_hot(VZ, 10)\n",
      "TZ = one_hot(TZ, 10)\n",
      "\n",
      "image_dims = 28, 28"
     ],
     "language": "python",
     "metadata": {},
     "outputs": [],
     "prompt_number": 4
    },
    {
     "cell_type": "markdown",
     "metadata": {},
     "source": [
      "Define Model\n",
      "============\n",
      "\n",
      "We use a generalized linear model where the response/output is distributed according to a categorical variable. This can be done by employing the ``softmax`` output transfer and the negative cross entropy loss ``nce``.\n",
      "\n",
      "For optimization, simple mini batch gradient descent is chosen."
     ]
    },
    {
     "cell_type": "code",
     "collapsed": false,
     "input": [
      "max_passes = 100\n",
      "batch_size = 250\n",
      "batches_per_pass = X.shape[0] / batch_size\n",
      "max_iter = max_passes * batches_per_pass\n",
      "\n",
      "optimizer = 'gd', {'steprate': 0.05, 'momentum': 0.95}\n",
      "m = Linear(784, 10, out_transfer='softmax', loss='multinomial_ce', optimizer=optimizer, batch_size=batch_size, max_iter=max_iter)\n",
      "\n",
      "losses = []"
     ],
     "language": "python",
     "metadata": {},
     "outputs": [],
     "prompt_number": 5
    },
    {
     "cell_type": "markdown",
     "metadata": {},
     "source": [
      "Learn\n",
      "=====\n",
      "\n",
      "We will report the errors on the training, validation and test set once per pass over the data set. Additionally, we will print out the time spent for learning so far."
     ]
    },
    {
     "cell_type": "code",
     "collapsed": false,
     "input": [
      "stop = climin.stops.after_n_iterations(max_iter)\n",
      "pause = climin.stops.modulo_n_iterations(batches_per_pass)\n",
      "\n",
      "header = '#\\ttime\\tloss\\tval loss'\n",
      "print header\n",
      "print '-' * len(header)\n",
      "\n",
      "start = time.time()\n",
      "\n",
      "for i, info in enumerate(m.powerfit((X, Z), (VX, VZ), stop, pause)):\n",
      "    losses.append((info['loss'], info['val_loss']))\n",
      "    info['time_passed'] = time.time() - start\n",
      "    \n",
      "    #img = tile_raster_images(fe.parameters['in_to_hidden'].T, image_dims, feature_dims, (1, 1))\n",
      "    #save_and_display(img, 'filters-%i.png' % i)  \n",
      "    \n",
      "    row = '%(n_iter)i %(time_passed)g %(loss)g %(val_loss)g' % info\n",
      "    print row\n",
      "    \n",
      "print 'Training took %g seconds.' % (time.time() - start)"
     ],
     "language": "python",
     "metadata": {},
     "outputs": [
      {
       "output_type": "stream",
       "stream": "stdout",
       "text": [
        "#\ttime\tloss\tval loss\n",
        "--------------------\n",
        "0 7.69673 11.926 12.0082"
       ]
      },
      {
       "output_type": "stream",
       "stream": "stdout",
       "text": [
        "\n",
        "200 7.92221 0.852473 0.752551"
       ]
      },
      {
       "output_type": "stream",
       "stream": "stdout",
       "text": [
        "\n",
        "400 8.13692 0.652718 0.601545"
       ]
      },
      {
       "output_type": "stream",
       "stream": "stdout",
       "text": [
        "\n",
        "600 8.40984 0.559584 0.525911"
       ]
      },
      {
       "output_type": "stream",
       "stream": "stdout",
       "text": [
        "\n",
        "800 8.69565 0.511208 0.490661"
       ]
      },
      {
       "output_type": "stream",
       "stream": "stdout",
       "text": [
        "\n",
        "1000 8.92687 0.47069 0.450218"
       ]
      },
      {
       "output_type": "stream",
       "stream": "stdout",
       "text": [
        "\n",
        "1200 9.11041 0.436449 0.422831"
       ]
      },
      {
       "output_type": "stream",
       "stream": "stdout",
       "text": [
        "\n",
        "1400 9.29566 0.418151 0.409878"
       ]
      },
      {
       "output_type": "stream",
       "stream": "stdout",
       "text": [
        "\n",
        "1600 9.51062 0.398095 0.394636"
       ]
      },
      {
       "output_type": "stream",
       "stream": "stdout",
       "text": [
        "\n",
        "1800 9.75394 0.3841 0.379842"
       ]
      },
      {
       "output_type": "stream",
       "stream": "stdout",
       "text": [
        "\n",
        "2000 9.9523 0.375219 0.373192"
       ]
      },
      {
       "output_type": "stream",
       "stream": "stdout",
       "text": [
        "\n",
        "2200 10.2313 0.374402 0.371344"
       ]
      },
      {
       "output_type": "stream",
       "stream": "stdout",
       "text": [
        "\n",
        "2400 10.5047 0.35112 0.358213"
       ]
      },
      {
       "output_type": "stream",
       "stream": "stdout",
       "text": [
        "\n",
        "2600 10.7521 0.344484 0.345918"
       ]
      },
      {
       "output_type": "stream",
       "stream": "stdout",
       "text": [
        "\n",
        "2800 10.9784 0.34221 0.34867"
       ]
      },
      {
       "output_type": "stream",
       "stream": "stdout",
       "text": [
        "\n",
        "3000 11.1654 0.340772 0.346565"
       ]
      },
      {
       "output_type": "stream",
       "stream": "stdout",
       "text": [
        "\n",
        "3200 11.3764 0.329782 0.336894"
       ]
      },
      {
       "output_type": "stream",
       "stream": "stdout",
       "text": [
        "\n",
        "3400 11.639 0.327733 0.340418"
       ]
      },
      {
       "output_type": "stream",
       "stream": "stdout",
       "text": [
        "\n",
        "3600 11.8477 0.321483 0.330243"
       ]
      },
      {
       "output_type": "stream",
       "stream": "stdout",
       "text": [
        "\n",
        "3800 12.0997 0.316162 0.328142"
       ]
      },
      {
       "output_type": "stream",
       "stream": "stdout",
       "text": [
        "\n",
        "4000 12.3256 0.314879 0.324719"
       ]
      },
      {
       "output_type": "stream",
       "stream": "stdout",
       "text": [
        "\n",
        "4200 12.5452 0.317388 0.330311"
       ]
      },
      {
       "output_type": "stream",
       "stream": "stdout",
       "text": [
        "\n",
        "4400 12.7677 0.303648 0.315794"
       ]
      },
      {
       "output_type": "stream",
       "stream": "stdout",
       "text": [
        "\n",
        "4600 12.9956 0.301553 0.312901"
       ]
      },
      {
       "output_type": "stream",
       "stream": "stdout",
       "text": [
        "\n",
        "4800 13.2194 0.296682 0.312326"
       ]
      },
      {
       "output_type": "stream",
       "stream": "stdout",
       "text": [
        "\n",
        "5000 13.4397 0.297701 0.318789"
       ]
      },
      {
       "output_type": "stream",
       "stream": "stdout",
       "text": [
        "\n",
        "5200 13.6587 0.290733 0.307973"
       ]
      },
      {
       "output_type": "stream",
       "stream": "stdout",
       "text": [
        "\n",
        "5400 13.8785 0.29795 0.314545"
       ]
      },
      {
       "output_type": "stream",
       "stream": "stdout",
       "text": [
        "\n",
        "5600 14.1012 0.2919 0.310182"
       ]
      },
      {
       "output_type": "stream",
       "stream": "stdout",
       "text": [
        "\n",
        "5800 14.3226 0.289076 0.307822"
       ]
      },
      {
       "output_type": "stream",
       "stream": "stdout",
       "text": [
        "\n",
        "6000 14.546 0.292235 0.313734"
       ]
      },
      {
       "output_type": "stream",
       "stream": "stdout",
       "text": [
        "\n",
        "6200 14.7693 0.280695 0.305029"
       ]
      },
      {
       "output_type": "stream",
       "stream": "stdout",
       "text": [
        "\n",
        "6400 15.0488 0.282889 0.306511"
       ]
      },
      {
       "output_type": "stream",
       "stream": "stdout",
       "text": [
        "\n",
        "6600 15.2676 0.282667 0.303112"
       ]
      },
      {
       "output_type": "stream",
       "stream": "stdout",
       "text": [
        "\n",
        "6800 15.4869 0.286575 0.308827"
       ]
      },
      {
       "output_type": "stream",
       "stream": "stdout",
       "text": [
        "\n",
        "7000 15.714 0.273548 0.298525"
       ]
      },
      {
       "output_type": "stream",
       "stream": "stdout",
       "text": [
        "\n",
        "7200 15.9435 0.276666 0.305435"
       ]
      },
      {
       "output_type": "stream",
       "stream": "stdout",
       "text": [
        "\n",
        "7400 16.163 0.278042 0.307899"
       ]
      },
      {
       "output_type": "stream",
       "stream": "stdout",
       "text": [
        "\n",
        "7600 16.3796 0.270674 0.298785"
       ]
      },
      {
       "output_type": "stream",
       "stream": "stdout",
       "text": [
        "\n",
        "7800 16.6349 0.274461 0.301316"
       ]
      },
      {
       "output_type": "stream",
       "stream": "stdout",
       "text": [
        "\n",
        "8000 16.9198 0.267918 0.296883"
       ]
      },
      {
       "output_type": "stream",
       "stream": "stdout",
       "text": [
        "\n",
        "8200 17.2412 0.270651 0.299994"
       ]
      },
      {
       "output_type": "stream",
       "stream": "stdout",
       "text": [
        "\n",
        "8400 17.4274 0.268827 0.296845"
       ]
      },
      {
       "output_type": "stream",
       "stream": "stdout",
       "text": [
        "\n",
        "8600 17.6117 0.263434 0.294484"
       ]
      },
      {
       "output_type": "stream",
       "stream": "stdout",
       "text": [
        "\n",
        "8800 17.7968 0.26423 0.295817"
       ]
      },
      {
       "output_type": "stream",
       "stream": "stdout",
       "text": [
        "\n",
        "9000 18.0755 0.269715 0.299799"
       ]
      },
      {
       "output_type": "stream",
       "stream": "stdout",
       "text": [
        "\n",
        "9200 18.2681 0.259757 0.291732"
       ]
      },
      {
       "output_type": "stream",
       "stream": "stdout",
       "text": [
        "\n",
        "9400 18.5067 0.26013 0.290695"
       ]
      },
      {
       "output_type": "stream",
       "stream": "stdout",
       "text": [
        "\n",
        "9600 18.7864 0.258386 0.291326"
       ]
      },
      {
       "output_type": "stream",
       "stream": "stdout",
       "text": [
        "\n",
        "9800 19.1096 0.260421 0.290894"
       ]
      },
      {
       "output_type": "stream",
       "stream": "stdout",
       "text": [
        "\n",
        "10000 19.3223 0.260793 0.293637"
       ]
      },
      {
       "output_type": "stream",
       "stream": "stdout",
       "text": [
        "\n",
        "10200 19.5082 0.255435 0.286973"
       ]
      },
      {
       "output_type": "stream",
       "stream": "stdout",
       "text": [
        "\n",
        "10400 19.6943 0.262924 0.294321"
       ]
      },
      {
       "output_type": "stream",
       "stream": "stdout",
       "text": [
        "\n",
        "10600 19.9438 0.258564 0.290846"
       ]
      },
      {
       "output_type": "stream",
       "stream": "stdout",
       "text": [
        "\n",
        "10800 20.177 0.255194 0.289385"
       ]
      },
      {
       "output_type": "stream",
       "stream": "stdout",
       "text": [
        "\n",
        "11000 20.396 0.26187 0.295056"
       ]
      },
      {
       "output_type": "stream",
       "stream": "stdout",
       "text": [
        "\n",
        "11200 20.6811 0.267575 0.302297"
       ]
      },
      {
       "output_type": "stream",
       "stream": "stdout",
       "text": [
        "\n",
        "11400 20.9177 0.252699 0.287824"
       ]
      },
      {
       "output_type": "stream",
       "stream": "stdout",
       "text": [
        "\n",
        "11600 21.1403 0.254267 0.291851"
       ]
      },
      {
       "output_type": "stream",
       "stream": "stdout",
       "text": [
        "\n",
        "11800 21.3667 0.25252 0.291022"
       ]
      },
      {
       "output_type": "stream",
       "stream": "stdout",
       "text": [
        "\n",
        "12000 21.5907 0.251216 0.287757"
       ]
      },
      {
       "output_type": "stream",
       "stream": "stdout",
       "text": [
        "\n",
        "12200 21.8148 0.255671 0.296422"
       ]
      },
      {
       "output_type": "stream",
       "stream": "stdout",
       "text": [
        "\n",
        "12400 22.0408 0.249069 0.284623"
       ]
      },
      {
       "output_type": "stream",
       "stream": "stdout",
       "text": [
        "\n",
        "12600 22.2706 0.24988 0.287208"
       ]
      },
      {
       "output_type": "stream",
       "stream": "stdout",
       "text": [
        "\n",
        "12800 22.4914 0.257251 0.291814"
       ]
      },
      {
       "output_type": "stream",
       "stream": "stdout",
       "text": [
        "\n",
        "13000 22.7182 0.247539 0.28424"
       ]
      },
      {
       "output_type": "stream",
       "stream": "stdout",
       "text": [
        "\n",
        "13200 22.9589 0.249832 0.287198"
       ]
      },
      {
       "output_type": "stream",
       "stream": "stdout",
       "text": [
        "\n",
        "13400 23.184 0.249935 0.29035"
       ]
      },
      {
       "output_type": "stream",
       "stream": "stdout",
       "text": [
        "\n",
        "13600 23.4263 0.251833 0.289257"
       ]
      },
      {
       "output_type": "stream",
       "stream": "stdout",
       "text": [
        "\n",
        "13800 23.7122 0.250113 0.287629"
       ]
      },
      {
       "output_type": "stream",
       "stream": "stdout",
       "text": [
        "\n",
        "14000 23.9516 0.247783 0.288064"
       ]
      },
      {
       "output_type": "stream",
       "stream": "stdout",
       "text": [
        "\n",
        "14200 24.1756 0.247025 0.28526"
       ]
      },
      {
       "output_type": "stream",
       "stream": "stdout",
       "text": [
        "\n",
        "14400 24.402 0.250871 0.294017"
       ]
      },
      {
       "output_type": "stream",
       "stream": "stdout",
       "text": [
        "\n",
        "14600 24.6271 0.248783 0.289616"
       ]
      },
      {
       "output_type": "stream",
       "stream": "stdout",
       "text": [
        "\n",
        "14800 24.8383 0.247648 0.289327"
       ]
      },
      {
       "output_type": "stream",
       "stream": "stdout",
       "text": [
        "\n",
        "15000 25.1038 0.24506 0.286848"
       ]
      },
      {
       "output_type": "stream",
       "stream": "stdout",
       "text": [
        "\n",
        "15200 25.3825 0.247525 0.289008"
       ]
      },
      {
       "output_type": "stream",
       "stream": "stdout",
       "text": [
        "\n",
        "15400 25.6747 0.253013 0.293523"
       ]
      },
      {
       "output_type": "stream",
       "stream": "stdout",
       "text": [
        "\n",
        "15600 25.8629 0.249191 0.292162"
       ]
      },
      {
       "output_type": "stream",
       "stream": "stdout",
       "text": [
        "\n",
        "15800 26.0473 0.242025 0.285029"
       ]
      },
      {
       "output_type": "stream",
       "stream": "stdout",
       "text": [
        "\n",
        "16000 26.2328 0.247808 0.288985"
       ]
      },
      {
       "output_type": "stream",
       "stream": "stdout",
       "text": [
        "\n",
        "16200 26.5234 0.245706 0.287436"
       ]
      },
      {
       "output_type": "stream",
       "stream": "stdout",
       "text": [
        "\n",
        "16400 26.7197 0.24603 0.286909"
       ]
      },
      {
       "output_type": "stream",
       "stream": "stdout",
       "text": [
        "\n",
        "16600 26.9855 0.239889 0.285107"
       ]
      },
      {
       "output_type": "stream",
       "stream": "stdout",
       "text": [
        "\n",
        "16800 27.3576 0.241599 0.286434"
       ]
      },
      {
       "output_type": "stream",
       "stream": "stdout",
       "text": [
        "\n",
        "17000 27.5909 0.238569 0.281021"
       ]
      },
      {
       "output_type": "stream",
       "stream": "stdout",
       "text": [
        "\n",
        "17200 27.7862 0.240831 0.289332"
       ]
      },
      {
       "output_type": "stream",
       "stream": "stdout",
       "text": [
        "\n",
        "17400 28.0079 0.24329 0.283683"
       ]
      },
      {
       "output_type": "stream",
       "stream": "stdout",
       "text": [
        "\n",
        "17600 28.1978 0.241672 0.285465"
       ]
      },
      {
       "output_type": "stream",
       "stream": "stdout",
       "text": [
        "\n",
        "17800 28.4709 0.243038 0.285516"
       ]
      },
      {
       "output_type": "stream",
       "stream": "stdout",
       "text": [
        "\n",
        "18000 28.6654 0.242029 0.288261"
       ]
      },
      {
       "output_type": "stream",
       "stream": "stdout",
       "text": [
        "\n",
        "18200 28.9305 0.247273 0.287722"
       ]
      },
      {
       "output_type": "stream",
       "stream": "stdout",
       "text": [
        "\n",
        "18400 29.16 0.238969 0.284151"
       ]
      },
      {
       "output_type": "stream",
       "stream": "stdout",
       "text": [
        "\n",
        "18600 29.3825 0.238725 0.282292"
       ]
      },
      {
       "output_type": "stream",
       "stream": "stdout",
       "text": [
        "\n",
        "18800 29.6066 0.250095 0.295132"
       ]
      },
      {
       "output_type": "stream",
       "stream": "stdout",
       "text": [
        "\n",
        "19000 29.8297 0.236749 0.281285"
       ]
      },
      {
       "output_type": "stream",
       "stream": "stdout",
       "text": [
        "\n",
        "19200 30.0532 0.240218 0.285595"
       ]
      },
      {
       "output_type": "stream",
       "stream": "stdout",
       "text": [
        "\n",
        "19400 30.2748 0.23756 0.284093"
       ]
      },
      {
       "output_type": "stream",
       "stream": "stdout",
       "text": [
        "\n",
        "19600 30.4999 0.241193 0.289422"
       ]
      },
      {
       "output_type": "stream",
       "stream": "stdout",
       "text": [
        "\n",
        "19800 30.7226 0.236199 0.283153"
       ]
      },
      {
       "output_type": "stream",
       "stream": "stdout",
       "text": [
        "\n",
        "20000 30.9409 0.23735 0.283402"
       ]
      },
      {
       "output_type": "stream",
       "stream": "stdout",
       "text": [
        "\n",
        "Training took 30.9428 seconds.\n"
       ]
      },
      {
       "output_type": "stream",
       "stream": "stderr",
       "text": [
        "/Users/bayerj/devel/climin/climin/util.py:115: UserWarning: Argument named f is not expected by <class 'climin.gd.GradientDescent'>\n",
        "  % (i, klass))\n"
       ]
      }
     ],
     "prompt_number": 6
    },
    {
     "cell_type": "markdown",
     "metadata": {},
     "source": [
      "Evaluation\n",
      "----------\n",
      "\n",
      "Let's also have a look at the error curves and the number of misclassifications."
     ]
    },
    {
     "cell_type": "code",
     "collapsed": false,
     "input": [
      "fig = plt.figure(figsize=(16, 9))\n",
      "ax = fig.add_subplot(111)\n",
      "ax.plot(losses[5:])"
     ],
     "language": "python",
     "metadata": {},
     "outputs": [
      {
       "metadata": {},
       "output_type": "pyout",
       "prompt_number": 7,
       "text": [
        "[<matplotlib.lines.Line2D at 0x10e9c7e10>,\n",
        " <matplotlib.lines.Line2D at 0x1105c35d0>]"
       ]
      },
      {
       "metadata": {},
       "output_type": "display_data",
       "png": "[encoded data removed]",
       "text": [
        "<matplotlib.figure.Figure at 0x10e9c7b90>"
       ]
      }
     ],
     "prompt_number": 7
    },
    {
     "cell_type": "code",
     "collapsed": false,
     "input": [
      "m.parameters.data[...] = info['best_pars']\n",
      "f_predict = m.function(['inpt'], T.argmax(m.exprs['output_in'], axis=1))\n",
      "\n",
      "TY = f_predict(TX)\n",
      "\n",
      "print 'Number of mistakes on the testing set:', (TY != TZ.argmax(axis=1)).sum()"
     ],
     "language": "python",
     "metadata": {},
     "outputs": [
      {
       "output_type": "stream",
       "stream": "stdout",
       "text": [
        "Number of mistakes on the testing set: 757\n"
       ]
      }
     ],
     "prompt_number": 8
    }
   ],
   "metadata": {}
  }
 ]
}