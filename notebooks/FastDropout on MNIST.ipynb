{
 "metadata": {
  "name": "FastDropout on MNIST"
 },
 "nbformat": 3,
 "nbformat_minor": 0,
 "worksheets": [
  {
   "cells": [
    {
     "cell_type": "code",
     "collapsed": false,
     "input": [
      "import cPickle\n",
      "import gzip\n",
      "import time\n",
      "\n",
      "import numpy as np\n",
      "import theano.tensor as T\n",
      "\n",
      "import climin.stops\n",
      "import climin.initialize\n",
      "import climin.project\n",
      "import climin.schedule\n",
      "\n",
      "from brummlearn.mlp import Mlp, DropoutMlp, dropout_optimizer_conf, FastDropoutNetwork\n",
      "from breze.component.meanvartransfer import rectifier\n",
      "from breze.component.loss import nce\n",
      "\n",
      "from brummlearn.data import one_hot"
     ],
     "language": "python",
     "metadata": {},
     "outputs": [],
     "prompt_number": 1
    },
    {
     "cell_type": "markdown",
     "metadata": {},
     "source": [
      "Prepare Data\n",
      "============"
     ]
    },
    {
     "cell_type": "code",
     "collapsed": false,
     "input": [
      "datafile = '../examples/mnist.pkl.gz'\n",
      "# Load data.                                                                                                   \n",
      "\n",
      "with gzip.open(datafile,'rb') as f:                                                                        \n",
      "    train_set, val_set, test_set = cPickle.load(f)                                                       \n",
      "\n",
      "X, Z = train_set                                                                                               \n",
      "VX, VZ = val_set\n",
      "TX, TZ = test_set\n",
      "\n",
      "Z = one_hot(Z, 10)\n",
      "VZ = one_hot(VZ, 10)\n",
      "TZ = one_hot(TZ, 10)\n",
      "\n",
      "image_dims = 28, 28"
     ],
     "language": "python",
     "metadata": {},
     "outputs": [],
     "prompt_number": 2
    },
    {
     "cell_type": "markdown",
     "metadata": {},
     "source": [
      "Define Model\n",
      "============"
     ]
    },
    {
     "cell_type": "code",
     "collapsed": false,
     "input": [
      "from theano.tensor.shared_randomstreams import RandomStreams\n",
      "\n",
      "def sampling_softmax(axis=1, rng=None):\n",
      "    if rng is None:\n",
      "        rng = RandomStreams()\n",
      "\n",
      "    def inner(mean, var):\n",
      "        # First we generate lots of standard normally distributed samples and\n",
      "        # transform them to (mean, var) distributed afterwards.\n",
      "        samples = rng.normal(size=mean.shape)\n",
      "        samples = samples * T.sqrt(var) + mean\n",
      "\n",
      "        # We then softmax each sample and return the mean of it.\n",
      "        samples -= samples.min(axis=axis).dimshuffle(0, 'x')\n",
      "\n",
      "        exped = T.exp(samples)\n",
      "        normalizer = exped.sum(axis=axis)\n",
      "        if axis == 1:\n",
      "            result = exped / normalizer.dimshuffle(0, 'x')\n",
      "        if axis == 2:\n",
      "            result = exped / normalizer.dimshuffle(0, 1, 'x')\n",
      "        return result, T.ones_like(var)\n",
      "\n",
      "    return inner\n",
      "\n",
      "softmax = sampling_softmax()"
     ],
     "language": "python",
     "metadata": {},
     "outputs": [],
     "prompt_number": 3
    },
    {
     "cell_type": "code",
     "collapsed": true,
     "input": [
      "max_passes = 1000\n",
      "batch_size = 250\n",
      "max_iter = max_passes * X.shape[0] / batch_size\n",
      "n_report = X.shape[0] / batch_size\n",
      "\n",
      "stop = climin.stops.any_([\n",
      "    climin.stops.after_n_iterations(max_iter),\n",
      "    ])\n",
      "\n",
      "pause = climin.stops.modulo_n_iterations(n_report)\n",
      "\n",
      "#softmax = sampling_softmax()\n",
      "\n",
      "loss = lambda target, prediction: nce(target, prediction[:, :prediction.shape[1] // 2])\n",
      "\n",
      "optimizer = 'rmsprop', {'steprate': 0.0001, 'momentum': 0.95, 'decay': 0.9, 'step_adapt': 0.0}\n",
      "#optimizer = dropout_optimizer_conf(steprate_0=1, n_repeats=1)\n",
      "#optimizer = 'lbfgs', {'n_factors': 25}\n",
      "\n",
      "#optimizer = 'gd', {'steprate': 1e-2, 'momentum': climin.schedule.sutskever_blend(0.995, 10), 'momentum_type': 'nesterov'}\n",
      "\n",
      "m = FastDropoutNetwork(784, [800, 800], 10, \n",
      "                       hidden_transfers=['rectifier', 'rectifier'], out_transfer=softmax,\n",
      "                       loss=loss, \n",
      "                       optimizer=optimizer, batch_size=batch_size, max_iter=max_iter, \n",
      "                       p_dropout_inpt=.2, p_dropout_hidden=.5)\n",
      "m.parameters.data[...] = np.random.normal(0, 1e-2, m.parameters.data.shape)\n",
      "\n",
      "weight_decay = ((m.parameters.in_to_hidden**2).sum()\n",
      "                + (m.parameters.hidden_to_hidden_0**2).sum()\n",
      "                + (m.parameters.hidden_to_out**2).sum())\n",
      "weight_decay /= m.exprs['inpt'].shape[0]\n",
      "m.exprs['true_loss'] = m.exprs['loss']\n",
      "c_wd = 0.0000\n",
      "m.exprs['loss'] = m.exprs['loss'] + c_wd * weight_decay\n",
      "\n",
      "f_wd = m.function(['inpt'], c_wd * weight_decay)\n",
      "n_wrong = 1 - T.eq(T.argmax(m.exprs['output_in_mean'] , axis=1), T.argmax(m.exprs['target'], axis=1)).mean()\n",
      "f_n_wrong = m.function(['inpt', 'target'], n_wrong)\n",
      "                \n",
      "losses = []\n",
      "v_losses = []\n",
      "print 'max iter', max_iter"
     ],
     "language": "python",
     "metadata": {},
     "outputs": [
      {
       "output_type": "stream",
       "stream": "stdout",
       "text": [
        "max iter 200000\n"
       ]
      }
     ],
     "prompt_number": 6
    },
    {
     "cell_type": "markdown",
     "metadata": {},
     "source": [
      "Learn\n",
      "====="
     ]
    },
    {
     "cell_type": "code",
     "collapsed": false,
     "input": [
      "start = time.time()\n",
      "# Set up a nice printout.\n",
      "keys = '#', 'loss', 'val loss', 'seconds', 'wd', 'train emp', 'val emp', 'test emp'\n",
      "max_len = max(len(i) for i in keys)\n",
      "header = '\\t'.join(i for i in keys)\n",
      "print header\n",
      "print '-' * len(header)\n",
      "\n",
      "f_loss = m.function(['inpt', 'target'], ['true_loss', 'loss'])\n",
      "\n",
      "for i, info in enumerate(m.powerfit((X, Z), (VX, VZ), stop, pause)):\n",
      "    if info['n_iter'] % n_report != 0:\n",
      "        continue\n",
      "    passed = time.time() - start\n",
      "    losses.append(info['loss'])\n",
      "    v_losses.append(info['val_loss'])\n",
      "    \n",
      "    #img = tile_raster_images(fe.parameters['in_to_hidden'].T, image_dims, feature_dims, (1, 1))\n",
      "    #save_and_display(img, 'filters-%i.png' % i)  \n",
      "    info.update({\n",
      "        'time': passed,\n",
      "        'l2-loss': f_wd(X),\n",
      "        'train_emp': f_n_wrong(X, Z),\n",
      "        'val_emp': f_n_wrong(VX, VZ),\n",
      "        'test_emp': f_n_wrong(TX, TZ),\n",
      "    })\n",
      "    row = '%(n_iter)i\\t%(loss)g\\t%(val_loss)g\\t%(time)g\\t%(l2-loss)g\\t%(train_emp)g\\t%(val_emp)g\\t%(test_emp)g' % info\n",
      "    print row\n",
      "    climin.project.max_length_columns(m.parameters['in_to_hidden'], 15)\n",
      "    climin.project.max_length_columns(m.parameters['hidden_to_hidden_0'], 15)\n",
      "    climin.project.max_length_columns(m.parameters['hidden_to_out'], 15)"
     ],
     "language": "python",
     "metadata": {},
     "outputs": [
      {
       "output_type": "stream",
       "stream": "stdout",
       "text": [
        "#\tloss\tval loss\tseconds\twd\ttrain emp\tval emp\ttest emp\n",
        "-----------------------------------------------------\n",
        "0\t2.30289\t2.30275\t140.801\t0\t0.90136\t0.9009\t0.902"
       ]
      },
      {
       "output_type": "stream",
       "stream": "stdout",
       "text": [
        "\n",
        "200\t2.01766\t2.01429\t230.535\t0\t0.69268\t0.6924\t0.6937"
       ]
      },
      {
       "output_type": "stream",
       "stream": "stdout",
       "text": [
        "\n",
        "400\t0.298833\t0.283465\t319.237\t0\t0.08328\t0.0782\t0.0808"
       ]
      },
      {
       "output_type": "stream",
       "stream": "stdout",
       "text": [
        "\n",
        "600\t0.177126\t0.172641\t407.61\t0\t0.05062\t0.0482\t0.0511"
       ]
      },
      {
       "output_type": "stream",
       "stream": "stdout",
       "text": [
        "\n",
        "800\t0.12148\t0.126004\t496.206\t0\t0.03392\t0.0344\t0.0378"
       ]
      },
      {
       "output_type": "stream",
       "stream": "stdout",
       "text": [
        "\n",
        "1000\t0.0961156\t0.113359\t585.667\t0\t0.02748\t0.0306\t0.0333"
       ]
      },
      {
       "output_type": "stream",
       "stream": "stdout",
       "text": [
        "\n",
        "1200\t0.0753361\t0.098966\t676.784\t0\t0.01998\t0.0276\t0.0292"
       ]
      },
      {
       "output_type": "stream",
       "stream": "stdout",
       "text": [
        "\n",
        "1400\t0.0655884\t0.095092\t768.767\t0\t0.01782\t0.027\t0.0282"
       ]
      },
      {
       "output_type": "stream",
       "stream": "stdout",
       "text": [
        "\n",
        "1600\t0.0545073\t0.0907016\t859.167\t0\t0.01426\t0.0244\t0.0257"
       ]
      },
      {
       "output_type": "stream",
       "stream": "stdout",
       "text": [
        "\n",
        "1800\t0.0451956\t0.0870935\t949.096\t0\t0.01146\t0.0224\t0.0232"
       ]
      },
      {
       "output_type": "stream",
       "stream": "stdout",
       "text": [
        "\n",
        "2000\t0.0408432\t0.0871915\t1037.71\t0\t0.00986\t0.0223\t0.0227"
       ]
      },
      {
       "output_type": "stream",
       "stream": "stdout",
       "text": [
        "\n",
        "2200\t0.0347589\t0.0869073\t1128.14\t0\t0.00862\t0.0234\t0.0227"
       ]
      },
      {
       "output_type": "stream",
       "stream": "stdout",
       "text": [
        "\n",
        "2400\t0.0299259\t0.082594\t1218.08\t0\t0.00702\t0.0205\t0.0212"
       ]
      },
      {
       "output_type": "stream",
       "stream": "stdout",
       "text": [
        "\n",
        "2600\t0.0268402\t0.0823023\t1306.56\t0\t0.00576\t0.019\t0.0209"
       ]
      },
      {
       "output_type": "stream",
       "stream": "stdout",
       "text": [
        "\n",
        "2800\t0.0251392\t0.0828324\t1394.46\t0\t0.00532\t0.0196\t0.0208"
       ]
      },
      {
       "output_type": "stream",
       "stream": "stdout",
       "text": [
        "\n",
        "3000\t0.0232529\t0.0841866\t1482.13\t0\t0.00494\t0.0198\t0.0214"
       ]
      },
      {
       "output_type": "stream",
       "stream": "stdout",
       "text": [
        "\n",
        "3200\t0.0209467\t0.0806042\t1570.28\t0\t0.0039\t0.0192\t0.0208"
       ]
      },
      {
       "output_type": "stream",
       "stream": "stdout",
       "text": [
        "\n",
        "3400\t0.0164278\t0.0874556\t1658.45\t0\t0.00266\t0.0188\t0.0198"
       ]
      },
      {
       "output_type": "stream",
       "stream": "stdout",
       "text": [
        "\n",
        "3600\t0.0195232\t0.0976875\t1747.56\t0\t0.00426\t0.0202\t0.0207"
       ]
      },
      {
       "output_type": "stream",
       "stream": "stdout",
       "text": [
        "\n",
        "3800\t0.0176367\t0.0860871\t1839.16\t0\t0.00288\t0.0186\t0.0192"
       ]
      },
      {
       "output_type": "stream",
       "stream": "stdout",
       "text": [
        "\n",
        "4000\t0.0184334\t0.0943508\t1932.52\t0\t0.00362\t0.0207\t0.023"
       ]
      },
      {
       "output_type": "stream",
       "stream": "stdout",
       "text": [
        "\n",
        "4200\t0.0149294\t0.0967652\t2022.8\t0\t0.00258\t0.0198\t0.0187"
       ]
      },
      {
       "output_type": "stream",
       "stream": "stdout",
       "text": [
        "\n",
        "4400\t0.0136496\t0.0924794\t2112.06\t0\t0.00192\t0.0189\t0.0184"
       ]
      },
      {
       "output_type": "stream",
       "stream": "stdout",
       "text": [
        "\n",
        "4600\t0.0142164\t0.0998587\t2203.05\t0\t0.00262\t0.0197\t0.0204"
       ]
      },
      {
       "output_type": "stream",
       "stream": "stdout",
       "text": [
        "\n",
        "4800\t0.0103861\t0.0991522\t2292\t0\t0.0014\t0.0187\t0.018"
       ]
      },
      {
       "output_type": "stream",
       "stream": "stdout",
       "text": [
        "\n",
        "5000\t0.0121996\t0.0961955\t2379.45\t0\t0.00178\t0.0197\t0.0212"
       ]
      },
      {
       "output_type": "stream",
       "stream": "stdout",
       "text": [
        "\n",
        "5200\t0.010785\t0.0939176\t2467.33\t0\t0.0016\t0.0191\t0.0211"
       ]
      }
     ],
     "prompt_number": "*"
    },
    {
     "cell_type": "code",
     "collapsed": false,
     "input": [
      "f_predict = m.function(['inpt'], T.argmax(m.exprs['output_in'], axis=1))\n",
      "\n",
      "TY = f_predict(TX)\n",
      "\n",
      "print '#wrong', (TY != TZ.argmax(axis=1)).sum()"
     ],
     "language": "python",
     "metadata": {},
     "outputs": [],
     "prompt_number": "*"
    }
   ],
   "metadata": {}
  }
 ]
}