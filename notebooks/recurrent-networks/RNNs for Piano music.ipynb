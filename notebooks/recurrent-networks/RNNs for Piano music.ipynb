{
 "metadata": {
  "name": "",
  "signature": "sha256:eafd6899e5eb592a6d30662c612eeb1b377dc484d7b78767517e56967072ed8c"
 },
 "nbformat": 3,
 "nbformat_minor": 0,
 "worksheets": [
  {
   "cells": [
    {
     "cell_type": "code",
     "collapsed": false,
     "input": [
      "import cPickle\n",
      "import math\n",
      "import time\n",
      "\n",
      "import numpy as np\n",
      "import theano.tensor as T\n",
      "\n",
      "from breze.learn.data import interleave, padzeros, split\n",
      "\n",
      "from breze.learn import base\n",
      "from breze.learn.rnn import SupervisedFastDropoutRnn, SupervisedRnn\n",
      "import breze.learn.display as D\n",
      "\n",
      "import climin.initialize\n",
      "import climin.stops\n",
      "import climin.mathadapt as ma"
     ],
     "language": "python",
     "metadata": {},
     "outputs": [],
     "prompt_number": 1
    },
    {
     "cell_type": "code",
     "collapsed": false,
     "input": [
      "SIZE = 108 - 21 + 1\n",
      "\n",
      "\n",
      "def masked(idxs):\n",
      "    x = np.zeros(SIZE)\n",
      "    x[(np.array(idxs) - 21).tolist()] = 1\n",
      "    return x\n",
      "\n",
      "\n",
      "def rolls_from_sequences(seqs):\n",
      "    x = []\n",
      "    for seq in seqs:\n",
      "        x.append([])\n",
      "        for item in seq:\n",
      "            x[-1].append(masked(item))\n",
      "        x[-1] = np.array(x[-1])\n",
      "    return x\n",
      "\n",
      "\n",
      "def load_data(handle):\n",
      "    with open('%s.pickle' % handle) as fp:\n",
      "        data = cPickle.load(fp)\n",
      "\n",
      "    train, valid, test = data['train'], data['valid'], data['test']\n",
      "\n",
      "    x = rolls_from_sequences(data['train'])\n",
      "    vx = rolls_from_sequences(data['valid'])\n",
      "    tx = rolls_from_sequences(data['test'])\n",
      "\n",
      "    print 'size of x', sum([i.size for i in x])\n",
      "    print 'size of vx', sum([i.size for i in vx])\n",
      "\n",
      "    x = split(x, 100)\n",
      "    vx = split(vx, 100)\n",
      "\n",
      "    # Standardize.\n",
      "    #scaler = StandardScaler()\n",
      "    #x, (vx, tx) = static_transform([scaler], x, [vx, tx])\n",
      "\n",
      "    X = interleave(padzeros(x, False))\n",
      "    VX = interleave(padzeros(vx, False))\n",
      "\n",
      "    print 'size of X', X.size\n",
      "    print 'size of VX', VX.size\n",
      "\n",
      "    Z, VZ, tz = X[1:], VX[1:], [i[1:] for i in tx]\n",
      "    X, VX, tx = X[:-1], VX[:-1], [i[:-1] for i in tx]\n",
      "\n",
      "    X, VX, Z, VZ = [base.cast_array_to_local_type(i) for i in (X, VX, Z, VZ)]\n",
      "    tx = [base.cast_array_to_local_type(i) for i in tx]\n",
      "    tz = [base.cast_array_to_local_type(i) for i in tz]\n",
      "\n",
      "    print 'training shape', X.shape\n",
      "    print 'validation shape', VX.shape\n",
      "\n",
      "    return X, Z, VX, VZ, tx, tz\n",
      "\n",
      "X, Z, VX, VZ, tx, tz = load_data('JSBChorales')\n"
     ],
     "language": "python",
     "metadata": {},
     "outputs": [
      {
       "output_type": "stream",
       "stream": "stdout",
       "text": [
        "size of x 1215016\n",
        "size of vx 404976\n",
        "size of X 2138400\n",
        "size of VX 730400\n",
        "training shape (99, 243, 88)\n",
        "validation shape (99, 83, 88)\n"
       ]
      }
     ],
     "prompt_number": 2
    },
    {
     "cell_type": "markdown",
     "metadata": {},
     "source": [
      "Modelling\n",
      "===\n",
      "\n",
      "Execute one of the following cells representing (a) plain RNNs and (b) LSTM-RNNs and (c) FD-RNNs."
     ]
    },
    {
     "cell_type": "markdown",
     "metadata": {},
     "source": [
      "Plain RNN\n",
      "---"
     ]
    },
    {
     "cell_type": "code",
     "collapsed": false,
     "input": [
      "method = 'fd'    # one of plain, lstm, fd"
     ],
     "language": "python",
     "metadata": {},
     "outputs": [],
     "prompt_number": 3
    },
    {
     "cell_type": "code",
     "collapsed": false,
     "input": [
      "if method == 'plain':\n",
      "    n_layers = 1\n",
      "\n",
      "    #optimizer = 'rmsprop', {'steprate': 0.0001, 'momentum': 0.9, 'decay': 0.9}\n",
      "    #optimizer = 'adadelta', {'decay': 0.9, 'offset': 1e-6, 'momentum': .9, 'steprate': .1}\n",
      "    #optimizer = 'gd', {'steprate': 1e-4, 'momentum': .99, 'momentum_type': 'nesterov'}\n",
      "    optimizer = 'adam'\n",
      "\n",
      "    batch_size = 27\n",
      "\n",
      "    n_hiddens = [100] * n_layers\n",
      "\n",
      "    from breze.arch.component.varprop.transfer import tanh\n",
      "\n",
      "    m = SupervisedRnn(\n",
      "        88, n_hiddens, 88,  out_transfer='sigmoid', loss='bern_ces', \n",
      "        hidden_transfers=['tanh'] * n_layers,\n",
      "        batch_size=batch_size,\n",
      "        optimizer=optimizer)\n",
      "\n",
      "    m.exprs['true_loss'] = m.exprs['loss']\n",
      "\n",
      "    f_loss = m.function(['inpt', 'target'], 'true_loss')\n",
      "\n",
      "    def test_nll():\n",
      "        nll = 0\n",
      "        n_time_steps = 0\n",
      "        for x, z in zip(tx, tz):\n",
      "            nll += f_loss(x[:, np.newaxis], z[:, np.newaxis]) * x.shape[0]\n",
      "            n_time_steps += x.shape[0]\n",
      "        return nll / n_time_steps\n",
      "\n",
      "    infos = []\n",
      "\n",
      "    climin.initialize.randomize_normal(m.parameters.data, 0, 0.01)"
     ],
     "language": "python",
     "metadata": {},
     "outputs": [],
     "prompt_number": 4
    },
    {
     "cell_type": "markdown",
     "metadata": {},
     "source": [
      "LSTM-RNN\n",
      "---"
     ]
    },
    {
     "cell_type": "code",
     "collapsed": false,
     "input": [
      "if method == 'lstm':\n",
      "    optimizer = 'rmsprop', {'steprate': 1e-3, 'momentum': 0.95, 'decay': 0.9}\n",
      "    par_std = 0.001\n",
      "    n_layers = 1\n",
      "    n_hiddens = 50\n",
      "\n",
      "    m = SupervisedLstmRnn(\n",
      "        88, [n_hiddens] * n_layers, 88,  out_transfer='sigmoid', loss='bernoulli_ces', \n",
      "        hidden_transfers=['tanh'],\n",
      "        batch_size=35,\n",
      "        optimizer=optimizer)\n",
      "\n",
      "    climin.initialize.randomize_normal(\n",
      "        m.parameters.data, 0, par_std)\n",
      "    m.parameters['out_bias'][...] = -.8\n",
      "\n",
      "    m.exprs['true_loss'] = m.exprs['loss']\n",
      "\n",
      "    def test_nll():\n",
      "        nll = 0\n",
      "        n_time_steps = 0\n",
      "        for x, z in zip(tx, tz):\n",
      "            nll += m.score(x[:, np.newaxis], z[:, np.newaxis]) * x.shape[0]\n",
      "            n_time_steps += x.shape[0]\n",
      "        return nll / n_time_steps\n",
      "\n",
      "    infos = []"
     ],
     "language": "python",
     "metadata": {},
     "outputs": [],
     "prompt_number": 5
    },
    {
     "cell_type": "markdown",
     "metadata": {},
     "source": [
      "FD-RNN\n",
      "---"
     ]
    },
    {
     "cell_type": "code",
     "collapsed": false,
     "input": [
      "if method == 'fd':\n",
      "    n_layers = 1\n",
      "\n",
      "    optimizer = 'rmsprop', {'step_rate': 1e-3, 'momentum': .99, 'decay': .8}\n",
      "\n",
      "    p_dropout_inpt = 0.1\n",
      "    p_dropout_hiddens = 0.2\n",
      "    p_dropout_hidden_to_out = 0.5\n",
      "    batch_size = 9\n",
      "\n",
      "    n_hiddens = [400] * n_layers\n",
      "\n",
      "    from breze.arch.component.varprop.transfer import tanh\n",
      "\n",
      "    m = SupervisedFastDropoutRnn(\n",
      "        88, n_hiddens, 88,  out_transfer='sigmoid', loss='bern_ces', \n",
      "        hidden_transfers=['tanh'] * n_layers,\n",
      "        batch_size=batch_size,\n",
      "        p_dropout_inpt=p_dropout_inpt,\n",
      "        p_dropout_hiddens=p_dropout_hiddens,\n",
      "        p_dropout_hidden_to_out=p_dropout_hidden_to_out,\n",
      "        optimizer=optimizer)\n",
      "\n",
      "    m.exprs['true_loss'] = m.exprs['loss']\n",
      "\n",
      "    f_loss = m.function(['inpt', 'target'], 'true_loss')\n",
      "\n",
      "    def test_nll():\n",
      "        nll = 0\n",
      "        n_time_steps = 0\n",
      "        for x, z in zip(tx, tz):\n",
      "            nll += f_loss(x[:, np.newaxis], z[:, np.newaxis]) * x.shape[0]\n",
      "            n_time_steps += x.shape[0]\n",
      "        return nll / n_time_steps\n",
      "\n",
      "    infos = []"
     ],
     "language": "python",
     "metadata": {},
     "outputs": [
      {
       "output_type": "stream",
       "stream": "stderr",
       "text": [
        "/Users/bayerj/devel/3rdparty/Theano/theano/scan_module/scan_perform_ext.py:133: RuntimeWarning: numpy.ndarray size changed, may indicate binary incompatibility\n",
        "  from scan_perform.scan_perform import *\n"
       ]
      }
     ],
     "prompt_number": 6
    },
    {
     "cell_type": "code",
     "collapsed": false,
     "input": [
      "m.initialize(par_std=0.0001, par_std_in=0.01, spectral_radius=1.2, sparsify_rec=15, sparsify_affine=15)"
     ],
     "language": "python",
     "metadata": {},
     "outputs": [
      {
       "output_type": "stream",
       "stream": "stderr",
       "text": [
        "/Users/bayerj/devel/climin/climin/initialize.py:96: ComplexWarning: Casting complex values to real discards the imaginary part\n",
        "  arr[...] = np.dot(vecs, np.dot(np.diag(vals), np.linalg.inv(vecs)))\n"
       ]
      }
     ],
     "prompt_number": 7
    },
    {
     "cell_type": "markdown",
     "metadata": {},
     "source": [
      "Training\n",
      "==="
     ]
    },
    {
     "cell_type": "code",
     "collapsed": false,
     "input": [
      "m.optimizer = 'rmsprop', {'step_rate': 1e-3, 'momentum': .99, 'decay': .8}"
     ],
     "language": "python",
     "metadata": {},
     "outputs": []
    },
    {
     "cell_type": "code",
     "collapsed": false,
     "input": [
      "max_passes = 10000\n",
      "max_minutes = 600\n",
      "max_iter = max_passes * X.shape[1] / m.batch_size\n",
      "batches_per_pass = int(math.ceil(float(X.shape[1]) / m.batch_size))\n",
      "pause = climin.stops.ModuloNIterations(batches_per_pass * 1)\n",
      "\n",
      "\n",
      "stop = climin.stops.Any([\n",
      "    climin.stops.TimeElapsed(max_minutes * 60),\n",
      "    #climin.stops.patience('val_loss', 1000, grow_factor=1.1, threshold=0.0001),\n",
      "    climin.stops.NotBetterThanAfter(30, 100),\n",
      "])\n",
      "    \n",
      "start = time.time()\n",
      "# Set up a nice printout.\n",
      "header = '#', 'seconds', 'loss', 'val loss', 'test loss'\n",
      "print '\\t'.join(header)\n",
      "\n",
      "for i, info in enumerate(m.powerfit((X, Z), (VX, VZ), stop, pause, True)):\n",
      "    info['loss'] = float(info['loss'])\n",
      "    info['val_loss'] = float(info['val_loss'])\n",
      "    info['test_loss'] = float(ma.scalar(test_nll()))\n",
      "    \n",
      "#    if info['test_loss'] < 8.58:\n",
      "#        break\n",
      "\n",
      "    info.update({\n",
      "        'time': time.time() - start,\n",
      "        #'spectral_radius': get_spectral_radius(m.parameters['recurrent_0']),\n",
      "    })\n",
      "    template = '\\t'.join(\n",
      "        ['%(n_iter)i', '%(time)g', '%(loss)g', '%(val_loss)g', '%(test_loss)g'])\n",
      "    row = template % info\n",
      "    print row\n",
      "\n",
      "    filtered_info = dict(\n",
      "        (k, v) for k, v in info.items()\n",
      "        #if (not isinstance(v, (np.ndarray, gp.garray)) or v.size <= 1) and k not in ('args', 'kwargs'))\n",
      "        if (not isinstance(v, (np.ndarray, )) or v.size <= 1) and k not in ('args', 'kwargs'))\n",
      "\n",
      "    for key in filtered_info:\n",
      "        if isinstance(filtered_info[key], np.float32):\n",
      "            filtered_info[key] = float(filtered_info[key])\n",
      "    infos.append(filtered_info)\n"
     ],
     "language": "python",
     "metadata": {},
     "outputs": []
    },
    {
     "cell_type": "code",
     "collapsed": false,
     "input": [
      "m.parameters.data[...] = info['best_pars']"
     ],
     "language": "python",
     "metadata": {},
     "outputs": [],
     "prompt_number": 16
    },
    {
     "cell_type": "code",
     "collapsed": false,
     "input": [
      "del m.f_score"
     ],
     "language": "python",
     "metadata": {},
     "outputs": [],
     "prompt_number": 17
    },
    {
     "cell_type": "code",
     "collapsed": false,
     "input": [
      "import cPickle\n",
      "with open('/Users/bayerj/brml/rnn-opt/code/jsb-803.pkl', 'w') as fp:\n",
      "    cPickle.dump(m, fp)"
     ],
     "language": "python",
     "metadata": {},
     "outputs": [
      {
       "ename": "IOError",
       "evalue": "[Errno 2] No such file or directory: '/Users/bayerj/brml/rnn-opt/code/jsb-803.pkl'",
       "output_type": "pyerr",
       "traceback": [
        "\u001b[0;31m---------------------------------------------------------------------------\u001b[0m\n\u001b[0;31mIOError\u001b[0m                                   Traceback (most recent call last)",
        "\u001b[0;32m<ipython-input-18-769041e8c6ff>\u001b[0m in \u001b[0;36m<module>\u001b[0;34m()\u001b[0m\n\u001b[1;32m      1\u001b[0m \u001b[0;32mimport\u001b[0m \u001b[0mcPickle\u001b[0m\u001b[0;34m\u001b[0m\u001b[0m\n\u001b[0;32m----> 2\u001b[0;31m \u001b[0;32mwith\u001b[0m \u001b[0mopen\u001b[0m\u001b[0;34m(\u001b[0m\u001b[0;34m'/Users/bayerj/brml/rnn-opt/code/jsb-803.pkl'\u001b[0m\u001b[0;34m,\u001b[0m \u001b[0;34m'w'\u001b[0m\u001b[0;34m)\u001b[0m \u001b[0;32mas\u001b[0m \u001b[0mfp\u001b[0m\u001b[0;34m:\u001b[0m\u001b[0;34m\u001b[0m\u001b[0m\n\u001b[0m\u001b[1;32m      3\u001b[0m     \u001b[0mcPickle\u001b[0m\u001b[0;34m.\u001b[0m\u001b[0mdump\u001b[0m\u001b[0;34m(\u001b[0m\u001b[0mm\u001b[0m\u001b[0;34m,\u001b[0m \u001b[0mfp\u001b[0m\u001b[0;34m)\u001b[0m\u001b[0;34m\u001b[0m\u001b[0m\n",
        "\u001b[0;31mIOError\u001b[0m: [Errno 2] No such file or directory: '/Users/bayerj/brml/rnn-opt/code/jsb-803.pkl'"
       ]
      }
     ],
     "prompt_number": 18
    },
    {
     "cell_type": "code",
     "collapsed": false,
     "input": [
      "plt.plot([abs(i['spectral_radius']) for i in infos])"
     ],
     "language": "python",
     "metadata": {},
     "outputs": []
    },
    {
     "cell_type": "code",
     "collapsed": false,
     "input": [
      "(Z.sum(axis=2) == 0).mean()"
     ],
     "language": "python",
     "metadata": {},
     "outputs": []
    },
    {
     "cell_type": "code",
     "collapsed": false,
     "input": [
      "m.batch_size = 81"
     ],
     "language": "python",
     "metadata": {},
     "outputs": []
    },
    {
     "cell_type": "code",
     "collapsed": false,
     "input": [
      "m.parameters.data[...] = info['best_pars']"
     ],
     "language": "python",
     "metadata": {},
     "outputs": []
    },
    {
     "cell_type": "code",
     "collapsed": false,
     "input": [
      "infos_var_no_reg = infos"
     ],
     "language": "python",
     "metadata": {},
     "outputs": []
    },
    {
     "cell_type": "code",
     "collapsed": false,
     "input": [
      "fig = plt.figure(figsize=(16, 9))\n",
      "ax = fig.add_subplot(111)\n",
      "ax.plot([i['loss'] for i in infos_var_reg[:]], [i['val_loss'] for i in infos_var_reg[:]], 'go', alpha=1, label='var reg 1e-2')\n",
      "ax.plot([i['loss'] for i in infos_var_no_reg[:]], [i['val_loss'] for i in infos_var_no_reg[:]], 'bo', alpha=1, label='var reg 1e-2')\n",
      "\n",
      "ax.set_xlim([4.65, 5.0])\n",
      "ax.set_ylim([4.6, 5.0])\n",
      "ax.legend()\n"
     ],
     "language": "python",
     "metadata": {},
     "outputs": []
    },
    {
     "cell_type": "code",
     "collapsed": false,
     "input": [
      "Y = m.predict(X[:, :1])"
     ],
     "language": "python",
     "metadata": {},
     "outputs": []
    },
    {
     "cell_type": "code",
     "collapsed": false,
     "input": [
      "fig = plt.figure(figsize=(16, 9))\n",
      "ax = fig.add_subplot(111)\n",
      "ax.plot([i['loss'] for i in infos_e16[20:250]], [i['val_loss'] for i in infos_e16[20:250]], 'go', alpha=1, label='1e-16')\n",
      "ax.plot([i['loss'] for i in infos_e12[20:250]], [i['val_loss'] for i in infos_e12[20:250]], 'bo', alpha=1, label='1e-12')\n",
      "ax.plot([i['loss'] for i in infos_e10[20:]], [i['val_loss'] for i in infos_e10[20:]], 'ro', alpha=1, label='1e-10')\n",
      "ax.plot([i['loss'] for i in infos_e32[20:]], [i['val_loss'] for i in infos_e32[20:]], 'ko', alpha=1, label='1e-32')\n",
      "ax.plot([i['loss'] for i in infos_e4[20:]], [i['val_loss'] for i in infos_e4[20:]], 'yo', alpha=1, label='1e-4')\n",
      "\n",
      "ax.plot([i['loss'] for i in infos_e3[20:]], [i['val_loss'] for i in infos_e3[20:]], 'mo', alpha=1, label='1e-3')\n",
      "\n",
      "\n",
      "ax.set_xlim([3.0, 5.0])\n",
      "ax.set_ylim([4.4, 5.5])\n",
      "ax.legend()\n"
     ],
     "language": "python",
     "metadata": {},
     "outputs": []
    },
    {
     "cell_type": "code",
     "collapsed": false,
     "input": [
      "fig = plt.figure(figsize=(16, 9))\n",
      "ax = fig.add_subplot(111)\n",
      "ax.plot([i['n_iter'] for i in infos_e16[20:250]], [i['val_loss'] for i in infos_e16[20:250]], 'g-', alpha=1, label='1e-16')\n",
      "ax.plot([i['n_iter'] for i in infos_e12[20:250]], [i['val_loss'] for i in infos_e12[20:250]], 'b-', alpha=1, label='1e-12')\n",
      "ax.plot([i['n_iter'] for i in infos_e10[20:]], [i['val_loss'] for i in infos_e10[20:]], 'r-', alpha=1, label='1e-10')\n",
      "ax.plot([i['n_iter'] for i in infos_e32[20:]], [i['val_loss'] for i in infos_e32[20:]], 'k-', alpha=1, label='1e-32')\n",
      "ax.plot([i['n_iter'] for i in infos_e4[20:]], [i['val_loss'] for i in infos_e4[20:]], 'y-', alpha=1, label='1e-4')\n",
      "\n",
      "ax.set_xlim([50, 2000])\n",
      "ax.set_ylim([4.0, 5.5])\n",
      "\n",
      "ax.legend()\n"
     ],
     "language": "python",
     "metadata": {},
     "outputs": []
    },
    {
     "cell_type": "code",
     "collapsed": false,
     "input": [
      "ty = m.predict(tx[0][:, np.newaxis])[:, :, :88]"
     ],
     "language": "python",
     "metadata": {},
     "outputs": []
    },
    {
     "cell_type": "code",
     "collapsed": false,
     "input": [
      "plt.imshow(X[:, 1, :].T, cmap=cm.binary, interpolation='none')"
     ],
     "language": "python",
     "metadata": {},
     "outputs": []
    },
    {
     "cell_type": "code",
     "collapsed": false,
     "input": [
      "fig = plt.figure(figsize=(16, 9))\n",
      "ax1 = fig.add_subplot(131)\n",
      "ax1.imshow(tx[0].T, cmap=cm.binary, interpolation='none')\n",
      "ax2 = fig.add_subplot(132)\n",
      "ax2.imshow(ty[:, 0].T, cmap=cm.binary, interpolation='none')\n",
      "ax3 = fig.add_subplot(133)\n",
      "ax3.imshow(- (np.log(ty[:, 0].T) * tx[0].T + (1 - np.log(ty[:, 0].T)) * (1 - tx[0].T)), cmap=cm.binary, interpolation='none')"
     ],
     "language": "python",
     "metadata": {},
     "outputs": []
    },
    {
     "cell_type": "code",
     "collapsed": false,
     "input": [
      "f_hidden0 = m.function(['inpt'], 'hidden_mean_0')\n",
      "#f_hidden1 = m.function(['inpt'], 'hidden_mean_1')"
     ],
     "language": "python",
     "metadata": {},
     "outputs": []
    },
    {
     "cell_type": "code",
     "collapsed": false,
     "input": [
      "th0 = f_hidden0(tx[0][:, np.newaxis])[:, 0]\n",
      "#th1 = f_hidden1(tx[0][:, np.newaxis])[:, 0]"
     ],
     "language": "python",
     "metadata": {},
     "outputs": []
    },
    {
     "cell_type": "code",
     "collapsed": false,
     "input": [
      "fig = plt.figure(figsize=(16, 9))\n",
      "ax1 = fig.add_subplot(131)\n",
      "ax1.imshow(th0.T, cmap=cm.binary, interpolation='none')\n",
      "ax2 = fig.add_subplot(132)\n",
      "ax2.imshow(th1.T, cmap=cm.binary, interpolation='none')\n",
      "#ax3 = fig.add_subplot(133)\n",
      "#ax3.imshow(- (np.log(ty[:, 0].T) * tx[0].T + (1 - np.log(ty[:, 0].T)) * (1 - tx[0].T)), cmap=cm.binary, interpolation='none')"
     ],
     "language": "python",
     "metadata": {},
     "outputs": []
    },
    {
     "cell_type": "code",
     "collapsed": false,
     "input": [
      "from breze.learn.display import hinton"
     ],
     "language": "python",
     "metadata": {},
     "outputs": []
    },
    {
     "cell_type": "code",
     "collapsed": false,
     "input": [
      "fig = plt.figure(figsize=(16, 9))\n",
      "#ax1 = fig.add_subplot(131)\n",
      "#hinton(ax1, m.parameters['hidden_0_to_out'][:30, 20:70])\n",
      "ax2 = fig.add_subplot(132)\n",
      "hinton(ax2, m.parameters['hidden_to_out'][:30, 20:70])"
     ],
     "language": "python",
     "metadata": {},
     "outputs": []
    },
    {
     "cell_type": "code",
     "collapsed": false,
     "input": [
      "at_init = m.parameters['recurrent_0'].copy()"
     ],
     "language": "python",
     "metadata": {},
     "outputs": []
    },
    {
     "cell_type": "code",
     "collapsed": false,
     "input": [
      "fd_w_858 = m.parameters['recurrent_0'].copy()"
     ],
     "language": "python",
     "metadata": {},
     "outputs": []
    },
    {
     "cell_type": "code",
     "collapsed": false,
     "input": [
      "fd_w_801 = m.parameters['recurrent_0'].copy()"
     ],
     "language": "python",
     "metadata": {},
     "outputs": []
    },
    {
     "cell_type": "code",
     "collapsed": false,
     "input": [
      "fd_w_805 = m.parameters['recurrent_0'].copy()"
     ],
     "language": "python",
     "metadata": {},
     "outputs": []
    },
    {
     "cell_type": "code",
     "collapsed": false,
     "input": [
      "def plot_eigvals_to_ax(arr, label, ax, symbol):\n",
      "    vals, vecs = np.linalg.eig(ma.assert_numpy(arr))\n",
      "    print vals[0]\n",
      "    ax.plot(sorted(abs(vals))[::-1], symbol, label=label, linewidth=2)\n",
      "    \n",
      "\n",
      "def plot_many_eigvals(arrs, labels):\n",
      "    fig, ax = plt.subplots(figsize=(12, 4))\n",
      "    symbols = 'k-', 'r-', 'b-', 'g-'\n",
      "    for arr, label, s in zip(arrs, labels, symbols):\n",
      "        plot_eigvals_to_ax(arr, label, ax, s)\n",
      "\n",
      "    #ax.hlines(1, 0, 400)\n",
      "    ax.grid()\n",
      "    ax.set_ylim([0, 15])\n",
      "    ax.set_xlim([0, 160])\n",
      "    \n",
      "    ax.set_ylabel('Absolute value', fontsize=18)\n",
      "    ax.set_xlabel('Index', fontsize=18)\n",
      "    ax.set_title('Eigenvalues of $W_{rec}$ during training on JSBChorales', fontsize=22)\n",
      "    ax.legend(fontsize=18)\n"
     ],
     "language": "python",
     "metadata": {},
     "outputs": []
    },
    {
     "cell_type": "code",
     "collapsed": false,
     "input": [
      "plot_many_eigvals([at_init, fd_w_858, fd_w_805, fd_w_801], ['initialization', 'loss 8.58', 'loss 8.05', 'loss 8.01'])\n",
      "plt.savefig('/Users/bayerj/Desktop/fd plots/eigenvalues.pdf', dpi=100, bbox_inches='tight')\n"
     ],
     "language": "python",
     "metadata": {},
     "outputs": []
    },
    {
     "cell_type": "code",
     "collapsed": false,
     "input": [
      "infos_fd = infos[:]"
     ],
     "language": "python",
     "metadata": {},
     "outputs": []
    },
    {
     "cell_type": "code",
     "collapsed": false,
     "input": [
      "def spec_plot(infos):\n",
      "    fig, ax = plt.subplots(figsize=(12, 4))\n",
      "    \n",
      "    #ax.hlines(1, 0, 400)\n",
      "    ax.plot([abs(i['spectral_radius']) for i in infos], 'k-', linewidth=2, label='Spectral radius')\n",
      "    ax.grid()\n",
      "    ax.set_ylim([0, 60])\n",
      "    ax.set_xlim([0, 200])\n",
      "    ax.plot([i['test_loss'] - 1000 for i in infos], 'r-', linewidth=2, label='Test loss')\n",
      "    \n",
      "    \n",
      "    ax.set_ylabel('|$\\\\rho(W_{rec})$|', fontsize=18)\n",
      "    ax.set_xlabel('Number of epochs', fontsize=18)\n",
      "    ax.set_title('$\\\\rho(W_{rec})$ during training on JSBChorales', fontsize=22)\n",
      "    ax.legend(fontsize=18)\n",
      "    \n",
      "    ax2 = ax.twinx()\n",
      "    ax2.plot([i['test_loss'] for i in infos], 'r-', linewidth=2, label='Test loss')\n",
      "    ax2.set_ylim([8.00, 9.00])\n",
      "    ax2.set_xlim([0, 200])\n",
      "    ax2.set_ylabel('Test loss', fontsize=18)\n",
      "    return fig, ax\n",
      "    \n",
      "    \n"
     ],
     "language": "python",
     "metadata": {},
     "outputs": []
    },
    {
     "cell_type": "code",
     "collapsed": false,
     "input": [],
     "language": "python",
     "metadata": {},
     "outputs": []
    },
    {
     "cell_type": "code",
     "collapsed": false,
     "input": [
      "from matplotlib import rc\n",
      "rc('font',**{'family':'serif', 'serif': ['Times']})"
     ],
     "language": "python",
     "metadata": {},
     "outputs": []
    },
    {
     "cell_type": "code",
     "collapsed": false,
     "input": [
      "fig, ax = spec_plot(infos_fd)\n",
      "plt.savefig('/Users/bayerj/Desktop/fd plots/spectralradius.pdf', dpi=100, bbox_inches='tight')\n"
     ],
     "language": "python",
     "metadata": {},
     "outputs": []
    },
    {
     "cell_type": "code",
     "collapsed": false,
     "input": [
      "infos_normal = infos[:]"
     ],
     "language": "python",
     "metadata": {},
     "outputs": []
    },
    {
     "cell_type": "code",
     "collapsed": false,
     "input": [
      "fig, ax = spec_plot(infos_normal)\n",
      "plt.savefig('/Users/bayerj/Desktop/fd plots/spectralradius-plain.pdf', dpi=100, bbox_inches='tight')\n"
     ],
     "language": "python",
     "metadata": {},
     "outputs": []
    }
   ],
   "metadata": {}
  }
 ]
}