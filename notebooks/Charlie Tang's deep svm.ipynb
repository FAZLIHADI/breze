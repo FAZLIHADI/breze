{
 "metadata": {
  "name": "Charlie Tang's deep svm"
 },
 "nbformat": 3,
 "nbformat_minor": 0,
 "worksheets": [
  {
   "cells": [
    {
     "cell_type": "code",
     "collapsed": false,
     "input": [
      "import cPickle\n",
      "import itertools\n",
      "import gzip\n",
      "import time\n",
      "\n",
      "import numpy as np\n",
      "import theano\n",
      "import theano.tensor as T\n",
      "\n",
      "import climin.stops\n",
      "import climin.initialize\n",
      "import climin.project\n",
      "import climin.schedule\n",
      "\n",
      "from brummlearn.pca import Pca\n",
      "from brummlearn.mlp import Mlp, DropoutMlp, dropout_optimizer_conf, FastDropoutNetwork\n",
      "from breze.component.loss import nce\n",
      "import breze.util\n",
      "\n",
      "import brummlearn.base\n",
      "from brummlearn.data import one_hot"
     ],
     "language": "python",
     "metadata": {},
     "outputs": [],
     "prompt_number": 1
    },
    {
     "cell_type": "code",
     "collapsed": false,
     "input": [
      "datafile = '../examples/mnist.pkl.gz'\n",
      "# Load data.                                                                                                   \n",
      "\n",
      "with gzip.open(datafile,'rb') as f:                                                                        \n",
      "    train_set, val_set, test_set = cPickle.load(f)                                                       \n",
      "\n",
      "X, Z = train_set                                                                                               \n",
      "VX, VZ = val_set\n",
      "TX, TZ = test_set\n",
      "\n",
      "Z = one_hot(Z, 10)\n",
      "VZ = one_hot(VZ, 10)\n",
      "TZ = one_hot(TZ, 10)\n",
      "\n",
      "Z = (Z * 2) - 1\n",
      "TZ = (TZ * 2) - 1\n",
      "VZ = (VZ * 2) - 1\n",
      "\n",
      "image_dims = 28, 28\n",
      "\n",
      "pca = Pca(70)\n",
      "pca.fit(X)\n",
      "X, VX, TX = [pca.transform(i) for i in (X, VX, TX)]\n",
      "\n",
      "X = np.concatenate([X, VX], axis=0)\n",
      "Z = np.concatenate([Z, VZ], axis=0)\n",
      "\n",
      "X, Z, TX, TZ = [brummlearn.base.cast_array_to_local_type(i) for i in (X, Z, TX, TZ)]"
     ],
     "language": "python",
     "metadata": {},
     "outputs": [],
     "prompt_number": 42
    },
    {
     "cell_type": "code",
     "collapsed": false,
     "input": [
      "def squared_hinge(target, prediction):\n",
      "    return (T.maximum(1 - target * prediction, 0) ** 2)\n",
      "\n",
      "class TangMlp(Mlp):\n",
      "    \n",
      "    def __init__(\n",
      "        self, n_inpt, n_hiddens, n_output, hidden_transfers, out_transfer, loss, optimizer, batch_size, noise_schedule,\n",
      "        max_iter=1000, verbose=False):\n",
      "        super(TangMlp, self).__init__(n_inpt, n_hiddens, n_output, hidden_transfers, out_transfer, loss, optimizer, batch_size,\n",
      "            max_iter, verbose)\n",
      "        \n",
      "        self.noise_schedule = noise_schedule\n",
      "    \n",
      "    def _make_args(self, X, Z):\n",
      "        args = super(TangMlp, self)._make_args(X, Z)\n",
      "        def corrupt(x, level):\n",
      "            return x + np.random.normal(0, level, x.shape).astype(theano.config.floatX)\n",
      "        return (((corrupt(x, n), z), k) for n, ((x, z), k) in itertools.izip(self.noise_schedule, args))"
     ],
     "language": "python",
     "metadata": {},
     "outputs": [],
     "prompt_number": 43
    },
    {
     "cell_type": "code",
     "collapsed": false,
     "input": [
      "max_passes = 400\n",
      "batch_size = 200\n",
      "max_iter = max_passes * X.shape[0] / batch_size\n",
      "n_report = X.shape[0] / batch_size\n",
      "\n",
      "noise_schedule = (1 - float(i) / max_iter for i in xrange(max_iter)) \n",
      "noise_schedule = itertools.chain(noise_schedule, itertools.repeat(0))\n",
      "\n",
      "stop = climin.stops.any_([\n",
      "    climin.stops.after_n_iterations(max_iter),\n",
      "    ])\n",
      "\n",
      "pause = climin.stops.modulo_n_iterations(n_report)\n",
      "\n",
      "optimizer = 'rmsprop', {'steprate': 0.001, 'momentum': 0.9, 'decay': 0.9, 'step_adapt': 0.01}\n",
      "#optimizer = 'gd', {'steprate': climin.schedule.linear_annealing(0.1, 0, max_iter), 'momentum': 0.5, 'momentum_type': 'nesterov'}\n",
      "#optimizer = dropout_optimizer_conf(steprate_0=1, n_repeats=1)\n",
      "m = TangMlp(X.shape[1], [512, 512], 10, hidden_transfers=['sigmoid', 'sigmoid'], out_transfer='identity', loss=squared_hinge, noise_schedule=noise_schedule, optimizer=optimizer, batch_size=batch_size, max_iter=max_iter)\n",
      "climin.initialize.randomize_normal(m.parameters.data, 0, 0.02)\n",
      "m.parameters['out_bias'][...] = 0\n",
      "\n",
      "weight_decay = ((m.parameters.hidden_to_out ** 2).sum())\n",
      "#                + (m.parameters.hidden_to_hidden_0**2).sum()\n",
      "#                + (m.parameters.hidden_to_out**2).sum())\n",
      "weight_decay /= m.exprs['inpt'].shape[0]\n",
      "m.exprs['true_loss'] = m.exprs['loss']\n",
      "c_wd = 0.001\n",
      "m.exprs['loss'] = m.exprs['loss'] + c_wd * weight_decay\n",
      "\n",
      "f_wd = m.function(['inpt'], c_wd * weight_decay)\n",
      "n_wrong = 1 - T.eq(T.argmax(m.exprs['output'], axis=1), T.argmax(m.exprs['target'], axis=1)).mean()\n",
      "f_n_wrong = m.function(['inpt', 'target'], n_wrong)\n",
      "                \n",
      "losses = []\n",
      "v_losses = []\n",
      "print 'max iter', max_iter"
     ],
     "language": "python",
     "metadata": {},
     "outputs": [
      {
       "output_type": "stream",
       "stream": "stdout",
       "text": [
        "max iter 120000\n"
       ]
      }
     ],
     "prompt_number": 46
    },
    {
     "cell_type": "code",
     "collapsed": false,
     "input": [
      "start = time.time()\n",
      "# Set up a nice printout.\n",
      "keys = '#', 'loss', 'val loss', 'seconds', 'wd', 'train emp', 'test emp'\n",
      "max_len = max(len(i) for i in keys)\n",
      "header = '\\t'.join(i for i in keys)\n",
      "print header\n",
      "print '-' * len(header)\n",
      "\n",
      "f_loss = m.function(['inpt', 'target'], ['true_loss', 'loss'])\n",
      "\n",
      "for i, info in enumerate(m.powerfit((X, Z), (TX, TZ), stop, pause)):\n",
      "    if info['n_iter'] % n_report != 0:\n",
      "        continue\n",
      "    passed = time.time() - start\n",
      "    losses.append(info['loss'])\n",
      "    v_losses.append(info['val_loss'])\n",
      "    \n",
      "    #img = tile_raster_images(fe.parameters['in_to_hidden'].T, image_dims, feature_dims, (1, 1))\n",
      "    #save_and_display(img, 'filters-%i.png' % i)  \n",
      "    info.update({\n",
      "        'time': passed,\n",
      "        'l2-loss': f_wd(X),\n",
      "        'train_emp': f_n_wrong(X, Z),\n",
      "        'test_emp': f_n_wrong(TX, TZ),\n",
      "    })\n",
      "    row = '%(n_iter)i\\t%(loss)g\\t%(val_loss)g\\t%(time)g\\t%(l2-loss)g\\t%(train_emp)g\\t%(test_emp)g' % info\n",
      "    print row"
     ],
     "language": "python",
     "metadata": {},
     "outputs": [
      {
       "output_type": "stream",
       "stream": "stdout",
       "text": [
        "#\tloss\tval loss\tseconds\twd\ttrain emp\ttest emp\n",
        "---------------------------------------------\n",
        "0\t6.80059\t6.79592\t3.77655\t3.34922e-08\t0.9007\t0.8968"
       ]
      },
      {
       "output_type": "stream",
       "stream": "stdout",
       "text": [
        "\n",
        "300\t0.89293\t0.849043\t11.2762\t2.91075e-07\t0.127817\t0.1205"
       ]
      },
      {
       "output_type": "stream",
       "stream": "stdout",
       "text": [
        "\n",
        "600\t0.482689\t0.462047\t18.807\t1.07246e-06\t0.0698167\t0.0671"
       ]
      },
      {
       "output_type": "stream",
       "stream": "stdout",
       "text": [
        "\n",
        "900\t0.354671\t0.35114\t26.3243\t1.97359e-06\t0.0513167\t0.0501"
       ]
      },
      {
       "output_type": "stream",
       "stream": "stdout",
       "text": [
        "\n",
        "1200\t0.309708\t0.309624\t33.8222\t2.91137e-06\t0.0422333\t0.0405"
       ]
      },
      {
       "output_type": "stream",
       "stream": "stdout",
       "text": [
        "\n",
        "1500\t0.282444\t0.279963\t41.3418\t3.70927e-06\t0.0401167\t0.0397"
       ]
      },
      {
       "output_type": "stream",
       "stream": "stdout",
       "text": [
        "\n",
        "1800\t0.286735\t0.280759\t48.8523\t4.38193e-06\t0.0419167\t0.0421"
       ]
      },
      {
       "output_type": "stream",
       "stream": "stdout",
       "text": [
        "\n",
        "2100\t0.273392\t0.274246\t56.4048\t5.00739e-06\t0.03875\t0.0383"
       ]
      },
      {
       "output_type": "stream",
       "stream": "stdout",
       "text": [
        "\n",
        "2400\t0.264781\t0.266842\t63.8866\t5.45928e-06\t0.0375167\t0.0355"
       ]
      },
      {
       "output_type": "stream",
       "stream": "stdout",
       "text": [
        "\n",
        "2700\t0.252064\t0.261905\t71.419\t5.99212e-06\t0.03605\t0.0369"
       ]
      },
      {
       "output_type": "stream",
       "stream": "stdout",
       "text": [
        "\n",
        "3000\t0.244784\t0.254341\t78.9097\t6.32652e-06\t0.0341\t0.0335"
       ]
      },
      {
       "output_type": "stream",
       "stream": "stdout",
       "text": [
        "\n",
        "3300\t0.228994\t0.232388\t86.4192\t6.69426e-06\t0.0324833\t0.0325"
       ]
      },
      {
       "output_type": "stream",
       "stream": "stdout",
       "text": [
        "\n",
        "3600\t0.239172\t0.260134\t93.9168\t6.93174e-06\t0.0348333\t0.0371"
       ]
      },
      {
       "output_type": "stream",
       "stream": "stdout",
       "text": [
        "\n",
        "3900\t0.242169\t0.248119\t101.412\t6.92419e-06\t0.03495\t0.0341"
       ]
      },
      {
       "output_type": "stream",
       "stream": "stdout",
       "text": [
        "\n",
        "4200\t0.237291\t0.254077\t108.9\t7.00483e-06\t0.0345667\t0.0347"
       ]
      },
      {
       "output_type": "stream",
       "stream": "stdout",
       "text": [
        "\n",
        "4500\t0.241221\t0.254753\t116.394\t7.11042e-06\t0.0346167\t0.0346"
       ]
      },
      {
       "output_type": "stream",
       "stream": "stdout",
       "text": [
        "\n",
        "4800\t0.283513\t0.298587\t123.886\t7.10263e-06\t0.0403\t0.0429"
       ]
      },
      {
       "output_type": "stream",
       "stream": "stdout",
       "text": [
        "\n",
        "5100\t0.246534\t0.265871\t131.615\t7.11399e-06\t0.0338333\t0.0351"
       ]
      },
      {
       "output_type": "stream",
       "stream": "stdout",
       "text": [
        "\n",
        "5400\t0.244739\t0.259688\t139.111\t7.18095e-06\t0.03435\t0.0359"
       ]
      },
      {
       "output_type": "stream",
       "stream": "stdout",
       "text": [
        "\n",
        "5700\t0.244139\t0.241688\t146.558\t7.12273e-06\t0.0342167\t0.0335"
       ]
      },
      {
       "output_type": "stream",
       "stream": "stdout",
       "text": [
        "\n",
        "6000\t0.237365\t0.244164\t154.01\t7.02387e-06\t0.0330667\t0.0323"
       ]
      },
      {
       "output_type": "stream",
       "stream": "stdout",
       "text": [
        "\n",
        "6300\t0.22669\t0.238837\t161.482\t6.90862e-06\t0.0316167\t0.0329"
       ]
      },
      {
       "output_type": "stream",
       "stream": "stdout",
       "text": [
        "\n",
        "6600\t0.237737\t0.243049\t168.942\t6.84977e-06\t0.0334\t0.0342"
       ]
      },
      {
       "output_type": "stream",
       "stream": "stdout",
       "text": [
        "\n",
        "6900\t0.224434\t0.226777\t176.374\t6.79439e-06\t0.0317\t0.032"
       ]
      },
      {
       "output_type": "stream",
       "stream": "stdout",
       "text": [
        "\n",
        "7200\t0.235571\t0.245923\t183.81\t6.84234e-06\t0.03295\t0.0342"
       ]
      },
      {
       "output_type": "stream",
       "stream": "stdout",
       "text": [
        "\n",
        "7500\t0.222221\t0.238083\t191.302\t6.92549e-06\t0.03165\t0.034"
       ]
      },
      {
       "output_type": "stream",
       "stream": "stdout",
       "text": [
        "\n",
        "7800\t0.226562\t0.245019\t198.791\t6.93005e-06\t0.03075\t0.0336"
       ]
      },
      {
       "output_type": "stream",
       "stream": "stdout",
       "text": [
        "\n",
        "8100\t0.212393\t0.222827\t206.275\t6.95817e-06\t0.0289167\t0.0295"
       ]
      },
      {
       "output_type": "stream",
       "stream": "stdout",
       "text": [
        "\n",
        "8400\t0.233628\t0.253917\t213.766\t7.05044e-06\t0.0319667\t0.0356"
       ]
      },
      {
       "output_type": "stream",
       "stream": "stdout",
       "text": [
        "\n",
        "8700\t0.227302\t0.241752\t221.196\t7.068e-06\t0.03095\t0.0339"
       ]
      },
      {
       "output_type": "stream",
       "stream": "stdout",
       "text": [
        "\n",
        "9000\t0.225302\t0.223951\t228.65\t7.00851e-06\t0.0304833\t0.0302"
       ]
      },
      {
       "output_type": "stream",
       "stream": "stdout",
       "text": [
        "\n",
        "9300\t0.221394\t0.23141\t236.098\t7.1103e-06\t0.0307833\t0.0314"
       ]
      },
      {
       "output_type": "stream",
       "stream": "stdout",
       "text": [
        "\n",
        "9600\t0.22313\t0.241974\t243.566\t6.99112e-06\t0.03015\t0.0319"
       ]
      },
      {
       "output_type": "stream",
       "stream": "stdout",
       "text": [
        "\n",
        "9900\t0.224955\t0.237829\t251.118\t7.02338e-06\t0.0305333\t0.0337"
       ]
      },
      {
       "output_type": "stream",
       "stream": "stdout",
       "text": [
        "\n",
        "10200\t0.209042\t0.225023\t258.595\t7.05191e-06\t0.0294833\t0.0311"
       ]
      },
      {
       "output_type": "stream",
       "stream": "stdout",
       "text": [
        "\n",
        "10500\t0.203642\t0.224776\t266.066\t7.00059e-06\t0.0281833\t0.0297"
       ]
      },
      {
       "output_type": "stream",
       "stream": "stdout",
       "text": [
        "\n",
        "10800\t0.212441\t0.232836\t273.669\t6.92361e-06\t0.0292\t0.0303"
       ]
      },
      {
       "output_type": "stream",
       "stream": "stdout",
       "text": [
        "\n",
        "11100\t0.202734\t0.231527\t281.146\t6.92863e-06\t0.0281833\t0.0314"
       ]
      },
      {
       "output_type": "stream",
       "stream": "stdout",
       "text": [
        "\n",
        "11400\t0.222167\t0.244223\t288.823\t6.89634e-06\t0.0306167\t0.0323"
       ]
      },
      {
       "output_type": "stream",
       "stream": "stdout",
       "text": [
        "\n",
        "11700\t0.219201\t0.240496\t296.669\t6.73032e-06\t0.0306667\t0.0329"
       ]
      },
      {
       "output_type": "stream",
       "stream": "stdout",
       "text": [
        "\n",
        "12000\t0.203214\t0.234683\t304.662\t6.89305e-06\t0.0284833\t0.0309"
       ]
      },
      {
       "output_type": "stream",
       "stream": "stdout",
       "text": [
        "\n",
        "12300\t0.204799\t0.222136\t312.158\t6.90955e-06\t0.0294\t0.0296"
       ]
      },
      {
       "output_type": "stream",
       "stream": "stdout",
       "text": [
        "\n",
        "12600\t0.212507\t0.231819\t319.63\t6.97954e-06\t0.0288667\t0.0298"
       ]
      },
      {
       "output_type": "stream",
       "stream": "stdout",
       "text": [
        "\n",
        "12900\t0.201576\t0.221334\t327.133\t6.96083e-06\t0.0270333\t0.028"
       ]
      },
      {
       "output_type": "stream",
       "stream": "stdout",
       "text": [
        "\n",
        "13200\t0.210608\t0.232062\t335.149\t6.89658e-06\t0.02855\t0.031"
       ]
      },
      {
       "output_type": "stream",
       "stream": "stdout",
       "text": [
        "\n",
        "13500\t0.188479\t0.208078\t342.816\t6.83321e-06\t0.02635\t0.0271"
       ]
      },
      {
       "output_type": "stream",
       "stream": "stdout",
       "text": [
        "\n",
        "13800\t0.226393\t0.240364\t350.477\t6.94571e-06\t0.0307833\t0.0321"
       ]
      },
      {
       "output_type": "stream",
       "stream": "stdout",
       "text": [
        "\n",
        "14100\t0.230225\t0.242768\t357.985\t7.01239e-06\t0.0316833\t0.0328"
       ]
      },
      {
       "output_type": "stream",
       "stream": "stdout",
       "text": [
        "\n",
        "14400\t0.210515\t0.227896\t365.525\t7.01326e-06\t0.0294333\t0.0319"
       ]
      },
      {
       "output_type": "stream",
       "stream": "stdout",
       "text": [
        "\n",
        "14700\t0.212518\t0.227798\t373.174\t7.07881e-06\t0.0285333\t0.0298"
       ]
      },
      {
       "output_type": "stream",
       "stream": "stdout",
       "text": [
        "\n",
        "15000\t0.193344\t0.207\t380.726\t7.0241e-06\t0.0264667\t0.0277"
       ]
      },
      {
       "output_type": "stream",
       "stream": "stdout",
       "text": [
        "\n",
        "15300\t0.206089\t0.2265\t388.307\t7.08372e-06\t0.028\t0.0304"
       ]
      },
      {
       "output_type": "stream",
       "stream": "stdout",
       "text": [
        "\n",
        "15600\t0.196692\t0.203472\t395.882\t6.97807e-06\t0.0268\t0.0282"
       ]
      },
      {
       "output_type": "stream",
       "stream": "stdout",
       "text": [
        "\n",
        "15900\t0.194984\t0.213615\t403.507\t6.96683e-06\t0.02715\t0.0289"
       ]
      },
      {
       "output_type": "stream",
       "stream": "stdout",
       "text": [
        "\n",
        "16200\t0.195928\t0.210434\t411.188\t6.87441e-06\t0.0271333\t0.0291"
       ]
      },
      {
       "output_type": "stream",
       "stream": "stdout",
       "text": [
        "\n",
        "16500\t0.225258\t0.237291\t418.835\t6.92155e-06\t0.0314167\t0.0329"
       ]
      },
      {
       "output_type": "stream",
       "stream": "stdout",
       "text": [
        "\n",
        "16800\t0.198685\t0.212316\t426.519\t6.92145e-06\t0.0266833\t0.0282"
       ]
      },
      {
       "output_type": "stream",
       "stream": "stdout",
       "text": [
        "\n",
        "17100\t0.186996\t0.202652\t434.222\t6.89149e-06\t0.02525\t0.027"
       ]
      },
      {
       "output_type": "stream",
       "stream": "stdout",
       "text": [
        "\n",
        "17400\t0.206068\t0.222874\t441.947\t7.01197e-06\t0.0266833\t0.0284"
       ]
      },
      {
       "output_type": "stream",
       "stream": "stdout",
       "text": [
        "\n",
        "17700\t0.187505\t0.214416\t449.652\t7.02383e-06\t0.0251667\t0.0281"
       ]
      },
      {
       "output_type": "stream",
       "stream": "stdout",
       "text": [
        "\n",
        "18000\t0.191357\t0.206181\t457.401\t7.02272e-06\t0.02505\t0.027"
       ]
      },
      {
       "output_type": "stream",
       "stream": "stdout",
       "text": [
        "\n",
        "18300\t0.182768\t0.213427\t465.23\t6.85251e-06\t0.0253\t0.0281"
       ]
      },
      {
       "output_type": "stream",
       "stream": "stdout",
       "text": [
        "\n",
        "18600\t0.192911\t0.224163\t473.766\t6.90264e-06\t0.0264833\t0.0298"
       ]
      },
      {
       "output_type": "stream",
       "stream": "stdout",
       "text": [
        "\n",
        "18900\t0.19243\t0.224106\t481.656\t6.93377e-06\t0.02605\t0.0287"
       ]
      },
      {
       "output_type": "stream",
       "stream": "stdout",
       "text": [
        "\n",
        "19200\t0.196695\t0.225883\t489.475\t6.88476e-06\t0.0271167\t0.0318"
       ]
      },
      {
       "output_type": "stream",
       "stream": "stdout",
       "text": [
        "\n",
        "19500\t0.195797\t0.214885\t497.351\t6.78424e-06\t0.0257333\t0.0285"
       ]
      },
      {
       "output_type": "stream",
       "stream": "stdout",
       "text": [
        "\n",
        "19800\t0.196427\t0.220533\t505.578\t6.83129e-06\t0.0263167\t0.0293"
       ]
      },
      {
       "output_type": "stream",
       "stream": "stdout",
       "text": [
        "\n",
        "20100\t0.185873\t0.21251\t514.073\t6.89946e-06\t0.02565\t0.0286"
       ]
      },
      {
       "output_type": "stream",
       "stream": "stdout",
       "text": [
        "\n",
        "20400\t0.18056\t0.210184\t522.006\t6.93241e-06\t0.02455\t0.0294"
       ]
      },
      {
       "output_type": "stream",
       "stream": "stdout",
       "text": [
        "\n",
        "20700\t0.18682\t0.232625\t529.925\t6.87158e-06\t0.02505\t0.0292"
       ]
      },
      {
       "output_type": "stream",
       "stream": "stdout",
       "text": [
        "\n",
        "21000\t0.184215\t0.211236\t537.928\t6.6789e-06\t0.0250333\t0.0275"
       ]
      },
      {
       "output_type": "stream",
       "stream": "stdout",
       "text": [
        "\n",
        "21300\t0.171246\t0.188571\t546.178\t6.74547e-06\t0.0231167\t0.0263"
       ]
      },
      {
       "output_type": "stream",
       "stream": "stdout",
       "text": [
        "\n",
        "21600\t0.169571\t0.191875\t554.273\t6.79807e-06\t0.0238667\t0.0259"
       ]
      },
      {
       "output_type": "stream",
       "stream": "stdout",
       "text": [
        "\n",
        "21900\t0.186047\t0.219531\t562.408\t6.73762e-06\t0.0241667\t0.0282"
       ]
      },
      {
       "output_type": "stream",
       "stream": "stdout",
       "text": [
        "\n",
        "22200\t0.176178\t0.207866\t570.61\t6.63404e-06\t0.0236\t0.0277"
       ]
      },
      {
       "output_type": "stream",
       "stream": "stdout",
       "text": [
        "\n",
        "22500\t0.18377\t0.206597\t578.822\t6.61929e-06\t0.02525\t0.0268"
       ]
      },
      {
       "output_type": "stream",
       "stream": "stdout",
       "text": [
        "\n",
        "22800\t0.172926\t0.196711\t587.122\t6.61261e-06\t0.0234833\t0.0256"
       ]
      },
      {
       "output_type": "stream",
       "stream": "stdout",
       "text": [
        "\n",
        "23100\t0.197801\t0.21652\t595.406\t6.69306e-06\t0.0261333\t0.0273"
       ]
      },
      {
       "output_type": "stream",
       "stream": "stdout",
       "text": [
        "\n",
        "23400\t0.175169\t0.195493\t603.692\t6.7497e-06\t0.0238167\t0.0253"
       ]
      },
      {
       "output_type": "stream",
       "stream": "stdout",
       "text": [
        "\n",
        "23700\t0.169058\t0.19114\t612.203\t6.58851e-06\t0.0229\t0.0253"
       ]
      },
      {
       "output_type": "stream",
       "stream": "stdout",
       "text": [
        "\n",
        "24000\t0.162242\t0.195309\t620.944\t6.58222e-06\t0.0218667\t0.0258"
       ]
      },
      {
       "output_type": "stream",
       "stream": "stdout",
       "text": [
        "\n",
        "24300\t0.177341\t0.214045\t629.657\t6.63455e-06\t0.0231333\t0.0276"
       ]
      },
      {
       "output_type": "stream",
       "stream": "stdout",
       "text": [
        "\n",
        "24600\t0.159578\t0.199033\t638.512\t6.44314e-06\t0.02165\t0.0268"
       ]
      },
      {
       "output_type": "stream",
       "stream": "stdout",
       "text": [
        "\n",
        "24900\t0.160502\t0.196467\t647.125\t6.53191e-06\t0.0222167\t0.0254"
       ]
      },
      {
       "output_type": "stream",
       "stream": "stdout",
       "text": [
        "\n",
        "25200\t0.161731\t0.192619\t655.622\t6.52708e-06\t0.0222833\t0.025"
       ]
      },
      {
       "output_type": "stream",
       "stream": "stdout",
       "text": [
        "\n",
        "25500\t0.174977\t0.209612\t664.211\t6.45229e-06\t0.02385\t0.0284"
       ]
      },
      {
       "output_type": "stream",
       "stream": "stdout",
       "text": [
        "\n",
        "25800\t0.162045\t0.182312\t672.836\t6.34706e-06\t0.0221833\t0.0241"
       ]
      },
      {
       "output_type": "stream",
       "stream": "stdout",
       "text": [
        "\n",
        "26100\t0.167263\t0.205821\t681.599\t6.30147e-06\t0.0218\t0.0265"
       ]
      },
      {
       "output_type": "stream",
       "stream": "stdout",
       "text": [
        "\n",
        "26400\t0.156421\t0.184132\t690.502\t6.22132e-06\t0.0217\t0.0251"
       ]
      },
      {
       "output_type": "stream",
       "stream": "stdout",
       "text": [
        "\n",
        "26700\t0.167052\t0.191256\t699.297\t6.3021e-06\t0.02225\t0.026"
       ]
      },
      {
       "output_type": "stream",
       "stream": "stdout",
       "text": [
        "\n",
        "27000\t0.163136\t0.196134\t708.308\t6.34252e-06\t0.0224\t0.026"
       ]
      },
      {
       "output_type": "stream",
       "stream": "stdout",
       "text": [
        "\n",
        "27300\t0.154459\t0.192033\t717.322\t6.41567e-06\t0.02105\t0.0264"
       ]
      },
      {
       "output_type": "stream",
       "stream": "stdout",
       "text": [
        "\n",
        "27600\t0.157471\t0.185948\t726.327\t6.43902e-06\t0.0222167\t0.0265"
       ]
      },
      {
       "output_type": "stream",
       "stream": "stdout",
       "text": [
        "\n",
        "27900\t0.157221\t0.195002\t735.536\t6.41149e-06\t0.0214167\t0.0252"
       ]
      },
      {
       "output_type": "stream",
       "stream": "stdout",
       "text": [
        "\n",
        "28200\t0.162382\t0.197474\t744.861\t6.40548e-06\t0.0227167\t0.0269"
       ]
      },
      {
       "output_type": "stream",
       "stream": "stdout",
       "text": [
        "\n",
        "28500\t0.165759\t0.20101\t753.919\t6.44069e-06\t0.02265\t0.0261"
       ]
      },
      {
       "output_type": "stream",
       "stream": "stdout",
       "text": [
        "\n",
        "28800\t0.14408\t0.183183\t762.806\t6.27376e-06\t0.02005\t0.0252"
       ]
      },
      {
       "output_type": "stream",
       "stream": "stdout",
       "text": [
        "\n",
        "29100\t0.147958\t0.182503\t771.759\t6.32721e-06\t0.0206\t0.0242"
       ]
      },
      {
       "output_type": "stream",
       "stream": "stdout",
       "text": [
        "\n",
        "29400\t0.141229\t0.176583\t780.801\t6.34901e-06\t0.0193\t0.0239"
       ]
      },
      {
       "output_type": "stream",
       "stream": "stdout",
       "text": [
        "\n",
        "29700\t0.137285\t0.180987\t789.755\t6.37917e-06\t0.01865\t0.0232"
       ]
      },
      {
       "output_type": "stream",
       "stream": "stdout",
       "text": [
        "\n",
        "30000\t0.146164\t0.18249\t798.753\t6.43981e-06\t0.0200833\t0.0233"
       ]
      },
      {
       "output_type": "stream",
       "stream": "stdout",
       "text": [
        "\n",
        "30300\t0.148928\t0.187356\t807.903\t6.36464e-06\t0.0193167\t0.0216"
       ]
      },
      {
       "output_type": "stream",
       "stream": "stdout",
       "text": [
        "\n",
        "30600\t0.148472\t0.176636\t817.166\t6.41089e-06\t0.01935\t0.0226"
       ]
      },
      {
       "output_type": "stream",
       "stream": "stdout",
       "text": [
        "\n",
        "30900\t0.142744\t0.19003\t827.106\t6.34428e-06\t0.0197167\t0.023"
       ]
      },
      {
       "output_type": "stream",
       "stream": "stdout",
       "text": [
        "\n",
        "31200\t0.154096\t0.194102\t836.308\t6.30014e-06\t0.0205167\t0.0255"
       ]
      },
      {
       "output_type": "stream",
       "stream": "stdout",
       "text": [
        "\n",
        "31500\t0.144126\t0.177584\t845.504\t6.37011e-06\t0.0189333\t0.0223"
       ]
      },
      {
       "output_type": "stream",
       "stream": "stdout",
       "text": [
        "\n",
        "31800\t0.147077\t0.207207\t855.74\t6.3851e-06\t0.0203167\t0.0246"
       ]
      },
      {
       "output_type": "stream",
       "stream": "stdout",
       "text": [
        "\n",
        "32100\t0.142448\t0.180207\t865.02\t6.49273e-06\t0.0191167\t0.0213"
       ]
      },
      {
       "output_type": "stream",
       "stream": "stdout",
       "text": [
        "\n",
        "32400\t0.138134\t0.177245\t874.584\t6.45934e-06\t0.0188667\t0.0234"
       ]
      },
      {
       "output_type": "stream",
       "stream": "stdout",
       "text": [
        "\n",
        "32700\t0.138793\t0.171839\t884.298\t6.38729e-06\t0.0188833\t0.0222"
       ]
      },
      {
       "output_type": "stream",
       "stream": "stdout",
       "text": [
        "\n",
        "33000\t0.147943\t0.176991\t893.999\t6.43576e-06\t0.02\t0.0211"
       ]
      },
      {
       "output_type": "stream",
       "stream": "stdout",
       "text": [
        "\n",
        "33300\t0.133233\t0.171977\t903.342\t6.38172e-06\t0.01815\t0.0225"
       ]
      },
      {
       "output_type": "stream",
       "stream": "stdout",
       "text": [
        "\n",
        "33600\t0.14466\t0.180675\t912.834\t6.23346e-06\t0.0194833\t0.0208"
       ]
      },
      {
       "output_type": "stream",
       "stream": "stdout",
       "text": [
        "\n",
        "33900\t0.140343\t0.170661\t922.38\t6.25464e-06\t0.0192833\t0.0211"
       ]
      },
      {
       "output_type": "stream",
       "stream": "stdout",
       "text": [
        "\n",
        "34200\t0.139931\t0.180116\t931.836\t6.3102e-06\t0.0185167\t0.0223"
       ]
      },
      {
       "output_type": "stream",
       "stream": "stdout",
       "text": [
        "\n",
        "34500\t0.139065\t0.174566\t941.398\t6.18236e-06\t0.0184167\t0.0205"
       ]
      },
      {
       "output_type": "stream",
       "stream": "stdout",
       "text": [
        "\n",
        "34800\t0.12569\t0.16142\t951.167\t6.13716e-06\t0.0165\t0.0185"
       ]
      },
      {
       "output_type": "stream",
       "stream": "stdout",
       "text": [
        "\n",
        "35100\t0.129462\t0.164149\t960.764\t6.16357e-06\t0.0177667\t0.0188"
       ]
      },
      {
       "output_type": "stream",
       "stream": "stdout",
       "text": [
        "\n",
        "35400\t0.141682\t0.177774\t970.5\t6.15199e-06\t0.0178\t0.0215"
       ]
      },
      {
       "output_type": "stream",
       "stream": "stdout",
       "text": [
        "\n",
        "35700\t0.131067\t0.163296\t980.298\t6.07711e-06\t0.01815\t0.022"
       ]
      },
      {
       "output_type": "stream",
       "stream": "stdout",
       "text": [
        "\n",
        "36000\t0.141956\t0.179328\t989.874\t6.17674e-06\t0.0189833\t0.0213"
       ]
      },
      {
       "output_type": "stream",
       "stream": "stdout",
       "text": [
        "\n",
        "36300\t0.129428\t0.174742\t999.541\t6.07001e-06\t0.0174667\t0.0222"
       ]
      },
      {
       "output_type": "stream",
       "stream": "stdout",
       "text": [
        "\n",
        "36600\t0.119938\t0.165162\t1009.28\t6.12748e-06\t0.0165167\t0.0192"
       ]
      },
      {
       "output_type": "stream",
       "stream": "stdout",
       "text": [
        "\n",
        "36900\t0.116602\t0.155252\t1018.9\t6.15484e-06\t0.0154833\t0.0185"
       ]
      },
      {
       "output_type": "stream",
       "stream": "stdout",
       "text": [
        "\n",
        "37200\t0.121595\t0.180217\t1028.59\t6.18691e-06\t0.0160167\t0.021"
       ]
      },
      {
       "output_type": "stream",
       "stream": "stdout",
       "text": [
        "\n",
        "37500\t0.128472\t0.183876\t1038.36\t6.05058e-06\t0.0175333\t0.0233"
       ]
      },
      {
       "output_type": "stream",
       "stream": "stdout",
       "text": [
        "\n",
        "37800\t0.124613\t0.178958\t1048.14\t6.11117e-06\t0.0167833\t0.0227"
       ]
      },
      {
       "output_type": "stream",
       "stream": "stdout",
       "text": [
        "\n",
        "38100\t0.129049\t0.179722\t1057.98\t6.06614e-06\t0.01685\t0.0212"
       ]
      },
      {
       "output_type": "stream",
       "stream": "stdout",
       "text": [
        "\n",
        "38400\t0.121384\t0.174053\t1067.84\t6.08503e-06\t0.0161833\t0.0211"
       ]
      },
      {
       "output_type": "stream",
       "stream": "stdout",
       "text": [
        "\n",
        "38700\t0.121063\t0.177604\t1077.67\t6.13809e-06\t0.0163\t0.0225"
       ]
      },
      {
       "output_type": "stream",
       "stream": "stdout",
       "text": [
        "\n",
        "39000\t0.117069\t0.170736\t1087.51\t6.15802e-06\t0.01605\t0.022"
       ]
      },
      {
       "output_type": "stream",
       "stream": "stdout",
       "text": [
        "\n",
        "39300\t0.113455\t0.167185\t1097.33\t6.16525e-06\t0.0154167\t0.0212"
       ]
      },
      {
       "output_type": "stream",
       "stream": "stdout",
       "text": [
        "\n",
        "39600\t0.115758\t0.162731\t1107.16\t6.15056e-06\t0.0152833\t0.0212"
       ]
      },
      {
       "output_type": "stream",
       "stream": "stdout",
       "text": [
        "\n",
        "39900\t0.11801\t0.173447\t1116.96\t6.20394e-06\t0.0152667\t0.0211"
       ]
      },
      {
       "output_type": "stream",
       "stream": "stdout",
       "text": [
        "\n",
        "40200\t0.123024\t0.173547\t1126.91\t6.13827e-06\t0.0159833\t0.0191"
       ]
      },
      {
       "output_type": "stream",
       "stream": "stdout",
       "text": [
        "\n",
        "40500\t0.120405\t0.166851\t1136.84\t6.12859e-06\t0.0157333\t0.02"
       ]
      },
      {
       "output_type": "stream",
       "stream": "stdout",
       "text": [
        "\n",
        "40800\t0.122299\t0.180328\t1147.02\t6.11025e-06\t0.0154333\t0.0203"
       ]
      },
      {
       "output_type": "stream",
       "stream": "stdout",
       "text": [
        "\n",
        "41100\t0.120527\t0.171624\t1157.33\t6.1136e-06\t0.01575\t0.0192"
       ]
      },
      {
       "output_type": "stream",
       "stream": "stdout",
       "text": [
        "\n",
        "41400\t0.108695\t0.156566\t1167.97\t6.15332e-06\t0.01405\t0.019"
       ]
      },
      {
       "output_type": "stream",
       "stream": "stdout",
       "text": [
        "\n",
        "41700\t0.118559\t0.17199\t1178.9\t6.03971e-06\t0.0158833\t0.0205"
       ]
      },
      {
       "output_type": "stream",
       "stream": "stdout",
       "text": [
        "\n",
        "42000\t0.108617\t0.15116\t1189.72\t6.09171e-06\t0.0141\t0.0183"
       ]
      },
      {
       "output_type": "stream",
       "stream": "stdout",
       "text": [
        "\n",
        "42300\t0.0976735\t0.150181\t1200.22\t6.01176e-06\t0.0135167\t0.0183"
       ]
      },
      {
       "output_type": "stream",
       "stream": "stdout",
       "text": [
        "\n",
        "42600\t0.110967\t0.171041\t1210.81\t5.98203e-06\t0.0149833\t0.0213"
       ]
      },
      {
       "output_type": "stream",
       "stream": "stdout",
       "text": [
        "\n",
        "42900\t0.109399\t0.163354\t1220.99\t6.00934e-06\t0.0140833\t0.0199"
       ]
      },
      {
       "output_type": "stream",
       "stream": "stdout",
       "text": [
        "\n",
        "43200\t0.1097\t0.168583\t1231.25\t6.09911e-06\t0.01495\t0.0215"
       ]
      },
      {
       "output_type": "stream",
       "stream": "stdout",
       "text": [
        "\n",
        "43500\t0.100048\t0.152821\t1241.45\t6.0968e-06\t0.0133833\t0.0186"
       ]
      },
      {
       "output_type": "stream",
       "stream": "stdout",
       "text": [
        "\n",
        "43800\t0.103425\t0.159458\t1251.65\t6.11802e-06\t0.0137333\t0.0181"
       ]
      },
      {
       "output_type": "stream",
       "stream": "stdout",
       "text": [
        "\n",
        "44100\t0.11075\t0.159818\t1261.76\t6.13199e-06\t0.0140667\t0.0185"
       ]
      },
      {
       "output_type": "stream",
       "stream": "stdout",
       "text": [
        "\n",
        "44400\t0.0998941\t0.148132\t1271.88\t6.11002e-06\t0.0132333\t0.0166"
       ]
      },
      {
       "output_type": "stream",
       "stream": "stdout",
       "text": [
        "\n",
        "44700\t0.10131\t0.17768\t1282.1\t6.10447e-06\t0.0132667\t0.021"
       ]
      },
      {
       "output_type": "stream",
       "stream": "stdout",
       "text": [
        "\n",
        "45000\t0.117498\t0.171375\t1292.59\t6.03366e-06\t0.0149\t0.0198"
       ]
      },
      {
       "output_type": "stream",
       "stream": "stdout",
       "text": [
        "\n",
        "45300\t0.0971147\t0.154982\t1302.97\t5.98836e-06\t0.0127667\t0.0181"
       ]
      },
      {
       "output_type": "stream",
       "stream": "stdout",
       "text": [
        "\n",
        "45600\t0.101401\t0.158169\t1313.11\t6.13709e-06\t0.0135\t0.0183"
       ]
      },
      {
       "output_type": "stream",
       "stream": "stdout",
       "text": [
        "\n",
        "45900\t0.0959273\t0.158567\t1323.19\t6.21776e-06\t0.0124\t0.0177"
       ]
      },
      {
       "output_type": "stream",
       "stream": "stdout",
       "text": [
        "\n",
        "46200\t0.0918949\t0.162545\t1333.21\t6.20881e-06\t0.0119333\t0.0166"
       ]
      },
      {
       "output_type": "stream",
       "stream": "stdout",
       "text": [
        "\n",
        "46500\t0.0908943\t0.149047\t1343.46\t6.17458e-06\t0.0121333\t0.017"
       ]
      },
      {
       "output_type": "stream",
       "stream": "stdout",
       "text": [
        "\n",
        "46800\t0.10122\t0.16191\t1353.61\t6.19285e-06\t0.0129\t0.0175"
       ]
      },
      {
       "output_type": "stream",
       "stream": "stdout",
       "text": [
        "\n",
        "47100\t0.0910362\t0.145093\t1363.76\t6.03766e-06\t0.0120667\t0.0173"
       ]
      },
      {
       "output_type": "stream",
       "stream": "stdout",
       "text": [
        "\n",
        "47400\t0.0942408\t0.146532\t1373.95\t6.1961e-06\t0.01245\t0.0175"
       ]
      },
      {
       "output_type": "stream",
       "stream": "stdout",
       "text": [
        "\n",
        "47700\t0.0945487\t0.146349\t1384.33\t6.07813e-06\t0.01205\t0.0162"
       ]
      },
      {
       "output_type": "stream",
       "stream": "stdout",
       "text": [
        "\n",
        "48000\t0.097721\t0.159701\t1394.81\t6.15085e-06\t0.0127667\t0.0172"
       ]
      },
      {
       "output_type": "stream",
       "stream": "stdout",
       "text": [
        "\n",
        "48300\t0.092945\t0.162855\t1404.92\t6.2281e-06\t0.01245\t0.0173"
       ]
      },
      {
       "output_type": "stream",
       "stream": "stdout",
       "text": [
        "\n",
        "48600\t0.0918936\t0.161865\t1415.48\t6.31392e-06\t0.0117667\t0.0168"
       ]
      },
      {
       "output_type": "stream",
       "stream": "stdout",
       "text": [
        "\n",
        "48900\t0.0879453\t0.156828\t1425.93\t6.32095e-06\t0.0110667\t0.0163"
       ]
      },
      {
       "output_type": "stream",
       "stream": "stdout",
       "text": [
        "\n",
        "49200\t0.0868478\t0.155096\t1436.35\t6.37947e-06\t0.0117333\t0.0179"
       ]
      },
      {
       "output_type": "stream",
       "stream": "stdout",
       "text": [
        "\n",
        "49500\t0.0872105\t0.156337\t1446.53\t6.34452e-06\t0.0113167\t0.0161"
       ]
      },
      {
       "output_type": "stream",
       "stream": "stdout",
       "text": [
        "\n",
        "49800\t0.079582\t0.137238\t1456.68\t6.39939e-06\t0.0100667\t0.0152"
       ]
      },
      {
       "output_type": "stream",
       "stream": "stdout",
       "text": [
        "\n",
        "50100\t0.0824645\t0.148559\t1467.35\t6.39335e-06\t0.01055\t0.0163"
       ]
      },
      {
       "output_type": "stream",
       "stream": "stdout",
       "text": [
        "\n",
        "50400\t0.0830282\t0.146037\t1477.68\t6.26067e-06\t0.0109667\t0.0165"
       ]
      },
      {
       "output_type": "stream",
       "stream": "stdout",
       "text": [
        "\n",
        "50700\t0.0879963\t0.171335\t1488\t6.40123e-06\t0.0113\t0.018"
       ]
      },
      {
       "output_type": "stream",
       "stream": "stdout",
       "text": [
        "\n",
        "51000\t0.0860755\t0.157427\t1498.62\t6.38689e-06\t0.01115\t0.0176"
       ]
      },
      {
       "output_type": "stream",
       "stream": "stdout",
       "text": [
        "\n",
        "51300\t0.0881976\t0.160235\t1509.13\t6.35364e-06\t0.0114833\t0.0172"
       ]
      },
      {
       "output_type": "stream",
       "stream": "stdout",
       "text": [
        "\n",
        "51600\t0.0793812\t0.155605\t1519.39\t6.31421e-06\t0.0103833\t0.0172"
       ]
      },
      {
       "output_type": "stream",
       "stream": "stdout",
       "text": [
        "\n",
        "51900\t0.079397\t0.157091\t1529.87\t6.24078e-06\t0.0103833\t0.0171"
       ]
      },
      {
       "output_type": "stream",
       "stream": "stdout",
       "text": [
        "\n",
        "52200\t0.0833045\t0.153355\t1540.19\t6.22578e-06\t0.0104833\t0.016"
       ]
      },
      {
       "output_type": "stream",
       "stream": "stdout",
       "text": [
        "\n",
        "52500\t0.0790294\t0.153277\t1551.12\t6.20479e-06\t0.0101\t0.0158"
       ]
      },
      {
       "output_type": "stream",
       "stream": "stdout",
       "text": [
        "\n",
        "52800\t0.0774734\t0.151401\t1561.49\t6.13224e-06\t0.0103333\t0.017"
       ]
      },
      {
       "output_type": "stream",
       "stream": "stdout",
       "text": [
        "\n",
        "53100\t0.0735005\t0.154771\t1571.82\t6.17878e-06\t0.00965\t0.0165"
       ]
      },
      {
       "output_type": "stream",
       "stream": "stdout",
       "text": [
        "\n",
        "53400\t0.0744641\t0.143799\t1582.14\t6.23959e-06\t0.00976667\t0.0156"
       ]
      },
      {
       "output_type": "stream",
       "stream": "stdout",
       "text": [
        "\n",
        "53700\t0.0776229\t0.148467\t1592.49\t6.36249e-06\t0.0099\t0.0156"
       ]
      },
      {
       "output_type": "stream",
       "stream": "stdout",
       "text": [
        "\n",
        "54000\t0.0822192\t0.168106\t1602.92\t6.35045e-06\t0.0101333\t0.0172"
       ]
      },
      {
       "output_type": "stream",
       "stream": "stdout",
       "text": [
        "\n",
        "54300\t0.0715336\t0.145951\t1613.22\t6.32326e-06\t0.00926667\t0.0156"
       ]
      },
      {
       "output_type": "stream",
       "stream": "stdout",
       "text": [
        "\n",
        "54600\t0.0675314\t0.137261\t1623.57\t6.31634e-06\t0.00858333\t0.0153"
       ]
      },
      {
       "output_type": "stream",
       "stream": "stdout",
       "text": [
        "\n",
        "54900\t0.0812586\t0.153859\t1633.63\t6.28421e-06\t0.0101167\t0.0157"
       ]
      },
      {
       "output_type": "stream",
       "stream": "stdout",
       "text": [
        "\n",
        "55200\t0.0650701\t0.14744\t1643.61\t6.26408e-06\t0.00853333\t0.0163"
       ]
      },
      {
       "output_type": "stream",
       "stream": "stdout",
       "text": [
        "\n",
        "55500\t0.068295\t0.154748\t1653.66\t6.31576e-06\t0.00845\t0.0169"
       ]
      },
      {
       "output_type": "stream",
       "stream": "stdout",
       "text": [
        "\n",
        "55800\t0.0620699\t0.152695\t1663.74\t6.33287e-06\t0.0082\t0.0162"
       ]
      },
      {
       "output_type": "stream",
       "stream": "stdout",
       "text": [
        "\n",
        "56100\t0.064313\t0.140622\t1673.98\t6.29878e-06\t0.00836667\t0.0151"
       ]
      },
      {
       "output_type": "stream",
       "stream": "stdout",
       "text": [
        "\n",
        "56400\t0.0688575\t0.148049\t1684.25\t6.40682e-06\t0.00871667\t0.0156"
       ]
      },
      {
       "output_type": "stream",
       "stream": "stdout",
       "text": [
        "\n",
        "56700\t0.0597464\t0.143032\t1694.62\t6.33212e-06\t0.00803333\t0.0151"
       ]
      },
      {
       "output_type": "stream",
       "stream": "stdout",
       "text": [
        "\n",
        "57000\t0.0617132\t0.143821\t1705.18\t6.37108e-06\t0.00828333\t0.0149"
       ]
      },
      {
       "output_type": "stream",
       "stream": "stdout",
       "text": [
        "\n",
        "57300\t0.0580591\t0.142394\t1715.43\t6.39729e-06\t0.00766667\t0.0156"
       ]
      },
      {
       "output_type": "stream",
       "stream": "stdout",
       "text": [
        "\n",
        "57600\t0.057997\t0.135959\t1725.59\t6.34203e-06\t0.00768333\t0.0152"
       ]
      },
      {
       "output_type": "stream",
       "stream": "stdout",
       "text": [
        "\n",
        "57900\t0.0604922\t0.150014\t1735.91\t6.40657e-06\t0.00773333\t0.0157"
       ]
      },
      {
       "output_type": "stream",
       "stream": "stdout",
       "text": [
        "\n",
        "58200\t0.0588987\t0.142423\t1746.5\t6.37859e-06\t0.00745\t0.0143"
       ]
      },
      {
       "output_type": "stream",
       "stream": "stdout",
       "text": [
        "\n",
        "58500\t0.0610151\t0.148327\t1756.75\t6.44489e-06\t0.00786667\t0.0159"
       ]
      },
      {
       "output_type": "stream",
       "stream": "stdout",
       "text": [
        "\n",
        "58800\t0.0575464\t0.153669\t1767.14\t6.49892e-06\t0.00718333\t0.0163"
       ]
      },
      {
       "output_type": "stream",
       "stream": "stdout",
       "text": [
        "\n",
        "59100\t0.059149\t0.132992\t1777.41\t6.48435e-06\t0.00748333\t0.0151"
       ]
      },
      {
       "output_type": "stream",
       "stream": "stdout",
       "text": [
        "\n",
        "59400\t0.053726\t0.139828\t1787.47\t6.50026e-06\t0.00706667\t0.0154"
       ]
      },
      {
       "output_type": "stream",
       "stream": "stdout",
       "text": [
        "\n",
        "59700\t0.0584399\t0.164609\t1797.58\t6.526e-06\t0.00708333\t0.0152"
       ]
      },
      {
       "output_type": "stream",
       "stream": "stdout",
       "text": [
        "\n",
        "60000\t0.0542653\t0.148531\t1807.55\t6.31791e-06\t0.00716667\t0.0146"
       ]
      },
      {
       "output_type": "stream",
       "stream": "stdout",
       "text": [
        "\n",
        "60300\t0.0582333\t0.14516\t1817.64\t6.42754e-06\t0.00733333\t0.0165"
       ]
      },
      {
       "output_type": "stream",
       "stream": "stdout",
       "text": [
        "\n",
        "60600\t0.0570883\t0.146181\t1827.7\t6.50593e-06\t0.00726667\t0.0138"
       ]
      },
      {
       "output_type": "stream",
       "stream": "stdout",
       "text": [
        "\n",
        "60900\t0.0495644\t0.153604\t1838.39\t6.36764e-06\t0.00616667\t0.0151"
       ]
      },
      {
       "output_type": "stream",
       "stream": "stdout",
       "text": [
        "\n",
        "61200\t0.0554389\t0.155491\t1848.48\t6.32747e-06\t0.00705\t0.0153"
       ]
      },
      {
       "output_type": "stream",
       "stream": "stdout",
       "text": [
        "\n",
        "61500\t0.0509373\t0.131789\t1858.65\t6.28e-06\t0.00686667\t0.0139"
       ]
      },
      {
       "output_type": "stream",
       "stream": "stdout",
       "text": [
        "\n",
        "61800\t0.0513504\t0.144638\t1868.67\t6.34352e-06\t0.00676667\t0.0147"
       ]
      },
      {
       "output_type": "stream",
       "stream": "stdout",
       "text": [
        "\n",
        "62100\t0.0449858\t0.132873\t1878.67\t6.33886e-06\t0.00553333\t0.0142"
       ]
      },
      {
       "output_type": "stream",
       "stream": "stdout",
       "text": [
        "\n",
        "62400\t0.0487647\t0.145862\t1888.62\t6.40391e-06\t0.00618333\t0.014"
       ]
      },
      {
       "output_type": "stream",
       "stream": "stdout",
       "text": [
        "\n",
        "62700\t0.0511193\t0.149888\t1898.69\t6.36206e-06\t0.00625\t0.0152"
       ]
      },
      {
       "output_type": "stream",
       "stream": "stdout",
       "text": [
        "\n",
        "63000\t0.0499167\t0.146568\t1908.74\t6.39692e-06\t0.00635\t0.0144"
       ]
      },
      {
       "output_type": "stream",
       "stream": "stdout",
       "text": [
        "\n",
        "63300\t0.0502354\t0.154382\t1918.81\t6.33731e-06\t0.00623333\t0.0151"
       ]
      },
      {
       "output_type": "stream",
       "stream": "stdout",
       "text": [
        "\n",
        "63600\t0.0445942\t0.131876\t1928.83\t6.30327e-06\t0.00593333\t0.0142"
       ]
      },
      {
       "output_type": "stream",
       "stream": "stdout",
       "text": [
        "\n",
        "63900\t0.0483063\t0.139828\t1938.93\t6.45201e-06\t0.00616667\t0.0133"
       ]
      },
      {
       "output_type": "stream",
       "stream": "stdout",
       "text": [
        "\n",
        "64200\t0.0441321\t0.153215\t1949.22\t6.47375e-06\t0.00556667\t0.0139"
       ]
      },
      {
       "output_type": "stream",
       "stream": "stdout",
       "text": [
        "\n",
        "64500\t0.0474026\t0.146838\t1959.33\t6.39035e-06\t0.00606667\t0.0145"
       ]
      },
      {
       "output_type": "stream",
       "stream": "stdout",
       "text": [
        "\n",
        "64800\t0.0467459\t0.163471\t1969.28\t6.45469e-06\t0.0059\t0.0152"
       ]
      },
      {
       "output_type": "stream",
       "stream": "stdout",
       "text": [
        "\n",
        "65100\t0.0447962\t0.147446\t1979.27\t6.34835e-06\t0.0057\t0.0152"
       ]
      },
      {
       "output_type": "stream",
       "stream": "stdout",
       "text": [
        "\n",
        "65400\t0.0436248\t0.152152\t1989.29\t6.33066e-06\t0.00525\t0.0156"
       ]
      },
      {
       "output_type": "stream",
       "stream": "stdout",
       "text": [
        "\n",
        "65700\t0.040206\t0.156542\t1999.53\t6.22112e-06\t0.00493333\t0.0157"
       ]
      },
      {
       "output_type": "stream",
       "stream": "stdout",
       "text": [
        "\n",
        "66000\t0.0390138\t0.143379\t2009.5\t6.25884e-06\t0.00491667\t0.014"
       ]
      },
      {
       "output_type": "stream",
       "stream": "stdout",
       "text": [
        "\n",
        "66300\t0.0434782\t0.132041\t2019.42\t6.31829e-06\t0.00536667\t0.0132"
       ]
      },
      {
       "output_type": "stream",
       "stream": "stdout",
       "text": [
        "\n",
        "66600\t0.0392061\t0.13989\t2029.38\t6.31826e-06\t0.00493333\t0.0139"
       ]
      },
      {
       "output_type": "stream",
       "stream": "stdout",
       "text": [
        "\n",
        "66900\t0.0424063\t0.153484\t2039.35\t6.31193e-06\t0.00526667\t0.0152"
       ]
      },
      {
       "output_type": "stream",
       "stream": "stdout",
       "text": [
        "\n",
        "67200\t0.0416028\t0.153394\t2049.46\t6.34576e-06\t0.00516667\t0.0141"
       ]
      },
      {
       "output_type": "stream",
       "stream": "stdout",
       "text": [
        "\n",
        "67500\t0.0389262\t0.147819\t2059.58\t6.37045e-06\t0.00461667\t0.0122"
       ]
      },
      {
       "output_type": "stream",
       "stream": "stdout",
       "text": [
        "\n",
        "67800\t0.0390198\t0.143691\t2069.84\t6.30136e-06\t0.0047\t0.0146"
       ]
      },
      {
       "output_type": "stream",
       "stream": "stdout",
       "text": [
        "\n",
        "68100\t0.0361378\t0.151845\t2080.3\t6.34058e-06\t0.00465\t0.0144"
       ]
      },
      {
       "output_type": "stream",
       "stream": "stdout",
       "text": [
        "\n",
        "68400\t0.0352417\t0.149243\t2090.42\t6.32238e-06\t0.0043\t0.0139"
       ]
      },
      {
       "output_type": "stream",
       "stream": "stdout",
       "text": [
        "\n",
        "68700\t0.0323744\t0.153143\t2100.53\t6.32653e-06\t0.00423333\t0.0137"
       ]
      },
      {
       "output_type": "stream",
       "stream": "stdout",
       "text": [
        "\n",
        "69000\t0.0351713\t0.14713\t2110.74\t6.42179e-06\t0.00413333\t0.0147"
       ]
      },
      {
       "output_type": "stream",
       "stream": "stdout",
       "text": [
        "\n",
        "69300\t0.0323032\t0.132107\t2120.69\t6.386e-06\t0.00408333\t0.0132"
       ]
      },
      {
       "output_type": "stream",
       "stream": "stdout",
       "text": [
        "\n",
        "69600\t0.0284999\t0.137832\t2131.07\t6.31433e-06\t0.00363333\t0.0147"
       ]
      },
      {
       "output_type": "stream",
       "stream": "stdout",
       "text": [
        "\n",
        "69900\t0.0346158\t0.150092\t2141.04\t6.33878e-06\t0.00443333\t0.0154"
       ]
      },
      {
       "output_type": "stream",
       "stream": "stdout",
       "text": [
        "\n",
        "70200\t0.03254\t0.156853\t2151.21\t6.40741e-06\t0.00396667\t0.0149"
       ]
      },
      {
       "output_type": "stream",
       "stream": "stdout",
       "text": [
        "\n",
        "70500\t0.0319948\t0.15556\t2161.08\t6.39739e-06\t0.0041\t0.0147"
       ]
      },
      {
       "output_type": "stream",
       "stream": "stdout",
       "text": [
        "\n",
        "70800\t0.028564\t0.154845\t2171.28\t6.42995e-06\t0.0035\t0.015"
       ]
      },
      {
       "output_type": "stream",
       "stream": "stdout",
       "text": [
        "\n",
        "71100\t0.0295054\t0.161507\t2181.43\t6.41442e-06\t0.00358333\t0.0144"
       ]
      },
      {
       "output_type": "stream",
       "stream": "stdout",
       "text": [
        "\n",
        "71400\t0.0286442\t0.157972\t2191.83\t6.38899e-06\t0.0036\t0.0144"
       ]
      },
      {
       "output_type": "stream",
       "stream": "stdout",
       "text": [
        "\n",
        "71700\t0.0268003\t0.145764\t2201.98\t6.34976e-06\t0.00345\t0.0141"
       ]
      },
      {
       "output_type": "stream",
       "stream": "stdout",
       "text": [
        "\n",
        "72000\t0.027058\t0.151555\t2212.45\t6.4516e-06\t0.00336667\t0.0132"
       ]
      },
      {
       "output_type": "stream",
       "stream": "stdout",
       "text": [
        "\n",
        "72300\t0.0251833\t0.139718\t2222.35\t6.37999e-06\t0.00325\t0.0117"
       ]
      },
      {
       "output_type": "stream",
       "stream": "stdout",
       "text": [
        "\n",
        "72600\t0.0228511\t0.144022\t2232.55\t6.29324e-06\t0.00285\t0.0129"
       ]
      },
      {
       "output_type": "stream",
       "stream": "stdout",
       "text": [
        "\n",
        "72900\t0.0243235\t0.155056\t2243.02\t6.3381e-06\t0.00295\t0.0133"
       ]
      },
      {
       "output_type": "stream",
       "stream": "stdout",
       "text": [
        "\n",
        "73200\t0.0259294\t0.147887\t2253.03\t6.17935e-06\t0.00311667\t0.0134"
       ]
      },
      {
       "output_type": "stream",
       "stream": "stdout",
       "text": [
        "\n",
        "73500\t0.0240358\t0.156516\t2263.17\t6.11471e-06\t0.00288333\t0.0125"
       ]
      },
      {
       "output_type": "stream",
       "stream": "stdout",
       "text": [
        "\n",
        "73800\t0.0230103\t0.157336\t2273.33\t6.12969e-06\t0.00293333\t0.0143"
       ]
      },
      {
       "output_type": "stream",
       "stream": "stdout",
       "text": [
        "\n",
        "74100\t0.0226916\t0.131777\t2283.56\t6.07467e-06\t0.00308333\t0.0136"
       ]
      },
      {
       "output_type": "stream",
       "stream": "stdout",
       "text": [
        "\n",
        "74400\t0.0232133\t0.159232\t2293.87\t6.06543e-06\t0.0029\t0.0143"
       ]
      },
      {
       "output_type": "stream",
       "stream": "stdout",
       "text": [
        "\n",
        "74700\t0.0201236\t0.140496\t2303.75\t6.06699e-06\t0.00221667\t0.0127"
       ]
      },
      {
       "output_type": "stream",
       "stream": "stdout",
       "text": [
        "\n",
        "75000\t0.0210138\t0.160881\t2313.72\t6.00435e-06\t0.00265\t0.015"
       ]
      },
      {
       "output_type": "stream",
       "stream": "stdout",
       "text": [
        "\n",
        "75300\t0.0194587\t0.162846\t2323.56\t5.89022e-06\t0.00243333\t0.0143"
       ]
      },
      {
       "output_type": "stream",
       "stream": "stdout",
       "text": [
        "\n",
        "75600\t0.0187225\t0.169139\t2333.24\t5.95238e-06\t0.0026\t0.015"
       ]
      },
      {
       "output_type": "stream",
       "stream": "stdout",
       "text": [
        "\n",
        "75900\t0.0203622\t0.154402\t2342.95\t5.9542e-06\t0.00228333\t0.0136"
       ]
      },
      {
       "output_type": "stream",
       "stream": "stdout",
       "text": [
        "\n",
        "76200\t0.0165481\t0.138196\t2352.69\t5.90656e-06\t0.00193333\t0.0135"
       ]
      },
      {
       "output_type": "stream",
       "stream": "stdout",
       "text": [
        "\n",
        "76500\t0.0163433\t0.147197\t2362.39\t5.89427e-06\t0.0019\t0.0131"
       ]
      },
      {
       "output_type": "stream",
       "stream": "stdout",
       "text": [
        "\n",
        "76800\t0.01767\t0.143279\t2372.06\t5.92723e-06\t0.00218333\t0.014"
       ]
      },
      {
       "output_type": "stream",
       "stream": "stdout",
       "text": [
        "\n",
        "77100\t0.0167896\t0.153305\t2381.76\t5.86394e-06\t0.00215\t0.0132"
       ]
      },
      {
       "output_type": "stream",
       "stream": "stdout",
       "text": [
        "\n",
        "77400\t0.0154362\t0.138806\t2391.42\t5.90901e-06\t0.00201667\t0.012"
       ]
      },
      {
       "output_type": "stream",
       "stream": "stdout",
       "text": [
        "\n",
        "77700\t0.0150032\t0.161432\t2401.1\t5.80536e-06\t0.00171667\t0.0139"
       ]
      },
      {
       "output_type": "stream",
       "stream": "stdout",
       "text": [
        "\n",
        "78000\t0.0158977\t0.147332\t2410.74\t5.77021e-06\t0.00195\t0.0122"
       ]
      },
      {
       "output_type": "stream",
       "stream": "stdout",
       "text": [
        "\n",
        "78300\t0.013828\t0.155916\t2420.44\t5.81679e-06\t0.0018\t0.0135"
       ]
      },
      {
       "output_type": "stream",
       "stream": "stdout",
       "text": [
        "\n",
        "78600\t0.0149162\t0.147127\t2430.1\t5.7315e-06\t0.00195\t0.0129"
       ]
      },
      {
       "output_type": "stream",
       "stream": "stdout",
       "text": [
        "\n",
        "78900\t0.0141596\t0.145351\t2439.81\t5.69461e-06\t0.00161667\t0.0117"
       ]
      },
      {
       "output_type": "stream",
       "stream": "stdout",
       "text": [
        "\n",
        "79200\t0.0145705\t0.151071\t2449.45\t5.66548e-06\t0.00173333\t0.0132"
       ]
      },
      {
       "output_type": "stream",
       "stream": "stdout",
       "text": [
        "\n",
        "79500\t0.0133221\t0.157728\t2459.1\t5.65835e-06\t0.00166667\t0.0125"
       ]
      },
      {
       "output_type": "stream",
       "stream": "stdout",
       "text": [
        "\n",
        "79800\t0.0119214\t0.143998\t2468.76\t5.60946e-06\t0.00136667\t0.0114"
       ]
      },
      {
       "output_type": "stream",
       "stream": "stdout",
       "text": [
        "\n",
        "80100\t0.0131315\t0.142793\t2478.43\t5.5746e-06\t0.0016\t0.0118"
       ]
      },
      {
       "output_type": "stream",
       "stream": "stdout",
       "text": [
        "\n",
        "80400\t0.011359\t0.142475\t2488.08\t5.52851e-06\t0.00135\t0.012"
       ]
      },
      {
       "output_type": "stream",
       "stream": "stdout",
       "text": [
        "\n",
        "80700\t0.0112226\t0.140625\t2497.76\t5.54616e-06\t0.00138333\t0.012"
       ]
      },
      {
       "output_type": "stream",
       "stream": "stdout",
       "text": [
        "\n",
        "81000\t0.0107685\t0.15355\t2507.45\t5.56388e-06\t0.00131667\t0.0124"
       ]
      },
      {
       "output_type": "stream",
       "stream": "stdout",
       "text": [
        "\n",
        "81300\t0.00982381\t0.147171\t2517.09\t5.4872e-06\t0.00111667\t0.0115"
       ]
      },
      {
       "output_type": "stream",
       "stream": "stdout",
       "text": [
        "\n",
        "81600\t0.00993733\t0.146214\t2526.77\t5.51514e-06\t0.00123333\t0.0119"
       ]
      },
      {
       "output_type": "stream",
       "stream": "stdout",
       "text": [
        "\n",
        "81900\t0.00855554\t0.143237\t2536.45\t5.52871e-06\t0.00106667\t0.0129"
       ]
      },
      {
       "output_type": "stream",
       "stream": "stdout",
       "text": [
        "\n",
        "82200\t0.00914888\t0.142438\t2546.11\t5.46329e-06\t0.00105\t0.0124"
       ]
      },
      {
       "output_type": "stream",
       "stream": "stdout",
       "text": [
        "\n",
        "82500\t0.00870198\t0.147645\t2555.77\t5.37874e-06\t0.00103333\t0.0135"
       ]
      },
      {
       "output_type": "stream",
       "stream": "stdout",
       "text": [
        "\n",
        "82800\t0.00907403\t0.143433\t2565.51\t5.27215e-06\t0.00115\t0.0123"
       ]
      },
      {
       "output_type": "stream",
       "stream": "stdout",
       "text": [
        "\n",
        "83100\t0.00898402\t0.152244\t2575.63\t5.21165e-06\t0.00116667\t0.0137"
       ]
      },
      {
       "output_type": "stream",
       "stream": "stdout",
       "text": [
        "\n",
        "83400\t0.00993352\t0.158909\t2585.66\t5.18288e-06\t0.00115\t0.0129"
       ]
      },
      {
       "output_type": "stream",
       "stream": "stdout",
       "text": [
        "\n",
        "83700\t0.00643288\t0.132451\t2595.58\t5.01708e-06\t0.000783333\t0.0125"
       ]
      },
      {
       "output_type": "stream",
       "stream": "stdout",
       "text": [
        "\n",
        "84000\t0.00732695\t0.142437\t2605.88\t5.11196e-06\t0.000883333\t0.0127"
       ]
      },
      {
       "output_type": "stream",
       "stream": "stdout",
       "text": [
        "\n",
        "84300\t0.0092107\t0.150265\t2616.03\t5.15457e-06\t0.00108333\t0.0127"
       ]
      },
      {
       "output_type": "stream",
       "stream": "stdout",
       "text": [
        "\n",
        "84600\t0.00663212\t0.142714\t2626.04\t5.14207e-06\t0.0008\t0.0122"
       ]
      },
      {
       "output_type": "stream",
       "stream": "stdout",
       "text": [
        "\n",
        "84900\t0.00807926\t0.142487\t2635.92\t5.14676e-06\t0.000783333\t0.0124"
       ]
      },
      {
       "output_type": "stream",
       "stream": "stdout",
       "text": [
        "\n",
        "85200\t0.00666458\t0.1439\t2646.23\t5.02261e-06\t0.000716667\t0.0125"
       ]
      },
      {
       "output_type": "stream",
       "stream": "stdout",
       "text": [
        "\n",
        "85500\t0.00555974\t0.135395\t2656.17\t4.96343e-06\t0.000516667\t0.0121"
       ]
      },
      {
       "output_type": "stream",
       "stream": "stdout",
       "text": [
        "\n",
        "85800\t0.00579183\t0.128298\t2666.04\t4.90982e-06\t0.000616667\t0.0116"
       ]
      },
      {
       "output_type": "stream",
       "stream": "stdout",
       "text": [
        "\n",
        "86100\t0.0065093\t0.141107\t2675.95\t4.95299e-06\t0.000666667\t0.0121"
       ]
      },
      {
       "output_type": "stream",
       "stream": "stdout",
       "text": [
        "\n",
        "86400\t0.00504947\t0.134027\t2686.17\t4.90726e-06\t0.000533333\t0.0126"
       ]
      },
      {
       "output_type": "stream",
       "stream": "stdout",
       "text": [
        "\n",
        "86700\t0.00570011\t0.14452\t2695.99\t4.80174e-06\t0.000616667\t0.0122"
       ]
      },
      {
       "output_type": "stream",
       "stream": "stdout",
       "text": [
        "\n",
        "87000\t0.0042059\t0.137972\t2705.77\t4.8033e-06\t0.00045\t0.0119"
       ]
      },
      {
       "output_type": "stream",
       "stream": "stdout",
       "text": [
        "\n",
        "87300\t0.00438901\t0.155292\t2715.53\t4.75059e-06\t0.00045\t0.0121"
       ]
      },
      {
       "output_type": "stream",
       "stream": "stdout",
       "text": [
        "\n",
        "87600\t0.00433791\t0.146823\t2725.29\t4.65258e-06\t0.000366667\t0.0122"
       ]
      },
      {
       "output_type": "stream",
       "stream": "stdout",
       "text": [
        "\n",
        "87900\t0.00442324\t0.14485\t2735.07\t4.55965e-06\t0.000466667\t0.0126"
       ]
      },
      {
       "output_type": "stream",
       "stream": "stdout",
       "text": [
        "\n",
        "88200\t0.00380056\t0.141175\t2744.87\t4.51871e-06\t0.000283333\t0.013"
       ]
      },
      {
       "output_type": "stream",
       "stream": "stdout",
       "text": [
        "\n",
        "88500\t0.00355755\t0.135457\t2754.68\t4.51923e-06\t0.000283333\t0.012"
       ]
      },
      {
       "output_type": "stream",
       "stream": "stdout",
       "text": [
        "\n",
        "88800\t0.00290626\t0.138971\t2764.45\t4.44628e-06\t0.0003\t0.0125"
       ]
      },
      {
       "output_type": "stream",
       "stream": "stdout",
       "text": [
        "\n",
        "89100\t0.00343565\t0.151748\t2774.22\t4.39003e-06\t0.000333333\t0.0128"
       ]
      },
      {
       "output_type": "stream",
       "stream": "stdout",
       "text": [
        "\n",
        "89400\t0.00326517\t0.142624\t2784.06\t4.32561e-06\t0.000316667\t0.0116"
       ]
      },
      {
       "output_type": "stream",
       "stream": "stdout",
       "text": [
        "\n",
        "89700\t0.00282722\t0.14824\t2793.84\t4.26246e-06\t0.000266667\t0.013"
       ]
      },
      {
       "output_type": "stream",
       "stream": "stdout",
       "text": [
        "\n",
        "90000\t0.00376761\t0.153943\t2803.63\t4.25404e-06\t0.0003\t0.0122"
       ]
      },
      {
       "output_type": "stream",
       "stream": "stdout",
       "text": [
        "\n",
        "90300\t0.00275461\t0.150553\t2813.49\t4.1643e-06\t0.000216667\t0.0127"
       ]
      },
      {
       "output_type": "stream",
       "stream": "stdout",
       "text": [
        "\n",
        "90600\t0.00269079\t0.1339\t2823.29\t4.11277e-06\t0.000216667\t0.012"
       ]
      },
      {
       "output_type": "stream",
       "stream": "stdout",
       "text": [
        "\n",
        "90900\t0.0030508\t0.154534\t2833.08\t4.12249e-06\t0.000266667\t0.0134"
       ]
      },
      {
       "output_type": "stream",
       "stream": "stdout",
       "text": [
        "\n",
        "91200\t0.00247683\t0.140441\t2842.89\t4.06621e-06\t0.000216667\t0.0125"
       ]
      },
      {
       "output_type": "stream",
       "stream": "stdout",
       "text": [
        "\n",
        "91500\t0.0024805\t0.143291\t2852.72\t3.97813e-06\t0.0002\t0.0133"
       ]
      },
      {
       "output_type": "stream",
       "stream": "stdout",
       "text": [
        "\n",
        "91800\t0.00192948\t0.143725\t2862.59\t3.94905e-06\t0.0001\t0.013"
       ]
      },
      {
       "output_type": "stream",
       "stream": "stdout",
       "text": [
        "\n",
        "92100\t0.00228136\t0.157181\t2872.4\t3.86839e-06\t0.000183333\t0.0141"
       ]
      },
      {
       "output_type": "stream",
       "stream": "stdout",
       "text": [
        "\n",
        "92400\t0.00252958\t0.146179\t2882.33\t3.79968e-06\t0.0002\t0.0139"
       ]
      },
      {
       "output_type": "stream",
       "stream": "stdout",
       "text": [
        "\n",
        "92700\t0.00203692\t0.146456\t2892.62\t3.74497e-06\t0.000166667\t0.0129"
       ]
      },
      {
       "output_type": "stream",
       "stream": "stdout",
       "text": [
        "\n",
        "93000\t0.00146932\t0.134193\t2902.95\t3.69525e-06\t8.33333e-05\t0.0116"
       ]
      },
      {
       "output_type": "stream",
       "stream": "stdout",
       "text": [
        "\n",
        "93300\t0.00138643\t0.142049\t2912.96\t3.62669e-06\t0.0001\t0.0126"
       ]
      },
      {
       "output_type": "stream",
       "stream": "stdout",
       "text": [
        "\n",
        "93600\t0.00177565\t0.135991\t2923.36\t3.55402e-06\t0.00015\t0.0126"
       ]
      },
      {
       "output_type": "stream",
       "stream": "stdout",
       "text": [
        "\n",
        "93900\t0.00154468\t0.146028\t2933.37\t3.49389e-06\t8.33333e-05\t0.0129"
       ]
      },
      {
       "output_type": "stream",
       "stream": "stdout",
       "text": [
        "\n",
        "94200\t0.00145315\t0.126872\t2943.28\t3.4356e-06\t8.33333e-05\t0.0123"
       ]
      },
      {
       "output_type": "stream",
       "stream": "stdout",
       "text": [
        "\n",
        "94500\t0.00140773\t0.138516\t2953.46\t3.41628e-06\t8.33333e-05\t0.0122"
       ]
      },
      {
       "output_type": "stream",
       "stream": "stdout",
       "text": [
        "\n",
        "94800\t0.00130047\t0.143099\t2963.95\t3.42682e-06\t8.33333e-05\t0.0127"
       ]
      },
      {
       "output_type": "stream",
       "stream": "stdout",
       "text": [
        "\n",
        "95100\t0.00141187\t0.142362\t2974.05\t3.37841e-06\t6.66667e-05\t0.0133"
       ]
      },
      {
       "output_type": "stream",
       "stream": "stdout",
       "text": [
        "\n",
        "95400\t0.00108875\t0.139724\t2984.03\t3.33339e-06\t8.33333e-05\t0.0128"
       ]
      },
      {
       "output_type": "stream",
       "stream": "stdout",
       "text": [
        "\n",
        "95700\t0.00158053\t0.151075\t2993.94\t3.28659e-06\t8.33333e-05\t0.0125"
       ]
      },
      {
       "output_type": "stream",
       "stream": "stdout",
       "text": [
        "\n",
        "96000\t0.00110095\t0.154378\t3003.83\t3.22437e-06\t5e-05\t0.0124"
       ]
      },
      {
       "output_type": "stream",
       "stream": "stdout",
       "text": [
        "\n",
        "96300\t0.00122582\t0.139786\t3013.75\t3.12554e-06\t0.000133333\t0.0128"
       ]
      },
      {
       "output_type": "stream",
       "stream": "stdout",
       "text": [
        "\n",
        "96600\t0.00112073\t0.136029\t3024.02\t3.0431e-06\t6.66667e-05\t0.0119"
       ]
      },
      {
       "output_type": "stream",
       "stream": "stdout",
       "text": [
        "\n",
        "96900\t0.00108958\t0.143535\t3033.9\t3.03314e-06\t6.66667e-05\t0.0132"
       ]
      },
      {
       "output_type": "stream",
       "stream": "stdout",
       "text": [
        "\n",
        "97200\t0.00111149\t0.141925\t3043.84\t2.9713e-06\t0.0001\t0.014"
       ]
      },
      {
       "output_type": "stream",
       "stream": "stdout",
       "text": [
        "\n",
        "97500\t0.000937809\t0.14542\t3053.71\t2.87802e-06\t3.33333e-05\t0.0134"
       ]
      },
      {
       "output_type": "stream",
       "stream": "stdout",
       "text": [
        "\n",
        "97800\t0.000986647\t0.144992\t3063.64\t2.85042e-06\t5e-05\t0.0117"
       ]
      },
      {
       "output_type": "stream",
       "stream": "stdout",
       "text": [
        "\n",
        "98100\t0.000916325\t0.143095\t3073.57\t2.79733e-06\t3.33333e-05\t0.0119"
       ]
      },
      {
       "output_type": "stream",
       "stream": "stdout",
       "text": [
        "\n",
        "98400\t0.000943802\t0.130433\t3083.44\t2.75441e-06\t8.33333e-05\t0.0121"
       ]
      },
      {
       "output_type": "stream",
       "stream": "stdout",
       "text": [
        "\n",
        "98700\t0.000802017\t0.1319\t3093.71\t2.69941e-06\t3.33333e-05\t0.0123"
       ]
      },
      {
       "output_type": "stream",
       "stream": "stdout",
       "text": [
        "\n",
        "99000\t0.000733841\t0.136979\t3104.2\t2.63348e-06\t5e-05\t0.0128"
       ]
      },
      {
       "output_type": "stream",
       "stream": "stdout",
       "text": [
        "\n",
        "99300\t0.000692514\t0.135823\t3114.36\t2.5635e-06\t3.33333e-05\t0.012"
       ]
      },
      {
       "output_type": "stream",
       "stream": "stdout",
       "text": [
        "\n",
        "99600\t0.000695732\t0.12739\t3124.61\t2.51014e-06\t5e-05\t0.0123"
       ]
      },
      {
       "output_type": "stream",
       "stream": "stdout",
       "text": [
        "\n",
        "99900\t0.000712904\t0.132357\t3134.64\t2.46945e-06\t5e-05\t0.012"
       ]
      },
      {
       "output_type": "stream",
       "stream": "stdout",
       "text": [
        "\n",
        "100200\t0.000716314\t0.130697\t3144.64\t2.39064e-06\t5e-05\t0.0128"
       ]
      },
      {
       "output_type": "stream",
       "stream": "stdout",
       "text": [
        "\n",
        "100500\t0.000663698\t0.124996\t3154.57\t2.37151e-06\t3.33333e-05\t0.0122"
       ]
      },
      {
       "output_type": "stream",
       "stream": "stdout",
       "text": [
        "\n",
        "100800\t0.00064476\t0.1122\t3164.92\t2.26258e-06\t3.33333e-05\t0.0113"
       ]
      },
      {
       "output_type": "stream",
       "stream": "stdout",
       "text": [
        "\n",
        "101100\t0.000723781\t0.124765\t3175.1\t2.24663e-06\t3.33333e-05\t0.0102"
       ]
      },
      {
       "output_type": "stream",
       "stream": "stdout",
       "text": [
        "\n",
        "101400\t0.000568638\t0.123818\t3185.24\t2.22623e-06\t3.33333e-05\t0.012"
       ]
      },
      {
       "output_type": "stream",
       "stream": "stdout",
       "text": [
        "\n",
        "101700\t0.000601198\t0.123036\t3195.18\t2.21462e-06\t0\t0.0121"
       ]
      },
      {
       "output_type": "stream",
       "stream": "stdout",
       "text": [
        "\n",
        "102000\t0.000519086\t0.120592\t3205.21\t2.14697e-06\t3.33333e-05\t0.012"
       ]
      },
      {
       "output_type": "stream",
       "stream": "stdout",
       "text": [
        "\n",
        "102300\t0.000598509\t0.125573\t3215.16\t2.10513e-06\t3.33333e-05\t0.012"
       ]
      },
      {
       "output_type": "stream",
       "stream": "stdout",
       "text": [
        "\n",
        "102600\t0.000514062\t0.117404\t3225.07\t2.04833e-06\t1.66667e-05\t0.0118"
       ]
      },
      {
       "output_type": "stream",
       "stream": "stdout",
       "text": [
        "\n",
        "102900\t0.000457395\t0.111952\t3235.31\t2.01414e-06\t3.33333e-05\t0.0113"
       ]
      },
      {
       "output_type": "stream",
       "stream": "stdout",
       "text": [
        "\n",
        "103200\t0.000514375\t0.118718\t3245.3\t2.00589e-06\t3.33333e-05\t0.012"
       ]
      },
      {
       "output_type": "stream",
       "stream": "stdout",
       "text": [
        "\n",
        "103500\t0.000485458\t0.113035\t3255.22\t1.95304e-06\t1.66667e-05\t0.0117"
       ]
      },
      {
       "output_type": "stream",
       "stream": "stdout",
       "text": [
        "\n",
        "103800\t0.000450379\t0.11887\t3265.13\t1.94126e-06\t3.33333e-05\t0.0116"
       ]
      },
      {
       "output_type": "stream",
       "stream": "stdout",
       "text": [
        "\n",
        "104100\t0.00047557\t0.114943\t3275.24\t1.90646e-06\t3.33333e-05\t0.0115"
       ]
      },
      {
       "output_type": "stream",
       "stream": "stdout",
       "text": [
        "\n",
        "104400\t0.000481877\t0.118926\t3285.36\t1.86208e-06\t3.33333e-05\t0.0121"
       ]
      },
      {
       "output_type": "stream",
       "stream": "stdout",
       "text": [
        "\n",
        "104700\t0.000387229\t0.118288\t3295.74\t1.84432e-06\t3.33333e-05\t0.0129"
       ]
      },
      {
       "output_type": "stream",
       "stream": "stdout",
       "text": [
        "\n",
        "105000\t0.000413413\t0.110059\t3305.81\t1.78434e-06\t3.33333e-05\t0.012"
       ]
      },
      {
       "output_type": "stream",
       "stream": "stdout",
       "text": [
        "\n",
        "105300\t0.000388286\t0.116189\t3315.92\t1.77354e-06\t3.33333e-05\t0.0124"
       ]
      },
      {
       "output_type": "stream",
       "stream": "stdout",
       "text": [
        "\n",
        "105600\t0.000359516\t0.117046\t3326.04\t1.72195e-06\t1.66667e-05\t0.0124"
       ]
      },
      {
       "output_type": "stream",
       "stream": "stdout",
       "text": [
        "\n",
        "105900\t0.000425076\t0.115929\t3335.99\t1.66349e-06\t3.33333e-05\t0.0131"
       ]
      },
      {
       "output_type": "stream",
       "stream": "stdout",
       "text": [
        "\n",
        "106200\t0.000399446\t0.116076\t3346.1\t1.64278e-06\t1.66667e-05\t0.0119"
       ]
      },
      {
       "output_type": "stream",
       "stream": "stdout",
       "text": [
        "\n",
        "106500\t0.000387805\t0.115047\t3356.1\t1.63702e-06\t1.66667e-05\t0.0118"
       ]
      },
      {
       "output_type": "stream",
       "stream": "stdout",
       "text": [
        "\n",
        "106800\t0.000365415\t0.107435\t3366.31\t1.59146e-06\t3.33333e-05\t0.012"
       ]
      },
      {
       "output_type": "stream",
       "stream": "stdout",
       "text": [
        "\n",
        "107100\t0.000330668\t0.107551\t3376.71\t1.58201e-06\t0\t0.0115"
       ]
      },
      {
       "output_type": "stream",
       "stream": "stdout",
       "text": [
        "\n",
        "107400\t0.000351647\t0.108385\t3386.85\t1.51993e-06\t0\t0.0126"
       ]
      },
      {
       "output_type": "stream",
       "stream": "stdout",
       "text": [
        "\n",
        "107700\t0.000346753\t0.105926\t3396.76\t1.48726e-06\t0\t0.0119"
       ]
      },
      {
       "output_type": "stream",
       "stream": "stdout",
       "text": [
        "\n",
        "108000\t0.000338421\t0.102836\t3406.71\t1.46297e-06\t0\t0.0122"
       ]
      },
      {
       "output_type": "stream",
       "stream": "stdout",
       "text": [
        "\n",
        "108300\t0.000330348\t0.110298\t3416.61\t1.44761e-06\t0\t0.0121"
       ]
      },
      {
       "output_type": "stream",
       "stream": "stdout",
       "text": [
        "\n",
        "108600\t0.00031778\t0.105022\t3426.45\t1.40699e-06\t1.66667e-05\t0.0117"
       ]
      },
      {
       "output_type": "stream",
       "stream": "stdout",
       "text": [
        "\n",
        "108900\t0.000314334\t0.109469\t3436.31\t1.38814e-06\t0\t0.0122"
       ]
      },
      {
       "output_type": "stream",
       "stream": "stdout",
       "text": [
        "\n",
        "109200\t0.000306716\t0.112367\t3446.28\t1.37114e-06\t0\t0.0123"
       ]
      },
      {
       "output_type": "stream",
       "stream": "stdout",
       "text": [
        "\n",
        "109500\t0.000305757\t0.109639\t3456.35\t1.34939e-06\t0\t0.0117"
       ]
      },
      {
       "output_type": "stream",
       "stream": "stdout",
       "text": [
        "\n",
        "109800\t0.000321756\t0.107873\t3466.41\t1.33162e-06\t0\t0.0126"
       ]
      },
      {
       "output_type": "stream",
       "stream": "stdout",
       "text": [
        "\n",
        "110100\t0.00031842\t0.103889\t3476.4\t1.30155e-06\t1.66667e-05\t0.0113"
       ]
      },
      {
       "output_type": "stream",
       "stream": "stdout",
       "text": [
        "\n",
        "110400\t0.000325365\t0.102997\t3486.57\t1.29187e-06\t0\t0.0111"
       ]
      },
      {
       "output_type": "stream",
       "stream": "stdout",
       "text": [
        "\n",
        "110700\t0.000284677\t0.105691\t3496.52\t1.26263e-06\t0\t0.0124"
       ]
      },
      {
       "output_type": "stream",
       "stream": "stdout",
       "text": [
        "\n",
        "111000\t0.00031311\t0.105406\t3506.44\t1.23059e-06\t0\t0.0117"
       ]
      },
      {
       "output_type": "stream",
       "stream": "stdout",
       "text": [
        "\n",
        "111300\t0.000297197\t0.106918\t3516.34\t1.24273e-06\t0\t0.0121"
       ]
      },
      {
       "output_type": "stream",
       "stream": "stdout",
       "text": [
        "\n",
        "111600\t0.000284584\t0.104236\t3526.43\t1.21445e-06\t0\t0.011"
       ]
      },
      {
       "output_type": "stream",
       "stream": "stdout",
       "text": [
        "\n",
        "111900\t0.000315071\t0.106224\t3536.31\t1.20945e-06\t0\t0.0119"
       ]
      },
      {
       "output_type": "stream",
       "stream": "stdout",
       "text": [
        "\n",
        "112200\t0.000359956\t0.107367\t3546.22\t1.16686e-06\t0\t0.0115"
       ]
      },
      {
       "output_type": "stream",
       "stream": "stdout",
       "text": [
        "\n",
        "112500\t0.000289364\t0.106988\t3556.03\t1.14695e-06\t0\t0.0121"
       ]
      },
      {
       "output_type": "stream",
       "stream": "stdout",
       "text": [
        "\n",
        "112800\t0.000275631\t0.107009\t3566.05\t1.12991e-06\t0\t0.0125"
       ]
      },
      {
       "output_type": "stream",
       "stream": "stdout",
       "text": [
        "\n",
        "113100\t0.000274984\t0.105943\t3575.97\t1.12492e-06\t0\t0.0125"
       ]
      },
      {
       "output_type": "stream",
       "stream": "stdout",
       "text": [
        "\n",
        "113400\t0.000285569\t0.105856\t3586.07\t1.11576e-06\t0\t0.012"
       ]
      },
      {
       "output_type": "stream",
       "stream": "stdout",
       "text": [
        "\n",
        "113700\t0.000247997\t0.105513\t3595.98\t1.11198e-06\t0\t0.0121"
       ]
      },
      {
       "output_type": "stream",
       "stream": "stdout",
       "text": [
        "\n",
        "114000\t0.000272244\t0.106237\t3605.81\t1.08919e-06\t0\t0.0116"
       ]
      },
      {
       "output_type": "stream",
       "stream": "stdout",
       "text": [
        "\n",
        "114300\t0.000285807\t0.107998\t3615.7\t1.07143e-06\t0\t0.0116"
       ]
      },
      {
       "output_type": "stream",
       "stream": "stdout",
       "text": [
        "\n",
        "114600\t0.000258407\t0.10573\t3625.57\t1.05189e-06\t0\t0.0118"
       ]
      },
      {
       "output_type": "stream",
       "stream": "stdout",
       "text": [
        "\n",
        "114900\t0.000273549\t0.106631\t3635.43\t1.0499e-06\t0\t0.0117"
       ]
      },
      {
       "output_type": "stream",
       "stream": "stdout",
       "text": [
        "\n",
        "115200\t0.000254928\t0.107138\t3645.39\t1.03491e-06\t0\t0.0118"
       ]
      },
      {
       "output_type": "stream",
       "stream": "stdout",
       "text": [
        "\n",
        "115500\t0.000268394\t0.10491\t3655.22\t1.01804e-06\t0\t0.0117"
       ]
      },
      {
       "output_type": "stream",
       "stream": "stdout",
       "text": [
        "\n",
        "115800\t0.000267356\t0.102153\t3665.11\t9.92027e-07\t0\t0.0113"
       ]
      },
      {
       "output_type": "stream",
       "stream": "stdout",
       "text": [
        "\n",
        "116100\t0.000248818\t0.105074\t3675.1\t9.94935e-07\t0\t0.012"
       ]
      },
      {
       "output_type": "stream",
       "stream": "stdout",
       "text": [
        "\n",
        "116400\t0.000250808\t0.102243\t3685.03\t9.80888e-07\t0\t0.0117"
       ]
      },
      {
       "output_type": "stream",
       "stream": "stdout",
       "text": [
        "\n",
        "116700\t0.000267579\t0.104513\t3695.08\t9.69447e-07\t0\t0.012"
       ]
      },
      {
       "output_type": "stream",
       "stream": "stdout",
       "text": [
        "\n",
        "117000\t0.000268143\t0.103929\t3704.97\t9.48407e-07\t0\t0.0119"
       ]
      },
      {
       "output_type": "stream",
       "stream": "stdout",
       "text": [
        "\n",
        "117300\t0.000269485\t0.105597\t3714.98\t9.64382e-07\t0\t0.0119"
       ]
      },
      {
       "output_type": "stream",
       "stream": "stdout",
       "text": [
        "\n",
        "117600\t0.000258731\t0.104131\t3724.88\t9.45796e-07\t0\t0.0122"
       ]
      },
      {
       "output_type": "stream",
       "stream": "stdout",
       "text": [
        "\n",
        "117900\t0.000247328\t0.104549\t3734.85\t9.60501e-07\t0\t0.0111"
       ]
      },
      {
       "output_type": "stream",
       "stream": "stdout",
       "text": [
        "\n",
        "118200\t0.000241229\t0.105768\t3744.76\t9.30662e-07\t0\t0.0122"
       ]
      },
      {
       "output_type": "stream",
       "stream": "stdout",
       "text": [
        "\n",
        "118500\t0.000253281\t0.107099\t3754.69\t9.45234e-07\t0\t0.0121"
       ]
      },
      {
       "output_type": "stream",
       "stream": "stdout",
       "text": [
        "\n",
        "118800\t0.00025148\t0.105241\t3764.63\t9.326e-07\t0\t0.0116"
       ]
      },
      {
       "output_type": "stream",
       "stream": "stdout",
       "text": [
        "\n",
        "119100\t0.000252648\t0.107238\t3774.56\t9.39099e-07\t0\t0.0122"
       ]
      },
      {
       "output_type": "stream",
       "stream": "stdout",
       "text": [
        "\n",
        "119400\t0.000247494\t0.106263\t3784.41\t9.19971e-07\t0\t0.0118"
       ]
      },
      {
       "output_type": "stream",
       "stream": "stdout",
       "text": [
        "\n",
        "119700\t0.00027636\t0.107825\t3794.3\t9.06621e-07\t0\t0.0119"
       ]
      },
      {
       "output_type": "stream",
       "stream": "stdout",
       "text": [
        "\n"
       ]
      }
     ],
     "prompt_number": 47
    },
    {
     "cell_type": "code",
     "collapsed": false,
     "input": [
      "m.predict(X[:1])"
     ],
     "language": "python",
     "metadata": {},
     "outputs": [
      {
       "metadata": {},
       "output_type": "pyout",
       "prompt_number": 34,
       "text": [
        "array([[ 4.1872654 ,  7.29619551,  5.38406849,  4.66654682,  3.16716623,\n",
        "         4.0718689 ,  3.28585577,  4.94428635,  5.95642281,  3.70639229]], dtype=float32)"
       ]
      }
     ],
     "prompt_number": 34
    },
    {
     "cell_type": "code",
     "collapsed": false,
     "input": [
      "m.parameters.data[...] = info['best_pars']\n",
      "f_n_wrong(TX, TZ)"
     ],
     "language": "python",
     "metadata": {},
     "outputs": [],
     "prompt_number": 49
    },
    {
     "cell_type": "code",
     "collapsed": false,
     "input": [],
     "language": "python",
     "metadata": {},
     "outputs": [
      {
       "metadata": {},
       "output_type": "pyout",
       "prompt_number": 50,
       "text": [
        "array(0.011299999999999977)"
       ]
      }
     ],
     "prompt_number": 50
    }
   ],
   "metadata": {}
  }
 ]
}