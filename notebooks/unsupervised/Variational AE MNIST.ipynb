{
 "cells": [
  {
   "cell_type": "code",
   "execution_count": null,
   "metadata": {
    "collapsed": false
   },
   "outputs": [],
   "source": [
    "import cPickle\n",
    "import gzip\n",
    "\n",
    "from breze.learn.data import one_hot\n",
    "from breze.learn.base import cast_array_to_local_type\n",
    "from breze.learn.utils import tile_raster_images\n",
    "\n",
    "import climin.stops\n",
    "\n",
    "\n",
    "import climin.initialize\n",
    "\n",
    "from breze.learn import sgvb\n",
    "from matplotlib import pyplot as plt\n",
    "from matplotlib import cm\n",
    "\n",
    "import numpy as np\n",
    "\n",
    "from IPython.html import widgets\n",
    "%matplotlib inline \n",
    "\n",
    "import theano\n",
    "theano.config.compute_test_value = 'ignore'#'raise'"
   ]
  },
  {
   "cell_type": "code",
   "execution_count": null,
   "metadata": {
    "collapsed": true
   },
   "outputs": [],
   "source": [
    "GPU = theano.config.device.startswith('gpu')\n",
    "if GPU:\n",
    "    import os\n",
    "    os.environ['GNUMPY_IMPLICIT_CONVERSION'] = 'allow'"
   ]
  },
  {
   "cell_type": "code",
   "execution_count": null,
   "metadata": {
    "collapsed": false
   },
   "outputs": [],
   "source": [
    "datafile = '../mnist.pkl.gz' # deeplearning.net/data/mnist/mnist.pkl.gz\n",
    "# Load data.                                                                                                   \n",
    "\n",
    "with gzip.open(datafile,'rb') as f:                                                                        \n",
    "    train_set, val_set, test_set = cPickle.load(f)                                                       \n",
    "\n",
    "X, Z = train_set                                                                                               \n",
    "VX, VZ = val_set\n",
    "TX, TZ = test_set\n",
    "\n",
    "Z = one_hot(Z, 10)\n",
    "VZ = one_hot(VZ, 10)\n",
    "TZ = one_hot(TZ, 10)\n",
    "\n",
    "image_dims = 28, 28\n",
    "\n",
    "X, Z, VX, VZ, TX, TZ = [cast_array_to_local_type(i) for i in (X, Z, VX,VZ, TX, TZ)]"
   ]
  },
  {
   "cell_type": "code",
   "execution_count": null,
   "metadata": {
    "collapsed": false
   },
   "outputs": [],
   "source": [
    "fig, ax = plt.subplots(figsize=(9, 9))\n",
    "\n",
    "img = tile_raster_images(np.array(X[:64]), image_dims, (8, 8), (1, 1))\n",
    "ax.imshow(img, cmap=cm.binary)"
   ]
  },
  {
   "cell_type": "code",
   "execution_count": null,
   "metadata": {
    "collapsed": false
   },
   "outputs": [],
   "source": [
    "batch_size = 200\n",
    "#optimizer = 'rmsprop', {'step_rate': 1e-4, 'momentum': 0.95, 'decay': .95, 'offset': 1e-6}\n",
    "#optimizer = 'adam', {'step_rate': .5, 'momentum': 0.9, 'decay': .95, 'offset': 1e-6}\n",
    "optimizer = 'adam'\n",
    "\n",
    "reload(sgvb)\n",
    "\n",
    "class MyVAE(sgvb.VariationalAutoEncoder,\n",
    "            sgvb.MlpGaussLatentVAEMixin, \n",
    "            sgvb.MlpBernoulliVisibleVAEMixin, \n",
    "            ):\n",
    "    pass\n",
    "kwargs = {}\n",
    "\n",
    "\n",
    "# This is the number of random variables NOT the size of \n",
    "# the sufficient statistics for the random variables.\n",
    "n_latents = 64\n",
    "n_hidden = 512\n",
    "\n",
    "m = MyVAE(X.shape[1], [n_hidden], n_latents, [n_hidden], ['rectifier'] * 1, ['rectifier'] * 1,\n",
    "          optimizer=optimizer, batch_size=batch_size,\n",
    "          **kwargs)\n",
    "\n",
    "#m.exprs['loss'] += 0.001 * (m.parameters.enc_in_to_hidden ** 2).sum() / m.exprs['inpt'].shape[0]\n",
    "\n",
    "climin.initialize.randomize_normal(m.parameters.data, 0, 1e-2)\n",
    "\n",
    "#climin.initialize.sparsify_columns(m.parameters['enc_in_to_hidden'], 15)\n",
    "#climin.initialize.sparsify_columns(m.parameters['enc_hidden_to_hidden_0'], 15)\n",
    "#climin.initialize.sparsify_columns(m.parameters['dec_hidden_to_out'], 15)\n",
    "\n",
    "#f_latent_mean = m.function(['inpt'], 'latent_mean')\n",
    "#f_sample = m.function([('gen', 'layer-0-inpt')], 'output')\n",
    "#f_recons = m.function(['inpt'], 'output')"
   ]
  },
  {
   "cell_type": "code",
   "execution_count": null,
   "metadata": {
    "collapsed": false
   },
   "outputs": [],
   "source": [
    "m.estimate_nll(X[:10])"
   ]
  },
  {
   "cell_type": "code",
   "execution_count": null,
   "metadata": {
    "collapsed": false
   },
   "outputs": [],
   "source": [
    "max_passes = 250\n",
    "max_iter = max_passes * X.shape[0] / batch_size\n",
    "n_report = X.shape[0] / batch_size\n",
    "\n",
    "stop = climin.stops.AfterNIterations(max_iter)\n",
    "pause = climin.stops.ModuloNIterations(n_report)\n",
    "\n",
    "for i, info in enumerate(m.powerfit((X,), (VX,), stop, pause)):\n",
    "    print i, info['loss'], info['val_loss']\n"
   ]
  },
  {
   "cell_type": "code",
   "execution_count": null,
   "metadata": {
    "collapsed": false
   },
   "outputs": [],
   "source": [
    "m.parameters.data[...] = info['best_pars']"
   ]
  },
  {
   "cell_type": "code",
   "execution_count": null,
   "metadata": {
    "collapsed": false
   },
   "outputs": [],
   "source": [
    "f_sample = m.function([m.recog_sample], m.vae.gen.sample())\n",
    "f_recons = m.function(['inpt'], m.vae.gen.sample())"
   ]
  },
  {
   "cell_type": "code",
   "execution_count": null,
   "metadata": {
    "collapsed": false
   },
   "outputs": [],
   "source": [
    "fig, axs = plt.subplots(1, 2, figsize=(18, 9))\n",
    "\n",
    "S = f_sample(cast_array_to_local_type(np.random.randn(64, m.n_latent).astype('float32')))[:, :784].astype('float32')\n",
    "img = tile_raster_images(np.array(S), image_dims, (8, 8), (1, 1))\n",
    "axs[0].imshow(img, cmap=cm.binary)\n",
    "\n",
    "R = f_recons(X[:64])[:, :784].astype('float32')\n",
    "img = tile_raster_images(np.array(R), image_dims, (8, 8), (1, 1))\n",
    "\n",
    "axs[1].imshow(img, cmap=cm.binary)"
   ]
  },
  {
   "cell_type": "code",
   "execution_count": null,
   "metadata": {
    "collapsed": false
   },
   "outputs": [],
   "source": [
    "fig, axs = plt.subplots(1, 2, figsize=(18, 9))\n",
    "img = tile_raster_images(np.array(m.parameters[m.vae.recog.mlp.layers[0].weights].T), image_dims, (10, 10), (1, 1))\n",
    "axs[0].imshow(img, cmap=cm.binary)\n",
    "\n",
    "img = tile_raster_images(np.array(m.parameters[m.vae.gen.mlp.layers[-1].weights]), image_dims, (10, 10), (1, 1))\n",
    "axs[1].imshow(img, cmap=cm.binary)"
   ]
  },
  {
   "cell_type": "code",
   "execution_count": null,
   "metadata": {
    "collapsed": false
   },
   "outputs": [],
   "source": [
    "f_L = m.function([m.vae.inpt], m.vae.recog.stt)"
   ]
  },
  {
   "cell_type": "code",
   "execution_count": null,
   "metadata": {
    "collapsed": false
   },
   "outputs": [],
   "source": [
    "L = f_L(X)"
   ]
  },
  {
   "cell_type": "code",
   "execution_count": null,
   "metadata": {
    "collapsed": false
   },
   "outputs": [],
   "source": [
    "fig, ax = plt.subplots(figsize=(9, 9))\n",
    "ax.scatter(L[:, 0], L[:, 1], c=Z[:].argmax(1), lw=0, s=10, alpha=.2)"
   ]
  },
  {
   "cell_type": "code",
   "execution_count": null,
   "metadata": {
    "collapsed": true
   },
   "outputs": [],
   "source": []
  }
 ],
 "metadata": {
  "kernelspec": {
   "display_name": "Python 2",
   "language": "python",
   "name": "python2"
  },
  "language_info": {
   "codemirror_mode": {
    "name": "ipython",
    "version": 2
   },
   "file_extension": ".py",
   "mimetype": "text/x-python",
   "name": "python",
   "nbconvert_exporter": "python",
   "pygments_lexer": "ipython2",
   "version": "2.7.11"
  }
 },
 "nbformat": 4,
 "nbformat_minor": 0
}
