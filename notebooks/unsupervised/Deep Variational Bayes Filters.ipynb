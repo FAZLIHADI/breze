{
 "cells": [
  {
   "cell_type": "code",
   "execution_count": null,
   "metadata": {
    "collapsed": false
   },
   "outputs": [],
   "source": [
    "import numpy as np\n",
    "\n",
    "import theano\n",
    "import theano.tensor as T\n",
    "\n",
    "import climin\n",
    "import climin.stops\n",
    "import climin.initialize\n",
    "\n",
    "import breze\n",
    "from breze.learn.base import theanox\n",
    "from breze.learn.sgvb.dvbf import DeepVariationalBayesFilter\n",
    "\n",
    "import gzip\n",
    "import cPickle\n",
    "import time\n",
    "\n",
    "import matplotlib.pyplot as plt\n",
    "%matplotlib inline"
   ]
  },
  {
   "cell_type": "code",
   "execution_count": null,
   "metadata": {
    "collapsed": false
   },
   "outputs": [],
   "source": [
    "GPU = theano.config.device.startswith('gpu')\n",
    "if GPU:\n",
    "    import os\n",
    "    os.environ['GNUMPY_IMPLICIT_CONVERSION'] = 'allow'"
   ]
  },
  {
   "cell_type": "code",
   "execution_count": null,
   "metadata": {
    "collapsed": false
   },
   "outputs": [],
   "source": [
    "datafile = 'pendulum.pkl.gz'\n",
    "with gzip.open(datafile,'rb') as f:\n",
    "    train_set, val_set, test_set = cPickle.load(f)\n",
    "X, U, S = train_set\n",
    "VX, VU, VS = val_set\n",
    "TX, TU, TS = test_set\n",
    "\n",
    "XU = np.concatenate((X, U), -1)\n",
    "VXU = np.concatenate((VX, VU), -1)\n",
    "image_dims = 16"
   ]
  },
  {
   "cell_type": "code",
   "execution_count": null,
   "metadata": {
    "collapsed": false
   },
   "outputs": [],
   "source": [
    "n_latent=3\n",
    "\n",
    "n_obs = X.shape[2]\n",
    "n_control = U.shape[2]\n",
    "m = DeepVariationalBayesFilter(n_obs, n_control,\n",
    "                               n_hiddens_recog=[128], n_state=n_latent, n_alpha=16,\n",
    "                               n_hiddens_transition=[16], n_hiddens_gen=[128],\n",
    "                               transfers_recog=['rectifier'], transfers_transition=['rectifier'],\n",
    "                               transfers_gen=['rectifier'], n_samples=X.shape[1], zeroth_transition=True)"
   ]
  },
  {
   "cell_type": "code",
   "execution_count": null,
   "metadata": {
    "collapsed": false
   },
   "outputs": [],
   "source": [
    "climin.initialize.randomize_normal(m.parameters.data, 0, 1e-1)\n",
    "\n",
    "beta0 = 0.01\n",
    "beta = beta0\n",
    "m.parameters[m.beta] = np.minimum(1.0, beta)\n",
    "\n",
    "f_reckl_loss = m.function(['inpt'], [m.rec_loss, m.kl])\n",
    "\n",
    "losses = []"
   ]
  },
  {
   "cell_type": "code",
   "execution_count": null,
   "metadata": {
    "collapsed": true
   },
   "outputs": [],
   "source": [
    "def plot(X, n_samples=3, n_timesteps=None):\n",
    "    if n_timesteps == None:\n",
    "        n_timesteps = X.shape[0]\n",
    "\n",
    "    fig, axs = plt.subplots(n_samples, n_timesteps, figsize=(n_timesteps, n_samples), squeeze=True)\n",
    "\n",
    "    for j in range(n_samples):\n",
    "        for i in range(n_timesteps):\n",
    "            axs[j, i].set_xticks([])\n",
    "            axs[j, i].set_yticks([])\n",
    "\n",
    "            axs[j, i].imshow(X[i, j, :image_dims * image_dims].reshape((image_dims, image_dims)), cmap='binary', interpolation='none')\n",
    "\n",
    "    plt.tight_layout()\n",
    "\n",
    "def plot_mean(X, n_timesteps=None):\n",
    "    if n_timesteps == None:\n",
    "        n_timesteps = X.shape[0]\n",
    "\n",
    "    fig, axs = plt.subplots(1, n_timesteps, figsize=(n_timesteps, 10), squeeze=True)\n",
    "\n",
    "    for i in range(n_timesteps):\n",
    "        axs[i].set_xticks([]) \n",
    "        axs[i].set_yticks([])\n",
    "\n",
    "        axs[i].imshow(X[i, :, :image_dims * image_dims].mean(0).reshape((image_dims, image_dims)), cmap='binary', interpolation='none')\n",
    "\n",
    "    plt.tight_layout()"
   ]
  },
  {
   "cell_type": "code",
   "execution_count": null,
   "metadata": {
    "collapsed": false
   },
   "outputs": [],
   "source": [
    "m.optimizer=('adadelta', {'step_rate': 0.1})\n",
    "m.batch_size=500\n",
    "\n",
    "beta_T=100000.0\n",
    "beta0=0.01\n",
    "max_iter=180000\n",
    "\n",
    "passes_per_report=10\n",
    "batches_per_pass = 25\n",
    "\n",
    "report = climin.stops.ModuloNIterations(passes_per_report * batches_per_pass)\n",
    "stop = climin.stops.AfterNIterations(max_iter)\n",
    "\n",
    "beta = beta0\n",
    "\n",
    "def schedule(info):\n",
    "    if (info['n_iter'] % (passes_per_report * batches_per_pass)) == 0:\n",
    "        m.parameters[m.beta] = np.minimum(1.0, m.parameters[m.beta].mean() + np.float32(passes_per_report * batches_per_pass) / beta_T)\n",
    "\n",
    "start_time = time.time()\n",
    "\n",
    "for info in m.powerfit((XU,), (VXU,), stop=stop, report=report, schedule=schedule):\n",
    "    \n",
    "    print time.time() - start_time\n",
    "    start_time = time.time()\n",
    "\n",
    "    info['rec_loss'], info['kl_loss'] = f_reckl_loss(theanox(XU))\n",
    "    info['rec_loss'], info['kl_loss'] = np.asarray(info['rec_loss']), np.asarray(info['kl_loss'])\n",
    "\n",
    "    info['val_rec_loss'], info['val_kl_loss'] = f_reckl_loss(theanox(VXU))\n",
    "    info['val_rec_loss'], info['val_kl_loss'] = np.asarray(info['val_rec_loss']), np.asarray(info['val_kl_loss'])\n",
    "\n",
    "    print '%(n_iter)i %(loss)g %(rec_loss)g %(val_rec_loss)g %(kl_loss)g ' % info,\n",
    "    print m.parameters[m.beta]\n",
    "\n",
    "\n",
    "    losses.append([info['loss'], info['rec_loss'], info['kl_loss'], info['val_loss'], info['val_rec_loss'], info['val_kl_loss']])\n"
   ]
  },
  {
   "cell_type": "code",
   "execution_count": null,
   "metadata": {
    "collapsed": false,
    "scrolled": true
   },
   "outputs": [],
   "source": [
    "plt.plot(np.array(losses)[:, 2])"
   ]
  },
  {
   "cell_type": "code",
   "execution_count": null,
   "metadata": {
    "collapsed": false
   },
   "outputs": [],
   "source": [
    "plt.plot(np.array(losses)[:, 1])\n",
    "plt.plot(np.array(losses)[:, 4])"
   ]
  },
  {
   "cell_type": "code",
   "execution_count": null,
   "metadata": {
    "collapsed": false
   },
   "outputs": [],
   "source": [
    "f_latent_sample = m.function(['inpt'], m.z)\n",
    "Z = f_latent_sample(theanox(XU))"
   ]
  },
  {
   "cell_type": "code",
   "execution_count": null,
   "metadata": {
    "collapsed": true
   },
   "outputs": [],
   "source": [
    "Z_flat = np.asarray(Z).reshape((-1, np.asarray(Z).shape[-1]))"
   ]
  },
  {
   "cell_type": "code",
   "execution_count": null,
   "metadata": {
    "collapsed": false
   },
   "outputs": [],
   "source": [
    "f, axs = plt.subplots(3, 2, figsize=(15,20))\n",
    "axs[0,0].set_title('Angle', fontsize=25)\n",
    "axs[0,0].scatter(Z_flat[:, 0] , Z_flat[:, 1], c=S.reshape((-1, S.shape[-1]))[:, 0], cmap='jet')\n",
    "axs[1,0].scatter(Z_flat[:, 0] , Z_flat[:, 2], c=S.reshape((-1, S.shape[-1]))[:, 0], cmap='jet')\n",
    "axs[2,0].scatter(Z_flat[:, 1] , Z_flat[:, 2], c=S.reshape((-1, S.shape[-1]))[:, 0], cmap='jet')\n",
    "axs[0,1].set_title('Velocity', fontsize=25)\n",
    "axs[0,1].scatter(Z_flat[:, 0] , Z_flat[:, 1], c=S.reshape((-1, S.shape[-1]))[:, 1], cmap='jet')\n",
    "axs[1,1].scatter(Z_flat[:, 0] , Z_flat[:, 2], c=S.reshape((-1, S.shape[-1]))[:, 1], cmap='jet')\n",
    "axs[2,1].scatter(Z_flat[:, 1] , Z_flat[:, 2], c=S.reshape((-1, S.shape[-1]))[:, 1], cmap='jet')"
   ]
  },
  {
   "cell_type": "code",
   "execution_count": null,
   "metadata": {
    "collapsed": false
   },
   "outputs": [],
   "source": [
    "from breze.arch.construct.layer.distributions import DiagGauss\n",
    "f_gen = m.function(['inpt'], DiagGauss(m.gen_x_mean, m.gen_x_var).sample())"
   ]
  },
  {
   "cell_type": "code",
   "execution_count": null,
   "metadata": {
    "collapsed": false
   },
   "outputs": [],
   "source": [
    "f_recon = m.function(['inpt'], m.output)"
   ]
  },
  {
   "cell_type": "code",
   "execution_count": null,
   "metadata": {
    "collapsed": false
   },
   "outputs": [],
   "source": [
    "plot_mean(X)"
   ]
  },
  {
   "cell_type": "code",
   "execution_count": null,
   "metadata": {
    "collapsed": false
   },
   "outputs": [],
   "source": [
    "plot_mean(f_recon(theanox(XU)))"
   ]
  },
  {
   "cell_type": "code",
   "execution_count": null,
   "metadata": {
    "collapsed": false
   },
   "outputs": [],
   "source": [
    "plot_mean(f_gen(theanox(XU)))"
   ]
  },
  {
   "cell_type": "code",
   "execution_count": null,
   "metadata": {
    "collapsed": false
   },
   "outputs": [],
   "source": [
    "plot(theanox(X))"
   ]
  },
  {
   "cell_type": "code",
   "execution_count": null,
   "metadata": {
    "collapsed": false
   },
   "outputs": [],
   "source": [
    "plot(f_recon(theanox(XU)))"
   ]
  },
  {
   "cell_type": "code",
   "execution_count": null,
   "metadata": {
    "collapsed": false
   },
   "outputs": [],
   "source": [
    "plot(f_gen(theanox(XU)))"
   ]
  },
  {
   "cell_type": "code",
   "execution_count": null,
   "metadata": {
    "collapsed": false
   },
   "outputs": [],
   "source": [
    "plot(f_gen(theanox(np.repeat(np.concatenate((X, np.zeros_like(U)), 2), 5, 0))))"
   ]
  },
  {
   "cell_type": "code",
   "execution_count": null,
   "metadata": {
    "collapsed": true
   },
   "outputs": [],
   "source": []
  }
 ],
 "metadata": {
  "kernelspec": {
   "display_name": "Python 2",
   "language": "python",
   "name": "python2"
  },
  "language_info": {
   "codemirror_mode": {
    "name": "ipython",
    "version": 2
   },
   "file_extension": ".py",
   "mimetype": "text/x-python",
   "name": "python",
   "nbconvert_exporter": "python",
   "pygments_lexer": "ipython2",
   "version": "2.7.11"
  }
 },
 "nbformat": 4,
 "nbformat_minor": 0
}
