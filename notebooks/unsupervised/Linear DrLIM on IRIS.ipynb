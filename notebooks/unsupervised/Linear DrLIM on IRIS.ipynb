{
 "metadata": {
  "name": ""
 },
 "nbformat": 3,
 "nbformat_minor": 0,
 "worksheets": [
  {
   "cells": [
    {
     "cell_type": "code",
     "collapsed": false,
     "input": [
      "import itertools\n",
      "import random\n",
      "\n",
      "import numpy as np\n",
      "\n",
      "from IPython.core import pylabtools\n",
      "pylabtools.figsize(16, 9)\n",
      "\n",
      "import climin.stops\n",
      "import climin.initialize\n",
      "\n",
      "from breze.learn.glm import GeneralizedLinearModel\n",
      "from breze.learn.data import one_hot\n",
      "import breze.learn.base\n",
      "\n",
      "from sklearn import neighbors"
     ],
     "language": "python",
     "metadata": {},
     "outputs": [],
     "prompt_number": 11
    },
    {
     "cell_type": "markdown",
     "metadata": {},
     "source": [
      "Prepare data\n",
      "============\n",
      "\n",
      "Data can be downloaded from here: http://archive.ics.uci.edu/ml/machine-learning-databases/iris/iris.data."
     ]
    },
    {
     "cell_type": "code",
     "collapsed": true,
     "input": [
      "data = [i for i in open('iris.data').readlines() if i.strip()]\n",
      "random.shuffle(data)\n",
      "rows = (i.split(',') for i in data)\n",
      "rows = (([float(j) for j in i[:-1]], i[-1]) for i in rows)\n",
      "PX = np.empty((len(data), 4))\n",
      "classes = []\n",
      "for i, (inpt, klass) in enumerate(rows):\n",
      "    PX[i] = inpt\n",
      "    classes.append(klass.strip())\n",
      "    \n",
      "class_types = sorted(set(classes))\n",
      "class_to_int = dict(zip(class_types, range(3)))\n",
      "PC = np.array([class_to_int[i] for i in classes])\n",
      "\n",
      "test_X = PX[100:]\n",
      "test_C = PC[100:]\n",
      "\n",
      "PX = PX[:100]\n",
      "PC = PC[:100]\n",
      "\n",
      "# Draw a number of positive/negative pairs.\n",
      "n_samples = PX.shape[0]\n",
      "pairs = [(i, j) for i in range(n_samples) for j in range(n_samples)]\n",
      "positive_pairs = [(i, j) for i, j in pairs if PC[i] == PC[j]]\n",
      "negative_pairs = [(i, j) for i, j in pairs if PC[i] != PC[j]]\n",
      "\n",
      "# Draw a number of negative pairs.\n",
      "n_pairs = 500\n",
      "n_samples = 2 * n_pairs\n",
      "positive_idxs = list(itertools.chain(*random.sample(positive_pairs, n_pairs)))\n",
      "negative_idxs = list(itertools.chain(*random.sample(negative_pairs, n_pairs)))\n",
      "\n",
      "AX_p = PX[positive_idxs]\n",
      "AX_n = PX[negative_idxs]\n",
      "AZ_p = np.ones((n_pairs, 1))\n",
      "AZ_n = np.zeros((n_pairs, 1))\n",
      "\n",
      "# Split into train, val and test.\n",
      "train_stop, val_stop = n_samples / 2, (n_samples / 4) * 3\n",
      "X_p, Z_p = AX_p[:train_stop], AZ_p[:train_stop / 2]\n",
      "X_n, Z_n = AX_n[:train_stop], AZ_n[:train_stop / 2]\n",
      "X, Z = np.concatenate([X_p, X_n], axis=0), np.concatenate([Z_p, Z_n], axis=0)\n",
      "\n",
      "VX_p, VZ_p = AX_p[train_stop:val_stop], AZ_p[train_stop / 2:val_stop / 2]\n",
      "VX_n, VZ_n = AX_n[train_stop:val_stop], AZ_n[train_stop / 2:val_stop / 2]\n",
      "VX, VZ = np.concatenate([VX_p, VX_n], axis=0), np.concatenate([VZ_p, VZ_n], axis=0)\n",
      "\n",
      "TX_p, TZ_p = AX_p[val_stop:], AZ_p[val_stop / 2:]\n",
      "TX_n, TZ_n = AX_n[val_stop:], AZ_n[val_stop / 2:]\n",
      "TX, TZ = np.concatenate([TX_p, TX_n], axis=0), np.concatenate([TZ_p, TZ_n], axis=0)"
     ],
     "language": "python",
     "metadata": {},
     "outputs": [],
     "prompt_number": 4
    },
    {
     "cell_type": "code",
     "collapsed": false,
     "input": [
      "AX_p, AZ_p, X, Z, VX, TX, TZ, test_X, test_C = [breze.learn.base.cast_array_to_local_type(i) for i in (AX_p, AZ_p, X, Z, VX, TX, TZ, test_X, test_C)]"
     ],
     "language": "python",
     "metadata": {},
     "outputs": [],
     "prompt_number": 22
    },
    {
     "cell_type": "markdown",
     "metadata": {},
     "source": [
      "Setup of model\n",
      "=============="
     ]
    },
    {
     "cell_type": "code",
     "collapsed": false,
     "input": [
      "max_iter = 100\n",
      "\n",
      "stop = climin.stops.any_([\n",
      "    #climin.stops.converged('loss'),\n",
      "    #climin.stops.rising('val_loss', 10, 1e-5, patience=5),\n",
      "    climin.stops.after_n_iterations(max_iter),\n",
      "    ])\n",
      "\n",
      "pause = climin.stops.modulo_n_iterations(10)\n",
      "\n",
      "optimizer = 'lbfgs'\n",
      "m = GeneralizedLinearModel(4, 2, out_transfer='identity', loss='drlim1', optimizer=optimizer, max_iter=max_iter)\n",
      "m.parameters.data[:] = np.random.normal(0, 2, m.parameters.data.shape)\n",
      "\n",
      "losses = []\n",
      "v_losses = []"
     ],
     "language": "python",
     "metadata": {},
     "outputs": [],
     "prompt_number": 13
    },
    {
     "cell_type": "markdown",
     "metadata": {},
     "source": [
      "Learning\n",
      "========"
     ]
    },
    {
     "cell_type": "code",
     "collapsed": false,
     "input": [
      "# Set up a nice printout.\n",
      "keys = '#', 'loss', 'val loss'#, 'step_length'\n",
      "max_len = max(len(i) for i in keys)\n",
      "header = '   '.join(i.ljust(max_len) for i in keys)\n",
      "print header\n",
      "print '-' * len(header)\n",
      "\n",
      "for info in m.powerfit((X, Z), (VX, VZ), stop, pause):\n",
      "    losses.append(info['loss'])\n",
      "    v_losses.append(info['val_loss'])\n",
      "    \n",
      "    #img = tile_raster_images(fe.parameters['in_to_hidden'].T, image_dims, feature_dims, (1, 1))\n",
      "    #save_and_display(img, 'filters-%i.png' % i)  \n",
      "    \n",
      "    row = '%i' % info['n_iter'], '%.6f' % info['loss'], '%.6f' % info['val_loss']#, '%.6f' % info['step_length']\n",
      "    print '   '.join(i.ljust(max_len) for i in row)"
     ],
     "language": "python",
     "metadata": {},
     "outputs": [
      {
       "output_type": "stream",
       "stream": "stdout",
       "text": [
        "#          loss       val loss\n",
        "------------------------------\n",
        "0          1.899237   1.906833"
       ]
      },
      {
       "output_type": "stream",
       "stream": "stdout",
       "text": [
        "\n",
        "10         0.034032   0.034658\n",
        "20         0.033863   0.034364\n",
        "30         0.033863   0.034364"
       ]
      },
      {
       "output_type": "stream",
       "stream": "stdout",
       "text": [
        "\n",
        "40         0.033863   0.034364\n",
        "50         0.033863   0.034364"
       ]
      },
      {
       "output_type": "stream",
       "stream": "stdout",
       "text": [
        "\n",
        "60         0.033863   0.034364\n",
        "70         0.033863   0.034364"
       ]
      },
      {
       "output_type": "stream",
       "stream": "stdout",
       "text": [
        "\n",
        "80         0.033863   0.034364\n",
        "90         0.033863   0.034364"
       ]
      },
      {
       "output_type": "stream",
       "stream": "stdout",
       "text": [
        "\n"
       ]
      }
     ],
     "prompt_number": 14
    },
    {
     "cell_type": "markdown",
     "metadata": {},
     "source": [
      "Learning curves\n",
      "==============="
     ]
    },
    {
     "cell_type": "code",
     "collapsed": false,
     "input": [
      "pylab.plot(losses, 'b-', label='training loss')\n",
      "pylab.plot(v_losses, 'r-', label='validation loss')\n",
      "pylab.legend()"
     ],
     "language": "python",
     "metadata": {},
     "outputs": [
      {
       "metadata": {},
       "output_type": "pyout",
       "prompt_number": 15,
       "text": [
        "<matplotlib.legend.Legend at 0x116c38890>"
       ]
      },
      {
       "metadata": {},
       "output_type": "display_data",
       "png": "[encoded data removed]",
       "text": [
        "<matplotlib.figure.Figure at 0x116ac7dd0>"
       ]
      }
     ],
     "prompt_number": 15
    },
    {
     "cell_type": "markdown",
     "metadata": {},
     "source": [
      "Visualize Embeddings\n",
      "===================="
     ]
    },
    {
     "cell_type": "code",
     "collapsed": false,
     "input": [
      "# Calculate embeddings.\n",
      "f_embed = m.function(['inpt'], 'output')\n",
      "E = f_embed(test_X)"
     ],
     "language": "python",
     "metadata": {},
     "outputs": [],
     "prompt_number": 23
    },
    {
     "cell_type": "code",
     "collapsed": false,
     "input": [
      "pylab.plot(E[test_C == 0, 0], E[test_C == 0, 1], 'ro', label=class_types[0])\n",
      "pylab.plot(E[test_C == 1, 0], E[test_C == 1, 1], 'yo', label=class_types[1])\n",
      "pylab.plot(E[test_C == 2, 0], E[test_C == 2, 1], 'ko', label=class_types[2])\n",
      "pylab.legend()"
     ],
     "language": "python",
     "metadata": {},
     "outputs": [
      {
       "metadata": {},
       "output_type": "pyout",
       "prompt_number": 24,
       "text": [
        "<matplotlib.legend.Legend at 0x113a50b90>"
       ]
      },
      {
       "metadata": {},
       "output_type": "display_data",
       "png": "[encoded data removed]",
       "text": [
        "<matplotlib.figure.Figure at 0x11399fa90>"
       ]
      }
     ],
     "prompt_number": 24
    }
   ],
   "metadata": {}
  }
 ]
}