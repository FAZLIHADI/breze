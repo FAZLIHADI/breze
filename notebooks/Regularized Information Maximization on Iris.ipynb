{
 "metadata": {
  "name": "Regularized Information Maximization on Iris"
 },
 "nbformat": 3,
 "nbformat_minor": 0,
 "worksheets": [
  {
   "cells": [
    {
     "cell_type": "code",
     "collapsed": false,
     "input": [
      "import numpy as np\n",
      "\n",
      "from IPython.core import pylabtools\n",
      "pylabtools.figsize(16, 9)\n",
      "\n",
      "import climin.stops\n",
      "import climin.initialize\n",
      "\n",
      "from brummlearn.rim import Rim\n",
      "\n",
      "from sklearn import metrics"
     ],
     "language": "python",
     "metadata": {},
     "outputs": [],
     "prompt_number": 1
    },
    {
     "cell_type": "code",
     "collapsed": false,
     "input": [
      "# Convenience function which is useful for learning: it has early stopping and\n",
      "# saves the best parameters of the validation set.\n",
      "\n",
      "def fit(X, VX, model, stop, pause):\n",
      "    train_losses = []\n",
      "    val_losses = []\n",
      "    f_loss = model.function(['inpt'], 'loss')\n",
      "    \n",
      "    best_pars = None\n",
      "    best_loss = float('inf')\n",
      "\n",
      "    for info in model.iter_fit(X):\n",
      "        if not pause(info):\n",
      "            continue\n",
      "        info['loss'] = f_loss(X)\n",
      "        info['val_loss'] = f_loss(VX)\n",
      "        train_losses.append(info['loss'])\n",
      "        val_losses.append(info['val_loss'])\n",
      "        \n",
      "        if info['val_loss'] < best_loss:\n",
      "            best_loss = info['val_loss']\n",
      "            best_pars = model.parameters.data.copy()\n",
      "            \n",
      "        info['best_loss'] = best_loss\n",
      "        info['best_pars'] = best_pars\n",
      "        \n",
      "        yield info\n",
      "        if stop(info):\n",
      "            print 'stopping condition'\n",
      "            break"
     ],
     "language": "python",
     "metadata": {},
     "outputs": [],
     "prompt_number": 2
    },
    {
     "cell_type": "markdown",
     "metadata": {},
     "source": [
      "Prepare data\n",
      "============"
     ]
    },
    {
     "cell_type": "code",
     "collapsed": false,
     "input": [
      "data = [i for i in open('iris.data').readlines() if i.strip()]\n",
      "rows = (i.split(',') for i in data)\n",
      "rows = (([float(j) for j in i[:-1]], i[-1]) for i in rows)\n",
      "AX = np.empty((len(data), 4))\n",
      "classes = []\n",
      "for i, (inpt, klass) in enumerate(rows):\n",
      "    AX[i] = inpt\n",
      "    classes.append(klass.strip())\n",
      "    \n",
      "class_types = sorted(set(classes))\n",
      "class_to_int = dict(zip(class_types, range(3)))\n",
      "AC = np.array([class_to_int[i] for i in classes])\n",
      "\n",
      "# Shuffle data set. This will not necessarily result in stratified sets.\n",
      "idxs = range(AX.shape[0])\n",
      "random.seed(1234)\n",
      "random.shuffle(idxs)\n",
      "AX = AX[idxs]\n",
      "AC = AC[idxs]\n",
      "\n",
      "# Split into train, val and test.\n",
      "TX, TC = AX[100:], AC[100:]\n",
      "VX, VC = AX[50:100], AC[50:100]\n",
      "X, C = AX[:50], AC[:50]"
     ],
     "language": "python",
     "metadata": {},
     "outputs": [],
     "prompt_number": 3
    },
    {
     "cell_type": "markdown",
     "metadata": {},
     "source": [
      "Setup of model\n",
      "=============="
     ]
    },
    {
     "cell_type": "code",
     "collapsed": false,
     "input": [
      "max_iter = 100\n",
      "\n",
      "stop = climin.stops.any_([\n",
      "    climin.stops.converged('loss'),\n",
      "    climin.stops.rising('val_loss', 10, 1e-5, patience=5),\n",
      "    climin.stops.after_n_iterations(max_iter),\n",
      "    ])\n",
      "\n",
      "pause = climin.stops.modulo_n_iterations(10)\n",
      "\n",
      "optimizer = 'lbfgs'\n",
      "m = Rim(4, 10, 0.01, optimizer=optimizer, max_iter=max_iter)\n",
      "\n",
      "losses = []\n",
      "v_losses = []"
     ],
     "language": "python",
     "metadata": {},
     "outputs": [],
     "prompt_number": 4
    },
    {
     "cell_type": "markdown",
     "metadata": {},
     "source": [
      "Learning\n",
      "========"
     ]
    },
    {
     "cell_type": "code",
     "collapsed": false,
     "input": [
      "# Set up a nice printout.\n",
      "keys = '#', 'loss', 'val loss'#, 'step_length'\n",
      "max_len = max(len(i) for i in keys)\n",
      "header = '   '.join(i.ljust(max_len) for i in keys)\n",
      "print header\n",
      "print '-' * len(header)\n",
      "\n",
      "for i, info in enumerate(fit(X, VX, m, stop, pause)):\n",
      "    losses.append(info['loss'])\n",
      "    v_losses.append(info['val_loss'])\n",
      "    \n",
      "    #img = tile_raster_images(fe.parameters['in_to_hidden'].T, image_dims, feature_dims, (1, 1))\n",
      "    #save_and_display(img, 'filters-%i.png' % i)  \n",
      "    \n",
      "    row = '%i' % i, '%.6f' % info['loss'], '%.6f' % info['val_loss']#, '%.6f' % info['step_length']\n",
      "    print '   '.join(i.ljust(max_len) for i in row)"
     ],
     "language": "python",
     "metadata": {},
     "outputs": [
      {
       "output_type": "stream",
       "stream": "stdout",
       "text": [
        "#          loss       val loss\n",
        "------------------------------\n",
        "0          -0.175635   -0.190630"
       ]
      },
      {
       "output_type": "stream",
       "stream": "stdout",
       "text": [
        "\n",
        "1          -0.524404   -0.533788\n",
        "2          -0.538714   -0.545487\n",
        "3          -0.618991   -0.580646\n",
        "4          -0.642316   -0.595849\n",
        "5          -0.685508   -0.626462\n",
        "6          -0.687400   -0.628799"
       ]
      },
      {
       "output_type": "stream",
       "stream": "stdout",
       "text": [
        "\n",
        "7          -0.687417   -0.628916\n",
        "8          -0.687444   -0.629231\n",
        "9          -0.687473   -0.629048\n",
        "10         -0.687595   -0.629099\n",
        "stopping condition\n"
       ]
      }
     ],
     "prompt_number": 5
    },
    {
     "cell_type": "markdown",
     "metadata": {},
     "source": [
      "Learning curves\n",
      "==============="
     ]
    },
    {
     "cell_type": "code",
     "collapsed": false,
     "input": [
      "pylab.plot(losses, 'b-', label='training loss')\n",
      "pylab.plot(v_losses, 'r-', label='validation loss')\n",
      "pylab.legend()"
     ],
     "language": "python",
     "metadata": {},
     "outputs": [
      {
       "output_type": "pyout",
       "prompt_number": 6,
       "text": [
        "<matplotlib.legend.Legend at 0x119bc1890>"
       ]
      },
      {
       "output_type": "display_data",
       "png": "[encoded data removed]",
       "text": [
        "<matplotlib.figure.Figure at 0x113d0ad90>"
       ]
      }
     ],
     "prompt_number": 6
    },
    {
     "cell_type": "markdown",
     "metadata": {},
     "source": [
      "Cluster assignments\n",
      "==================="
     ]
    },
    {
     "cell_type": "code",
     "collapsed": false,
     "input": [
      "# Calculate assignment probabilityes.\n",
      "f_assign = m.function(['inpt'], 'output')\n",
      "A = f_assign(X)\n",
      "VA = f_assign(VX)\n",
      "TA = f_assign(TX)"
     ],
     "language": "python",
     "metadata": {},
     "outputs": [],
     "prompt_number": 7
    },
    {
     "cell_type": "code",
     "collapsed": false,
     "input": [
      "pylab.bar(np.arange(A.shape[1]), A.mean(axis=0))"
     ],
     "language": "python",
     "metadata": {},
     "outputs": [
      {
       "output_type": "pyout",
       "prompt_number": 8,
       "text": [
        "<Container object of 10 artists>"
       ]
      },
      {
       "output_type": "display_data",
       "png": "[encoded data removed]",
       "text": [
        "<matplotlib.figure.Figure at 0x119d72b90>"
       ]
      }
     ],
     "prompt_number": 8
    },
    {
     "cell_type": "code",
     "collapsed": false,
     "input": [
      "# Calculate the adjusted mutual information score btw the cluster \n",
      "# assignments and the true labels. Random guessing would be 0.0, \n",
      "# perfect labeling is 1.0\n",
      "metrics.adjusted_mutual_info_score(TC, TA.argmax(axis=1))"
     ],
     "language": "python",
     "metadata": {},
     "outputs": [
      {
       "output_type": "pyout",
       "prompt_number": 9,
       "text": [
        "0.69893558247206833"
       ]
      }
     ],
     "prompt_number": 9
    }
   ],
   "metadata": {}
  }
 ]
}