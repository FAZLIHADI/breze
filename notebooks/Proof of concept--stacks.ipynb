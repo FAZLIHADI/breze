{
 "metadata": {
  "name": "",
  "signature": "sha256:7ec3f919742eace3a17215c24c70d602e4caab6b0da9bc63a3849e4b07194da0"
 },
 "nbformat": 3,
 "nbformat_minor": 0,
 "worksheets": [
  {
   "cells": [
    {
     "cell_type": "code",
     "collapsed": false,
     "input": [
      "import numpy as np\n",
      "import matplotlib.pyplot as plt\n",
      "%matplotlib inline\n",
      "\n",
      "import theano.tensor as T\n",
      "\n",
      "import climin.initialize\n",
      "import climin.stops\n",
      "\n",
      "from breze.arch import stack\n",
      "reload(stack)"
     ],
     "language": "python",
     "metadata": {},
     "outputs": [
      {
       "output_type": "stream",
       "stream": "stdout",
       "text": [
        "gnumpy: failed to import cudamat. Using npmat instead. No GPU will be used.\n"
       ]
      },
      {
       "metadata": {},
       "output_type": "pyout",
       "prompt_number": 1,
       "text": [
        "<module 'breze.arch.stack' from '/Users/bayerj/devel/breze/breze/arch/stack.pyc'>"
       ]
      }
     ],
     "prompt_number": 1
    },
    {
     "cell_type": "code",
     "collapsed": false,
     "input": [
      "s = stack.SupervisedStack()\n",
      "\n",
      "s.layers.append(stack.AffineNonlinear('hidden_layer1', 1, 10, 'tanh'))\n",
      "s.layers.append(stack.AffineNonlinear('hidden_layer2', 10, 10, 'tanh'))\n",
      "s.layers.append(stack.AffineNonlinear('output', 10, 1))\n",
      "s.loss = stack.SupervisedLoss('squared')\n",
      "\n",
      "s.finalize()\n",
      "\n",
      "s.optimizer = 'adam'\n",
      "climin.initialize.randomize_normal(s.parameters.data, 0, 1)"
     ],
     "language": "python",
     "metadata": {},
     "outputs": [],
     "prompt_number": 6
    },
    {
     "cell_type": "code",
     "collapsed": false,
     "input": [
      "X = np.linspace(-1, 1, 100)[:, np.newaxis].astype('float32')\n",
      "Z = X ** 2"
     ],
     "language": "python",
     "metadata": {},
     "outputs": [],
     "prompt_number": 7
    },
    {
     "cell_type": "code",
     "collapsed": false,
     "input": [
      "stop = climin.stops.AfterNIterations(10000)\n",
      "report = climin.stops.ModuloNIterations(1000)\n",
      "\n",
      "for info in s.powerfit((X, Z), (X, Z), stop=stop, report=report):\n",
      "    print info['loss']"
     ],
     "language": "python",
     "metadata": {},
     "outputs": [
      {
       "output_type": "stream",
       "stream": "stdout",
       "text": [
        "4.61281e-05\n",
        "5.08614e-05"
       ]
      },
      {
       "output_type": "stream",
       "stream": "stdout",
       "text": [
        "\n",
        "4.18305e-05"
       ]
      },
      {
       "output_type": "stream",
       "stream": "stdout",
       "text": [
        "\n",
        "3.97296e-05"
       ]
      },
      {
       "output_type": "stream",
       "stream": "stdout",
       "text": [
        "\n",
        "3.97174e-05"
       ]
      },
      {
       "output_type": "stream",
       "stream": "stdout",
       "text": [
        "\n",
        "3.55917e-05"
       ]
      },
      {
       "output_type": "stream",
       "stream": "stdout",
       "text": [
        "\n",
        "3.4108e-05"
       ]
      },
      {
       "output_type": "stream",
       "stream": "stdout",
       "text": [
        "\n",
        "3.23993e-05"
       ]
      },
      {
       "output_type": "stream",
       "stream": "stdout",
       "text": [
        "\n",
        "3.09095e-05"
       ]
      },
      {
       "output_type": "stream",
       "stream": "stdout",
       "text": [
        "\n",
        "2.96296e-05"
       ]
      },
      {
       "output_type": "stream",
       "stream": "stdout",
       "text": [
        "\n"
       ]
      }
     ],
     "prompt_number": 15
    },
    {
     "cell_type": "code",
     "collapsed": false,
     "input": [
      "Y, = s.predict(X)"
     ],
     "language": "python",
     "metadata": {},
     "outputs": [],
     "prompt_number": 17
    },
    {
     "cell_type": "code",
     "collapsed": false,
     "input": [
      "plt.plot(X[:, 0], Y[:, 0])\n",
      "plt.plot(X[:, 0], Z[:, 0])"
     ],
     "language": "python",
     "metadata": {},
     "outputs": [
      {
       "metadata": {},
       "output_type": "pyout",
       "prompt_number": 18,
       "text": [
        "[<matplotlib.lines.Line2D at 0x118835310>]"
       ]
      },
      {
       "metadata": {},
       "output_type": "display_data",
       "png": "[encoded data removed]",
       "text": [
        "<matplotlib.figure.Figure at 0x118835350>"
       ]
      }
     ],
     "prompt_number": 18
    }
   ],
   "metadata": {}
  }
 ]
}