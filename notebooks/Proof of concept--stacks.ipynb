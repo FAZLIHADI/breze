{
 "metadata": {
  "name": "",
  "signature": "sha256:59e15873de17d058b70b5eaecfba57706ff6b824335d5f311f21244dfb823921"
 },
 "nbformat": 3,
 "nbformat_minor": 0,
 "worksheets": [
  {
   "cells": [
    {
     "cell_type": "code",
     "collapsed": false,
     "input": [
      "import numpy as np\n",
      "import matplotlib.pyplot as plt\n",
      "%matplotlib inline\n",
      "\n",
      "import theano\n",
      "import theano.tensor as T\n",
      "\n",
      "import climin.initialize\n",
      "import climin.stops\n",
      "\n",
      "from breze.arch.construct import base\n",
      "from breze.arch.construct.layer import simple, varprop\n",
      "reload(base)\n",
      "reload(simple)\n",
      "reload(varprop)"
     ],
     "language": "python",
     "metadata": {},
     "outputs": [
      {
       "metadata": {},
       "output_type": "pyout",
       "prompt_number": 10,
       "text": [
        "<module 'breze.arch.construct.layer.varprop' from '/Users/bayerj/devel/breze/breze/arch/construct/layer/varprop.pyc'>"
       ]
      }
     ],
     "prompt_number": 10
    },
    {
     "cell_type": "code",
     "collapsed": false,
     "input": [
      "X = np.linspace(-1, 1, 100)[:, np.newaxis].astype('float32')\n",
      "Z = X ** 2 + np.random.standard_normal(X.shape)"
     ],
     "language": "python",
     "metadata": {},
     "outputs": [],
     "prompt_number": 35
    },
    {
     "cell_type": "code",
     "collapsed": false,
     "input": [
      "inpt = T.matrix('inpt')\n",
      "target = T.matrix('target')\n",
      "\n",
      "typ = 'fd'\n",
      "\n",
      "if typ == 'plain':\n",
      "    layers = [\n",
      "        simple.AffineNonlinear(1, 20, 'tanh'),\n",
      "        #simple.AffineNonlinear(10, 10, 'tanh'),\n",
      "        simple.AffineNonlinear(20, 1)\n",
      "    ]\n",
      "\n",
      "elif typ == 'fd':\n",
      "    layers = [\n",
      "        varprop.AugmentVariance(),\n",
      "        varprop.FastDropout(.1),\n",
      "        varprop.VarpropAffineNonLinear(1, 20, 'rectifier'),\n",
      "        #varprop.FastDropout(.2),\n",
      "        varprop.VarpropAffineNonLinear(20, 1, 'rectifier'),\n",
      "        varprop.DiscardVariance()\n",
      "    ]\n",
      "\n",
      "loss = simple.SupervisedLoss('squared', target)\n",
      "s = base.SupervisedStack(layers, loss)\n",
      "s.forward(inpt)\n",
      "\n",
      "s.optimizer = 'adam'"
     ],
     "language": "python",
     "metadata": {},
     "outputs": [],
     "prompt_number": 60
    },
    {
     "cell_type": "code",
     "collapsed": false,
     "input": [
      "climin.initialize.randomize_normal(s.parameters.data, 0, .1)"
     ],
     "language": "python",
     "metadata": {},
     "outputs": [],
     "prompt_number": 61
    },
    {
     "cell_type": "code",
     "collapsed": false,
     "input": [
      "s.exprs"
     ],
     "language": "python",
     "metadata": {},
     "outputs": [
      {
       "metadata": {},
       "output_type": "pyout",
       "prompt_number": 62,
       "text": [
        "{'AugmentVariance-40': {'inpt': inpt, 'vari': Elemwise{add,no_inplace}.0},\n",
        " 'DiscardVariance-43': {'mean': Elemwise{add,no_inplace}.0},\n",
        " 'FastDropout-41': {'inpt_mean': inpt,\n",
        "  'inpt_var': Elemwise{add,no_inplace}.0,\n",
        "  'output_mean': Elemwise{mul,no_inplace}.0,\n",
        "  'output_var': Elemwise{add,no_inplace}.0},\n",
        " 'VarpropAffineNonLinear-42': {'bm': Reshape{1}.0,\n",
        "  'bs': Elemwise{pow,no_inplace}.0,\n",
        "  'inpt_mean': Elemwise{mul,no_inplace}.0,\n",
        "  'inpt_var': Elemwise{add,no_inplace}.0,\n",
        "  'post_mean': Elemwise{add,no_inplace}.0,\n",
        "  'post_var': Elemwise{sub,no_inplace}.0,\n",
        "  'pres_mean': Elemwise{add,no_inplace}.0,\n",
        "  'pres_var': Elemwise{add,no_inplace}.0,\n",
        "  'wm': Reshape{2}.0,\n",
        "  'ws': Elemwise{pow,no_inplace}.0},\n",
        " 'inpt': inpt,\n",
        " 'loss': Elemwise{true_div,no_inplace}.0,\n",
        " 'output': Elemwise{add,no_inplace}.0,\n",
        " 'target': target}"
       ]
      }
     ],
     "prompt_number": 62
    },
    {
     "cell_type": "code",
     "collapsed": false,
     "input": [
      "stop = climin.stops.AfterNIterations(10000)\n",
      "report = climin.stops.ModuloNIterations(1000)\n",
      "\n",
      "for info in s.powerfit((X, Z), (X, Z), stop=stop, report=report):\n",
      "    print info['loss']"
     ],
     "language": "python",
     "metadata": {},
     "outputs": [
      {
       "ename": "ValueError",
       "evalue": "Input dimension mis-match. (input[0].shape[1] = 1, input[2].shape[1] = 20)\nApply node that caused the error: Elemwise{Composite{[Composite{[Composite{[sub(i0, add(i1, i2))]}(i0, mul(i1, i2), mul(i3, i4, i5))]}(i0, mul(i1, i2), i3, i4, i5, i6)]}}(target, TensorConstant{(1, 1) of 0.5}, Elemwise{Composite{[erfc(neg(i0))]}}.0, Elemwise{Add{output_types_preference=transfer_type{0}}}[(0, 0)].0, TensorConstant{(1, 1) of 0.398942}, Elemwise{Composite{[Composite{[Composite{[exp(mul(i0, i1))]}(i0, sqr(i1))]}(i0, true_div(i1, i2))]}}.0, Elemwise{Composite{[sqrt(add(i0, i1))]}}[(0, 1)].0)\nInputs shapes: [(100, 1), (1, 1), (100, 20), (100, 20), (1, 1), (100, 20), (100, 20)]\nInputs strides: [(4, 4), (4, 4), (80, 4), (80, 4), (4, 4), (80, 4), (80, 4)]\nInputs types: [TensorType(float32, matrix), TensorType(float32, (True, True)), TensorType(float32, matrix), TensorType(float32, matrix), TensorType(float32, (True, True)), TensorType(float32, matrix), TensorType(float32, matrix)]\nUse the Theano flag 'exception_verbosity=high' for a debugprint of this apply node.",
       "output_type": "pyerr",
       "traceback": [
        "\u001b[0;31m---------------------------------------------------------------------------\u001b[0m\n\u001b[0;31mValueError\u001b[0m                                Traceback (most recent call last)",
        "\u001b[0;32m<ipython-input-63-3bcdfb11b104>\u001b[0m in \u001b[0;36m<module>\u001b[0;34m()\u001b[0m\n\u001b[1;32m      2\u001b[0m \u001b[0mreport\u001b[0m \u001b[0;34m=\u001b[0m \u001b[0mclimin\u001b[0m\u001b[0;34m.\u001b[0m\u001b[0mstops\u001b[0m\u001b[0;34m.\u001b[0m\u001b[0mModuloNIterations\u001b[0m\u001b[0;34m(\u001b[0m\u001b[0;36m1000\u001b[0m\u001b[0;34m)\u001b[0m\u001b[0;34m\u001b[0m\u001b[0m\n\u001b[1;32m      3\u001b[0m \u001b[0;34m\u001b[0m\u001b[0m\n\u001b[0;32m----> 4\u001b[0;31m \u001b[0;32mfor\u001b[0m \u001b[0minfo\u001b[0m \u001b[0;32min\u001b[0m \u001b[0ms\u001b[0m\u001b[0;34m.\u001b[0m\u001b[0mpowerfit\u001b[0m\u001b[0;34m(\u001b[0m\u001b[0;34m(\u001b[0m\u001b[0mX\u001b[0m\u001b[0;34m,\u001b[0m \u001b[0mZ\u001b[0m\u001b[0;34m)\u001b[0m\u001b[0;34m,\u001b[0m \u001b[0;34m(\u001b[0m\u001b[0mX\u001b[0m\u001b[0;34m,\u001b[0m \u001b[0mZ\u001b[0m\u001b[0;34m)\u001b[0m\u001b[0;34m,\u001b[0m \u001b[0mstop\u001b[0m\u001b[0;34m=\u001b[0m\u001b[0mstop\u001b[0m\u001b[0;34m,\u001b[0m \u001b[0mreport\u001b[0m\u001b[0;34m=\u001b[0m\u001b[0mreport\u001b[0m\u001b[0;34m)\u001b[0m\u001b[0;34m:\u001b[0m\u001b[0;34m\u001b[0m\u001b[0m\n\u001b[0m\u001b[1;32m      5\u001b[0m     \u001b[0;32mprint\u001b[0m \u001b[0minfo\u001b[0m\u001b[0;34m[\u001b[0m\u001b[0;34m'loss'\u001b[0m\u001b[0;34m]\u001b[0m\u001b[0;34m\u001b[0m\u001b[0m\n",
        "\u001b[0;32m/Users/bayerj/devel/breze/breze/learn/base.pyc\u001b[0m in \u001b[0;36mpowerfit\u001b[0;34m(self, fit_data, eval_data, stop, report, eval_train_loss)\u001b[0m\n\u001b[1;32m    145\u001b[0m         \u001b[0mbest_loss\u001b[0m \u001b[0;34m=\u001b[0m \u001b[0mfloat\u001b[0m\u001b[0;34m(\u001b[0m\u001b[0;34m'inf'\u001b[0m\u001b[0;34m)\u001b[0m\u001b[0;34m\u001b[0m\u001b[0m\n\u001b[1;32m    146\u001b[0m \u001b[0;34m\u001b[0m\u001b[0m\n\u001b[0;32m--> 147\u001b[0;31m         \u001b[0;32mfor\u001b[0m \u001b[0minfo\u001b[0m \u001b[0;32min\u001b[0m \u001b[0mself\u001b[0m\u001b[0;34m.\u001b[0m\u001b[0miter_fit\u001b[0m\u001b[0;34m(\u001b[0m\u001b[0;34m*\u001b[0m\u001b[0mfit_data\u001b[0m\u001b[0;34m)\u001b[0m\u001b[0;34m:\u001b[0m\u001b[0;34m\u001b[0m\u001b[0m\n\u001b[0m\u001b[1;32m    148\u001b[0m             \u001b[0;32mif\u001b[0m \u001b[0mreport\u001b[0m\u001b[0;34m(\u001b[0m\u001b[0minfo\u001b[0m\u001b[0;34m)\u001b[0m\u001b[0;34m:\u001b[0m\u001b[0;34m\u001b[0m\u001b[0m\n\u001b[1;32m    149\u001b[0m                 \u001b[0;32mif\u001b[0m \u001b[0;34m'loss'\u001b[0m \u001b[0;32mnot\u001b[0m \u001b[0;32min\u001b[0m \u001b[0minfo\u001b[0m\u001b[0;34m:\u001b[0m\u001b[0;34m\u001b[0m\u001b[0m\n",
        "\u001b[0;32m/Users/bayerj/devel/breze/breze/learn/base.pyc\u001b[0m in \u001b[0;36miter_fit\u001b[0;34m(self, X, Z, imp_weight, info_opt)\u001b[0m\n\u001b[1;32m    266\u001b[0m         \u001b[0mopt\u001b[0m \u001b[0;34m=\u001b[0m \u001b[0mself\u001b[0m\u001b[0;34m.\u001b[0m\u001b[0m_make_optimizer\u001b[0m\u001b[0;34m(\u001b[0m\u001b[0mself\u001b[0m\u001b[0;34m.\u001b[0m\u001b[0m_f_loss\u001b[0m\u001b[0;34m,\u001b[0m \u001b[0mself\u001b[0m\u001b[0;34m.\u001b[0m\u001b[0m_f_dloss\u001b[0m\u001b[0;34m,\u001b[0m \u001b[0margs\u001b[0m\u001b[0;34m,\u001b[0m \u001b[0minfo\u001b[0m\u001b[0;34m=\u001b[0m\u001b[0minfo_opt\u001b[0m\u001b[0;34m)\u001b[0m\u001b[0;34m\u001b[0m\u001b[0m\n\u001b[1;32m    267\u001b[0m \u001b[0;34m\u001b[0m\u001b[0m\n\u001b[0;32m--> 268\u001b[0;31m         \u001b[0;32mfor\u001b[0m \u001b[0mi\u001b[0m\u001b[0;34m,\u001b[0m \u001b[0minfo\u001b[0m \u001b[0;32min\u001b[0m \u001b[0menumerate\u001b[0m\u001b[0;34m(\u001b[0m\u001b[0mopt\u001b[0m\u001b[0;34m)\u001b[0m\u001b[0;34m:\u001b[0m\u001b[0;34m\u001b[0m\u001b[0m\n\u001b[0m\u001b[1;32m    269\u001b[0m             \u001b[0;32myield\u001b[0m \u001b[0minfo\u001b[0m\u001b[0;34m\u001b[0m\u001b[0m\n\u001b[1;32m    270\u001b[0m \u001b[0;34m\u001b[0m\u001b[0m\n",
        "\u001b[0;32m/Users/bayerj/devel/climin/climin/base.pyc\u001b[0m in \u001b[0;36m__iter__\u001b[0;34m(self)\u001b[0m\n\u001b[1;32m     81\u001b[0m \u001b[0;34m\u001b[0m\u001b[0m\n\u001b[1;32m     82\u001b[0m     \u001b[0;32mdef\u001b[0m \u001b[0m__iter__\u001b[0m\u001b[0;34m(\u001b[0m\u001b[0mself\u001b[0m\u001b[0;34m)\u001b[0m\u001b[0;34m:\u001b[0m\u001b[0;34m\u001b[0m\u001b[0m\n\u001b[0;32m---> 83\u001b[0;31m         \u001b[0;32mfor\u001b[0m \u001b[0minfo\u001b[0m \u001b[0;32min\u001b[0m \u001b[0mself\u001b[0m\u001b[0;34m.\u001b[0m\u001b[0m_iterate\u001b[0m\u001b[0;34m(\u001b[0m\u001b[0;34m)\u001b[0m\u001b[0;34m:\u001b[0m\u001b[0;34m\u001b[0m\u001b[0m\n\u001b[0m\u001b[1;32m     84\u001b[0m             \u001b[0;32myield\u001b[0m \u001b[0mself\u001b[0m\u001b[0;34m.\u001b[0m\u001b[0mextended_info\u001b[0m\u001b[0;34m(\u001b[0m\u001b[0;34m**\u001b[0m\u001b[0minfo\u001b[0m\u001b[0;34m)\u001b[0m\u001b[0;34m\u001b[0m\u001b[0m\n\u001b[1;32m     85\u001b[0m \u001b[0;34m\u001b[0m\u001b[0m\n",
        "\u001b[0;32m/Users/bayerj/devel/climin/climin/adam.pyc\u001b[0m in \u001b[0;36m_iterate\u001b[0;34m(self)\u001b[0m\n\u001b[1;32m    164\u001b[0m \u001b[0;34m\u001b[0m\u001b[0m\n\u001b[1;32m    165\u001b[0m             \u001b[0mcoeff1\u001b[0m \u001b[0;34m=\u001b[0m \u001b[0;36m1\u001b[0m \u001b[0;34m-\u001b[0m \u001b[0;34m(\u001b[0m\u001b[0;36m1\u001b[0m \u001b[0;34m-\u001b[0m \u001b[0mdm1\u001b[0m\u001b[0;34m)\u001b[0m \u001b[0;34m*\u001b[0m \u001b[0md\u001b[0m \u001b[0;34m**\u001b[0m \u001b[0;34m(\u001b[0m\u001b[0mt\u001b[0m \u001b[0;34m-\u001b[0m \u001b[0;36m1\u001b[0m\u001b[0;34m)\u001b[0m\u001b[0;34m\u001b[0m\u001b[0m\n\u001b[0;32m--> 166\u001b[0;31m             \u001b[0mgradient\u001b[0m \u001b[0;34m=\u001b[0m \u001b[0mself\u001b[0m\u001b[0;34m.\u001b[0m\u001b[0mfprime\u001b[0m\u001b[0;34m(\u001b[0m\u001b[0mself\u001b[0m\u001b[0;34m.\u001b[0m\u001b[0mwrt\u001b[0m\u001b[0;34m,\u001b[0m \u001b[0;34m*\u001b[0m\u001b[0margs\u001b[0m\u001b[0;34m,\u001b[0m \u001b[0;34m**\u001b[0m\u001b[0mkwargs\u001b[0m\u001b[0;34m)\u001b[0m\u001b[0;34m\u001b[0m\u001b[0m\n\u001b[0m\u001b[1;32m    167\u001b[0m             \u001b[0mself\u001b[0m\u001b[0;34m.\u001b[0m\u001b[0mest_mom1_b\u001b[0m \u001b[0;34m=\u001b[0m \u001b[0mcoeff1\u001b[0m \u001b[0;34m*\u001b[0m \u001b[0mgradient\u001b[0m \u001b[0;34m+\u001b[0m \u001b[0;34m(\u001b[0m\u001b[0;36m1\u001b[0m \u001b[0;34m-\u001b[0m \u001b[0mcoeff1\u001b[0m\u001b[0;34m)\u001b[0m \u001b[0;34m*\u001b[0m \u001b[0mest_mom1_b_m1\u001b[0m\u001b[0;34m\u001b[0m\u001b[0m\n\u001b[1;32m    168\u001b[0m             \u001b[0mself\u001b[0m\u001b[0;34m.\u001b[0m\u001b[0mest_mom2_b\u001b[0m \u001b[0;34m=\u001b[0m \u001b[0mdm2\u001b[0m \u001b[0;34m*\u001b[0m \u001b[0mgradient\u001b[0m \u001b[0;34m**\u001b[0m \u001b[0;36m2\u001b[0m \u001b[0;34m+\u001b[0m \u001b[0;34m(\u001b[0m\u001b[0;36m1\u001b[0m \u001b[0;34m-\u001b[0m \u001b[0mdm2\u001b[0m\u001b[0;34m)\u001b[0m \u001b[0;34m*\u001b[0m \u001b[0mest_mom2_b_m1\u001b[0m\u001b[0;34m\u001b[0m\u001b[0m\n",
        "\u001b[0;32m/Users/bayerj/devel/Theano/theano/compile/function_module.pyc\u001b[0m in \u001b[0;36m__call__\u001b[0;34m(self, *args, **kwargs)\u001b[0m\n\u001b[1;32m    586\u001b[0m                     \u001b[0;31m# For the CVM\u001b[0m\u001b[0;34m\u001b[0m\u001b[0;34m\u001b[0m\u001b[0m\n\u001b[1;32m    587\u001b[0m                     gof.vm.raise_with_op(self.fn.nodes[self.fn.position_of_error],\n\u001b[0;32m--> 588\u001b[0;31m                                          self.fn.thunks[self.fn.position_of_error])\n\u001b[0m\u001b[1;32m    589\u001b[0m                 \u001b[0;32melse\u001b[0m\u001b[0;34m:\u001b[0m\u001b[0;34m\u001b[0m\u001b[0m\n\u001b[1;32m    590\u001b[0m                     \u001b[0;31m# For the c linker\u001b[0m\u001b[0;34m\u001b[0m\u001b[0;34m\u001b[0m\u001b[0m\n",
        "\u001b[0;32m/Users/bayerj/devel/Theano/theano/compile/function_module.pyc\u001b[0m in \u001b[0;36m__call__\u001b[0;34m(self, *args, **kwargs)\u001b[0m\n\u001b[1;32m    577\u001b[0m         \u001b[0mt0_fn\u001b[0m \u001b[0;34m=\u001b[0m \u001b[0mtime\u001b[0m\u001b[0;34m.\u001b[0m\u001b[0mtime\u001b[0m\u001b[0;34m(\u001b[0m\u001b[0;34m)\u001b[0m\u001b[0;34m\u001b[0m\u001b[0m\n\u001b[1;32m    578\u001b[0m         \u001b[0;32mtry\u001b[0m\u001b[0;34m:\u001b[0m\u001b[0;34m\u001b[0m\u001b[0m\n\u001b[0;32m--> 579\u001b[0;31m             \u001b[0moutputs\u001b[0m \u001b[0;34m=\u001b[0m \u001b[0mself\u001b[0m\u001b[0;34m.\u001b[0m\u001b[0mfn\u001b[0m\u001b[0;34m(\u001b[0m\u001b[0;34m)\u001b[0m\u001b[0;34m\u001b[0m\u001b[0m\n\u001b[0m\u001b[1;32m    580\u001b[0m         \u001b[0;32mexcept\u001b[0m \u001b[0mException\u001b[0m\u001b[0;34m:\u001b[0m\u001b[0;34m\u001b[0m\u001b[0m\n\u001b[1;32m    581\u001b[0m             \u001b[0;32mif\u001b[0m \u001b[0mhasattr\u001b[0m\u001b[0;34m(\u001b[0m\u001b[0mself\u001b[0m\u001b[0;34m.\u001b[0m\u001b[0mfn\u001b[0m\u001b[0;34m,\u001b[0m \u001b[0;34m'position_of_error'\u001b[0m\u001b[0;34m)\u001b[0m\u001b[0;34m:\u001b[0m\u001b[0;34m\u001b[0m\u001b[0m\n",
        "\u001b[0;31mValueError\u001b[0m: Input dimension mis-match. (input[0].shape[1] = 1, input[2].shape[1] = 20)\nApply node that caused the error: Elemwise{Composite{[Composite{[Composite{[sub(i0, add(i1, i2))]}(i0, mul(i1, i2), mul(i3, i4, i5))]}(i0, mul(i1, i2), i3, i4, i5, i6)]}}(target, TensorConstant{(1, 1) of 0.5}, Elemwise{Composite{[erfc(neg(i0))]}}.0, Elemwise{Add{output_types_preference=transfer_type{0}}}[(0, 0)].0, TensorConstant{(1, 1) of 0.398942}, Elemwise{Composite{[Composite{[Composite{[exp(mul(i0, i1))]}(i0, sqr(i1))]}(i0, true_div(i1, i2))]}}.0, Elemwise{Composite{[sqrt(add(i0, i1))]}}[(0, 1)].0)\nInputs shapes: [(100, 1), (1, 1), (100, 20), (100, 20), (1, 1), (100, 20), (100, 20)]\nInputs strides: [(4, 4), (4, 4), (80, 4), (80, 4), (4, 4), (80, 4), (80, 4)]\nInputs types: [TensorType(float32, matrix), TensorType(float32, (True, True)), TensorType(float32, matrix), TensorType(float32, matrix), TensorType(float32, (True, True)), TensorType(float32, matrix), TensorType(float32, matrix)]\nUse the Theano flag 'exception_verbosity=high' for a debugprint of this apply node."
       ]
      }
     ],
     "prompt_number": 63
    },
    {
     "cell_type": "code",
     "collapsed": false,
     "input": [
      "#climin.initialize.randomize_normal(s.parameters.data, 0, .1)\n",
      "Y = s.predict(X)"
     ],
     "language": "python",
     "metadata": {},
     "outputs": [],
     "prompt_number": 58
    },
    {
     "cell_type": "code",
     "collapsed": false,
     "input": [
      "plt.plot(X[:, 0], Y[:, 0], 'x-')\n",
      "plt.plot(X[:, 0], Z[:, 0], 'x-')"
     ],
     "language": "python",
     "metadata": {},
     "outputs": [
      {
       "metadata": {},
       "output_type": "pyout",
       "prompt_number": 59,
       "text": [
        "[<matplotlib.lines.Line2D at 0x11baf3690>]"
       ]
      },
      {
       "metadata": {},
       "output_type": "display_data",
       "png": "[encoded data removed]",
       "text": [
        "<matplotlib.figure.Figure at 0x11baf36d0>"
       ]
      }
     ],
     "prompt_number": 59
    },
    {
     "cell_type": "code",
     "collapsed": false,
     "input": [
      "g = theano.grad(s.exprs['loss'], s.parameters.flat)"
     ],
     "language": "python",
     "metadata": {},
     "outputs": [],
     "prompt_number": 11
    },
    {
     "cell_type": "code",
     "collapsed": false,
     "input": [
      "s.loss.exprs['coord_wise'].eval({s.exprs['inpt']: X, target: Z, s.parameters.flat: s.parameters.data})"
     ],
     "language": "python",
     "metadata": {},
     "outputs": [
      {
       "metadata": {},
       "output_type": "pyout",
       "prompt_number": 19,
       "text": [
        "array([[  4.35512930e-01],\n",
        "       [  3.84323150e-01],\n",
        "       [  3.37280393e-01],\n",
        "       [  2.94192195e-01],\n",
        "       [  2.54871160e-01],\n",
        "       [  2.19133332e-01],\n",
        "       [  1.86798573e-01],\n",
        "       [  1.57691151e-01],\n",
        "       [  1.31639302e-01],\n",
        "       [  1.08474910e-01],\n",
        "       [  8.80341604e-02],\n",
        "       [  7.01571852e-02],\n",
        "       [  5.46880253e-02],\n",
        "       [  4.14748266e-02],\n",
        "       [  3.03696599e-02],\n",
        "       [  2.12285966e-02],\n",
        "       [  1.39117436e-02],\n",
        "       [  8.28318950e-03],\n",
        "       [  4.21099784e-03],\n",
        "       [  1.56726432e-03],\n",
        "       [  2.28049670e-04],\n",
        "       [  7.34410787e-05],\n",
        "       [  9.87504376e-04],\n",
        "       [  2.85830954e-03],\n",
        "       [  5.57793025e-03],\n",
        "       [  9.04242042e-03],\n",
        "       [  1.31518524e-02],\n",
        "       [  1.78102665e-02],\n",
        "       [  2.29257587e-02],\n",
        "       [  2.84103323e-02],\n",
        "       [  3.41800824e-02],\n",
        "       [  4.01550345e-02],\n",
        "       [  4.62592356e-02],\n",
        "       [  5.24207279e-02],\n",
        "       [  5.85715957e-02],\n",
        "       [  6.46478310e-02],\n",
        "       [  7.05894679e-02],\n",
        "       [  7.63405785e-02],\n",
        "       [  8.18491653e-02],\n",
        "       [  8.70672837e-02],\n",
        "       [  9.19509009e-02],\n",
        "       [  9.64601338e-02],\n",
        "       [  1.00558922e-01],\n",
        "       [  1.04215354e-01],\n",
        "       [  1.07401386e-01],\n",
        "       [  1.10093072e-01],\n",
        "       [  1.12270400e-01],\n",
        "       [  1.13917395e-01],\n",
        "       [  1.15022063e-01],\n",
        "       [  1.15576394e-01],\n",
        "       [  1.15576416e-01],\n",
        "       [  1.15022123e-01],\n",
        "       [  1.13917500e-01],\n",
        "       [  1.12270519e-01],\n",
        "       [  1.10093243e-01],\n",
        "       [  1.07401580e-01],\n",
        "       [  1.04215585e-01],\n",
        "       [  1.00559205e-01],\n",
        "       [  9.64604467e-02],\n",
        "       [  9.19512287e-02],\n",
        "       [  8.70676041e-02],\n",
        "       [  8.18495303e-02],\n",
        "       [  7.63409734e-02],\n",
        "       [  7.05898777e-02],\n",
        "       [  6.46482408e-02],\n",
        "       [  5.85720129e-02],\n",
        "       [  5.24211787e-02],\n",
        "       [  4.62596603e-02],\n",
        "       [  4.01554517e-02],\n",
        "       [  3.41804773e-02],\n",
        "       [  2.84107253e-02],\n",
        "       [  2.29261201e-02],\n",
        "       [  1.78106092e-02],\n",
        "       [  1.31521532e-02],\n",
        "       [  9.04268119e-03],\n",
        "       [  5.57814864e-03],\n",
        "       [  2.85847206e-03],\n",
        "       [  9.87599837e-04],\n",
        "       [  7.34681526e-05],\n",
        "       [  2.28000164e-04],\n",
        "       [  1.56712986e-03],\n",
        "       [  4.21077386e-03],\n",
        "       [  8.28285888e-03],\n",
        "       [  1.39113078e-02],\n",
        "       [  2.12280322e-02],\n",
        "       [  3.03689744e-02],\n",
        "       [  4.14739884e-02],\n",
        "       [  5.46870641e-02],\n",
        "       [  7.01560304e-02],\n",
        "       [  8.80328566e-02],\n",
        "       [  1.08473405e-01],\n",
        "       [  1.31637618e-01],\n",
        "       [  1.57689258e-01],\n",
        "       [  1.86796442e-01],\n",
        "       [  2.19130978e-01],\n",
        "       [  2.54868627e-01],\n",
        "       [  2.94189364e-01],\n",
        "       [  3.37277323e-01],\n",
        "       [  3.84319812e-01],\n",
        "       [  4.35509324e-01]], dtype=float32)"
       ]
      }
     ],
     "prompt_number": 19
    }
   ],
   "metadata": {}
  }
 ]
}