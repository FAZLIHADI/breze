{
 "metadata": {
  "name": "",
  "signature": "sha256:c9235f16608457fe41c03dfdf04ebea5b88028bbbf29174c16ae627fa0c569d3"
 },
 "nbformat": 3,
 "nbformat_minor": 0,
 "worksheets": [
  {
   "cells": [
    {
     "cell_type": "code",
     "collapsed": false,
     "input": [
      "import numpy as np\n",
      "import matplotlib.pyplot as plt\n",
      "%matplotlib inline\n",
      "\n",
      "import theano.tensor as T\n",
      "\n",
      "import climin.initialize\n",
      "import climin.stops\n",
      "\n",
      "from breze.arch.construct import stack\n",
      "reload(stack)"
     ],
     "language": "python",
     "metadata": {},
     "outputs": [
      {
       "output_type": "stream",
       "stream": "stdout",
       "text": [
        "gnumpy: failed to import cudamat. Using npmat instead. No GPU will be used.\n"
       ]
      },
      {
       "metadata": {},
       "output_type": "pyout",
       "prompt_number": 1,
       "text": [
        "<module 'breze.arch.construct.stack' from '/Users/bayerj/devel/breze/breze/arch/construct/stack.pyc'>"
       ]
      }
     ],
     "prompt_number": 1
    },
    {
     "cell_type": "code",
     "collapsed": false,
     "input": [
      "s = stack.SupervisedStack()\n",
      "\n",
      "s.layers.append(stack.AffineNonlinear(1, 10, 'tanh'))\n",
      "s.layers.append(stack.AffineNonlinear(10, 10, 'tanh'))\n",
      "s.layers.append(stack.AffineNonlinear(10, 1))\n",
      "s.loss = stack.SupervisedLoss('squared')\n",
      "\n",
      "s.finalize()\n",
      "\n",
      "s.optimizer = 'adam'\n",
      "climin.initialize.randomize_normal(s.parameters.data, 0, 1)"
     ],
     "language": "python",
     "metadata": {},
     "outputs": [],
     "prompt_number": 2
    },
    {
     "cell_type": "code",
     "collapsed": false,
     "input": [
      "s.exprs"
     ],
     "language": "python",
     "metadata": {},
     "outputs": [
      {
       "metadata": {},
       "output_type": "pyout",
       "prompt_number": 5,
       "text": [
        "{'AffineNonlinear-1': {'inpt': inpt,\n",
        "  'output': Elemwise{tanh,no_inplace}.0,\n",
        "  'output_pre_transfer': Elemwise{add,no_inplace}.0},\n",
        " 'AffineNonlinear-2': {'inpt': Elemwise{tanh,no_inplace}.0,\n",
        "  'output': Elemwise{tanh,no_inplace}.0,\n",
        "  'output_pre_transfer': Elemwise{add,no_inplace}.0},\n",
        " 'AffineNonlinear-3': {'inpt': Elemwise{tanh,no_inplace}.0,\n",
        "  'output': Elemwise{add,no_inplace}.0,\n",
        "  'output_pre_transfer': Elemwise{add,no_inplace}.0},\n",
        " 'inpt': inpt,\n",
        " 'loss': Elemwise{true_div,no_inplace}.0,\n",
        " 'output': [Elemwise{add,no_inplace}.0],\n",
        " 'target': target}"
       ]
      }
     ],
     "prompt_number": 5
    },
    {
     "cell_type": "code",
     "collapsed": false,
     "input": [
      "s.layers[1].name"
     ],
     "language": "python",
     "metadata": {},
     "outputs": [
      {
       "metadata": {},
       "output_type": "pyout",
       "prompt_number": 6,
       "text": [
        "'AffineNonlinear-7'"
       ]
      }
     ],
     "prompt_number": 6
    },
    {
     "cell_type": "code",
     "collapsed": false,
     "input": [
      "s = stack.SupervisedStack()\n",
      "\n",
      "s.layers.append(stack.AugmentVariance('var_augmenter'))\n",
      "s.layers.append(stack.VarpropAffineNonLinear('hidden_layer1', 1, 10, 'tanh'))\n",
      "s.layers.append(stack.VarpropAffineNonLinear('hidden_layer2', 10, 10, 'tanh'))\n",
      "s.layers.append(stack.VarpropAffineNonLinear('output', 10, 1))\n",
      "s.layers.append(stack.DiscardVariance('var_discarder'))\n",
      "s.loss = stack.SupervisedLoss('squared')\n",
      "\n",
      "s.finalize()\n",
      "\n",
      "s.optimizer = 'adam'\n",
      "climin.initialize.randomize_normal(s.parameters.data, 0, 1)"
     ],
     "language": "python",
     "metadata": {},
     "outputs": [],
     "prompt_number": 9
    },
    {
     "cell_type": "code",
     "collapsed": false,
     "input": [
      "X = np.linspace(-1, 1, 100)[:, np.newaxis].astype('float32')\n",
      "Z = X ** 2"
     ],
     "language": "python",
     "metadata": {},
     "outputs": [],
     "prompt_number": 3
    },
    {
     "cell_type": "code",
     "collapsed": false,
     "input": [
      "stop = climin.stops.AfterNIterations(10000)\n",
      "report = climin.stops.ModuloNIterations(1000)\n",
      "\n",
      "for info in s.powerfit((X, Z), (X, Z), stop=stop, report=report):\n",
      "    print info['loss']"
     ],
     "language": "python",
     "metadata": {},
     "outputs": [
      {
       "output_type": "stream",
       "stream": "stderr",
       "text": [
        "/Users/bayerj/devel/Theano/theano/tensor/subtensor.py:111: FutureWarning: comparison to `None` will result in an elementwise object comparison in the future.\n",
        "  start in [None, 0] or\n",
        "/Users/bayerj/devel/Theano/theano/tensor/subtensor.py:115: FutureWarning: comparison to `None` will result in an elementwise object comparison in the future.\n",
        "  stop in [None, length, maxsize] or\n",
        "/Users/bayerj/devel/Theano/theano/tensor/subtensor.py:191: FutureWarning: comparison to `None` will result in an elementwise object comparison in the future.\n",
        "  if stop in [None, maxsize]:\n",
        "/Users/bayerj/devel/climin/climin/util.py:150: UserWarning: Argument named f is not expected by <class 'climin.adam.Adam'>\n",
        "  % (i, klass))\n"
       ]
      },
      {
       "output_type": "stream",
       "stream": "stdout",
       "text": [
        "3.84307\n",
        "0.757739"
       ]
      },
      {
       "output_type": "stream",
       "stream": "stdout",
       "text": [
        "\n",
        "0.272285"
       ]
      },
      {
       "output_type": "stream",
       "stream": "stdout",
       "text": [
        "\n",
        "0.152099"
       ]
      },
      {
       "output_type": "stream",
       "stream": "stdout",
       "text": [
        "\n",
        "0.101426"
       ]
      },
      {
       "output_type": "stream",
       "stream": "stdout",
       "text": [
        "\n",
        "0.0636442"
       ]
      },
      {
       "output_type": "stream",
       "stream": "stdout",
       "text": [
        "\n",
        "0.0347137"
       ]
      },
      {
       "output_type": "stream",
       "stream": "stdout",
       "text": [
        "\n",
        "0.0166881"
       ]
      },
      {
       "output_type": "stream",
       "stream": "stdout",
       "text": [
        "\n",
        "0.00754184"
       ]
      },
      {
       "output_type": "stream",
       "stream": "stdout",
       "text": [
        "\n",
        "0.00319351"
       ]
      },
      {
       "output_type": "stream",
       "stream": "stdout",
       "text": [
        "\n"
       ]
      }
     ],
     "prompt_number": 4
    },
    {
     "cell_type": "code",
     "collapsed": false,
     "input": [
      "Y, = s.predict(X)"
     ],
     "language": "python",
     "metadata": {},
     "outputs": [],
     "prompt_number": 13
    },
    {
     "cell_type": "code",
     "collapsed": false,
     "input": [
      "plt.plot(X[:, 0], Y[:, 0])\n",
      "plt.plot(X[:, 0], Z[:, 0])"
     ],
     "language": "python",
     "metadata": {},
     "outputs": [
      {
       "metadata": {},
       "output_type": "pyout",
       "prompt_number": 14,
       "text": [
        "[<matplotlib.lines.Line2D at 0x117ab4c50>]"
       ]
      },
      {
       "metadata": {},
       "output_type": "display_data",
       "png": "[encoded data removed]",
       "text": [
        "<matplotlib.figure.Figure at 0x117ab41d0>"
       ]
      }
     ],
     "prompt_number": 14
    }
   ],
   "metadata": {}
  }
 ]
}