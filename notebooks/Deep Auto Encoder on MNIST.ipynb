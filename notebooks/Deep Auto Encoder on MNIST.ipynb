{
 "metadata": {
  "name": ""
 },
 "nbformat": 3,
 "nbformat_minor": 0,
 "worksheets": [
  {
   "cells": [
    {
     "cell_type": "code",
     "collapsed": false,
     "input": [
      "import cPickle\n",
      "import gzip\n",
      "\n",
      "from PIL import Image\n",
      "import matplotlib.cm as cm\n",
      "import matplotlib.pyplot as plt\n",
      "import numpy as np\n",
      "import theano.tensor as T\n",
      "\n",
      "from IPython.core import pylabtools\n",
      "pylabtools.figsize(16, 9)\n",
      "from IPython.core.display import Image as image\n",
      "\n",
      "import climin.stops\n",
      "import climin.initialize\n",
      "import climin.schedule\n",
      "\n",
      "from breze.learn.mlp import Mlp\n",
      "from breze.learn.utils import tile_raster_images"
     ],
     "language": "python",
     "metadata": {},
     "outputs": [],
     "prompt_number": 12
    },
    {
     "cell_type": "markdown",
     "metadata": {},
     "source": [
      "Prepare Data\n",
      "============\n",
      "\n",
      "We load the MNIST data. It is available at http://www.iro.umontreal.ca/~lisa/deep/data/mnist/mnist.pkl.gz.\n",
      "\n",
      "The inputs all lie between 0 and 1. Each target is a one of k variable."
     ]
    },
    {
     "cell_type": "code",
     "collapsed": false,
     "input": [
      "datafile = 'mnist.pkl.gz'\n",
      "# Load data.                                                                                                   \n",
      "\n",
      "with gzip.open(datafile,'rb') as f:                                                                        \n",
      "    train_set, val_set, test_set = cPickle.load(f)                                                       \n",
      "\n",
      "X, Z = train_set                                                                                               \n",
      "VX, VZ = val_set\n",
      "TX, TZ = test_set\n",
      "\n",
      "image_dims = 28, 28"
     ],
     "language": "python",
     "metadata": {},
     "outputs": [],
     "prompt_number": 4
    },
    {
     "cell_type": "markdown",
     "metadata": {},
     "source": [
      "Define Model\n",
      "============"
     ]
    },
    {
     "cell_type": "code",
     "collapsed": false,
     "input": [
      "n_hiddens = [1000, 500, 250, 2, 250, 500, 1000]\n",
      "hidden_transfers = ['tanh'] * 3 + ['identity'] + ['tanh'] * 3\n",
      "out_transfer = 'sigmoid'\n",
      "batch_size = 200\n",
      "max_passes = 50\n",
      "optimizer = 'gd', {'step_rate': 0.00001, \n",
      "                   'momentum': climin.schedule.sutskever_blend(0.995, 250), \n",
      "                   'momentum_type': 'nesterov'}\n",
      "loss = 'nces'\n",
      "sparsify = 15\n",
      "par_std = 1.\n",
      "max_iter = max_passes * X.shape[0] / batch_size\n",
      "batches_per_pass = int(math.ceil(float(X.shape[0]) / batch_size))"
     ],
     "language": "python",
     "metadata": {},
     "outputs": [],
     "prompt_number": 25
    },
    {
     "cell_type": "code",
     "collapsed": false,
     "input": [
      "mlp = Mlp(\n",
      "    X.shape[1], n_hiddens, X.shape[1], hidden_transfers=hidden_transfers, out_transfer=out_transfer, loss=loss,\n",
      "    optimizer=optimizer, batch_size=batch_size)\n",
      "mlp.parameters.data[:] = np.random.normal(0, par_std, mlp.parameters.data.shape)\n",
      "climin.initialize.sparsify_columns(mlp.parameters['in_to_hidden'], 15)\n",
      "for i in range(6):\n",
      "    if i in (2, 3):\n",
      "        continue\n",
      "    climin.initialize.sparsify_columns(mlp.parameters['hidden_to_hidden_%i' % i], 15)"
     ],
     "language": "python",
     "metadata": {},
     "outputs": [],
     "prompt_number": "*"
    },
    {
     "cell_type": "code",
     "collapsed": false,
     "input": [
      "pause = climin.stops.modulo_n_iterations(batches_per_pass)\n",
      "stop = climin.stops.after_n_iterations(max_iter)\n",
      "\n",
      "for info in mlp.powerfit((X, X), (VX, VX), stop, pause):\n",
      "    print info['n_iter'], info['loss'], info['val_loss']"
     ],
     "language": "python",
     "metadata": {},
     "outputs": [],
     "prompt_number": "*"
    },
    {
     "cell_type": "markdown",
     "metadata": {},
     "source": [
      "Visualize Reconstructions\n",
      "========================="
     ]
    },
    {
     "cell_type": "code",
     "collapsed": false,
     "input": [
      "fig = plt.figure(figsize=((15, 5)))\n",
      "\n",
      "img = tile_raster_images(TX[:64], image_dims, (8, 8), (1, 1))\n",
      "ax0 = fig.add_subplot(131)\n",
      "ax0.imshow(img, cmap=cm.binary)\n",
      "\n",
      "f_reconstruct = mlp.function(['inpt'], 'output')\n",
      "TR = f_reconstruct(TX[:64])\n",
      "img = tile_raster_images(TR, image_dims, (8, 8), (1, 1))\n",
      "ax1 = fig.add_subplot(132)\n",
      "ax1.imshow(img, cmap=cm.binary)\n",
      "\n",
      "img = tile_raster_images(TR - TX[:64], image_dims, (8, 8), (1, 1))\n",
      "# We write the filters to a file, since I do not like the matplot imshow functionality. :)\n",
      "ax2 = fig.add_subplot(133)\n",
      "ax2.imshow(img, cmap=cm.binary)              "
     ],
     "language": "python",
     "metadata": {},
     "outputs": []
    }
   ],
   "metadata": {}
  }
 ]
}