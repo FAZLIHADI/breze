{
 "metadata": {
  "name": ""
 },
 "nbformat": 3,
 "nbformat_minor": 0,
 "worksheets": [
  {
   "cells": [
    {
     "cell_type": "markdown",
     "metadata": {},
     "source": [
      "This notebook implements the MNIST part of http://arxiv.org/abs/1306.0239."
     ]
    },
    {
     "cell_type": "code",
     "collapsed": false,
     "input": [
      "import cPickle\n",
      "import itertools\n",
      "import gzip\n",
      "import time\n",
      "\n",
      "import numpy as np\n",
      "import theano\n",
      "import theano.tensor as T\n",
      "\n",
      "import climin.stops\n",
      "import climin.initialize\n",
      "import climin.project\n",
      "import climin.schedule\n",
      "\n",
      "from breze.learn.mlp import DropoutMlp, Mlp\n",
      "from breze.arch.component.loss import nce\n",
      "import breze.arch.util\n",
      "\n",
      "import breze.learn.base\n",
      "from breze.learn.data import one_hot"
     ],
     "language": "python",
     "metadata": {},
     "outputs": [],
     "prompt_number": 8
    },
    {
     "cell_type": "markdown",
     "metadata": {},
     "source": [
      "Prepare Data\n",
      "============\n",
      "\n",
      "We load the MNIST data. It is available at http://www.iro.umontreal.ca/~lisa/deep/data/mnist/mnist.pkl.gz.\n",
      "\n",
      "The inputs all lie between 0 and 1. Each target is a variable where the correct class is marked with a ``1`` and the wrong classes with ``-1``."
     ]
    },
    {
     "cell_type": "code",
     "collapsed": false,
     "input": [
      "datafile = 'mnist.pkl.gz'\n",
      "# Load data.                                                                                                   \n",
      "\n",
      "with gzip.open(datafile,'rb') as f:                                                                        \n",
      "    train_set, val_set, test_set = cPickle.load(f)                                                       \n",
      "\n",
      "X, Z = train_set                                                                                               \n",
      "VX, VZ = val_set\n",
      "TX, TZ = test_set\n",
      "\n",
      "Z = one_hot(Z, 10)\n",
      "VZ = one_hot(VZ, 10)\n",
      "TZ = one_hot(TZ, 10)\n",
      "\n",
      "image_dims = 28, 28\n",
      "\n",
      "X = np.concatenate([X, VX], axis=0)\n",
      "Z = np.concatenate([Z, VZ], axis=0)\n",
      "\n",
      "X, Z, TX, TZ = [breze.learn.base.cast_array_to_local_type(i) for i in (X, Z, TX, TZ)]"
     ],
     "language": "python",
     "metadata": {},
     "outputs": [],
     "prompt_number": 2
    },
    {
     "cell_type": "code",
     "collapsed": false,
     "input": [
      "max_passes = 400\n",
      "batch_size = 200\n",
      "max_iter = max_passes * X.shape[0] / batch_size\n",
      "n_report = X.shape[0] / batch_size\n",
      "\n",
      "stop = climin.stops.after_n_iterations(max_iter)\n",
      "pause = climin.stops.modulo_n_iterations(n_report)\n",
      "\n",
      "#optimizer = 'gd', {'steprate': 1e-4, 'momentum': climin.schedule.sutskever_blend(0.995, 100), 'momentum_type': 'nesterov'}\n",
      "optimizer = 'rmsprop', {'steprate': 0.001, 'momentum': 0.9, 'decay': 0.9}\n",
      "m = DropoutMlp(X.shape[1], [512, 512], 10, hidden_transfers=['rectifier', 'rectifier'], out_transfer='softmax', \n",
      "               loss='nce', p_dropout_inpt=.2, p_dropout_hiddens=[.5, .5], optimizer=optimizer, batch_size=batch_size,\n",
      "               max_iter=max_iter)\n",
      "climin.initialize.randomize_normal(m.parameters.data, 0, 0.001)\n",
      "m.parameters['out_bias'][...] = 0\n",
      "\n",
      "n_wrong = 1 - T.eq(T.argmax(m.exprs['output'], axis=1), T.argmax(m.exprs['target'], axis=1)).mean()\n",
      "f_n_wrong = m.function(['inpt', 'target'], n_wrong)\n",
      "                \n",
      "losses = []\n",
      "print 'max iter', max_iter"
     ],
     "language": "python",
     "metadata": {},
     "outputs": [
      {
       "output_type": "stream",
       "stream": "stdout",
       "text": [
        "max iter 120000\n"
       ]
      }
     ],
     "prompt_number": 27
    },
    {
     "cell_type": "code",
     "collapsed": false,
     "input": [
      "start = time.time()\n",
      "# Set up a nice printout.\n",
      "keys = '#', 'seconds', 'loss', 'val loss', 'train emp', 'test emp'\n",
      "max_len = max(len(i) for i in keys)\n",
      "header = '\\t'.join(i for i in keys)\n",
      "print header\n",
      "print '-' * len(header)\n",
      "\n",
      "for i, info in enumerate(m.powerfit((X, Z), (VX, VZ), stop, pause)):\n",
      "    if info['n_iter'] % n_report != 0:\n",
      "        continue\n",
      "    passed = time.time() - start\n",
      "    losses.append((info['loss'], info['val_loss']))\n",
      "    \n",
      "    #img = tile_raster_images(fe.parameters['in_to_hidden'].T, image_dims, feature_dims, (1, 1))\n",
      "    #save_and_display(img, 'filters-%i.png' % i)  \n",
      "    info.update({\n",
      "        'time': passed,\n",
      "        'train_emp': f_n_wrong(X, Z),\n",
      "        'val_emp': f_n_wrong(VX, VZ),\n",
      "        'test_emp': f_n_wrong(TX, TZ),\n",
      "    })\n",
      "    row = '%(n_iter)i\\t%(time)g\\t%(loss)g\\t%(val_loss)g\\t%(train_emp)g\\t%(test_emp)g' % info\n",
      "    print row"
     ],
     "language": "python",
     "metadata": {},
     "outputs": [
      {
       "output_type": "stream",
       "stream": "stdout",
       "text": [
        "#\tseconds\tloss\tval loss\ttrain emp\ttest emp\n",
        "------------------------------------------\n",
        "0\t3.35396\t2.30258\t2.30258\t0.9007\t0.8968"
       ]
      },
      {
       "output_type": "stream",
       "stream": "stdout",
       "text": [
        "\n",
        "300\t11.6551\t0.167391\t0.14363\t0.0494667\t0.0523"
       ]
      },
      {
       "output_type": "stream",
       "stream": "stdout",
       "text": [
        "\n",
        "600\t19.7166\t0.0970276\t0.0891913\t0.0293167\t0.0336"
       ]
      },
      {
       "output_type": "stream",
       "stream": "stdout",
       "text": [
        "\n",
        "900\t29.4274\t0.0831737\t0.078699\t0.02575\t0.039"
       ]
      },
      {
       "output_type": "stream",
       "stream": "stdout",
       "text": [
        "\n",
        "1200\t48.1824\t0.0729616\t0.0567141\t0.0196167\t0.031"
       ]
      },
      {
       "output_type": "stream",
       "stream": "stdout",
       "text": [
        "\n",
        "1500\t67.2842\t0.0678541\t0.0570888\t0.0169167\t0.028"
       ]
      },
      {
       "output_type": "stream",
       "stream": "stdout",
       "text": [
        "\n",
        "1800\t86.6449\t0.0580707\t0.0518466\t0.0159333\t0.0287"
       ]
      },
      {
       "output_type": "stream",
       "stream": "stdout",
       "text": [
        "\n",
        "2100\t106.134\t0.0552478\t0.0473443\t0.0135\t0.0255"
       ]
      },
      {
       "output_type": "stream",
       "stream": "stdout",
       "text": [
        "\n",
        "2400\t126.655\t0.0655698\t0.0496542\t0.0151333\t0.0288"
       ]
      },
      {
       "output_type": "stream",
       "stream": "stdout",
       "text": [
        "\n",
        "2700\t146.379\t0.0437235\t0.036911\t0.0111167\t0.022"
       ]
      },
      {
       "output_type": "stream",
       "stream": "stdout",
       "text": [
        "\n",
        "3000\t166.159\t0.06226\t0.0566006\t0.0137\t0.0253"
       ]
      },
      {
       "output_type": "stream",
       "stream": "stdout",
       "text": [
        "\n",
        "3300\t186.329\t0.0849357\t0.0870594\t0.0160833\t0.0296"
       ]
      },
      {
       "output_type": "stream",
       "stream": "stdout",
       "text": [
        "\n",
        "3600\t206.546\t0.0768011\t0.0694108\t0.0131167\t0.0265"
       ]
      },
      {
       "output_type": "stream",
       "stream": "stdout",
       "text": [
        "\n",
        "3900\t226.586\t0.0765826\t0.074348\t0.0127\t0.0254"
       ]
      },
      {
       "output_type": "stream",
       "stream": "stdout",
       "text": [
        "\n",
        "4200\t246.882\t0.0557389\t0.0505271\t0.0114667\t0.0272"
       ]
      },
      {
       "output_type": "stream",
       "stream": "stdout",
       "text": [
        "\n",
        "4500\t267.066\t0.0555047\t0.0623204\t0.00866667\t0.0245"
       ]
      },
      {
       "output_type": "stream",
       "stream": "stdout",
       "text": [
        "\n",
        "4800\t286.97\t0.0440811\t0.0431469\t0.00813333\t0.023"
       ]
      },
      {
       "output_type": "stream",
       "stream": "stdout",
       "text": [
        "\n",
        "5100\t307.581\t0.0699202\t0.0586688\t0.00893333\t0.0252"
       ]
      },
      {
       "output_type": "stream",
       "stream": "stdout",
       "text": [
        "\n",
        "5400\t327.822\t0.0516538\t0.0432344\t0.00853333\t0.0244"
       ]
      },
      {
       "output_type": "stream",
       "stream": "stdout",
       "text": [
        "\n",
        "5700\t347.762\t0.0618295\t0.0630296\t0.00931667\t0.0271"
       ]
      },
      {
       "output_type": "stream",
       "stream": "stdout",
       "text": [
        "\n",
        "6000\t367.893\t0.0539996\t0.049479\t0.00875\t0.0241"
       ]
      },
      {
       "output_type": "stream",
       "stream": "stdout",
       "text": [
        "\n",
        "6300\t387.942\t0.0697407\t0.0689673\t0.00855\t0.0232"
       ]
      },
      {
       "output_type": "stream",
       "stream": "stdout",
       "text": [
        "\n",
        "6600\t407.912\t0.0520996\t0.0611595\t0.0076\t0.0233"
       ]
      },
      {
       "output_type": "stream",
       "stream": "stdout",
       "text": [
        "\n",
        "6900\t428.018\t0.0516199\t0.0361758\t0.00683333\t0.0217"
       ]
      },
      {
       "output_type": "stream",
       "stream": "stdout",
       "text": [
        "\n",
        "7200\t448.149\t0.0561136\t0.0599145\t0.00651667\t0.0209"
       ]
      },
      {
       "output_type": "stream",
       "stream": "stdout",
       "text": [
        "\n",
        "7500\t469.172\t0.0646278\t0.0657747\t0.00805\t0.0264"
       ]
      },
      {
       "output_type": "stream",
       "stream": "stdout",
       "text": [
        "\n",
        "7800\t489.476\t0.0544404\t0.0471878\t0.006\t0.0221"
       ]
      },
      {
       "output_type": "stream",
       "stream": "stdout",
       "text": [
        "\n",
        "8100\t509.907\t0.074741\t0.0605468\t0.00858333\t0.0241"
       ]
      },
      {
       "output_type": "stream",
       "stream": "stdout",
       "text": [
        "\n",
        "8400\t530.668\t0.0777149\t0.0676061\t0.0077\t0.0229"
       ]
      },
      {
       "output_type": "stream",
       "stream": "stdout",
       "text": [
        "\n",
        "8700\t551.179\t0.0890319\t0.0895787\t0.00776667\t0.0252"
       ]
      },
      {
       "output_type": "stream",
       "stream": "stdout",
       "text": [
        "\n",
        "9000\t571.392\t0.054082\t0.0412052\t0.00561667\t0.0226"
       ]
      },
      {
       "output_type": "stream",
       "stream": "stdout",
       "text": [
        "\n",
        "9300\t591.603\t0.0608449\t0.0568606\t0.00571667\t0.0204"
       ]
      },
      {
       "output_type": "stream",
       "stream": "stdout",
       "text": [
        "\n",
        "9600\t611.909\t0.0909099\t0.076208\t0.00775\t0.022"
       ]
      },
      {
       "output_type": "stream",
       "stream": "stdout",
       "text": [
        "\n",
        "9900\t632.271\t0.0660469\t0.0538004\t0.00618333\t0.0217"
       ]
      },
      {
       "output_type": "stream",
       "stream": "stdout",
       "text": [
        "\n",
        "10200\t653.242\t0.0584948\t0.0630488\t0.00533333\t0.0203"
       ]
      },
      {
       "output_type": "stream",
       "stream": "stdout",
       "text": [
        "\n",
        "10500\t674.005\t0.0691424\t0.0641116\t0.0057\t0.0213"
       ]
      },
      {
       "output_type": "stream",
       "stream": "stdout",
       "text": [
        "\n",
        "10800\t695.198\t0.0697346\t0.0494063\t0.00555\t0.0203"
       ]
      },
      {
       "output_type": "stream",
       "stream": "stdout",
       "text": [
        "\n",
        "11100\t715.595\t0.113293\t0.111499\t0.00856667\t0.0245"
       ]
      },
      {
       "output_type": "stream",
       "stream": "stdout",
       "text": [
        "\n",
        "11400\t735.798\t0.109499\t0.0967653\t0.00821667\t0.0217"
       ]
      },
      {
       "output_type": "stream",
       "stream": "stdout",
       "text": [
        "\n",
        "11700\t756.313\t0.120927\t0.10512\t0.00856667\t0.024"
       ]
      },
      {
       "output_type": "stream",
       "stream": "stdout",
       "text": [
        "\n",
        "12000\t776.461\t0.112968\t0.107075\t0.00768333\t0.0223"
       ]
      },
      {
       "output_type": "stream",
       "stream": "stdout",
       "text": [
        "\n",
        "12300\t796.892\t0.0971095\t0.0819312\t0.00678333\t0.0218"
       ]
      },
      {
       "output_type": "stream",
       "stream": "stdout",
       "text": [
        "\n",
        "12600\t817.435\t0.0927093\t0.0893687\t0.00661667\t0.0204"
       ]
      },
      {
       "output_type": "stream",
       "stream": "stdout",
       "text": [
        "\n",
        "12900\t837.813\t0.0883444\t0.0879976\t0.00653333\t0.0214"
       ]
      },
      {
       "output_type": "stream",
       "stream": "stdout",
       "text": [
        "\n",
        "13200\t857.942\t0.0959494\t0.075689\t0.00628333\t0.0202"
       ]
      },
      {
       "output_type": "stream",
       "stream": "stdout",
       "text": [
        "\n",
        "13500\t878.444\t0.101347\t0.101003\t0.007\t0.0237"
       ]
      },
      {
       "output_type": "stream",
       "stream": "stdout",
       "text": [
        "\n",
        "13800\t898.658\t0.114782\t0.117449\t0.00775\t0.023"
       ]
      },
      {
       "output_type": "stream",
       "stream": "stdout",
       "text": [
        "\n",
        "14100\t918.897\t0.104471\t0.0862241\t0.00721667\t0.0215"
       ]
      },
      {
       "output_type": "stream",
       "stream": "stdout",
       "text": [
        "\n",
        "14400\t938.978\t0.18908\t0.155433\t0.0123667\t0.028"
       ]
      },
      {
       "output_type": "stream",
       "stream": "stdout",
       "text": [
        "\n",
        "14700\t959.803\t0.0936185\t0.0823579\t0.00628333\t0.0222"
       ]
      },
      {
       "output_type": "stream",
       "stream": "stdout",
       "text": [
        "\n",
        "15000\t980.927\t0.115732\t0.11358\t0.00741667\t0.0219"
       ]
      },
      {
       "output_type": "stream",
       "stream": "stdout",
       "text": [
        "\n",
        "15300\t1002.03\t0.13114\t0.136632\t0.00846667\t0.0246"
       ]
      },
      {
       "output_type": "stream",
       "stream": "stdout",
       "text": [
        "\n",
        "15600\t1022.14\t0.122276\t0.107683\t0.00788333\t0.0241"
       ]
      },
      {
       "output_type": "stream",
       "stream": "stdout",
       "text": [
        "\n",
        "15900\t1042.87\t0.111141\t0.0944299\t0.0071\t0.0212"
       ]
      },
      {
       "output_type": "stream",
       "stream": "stdout",
       "text": [
        "\n",
        "16200\t1063.18\t0.0968022\t0.0750878\t0.0061\t0.0198"
       ]
      },
      {
       "output_type": "stream",
       "stream": "stdout",
       "text": [
        "\n",
        "16500\t1083.86\t0.0759587\t0.075314\t0.005\t0.0189"
       ]
      },
      {
       "output_type": "stream",
       "stream": "stdout",
       "text": [
        "\n",
        "16800\t1104.79\t0.133661\t0.132843\t0.00833333\t0.0249"
       ]
      },
      {
       "output_type": "stream",
       "stream": "stdout",
       "text": [
        "\n",
        "17100\t1125.89\t0.10312\t0.0952533\t0.00641667\t0.0215"
       ]
      },
      {
       "output_type": "stream",
       "stream": "stdout",
       "text": [
        "\n"
       ]
      }
     ],
     "prompt_number": 28
    },
    {
     "cell_type": "markdown",
     "metadata": {},
     "source": [
      "Parameters that did best on the, uh, testing set."
     ]
    },
    {
     "cell_type": "code",
     "collapsed": false,
     "input": [
      "m.parameters.data[...] = info['best_pars']"
     ],
     "language": "python",
     "metadata": {},
     "outputs": [],
     "prompt_number": 29
    },
    {
     "cell_type": "markdown",
     "metadata": {},
     "source": [
      "Evaluation\n",
      "=========="
     ]
    },
    {
     "cell_type": "code",
     "collapsed": false,
     "input": [
      "fig = plt.figure(figsize=(16, 9))\n",
      "ax = fig.add_subplot(111)\n",
      "ax.plot(losses)"
     ],
     "language": "python",
     "metadata": {},
     "outputs": [
      {
       "metadata": {},
       "output_type": "pyout",
       "prompt_number": 30,
       "text": [
        "[<matplotlib.lines.Line2D at 0x119474050>,\n",
        " <matplotlib.lines.Line2D at 0x110bbac90>]"
       ]
      },
      {
       "metadata": {},
       "output_type": "display_data",
       "png": "[encoded data removed]",
       "text": [
        "<matplotlib.figure.Figure at 0x119740bd0>"
       ]
      }
     ],
     "prompt_number": 30
    },
    {
     "cell_type": "code",
     "collapsed": false,
     "input": [
      "ensemble = Mlp(X.shape[1], [512, 512], 10, hidden_transfers=['rectifier', 'rectifier'], out_transfer='softmax', \n",
      "               loss='nce', optimizer=optimizer, batch_size=batch_size,\n",
      "               max_iter=max_iter)\n",
      "for key in ['in_to_hidden', 'hidden_to_hidden_0', 'hidden_to_out', 'hidden_bias_0', 'out_bias']:\n",
      "    ensemble.parameters[key][...] = m.parameters[key].copy()\n",
      "    \n",
      "#ensemble.parameters['in_to_hidden'] *= 0.8\n",
      "#ensemble.parameters['hidden_to_hidden_0'] *= 0.5\n",
      "ensemble.parameters['hidden_to_out'] *= 0.5"
     ],
     "language": "python",
     "metadata": {},
     "outputs": [],
     "prompt_number": 36
    },
    {
     "cell_type": "code",
     "collapsed": false,
     "input": [
      "f_predict = ensemble.function(['inpt'], T.argmax(ensemble.exprs['output_in'], axis=1))\n",
      "\n",
      "TY = f_predict(TX)\n",
      "\n",
      "print 'Number of mistakes on the testing set:', (TY != TZ.argmax(axis=1)).sum()"
     ],
     "language": "python",
     "metadata": {},
     "outputs": [
      {
       "output_type": "stream",
       "stream": "stdout",
       "text": [
        "Number of mistakes on the testing set: 219\n"
       ]
      }
     ],
     "prompt_number": 37
    },
    {
     "cell_type": "code",
     "collapsed": false,
     "input": [
      "f_predict = m.function(['inpt'], T.argmax(m.exprs['output_in'], axis=1))\n",
      "\n",
      "TY = f_predict(TX)\n",
      "\n",
      "print 'Number of mistakes on the testing set:', (TY != TZ.argmax(axis=1)).sum()"
     ],
     "language": "python",
     "metadata": {},
     "outputs": [
      {
       "output_type": "stream",
       "stream": "stdout",
       "text": [
        "Number of mistakes on the testing set: 217\n"
       ]
      }
     ],
     "prompt_number": 33
    }
   ],
   "metadata": {}
  }
 ]
}