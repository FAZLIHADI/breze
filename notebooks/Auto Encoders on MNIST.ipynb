{
 "metadata": {
  "name": "Auto Encoders on MNIST"
 },
 "nbformat": 3,
 "nbformat_minor": 0,
 "worksheets": [
  {
   "cells": [
    {
     "cell_type": "code",
     "collapsed": false,
     "input": [
      "import cPickle\n",
      "import gzip\n",
      "\n",
      "from PIL import Image\n",
      "import matplotlib.cm as cm\n",
      "import matplotlib.pyplot as plt\n",
      "import numpy as np\n",
      "import theano.tensor as T\n",
      "\n",
      "import climin.stops\n",
      "import climin.initialize\n",
      "\n",
      "from IPython.core import pylabtools\n",
      "pylabtools.figsize(16, 9)\n",
      "from IPython.core.display import Image as image\n",
      "\n",
      "from brummlearn.autoencoder import AutoEncoder, SparseAutoEncoder, ContractiveAutoEncoder\n",
      "from brummlearn.rica import Rica\n",
      "from brummlearn.utils import tile_raster_images"
     ],
     "language": "python",
     "metadata": {},
     "outputs": [],
     "prompt_number": 1
    },
    {
     "cell_type": "markdown",
     "metadata": {},
     "source": [
      "Helper functions\n",
      "================"
     ]
    },
    {
     "cell_type": "code",
     "collapsed": false,
     "input": [
      "def scale_cols_to_unit_interval(arr):\n",
      "    arr = arr.copy()\n",
      "    arr -= arr.min(axis=0)\n",
      "    arr /= arr.max(axis=0)\n",
      "    arr *= 255\n",
      "    return arr.astype('uint8')\n",
      "    \n",
      "\n",
      "def save_and_display(arr, fname):\n",
      "    pilimg = Image.fromarray(arr)\n",
      "    pilimg.save(fname)\n",
      "    return image(filename=fname, width=600)\n",
      "\n",
      "\n",
      "def fit(X, VX, fe, stop, pause):\n",
      "    train_losses = []\n",
      "    val_losses = []\n",
      "    f_loss = fe.function(['inpt'], 'loss')\n",
      "    \n",
      "    best_pars = None\n",
      "    best_loss = float('inf')\n",
      "\n",
      "    for info in fe.iter_fit(X):\n",
      "        if not pause(info):\n",
      "            continue\n",
      "        if 'loss' not in info:\n",
      "            info['loss'] = f_loss(X)\n",
      "        info['val_loss'] = f_loss(VX)\n",
      "        train_losses.append(info['loss'])\n",
      "        val_losses.append(info['val_loss'])\n",
      "        \n",
      "        if info['val_loss'] < best_loss:\n",
      "            best_loss = info['val_loss']\n",
      "            best_pars = fe.parameters.data.copy()\n",
      "            \n",
      "        info['best_loss'] = best_loss\n",
      "        info['best_pars'] = best_pars\n",
      "        \n",
      "        yield info\n",
      "        if stop(info):\n",
      "            print 'stopping condition'\n",
      "            break"
     ],
     "language": "python",
     "metadata": {},
     "outputs": [],
     "prompt_number": 16
    },
    {
     "cell_type": "markdown",
     "metadata": {},
     "source": [
      "Prepare data\n",
      "============"
     ]
    },
    {
     "cell_type": "code",
     "collapsed": false,
     "input": [
      "datafile = '../examples/mnist.pkl.gz'\n",
      "# Load data.                                                                                                   \n",
      "\n",
      "with gzip.open(datafile,'rb') as f:                                                                        \n",
      "    train_set, val_set, test_set = cPickle.load(f)                                                       \n",
      "\n",
      "X, Z = train_set                                                                                               \n",
      "VX, VZ = val_set\n",
      "TX, TZ = test_set\n",
      "\n",
      "image_dims = 28, 28"
     ],
     "language": "python",
     "metadata": {},
     "outputs": [],
     "prompt_number": 3
    },
    {
     "cell_type": "markdown",
     "metadata": {},
     "source": [
      "Configuration\n",
      "============="
     ]
    },
    {
     "cell_type": "code",
     "collapsed": true,
     "input": [
      "method = 'contractive'     # One of: basic, sparse, contractive, rica\n",
      "\n",
      "n_features = 25\n",
      "max_passes = 100\n",
      "\n",
      "feature_dims = int(math.ceil(np.sqrt(n_features))), int(math.ceil(np.sqrt(n_features)))\n",
      "\n",
      "batch_size = 50000\n",
      "hidden_transfer = 'sigmoid'\n",
      "out_transfer = 'sigmoid'\n",
      "loss = 'nces'\n",
      "optimizer = 'lbfgs'\n",
      "sparsify = False\n",
      "par_std = 1e-1\n",
      "tied_weights = True"
     ],
     "language": "python",
     "metadata": {},
     "outputs": [],
     "prompt_number": 12
    },
    {
     "cell_type": "code",
     "collapsed": false,
     "input": [
      "losses, V_losses = [], []\n",
      "rec_losses, reg_losses = [], []"
     ],
     "language": "python",
     "metadata": {},
     "outputs": [],
     "prompt_number": 5
    },
    {
     "cell_type": "markdown",
     "metadata": {},
     "source": [
      "Setup\n",
      "====="
     ]
    },
    {
     "cell_type": "code",
     "collapsed": true,
     "input": [
      "if method == 'basic':\n",
      "    fe = AutoEncoder(X.shape[1], n_features, \n",
      "                     hidden_transfer=hidden_transfer, out_transfer=out_transfer,\n",
      "                     loss=loss, \n",
      "                     batch_size=batch_size, optimizer=optimizer, tied_weights=tied_weights)\n",
      "elif method == 'sparse':\n",
      "    sparsity_loss = 'bern_bern_kl'\n",
      "        \n",
      "    sparsity_target = 0.01\n",
      "    c_sparsity = X.shape[0] * 3\n",
      "\n",
      "    fe = SparseAutoEncoder(X.shape[1], n_features, \n",
      "                           hidden_transfer=hidden_transfer, out_transfer=out_transfer,\n",
      "                           reconstruct_loss=loss, \n",
      "                           sparsity_loss=sparsity_loss,\n",
      "                           c_sparsity=c_sparsity,\n",
      "                           sparsity_target=sparsity_target,\n",
      "                           batch_size=batch_size, optimizer=optimizer, tied_weights=tied_weights)\n",
      "elif method == 'contractive':\n",
      "    c_jacobian = 1.5\n",
      "    optimizer = 'ilne', {'steprate': 0.1}\n",
      "    batch_size = 100\n",
      "\n",
      "    fe = ContractiveAutoEncoder(X.shape[1], n_features, \n",
      "                                hidden_transfer=hidden_transfer, out_transfer=out_transfer,\n",
      "                                reconstruct_loss=loss, \n",
      "                                c_jacobian=c_jacobian,\n",
      "                                batch_size=batch_size, optimizer=optimizer, tied_weights=tied_weights)    \n",
      "elif method == 'rica':\n",
      "    c_ica = 0.1\n",
      "    rica_hidden_transfer = 'identity'\n",
      "    feature_transfer = 'softabs'\n",
      "    \n",
      "    fe = Rica(X.shape[1], n_features, c_ica=c_ica, \n",
      "              hidden_transfer=rica_hidden_transfer, feature_transfer=feature_transfer, out_transfer=out_transfer,\n",
      "              loss=loss, optimizer=optimizer)"
     ],
     "language": "python",
     "metadata": {},
     "outputs": [],
     "prompt_number": 38
    },
    {
     "cell_type": "code",
     "collapsed": false,
     "input": [
      "fe.parameters.data[...] = np.random.normal(0, par_std, fe.parameters.data.shape)\n",
      "\n",
      "if sparsify:\n",
      "    climin.initialize.sparsify_columns(fe.parameters['in_to_hidden'], sparsify)"
     ],
     "language": "python",
     "metadata": {},
     "outputs": [],
     "prompt_number": 39
    },
    {
     "cell_type": "markdown",
     "metadata": {},
     "source": [
      "Training\n",
      "========"
     ]
    },
    {
     "cell_type": "code",
     "collapsed": false,
     "input": [
      "batches_per_pass = float(X.shape[0]) / batch_size\n",
      "max_iter = int(math.ceil(max_passes * batches_per_pass))\n",
      "\n",
      "print \"max_iter\", max_iter\n",
      "\n",
      "stop = climin.stops.any_([\n",
      "    #climin.stops.converged('loss'),\n",
      "    #climin.stops.rising('val_loss', 10, 1e-5, patience=5),\n",
      "    climin.stops.after_n_iterations(max_iter),\n",
      "    ])\n",
      "\n",
      "pause = climin.stops.modulo_n_iterations(500)\n",
      "\n",
      "# Set up a nice printout.\n",
      "keys = '#', 'loss', 'val loss'#, 'step_length'\n",
      "max_len = max(len(i) for i in keys)\n",
      "header = '   '.join(i.ljust(max_len) for i in keys)\n",
      "print header\n",
      "print '-' * len(header)\n",
      "\n",
      "\n",
      "for i, info in enumerate(fit(X, VX, fe, stop, pause)):\n",
      "    losses.append(info['loss'])\n",
      "    V_losses.append(info['val_loss'])\n",
      "    \n",
      "    img = tile_raster_images(fe.parameters['in_to_hidden'].T, image_dims, feature_dims, (1, 1))\n",
      "    save_and_display(img, 'filters-%i.png' % i)  \n",
      "    \n",
      "    row = '%i' % i, '%.6f' % info['loss'], '%.6f' % info['val_loss'],# '%.6f' % info['step_length']\n",
      "    print '   '.join(i.ljust(max_len) for i in row)"
     ],
     "language": "python",
     "metadata": {},
     "outputs": [
      {
       "output_type": "stream",
       "stream": "stdout",
       "text": [
        "max_iter 50000\n",
        "#          loss       val loss\n",
        "------------------------------\n",
        "0          497.594668   497.351663"
       ]
      },
      {
       "output_type": "stream",
       "stream": "stdout",
       "text": [
        "\n",
        "1          162.127394   160.557673"
       ]
      },
      {
       "output_type": "stream",
       "stream": "stdout",
       "text": [
        "\n",
        "2          157.486687   156.120581"
       ]
      },
      {
       "output_type": "stream",
       "stream": "stdout",
       "text": [
        "\n",
        "3          155.672033   154.555547"
       ]
      },
      {
       "output_type": "stream",
       "stream": "stdout",
       "text": [
        "\n",
        "4          154.823963   153.264041"
       ]
      },
      {
       "output_type": "stream",
       "stream": "stdout",
       "text": [
        "\n",
        "5          154.217679   152.752272"
       ]
      },
      {
       "output_type": "stream",
       "stream": "stdout",
       "text": [
        "\n",
        "6          154.059314   152.706159"
       ]
      },
      {
       "output_type": "stream",
       "stream": "stdout",
       "text": [
        "\n",
        "7          153.534517   152.193794"
       ]
      },
      {
       "output_type": "stream",
       "stream": "stdout",
       "text": [
        "\n",
        "8          153.145342   151.461032"
       ]
      },
      {
       "output_type": "stream",
       "stream": "stdout",
       "text": [
        "\n",
        "9          153.338140   152.070047"
       ]
      },
      {
       "output_type": "stream",
       "stream": "stdout",
       "text": [
        "\n",
        "10         153.309167   152.017873"
       ]
      },
      {
       "output_type": "stream",
       "stream": "stdout",
       "text": [
        "\n",
        "11         153.534807   152.455063"
       ]
      },
      {
       "output_type": "stream",
       "stream": "stdout",
       "text": [
        "\n",
        "12         152.555913   151.395171"
       ]
      },
      {
       "output_type": "stream",
       "stream": "stdout",
       "text": [
        "\n",
        "13         152.401714   150.967917"
       ]
      },
      {
       "output_type": "stream",
       "stream": "stdout",
       "text": [
        "\n",
        "14         152.182785   151.007950"
       ]
      },
      {
       "output_type": "stream",
       "stream": "stdout",
       "text": [
        "\n",
        "15         152.011010   150.706045"
       ]
      },
      {
       "output_type": "stream",
       "stream": "stdout",
       "text": [
        "\n",
        "16         151.830999   150.553143"
       ]
      },
      {
       "output_type": "stream",
       "stream": "stdout",
       "text": [
        "\n",
        "17         152.149813   150.950317"
       ]
      },
      {
       "output_type": "stream",
       "stream": "stdout",
       "text": [
        "\n",
        "18         151.962199   151.019424"
       ]
      },
      {
       "output_type": "stream",
       "stream": "stdout",
       "text": [
        "\n",
        "19         152.302748   151.305527"
       ]
      },
      {
       "output_type": "stream",
       "stream": "stdout",
       "text": [
        "\n",
        "20         152.251283   151.317371"
       ]
      },
      {
       "output_type": "stream",
       "stream": "stdout",
       "text": [
        "\n",
        "21         151.579015   150.270113"
       ]
      },
      {
       "output_type": "stream",
       "stream": "stdout",
       "text": [
        "\n",
        "22         151.741445   150.401868"
       ]
      },
      {
       "output_type": "stream",
       "stream": "stdout",
       "text": [
        "\n",
        "23         151.033938   150.324942"
       ]
      },
      {
       "output_type": "stream",
       "stream": "stdout",
       "text": [
        "\n",
        "24         151.907972   150.806858"
       ]
      },
      {
       "output_type": "stream",
       "stream": "stdout",
       "text": [
        "\n",
        "25         151.255116   150.309123"
       ]
      },
      {
       "output_type": "stream",
       "stream": "stdout",
       "text": [
        "\n",
        "26         151.018234   149.672520"
       ]
      },
      {
       "output_type": "stream",
       "stream": "stdout",
       "text": [
        "\n",
        "27         151.156474   150.265901"
       ]
      },
      {
       "output_type": "stream",
       "stream": "stdout",
       "text": [
        "\n",
        "28         151.849388   150.768751"
       ]
      },
      {
       "output_type": "stream",
       "stream": "stdout",
       "text": [
        "\n",
        "29         150.589297   149.722763"
       ]
      },
      {
       "output_type": "stream",
       "stream": "stdout",
       "text": [
        "\n",
        "30         150.921033   150.041386"
       ]
      },
      {
       "output_type": "stream",
       "stream": "stdout",
       "text": [
        "\n",
        "31         150.332729   149.353897"
       ]
      },
      {
       "output_type": "stream",
       "stream": "stdout",
       "text": [
        "\n",
        "32         150.358460   148.951019"
       ]
      },
      {
       "output_type": "stream",
       "stream": "stdout",
       "text": [
        "\n",
        "33         150.199016   149.199726"
       ]
      },
      {
       "output_type": "stream",
       "stream": "stdout",
       "text": [
        "\n",
        "34         151.516681   150.631695"
       ]
      },
      {
       "output_type": "stream",
       "stream": "stdout",
       "text": [
        "\n",
        "35         150.459668   149.459539"
       ]
      },
      {
       "output_type": "stream",
       "stream": "stdout",
       "text": [
        "\n",
        "36         151.170291   150.298341"
       ]
      },
      {
       "output_type": "stream",
       "stream": "stdout",
       "text": [
        "\n",
        "37         150.127594   149.236906"
       ]
      },
      {
       "output_type": "stream",
       "stream": "stdout",
       "text": [
        "\n",
        "38         150.202527   149.439080"
       ]
      },
      {
       "output_type": "stream",
       "stream": "stdout",
       "text": [
        "\n",
        "39         149.987794   149.459866"
       ]
      },
      {
       "output_type": "stream",
       "stream": "stdout",
       "text": [
        "\n",
        "40         149.525036   149.054359"
       ]
      },
      {
       "output_type": "stream",
       "stream": "stdout",
       "text": [
        "\n",
        "41         150.071250   149.419326"
       ]
      },
      {
       "output_type": "stream",
       "stream": "stdout",
       "text": [
        "\n",
        "42         150.297232   149.405680"
       ]
      },
      {
       "output_type": "stream",
       "stream": "stdout",
       "text": [
        "\n",
        "43         149.720110   149.240140"
       ]
      },
      {
       "output_type": "stream",
       "stream": "stdout",
       "text": [
        "\n",
        "44         149.927007   149.314360"
       ]
      },
      {
       "output_type": "stream",
       "stream": "stdout",
       "text": [
        "\n",
        "45         150.213576   149.625631"
       ]
      },
      {
       "output_type": "stream",
       "stream": "stdout",
       "text": [
        "\n",
        "46         149.855411   149.107452"
       ]
      },
      {
       "output_type": "stream",
       "stream": "stdout",
       "text": [
        "\n",
        "47         150.253583   149.491599"
       ]
      },
      {
       "output_type": "stream",
       "stream": "stdout",
       "text": [
        "\n",
        "48         150.117431   149.683001"
       ]
      },
      {
       "output_type": "stream",
       "stream": "stdout",
       "text": [
        "\n",
        "49         149.799685   148.752986"
       ]
      },
      {
       "output_type": "stream",
       "stream": "stdout",
       "text": [
        "\n",
        "50         150.104096   149.446575"
       ]
      },
      {
       "output_type": "stream",
       "stream": "stdout",
       "text": [
        "\n",
        "51         149.515364   149.028339"
       ]
      },
      {
       "output_type": "stream",
       "stream": "stdout",
       "text": [
        "\n",
        "52         150.591942   149.993780"
       ]
      },
      {
       "output_type": "stream",
       "stream": "stdout",
       "text": [
        "\n",
        "53         150.722885   150.043702"
       ]
      },
      {
       "output_type": "stream",
       "stream": "stdout",
       "text": [
        "\n",
        "54         150.365852   149.972487"
       ]
      },
      {
       "output_type": "stream",
       "stream": "stdout",
       "text": [
        "\n",
        "55         149.951396   149.484987"
       ]
      },
      {
       "output_type": "stream",
       "stream": "stdout",
       "text": [
        "\n",
        "56         149.427552   148.851712"
       ]
      },
      {
       "output_type": "stream",
       "stream": "stdout",
       "text": [
        "\n",
        "57         149.317012   148.998662"
       ]
      },
      {
       "output_type": "stream",
       "stream": "stdout",
       "text": [
        "\n",
        "58         150.422749   150.044369"
       ]
      },
      {
       "output_type": "stream",
       "stream": "stdout",
       "text": [
        "\n",
        "59         149.941557   149.698353"
       ]
      },
      {
       "output_type": "stream",
       "stream": "stdout",
       "text": [
        "\n",
        "60         149.438016   148.735565"
       ]
      },
      {
       "output_type": "stream",
       "stream": "stdout",
       "text": [
        "\n",
        "61         150.832230   150.406950"
       ]
      },
      {
       "output_type": "stream",
       "stream": "stdout",
       "text": [
        "\n",
        "62         150.034745   149.467384"
       ]
      },
      {
       "output_type": "stream",
       "stream": "stdout",
       "text": [
        "\n",
        "63         149.455208   149.034573"
       ]
      },
      {
       "output_type": "stream",
       "stream": "stdout",
       "text": [
        "\n",
        "64         149.476849   148.927700"
       ]
      },
      {
       "output_type": "stream",
       "stream": "stdout",
       "text": [
        "\n",
        "65         149.249216   148.939407"
       ]
      },
      {
       "output_type": "stream",
       "stream": "stdout",
       "text": [
        "\n",
        "66         149.551457   148.879105"
       ]
      },
      {
       "output_type": "stream",
       "stream": "stdout",
       "text": [
        "\n",
        "67         149.886637   149.159234"
       ]
      },
      {
       "output_type": "stream",
       "stream": "stdout",
       "text": [
        "\n",
        "68         149.520409   149.096246"
       ]
      },
      {
       "output_type": "stream",
       "stream": "stdout",
       "text": [
        "\n",
        "69         150.068046   149.409127"
       ]
      },
      {
       "output_type": "stream",
       "stream": "stdout",
       "text": [
        "\n",
        "70         149.196200   148.843513"
       ]
      },
      {
       "output_type": "stream",
       "stream": "stdout",
       "text": [
        "\n",
        "71         149.242798   149.019558"
       ]
      },
      {
       "output_type": "stream",
       "stream": "stdout",
       "text": [
        "\n",
        "72         149.942853   149.268027"
       ]
      },
      {
       "output_type": "stream",
       "stream": "stdout",
       "text": [
        "\n",
        "73         149.410100   149.109449"
       ]
      },
      {
       "output_type": "stream",
       "stream": "stdout",
       "text": [
        "\n",
        "74         149.082263   148.399784"
       ]
      },
      {
       "output_type": "stream",
       "stream": "stdout",
       "text": [
        "\n",
        "75         149.657082   148.771768"
       ]
      },
      {
       "output_type": "stream",
       "stream": "stdout",
       "text": [
        "\n",
        "76         149.549931   148.943567"
       ]
      },
      {
       "output_type": "stream",
       "stream": "stdout",
       "text": [
        "\n",
        "77         149.158956   148.397411"
       ]
      },
      {
       "output_type": "stream",
       "stream": "stdout",
       "text": [
        "\n",
        "78         149.705317   149.381749"
       ]
      },
      {
       "output_type": "stream",
       "stream": "stdout",
       "text": [
        "\n",
        "79         149.427534   148.572579"
       ]
      },
      {
       "output_type": "stream",
       "stream": "stdout",
       "text": [
        "\n",
        "80         148.896899   148.240241"
       ]
      },
      {
       "output_type": "stream",
       "stream": "stdout",
       "text": [
        "\n",
        "81         150.344836   149.241750"
       ]
      },
      {
       "output_type": "stream",
       "stream": "stdout",
       "text": [
        "\n",
        "82         149.592626   149.113880"
       ]
      },
      {
       "output_type": "stream",
       "stream": "stdout",
       "text": [
        "\n",
        "83         149.110331   148.323874"
       ]
      },
      {
       "output_type": "stream",
       "stream": "stdout",
       "text": [
        "\n",
        "84         149.016057   148.439759"
       ]
      },
      {
       "output_type": "stream",
       "stream": "stdout",
       "text": [
        "\n",
        "85         149.249289   148.478239"
       ]
      },
      {
       "output_type": "stream",
       "stream": "stdout",
       "text": [
        "\n",
        "86         148.929781   148.528864"
       ]
      },
      {
       "output_type": "stream",
       "stream": "stdout",
       "text": [
        "\n",
        "87         148.984125   148.240066"
       ]
      },
      {
       "output_type": "stream",
       "stream": "stdout",
       "text": [
        "\n",
        "88         149.409184   148.829907"
       ]
      },
      {
       "output_type": "stream",
       "stream": "stdout",
       "text": [
        "\n",
        "89         148.779277   148.143539"
       ]
      },
      {
       "output_type": "stream",
       "stream": "stdout",
       "text": [
        "\n",
        "90         148.822905   148.056290"
       ]
      },
      {
       "output_type": "stream",
       "stream": "stdout",
       "text": [
        "\n",
        "91         148.647240   148.199139"
       ]
      },
      {
       "output_type": "stream",
       "stream": "stdout",
       "text": [
        "\n",
        "92         149.546594   149.042056"
       ]
      },
      {
       "output_type": "stream",
       "stream": "stdout",
       "text": [
        "\n",
        "93         149.254666   148.650792"
       ]
      },
      {
       "output_type": "stream",
       "stream": "stdout",
       "text": [
        "\n",
        "94         149.472902   148.777607"
       ]
      },
      {
       "output_type": "stream",
       "stream": "stdout",
       "text": [
        "\n",
        "95         149.140899   148.843007"
       ]
      },
      {
       "output_type": "stream",
       "stream": "stdout",
       "text": [
        "\n",
        "96         148.895838   148.458280"
       ]
      },
      {
       "output_type": "stream",
       "stream": "stdout",
       "text": [
        "\n",
        "97         148.997479   148.533090"
       ]
      },
      {
       "output_type": "stream",
       "stream": "stdout",
       "text": [
        "\n",
        "98         149.697998   149.207854"
       ]
      },
      {
       "output_type": "stream",
       "stream": "stdout",
       "text": [
        "\n",
        "99         148.846029   148.300411"
       ]
      },
      {
       "output_type": "stream",
       "stream": "stdout",
       "text": [
        "\n",
        "100        149.111367   148.557775"
       ]
      },
      {
       "output_type": "stream",
       "stream": "stdout",
       "text": [
        "\n",
        "stopping condition\n"
       ]
      }
     ],
     "prompt_number": 40
    },
    {
     "cell_type": "markdown",
     "metadata": {},
     "source": [
      "Evaluation\n",
      "=========="
     ]
    },
    {
     "cell_type": "code",
     "collapsed": true,
     "input": [
      "filters = fe.parameters['in_to_hidden']\n",
      "F = fe.transform(X)\n",
      "VF = fe.transform(VX)\n",
      "TF = fe.transform(TX)\n",
      "\n",
      "plots = [\n",
      "    {'training error': losses,\n",
      "     'validation error': V_losses\n",
      "     },\n",
      "]   "
     ],
     "language": "python",
     "metadata": {},
     "outputs": [],
     "prompt_number": 18
    },
    {
     "cell_type": "markdown",
     "metadata": {},
     "source": [
      "Reconstruction and Errors\n",
      "-------------------------"
     ]
    },
    {
     "cell_type": "code",
     "collapsed": true,
     "input": [
      "f_reconstruct = fe.function(['inpt'], 'output')\n",
      "TR = f_reconstruct(TX[:64])\n",
      "\n",
      "img = tile_raster_images(TR, image_dims, (8, 8), (1, 1))\n",
      "# We write the filters to a file, since I do not like the matplot imshow functionality. :)\n",
      "save_and_display(img, 'reconstructions.png')"
     ],
     "language": "python",
     "metadata": {},
     "outputs": [
      {
       "output_type": "pyout",
       "png": "[encoded data removed]",
       "prompt_number": 41,
       "text": [
        "<IPython.core.display.Image at 0x1132d12d0>"
       ]
      }
     ],
     "prompt_number": 41
    },
    {
     "cell_type": "code",
     "collapsed": true,
     "input": [
      "img = tile_raster_images(TR - TX[:64], image_dims, (8, 8), (1, 1))\n",
      "# We write the filters to a file, since I do not like the matplot imshow functionality. :)\n",
      "save_and_display(img, 'reconstruction-errors.png')"
     ],
     "language": "python",
     "metadata": {},
     "outputs": [
      {
       "output_type": "pyout",
       "png": "[encoded data removed]",
       "prompt_number": 42,
       "text": [
        "<IPython.core.display.Image at 0x113388d90>"
       ]
      }
     ],
     "prompt_number": 42
    },
    {
     "cell_type": "markdown",
     "metadata": {},
     "source": [
      "Plots\n",
      "====="
     ]
    },
    {
     "cell_type": "code",
     "collapsed": true,
     "input": [
      "for plot in plots:\n",
      "    fig = plt.figure()\n",
      "    ax = fig.add_subplot(111)\n",
      "    for k, v in plot.items():\n",
      "        ax.plot(v, label=k)\n",
      "    ax.legend()"
     ],
     "language": "python",
     "metadata": {},
     "outputs": [
      {
       "output_type": "display_data",
       "png": "[encoded data removed]",
       "text": [
        "<matplotlib.figure.Figure at 0x113c67290>"
       ]
      }
     ],
     "prompt_number": 21
    },
    {
     "cell_type": "markdown",
     "metadata": {},
     "source": [
      "Visualize Filters\n",
      "================="
     ]
    },
    {
     "cell_type": "code",
     "collapsed": false,
     "input": [
      "tile_size = int(math.ceil(np.sqrt(n_features))), int(math.ceil(np.sqrt(n_features)))\n",
      "\n",
      "img = tile_raster_images(filters.T, image_dims, tile_size, (1, 1))\n",
      "# We write the filters to a file, since I do not like the matplot imshow functionality. :)\n",
      "save_and_display(img, 'filters.png')"
     ],
     "language": "python",
     "metadata": {},
     "outputs": [
      {
       "output_type": "pyout",
       "png": "[encoded data removed]",
       "prompt_number": 43,
       "text": [
        "<IPython.core.display.Image at 0x117d85910>"
       ]
      }
     ],
     "prompt_number": 43
    },
    {
     "cell_type": "markdown",
     "metadata": {},
     "source": [
      "Visualize Representations\n",
      "========================="
     ]
    },
    {
     "cell_type": "code",
     "collapsed": false,
     "input": [
      "n_rows, n_cols = feature_dims\n",
      "fig = plt.figure()\n",
      "\n",
      "axisNum = 0\n",
      "for row in range(n_rows):\n",
      "    for col in range(n_cols):\n",
      "        ax = plt.subplot(n_rows, n_cols, axisNum)\n",
      "        data = filters.T[axisNum]\n",
      "        ax.hist(data, bins=10)\n",
      "        ax.set_yticklabels([])\n",
      "        ax.set_xticklabels([])\n",
      "        axisNum += 1"
     ],
     "language": "python",
     "metadata": {},
     "outputs": [
      {
       "output_type": "display_data",
       "png": "[encoded data removed]",
       "text": [
        "<matplotlib.figure.Figure at 0x1208663d0>"
       ]
      }
     ],
     "prompt_number": 44
    },
    {
     "cell_type": "code",
     "collapsed": false,
     "input": [
      "n_items_to_show = 256"
     ],
     "language": "python",
     "metadata": {},
     "outputs": []
    },
    {
     "cell_type": "code",
     "collapsed": false,
     "input": [
      "save_and_display(scale_cols_to_unit_interval(F[:n_items_to_show].T), 'representations-train.png')"
     ],
     "language": "python",
     "metadata": {},
     "outputs": [
      {
       "output_type": "pyout",
       "png": "[encoded data removed]",
       "prompt_number": 47,
       "text": [
        "<IPython.core.display.Image at 0x10f110e10>"
       ]
      }
     ],
     "prompt_number": 47
    },
    {
     "cell_type": "code",
     "collapsed": false,
     "input": [
      "save_and_display(scale_cols_to_unit_interval(VF[:n_items_to_show].T), 'representations-val.png')"
     ],
     "language": "python",
     "metadata": {},
     "outputs": [
      {
       "output_type": "pyout",
       "png": "[encoded data removed]",
       "prompt_number": 48,
       "text": [
        "<IPython.core.display.Image at 0x119bbc810>"
       ]
      }
     ],
     "prompt_number": 48
    },
    {
     "cell_type": "code",
     "collapsed": false,
     "input": [
      "save_and_display(scale_cols_to_unit_interval(TF[:n_items_to_show].T), 'representations-test.png')"
     ],
     "language": "python",
     "metadata": {},
     "outputs": [
      {
       "output_type": "pyout",
       "png": "[encoded data removed]",
       "prompt_number": 49,
       "text": [
        "<IPython.core.display.Image at 0x119723110>"
       ]
      }
     ],
     "prompt_number": 49
    },
    {
     "cell_type": "markdown",
     "metadata": {},
     "source": [
      "Classification Performance with Random Forest\n",
      "============================================="
     ]
    },
    {
     "cell_type": "code",
     "collapsed": false,
     "input": [
      "from sklearn.ensemble import RandomForestClassifier\n",
      "\n",
      "clf = RandomForestClassifier()\n",
      "clf.fit(F, Z)\n",
      "print '#wrong', (clf.predict(TF) != TZ).sum()"
     ],
     "language": "python",
     "metadata": {},
     "outputs": [
      {
       "output_type": "stream",
       "stream": "stdout",
       "text": [
        "#wrong 586\n"
       ]
      }
     ],
     "prompt_number": 50
    }
   ],
   "metadata": {}
  }
 ]
}