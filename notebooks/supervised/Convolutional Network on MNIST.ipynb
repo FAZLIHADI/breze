{
 "metadata": {
  "name": "",
  "signature": "sha256:ebbcdc2032ae564e95d33399f5a47bada0efd5a670c75ef14ffd28b223fb3525"
 },
 "nbformat": 3,
 "nbformat_minor": 0,
 "worksheets": [
  {
   "cells": [
    {
     "cell_type": "code",
     "collapsed": false,
     "input": [
      "import cPickle\n",
      "import itertools\n",
      "import gzip\n",
      "import time\n",
      "\n",
      "import numpy as np\n",
      "import theano\n",
      "import theano.tensor as T\n",
      "\n",
      "import climin.stops\n",
      "import climin.initialize\n",
      "import climin.project\n",
      "import climin.schedule\n",
      "\n",
      "import breze.arch.util\n",
      "\n",
      "import breze.learn.base\n",
      "from breze.learn.data import one_hot\n",
      "\n",
      "from breze.learn import cnn\n",
      "\n",
      "import matplotlib.pyplot as plt\n",
      "%matplotlib inline"
     ],
     "language": "python",
     "metadata": {},
     "outputs": [],
     "prompt_number": 3
    },
    {
     "cell_type": "markdown",
     "metadata": {},
     "source": [
      "Prepare Data\n",
      "============\n",
      "\n",
      "We load the MNIST data. It is available at http://www.iro.umontreal.ca/~lisa/deep/data/mnist/mnist.pkl.gz.\n",
      "\n",
      "The inputs all lie between 0 and 1. Each target is a variable where the correct class is marked with a ``1`` and the wrong classes with ``-1``."
     ]
    },
    {
     "cell_type": "code",
     "collapsed": false,
     "input": [
      "datafile = 'mnist.pkl.gz'\n",
      "# Load data.                                                                                                   \n",
      "\n",
      "with gzip.open(datafile,'rb') as f:                                                                        \n",
      "    train_set, val_set, test_set = cPickle.load(f)                                                       \n",
      "\n",
      "X, Z = train_set                                                                                               \n",
      "VX, VZ = val_set\n",
      "TX, TZ = test_set\n",
      "\n",
      "Z = one_hot(Z, 10)\n",
      "VZ = one_hot(VZ, 10)\n",
      "TZ = one_hot(TZ, 10)\n",
      "\n",
      "image_height, image_width = image_dims = 28, 28\n",
      "X = X.reshape((-1, 1, image_height, image_width))\n",
      "VX = VX.reshape((-1, 1, image_height, image_width))\n",
      "TX = TX.reshape((-1, 1, image_height, image_width))\n",
      "\n",
      "X, Z, VX, VZ, TX, TZ = [breze.learn.base.cast_array_to_local_type(i) for i in (X, Z, VX, VZ, TX, TZ)]"
     ],
     "language": "python",
     "metadata": {},
     "outputs": [],
     "prompt_number": 4
    },
    {
     "cell_type": "code",
     "collapsed": false,
     "input": [
      "max_passes = 400\n",
      "batch_size = 100\n",
      "max_iter = max_passes * X.shape[0] / batch_size\n",
      "n_report = X.shape[0] / batch_size\n",
      "\n",
      "stop = climin.stops.AfterNIterations(max_iter)\n",
      "pause = climin.stops.ModuloNIterations(n_report)\n",
      "\n",
      "optimizer = 'adam'\n",
      "#optimizer = dropout_optimizer_conf(steprate_0=1, n_repeats=1)\n",
      "m = cnn.SimpleCnn2d(image_height, image_width, 1, [5, 5], [(2, 2), [2, 2]], 10, ['tanh', 'tanh'], out_transfer='softmax',\n",
      "        loss='cat_ce', optimizer=optimizer, batch_size=batch_size, max_iter=max_iter)\n",
      "\n",
      "m.parameters.data[...] = np.random.normal(0, 0.01, m.parameters.data.shape)\n",
      "\n",
      "\n",
      "def f_n_wrong(x, z):\n",
      "    y = m.predict(x)\n",
      "    return (y.argmax(axis=1) != z.argmax(axis=1)).sum()\n",
      "        \n",
      "    \n",
      "losses = []\n",
      "print 'max iter', max_iter"
     ],
     "language": "python",
     "metadata": {},
     "outputs": [
      {
       "output_type": "stream",
       "stream": "stdout",
       "text": [
        "filter shape (2, 2)\n",
        "inpt image shape 28 28\n",
        "n_hiddens 5\n",
        "output image shape 14 14\n",
        "--------------------\n",
        "filter shape [2, 2]\n",
        "inpt image shape 14 14\n",
        "n_hiddens 5\n",
        "output image shape 7 7\n",
        "--------------------\n",
        "max iter 200000\n"
       ]
      }
     ],
     "prompt_number": 7
    },
    {
     "cell_type": "code",
     "collapsed": false,
     "input": [
      "start = time.time()\n",
      "# Set up a nice printout.\n",
      "keys = '#', 'seconds', 'loss', 'val loss', 'train emp', 'test emp'\n",
      "max_len = max(len(i) for i in keys)\n",
      "header = '\\t'.join(i for i in keys)\n",
      "print header\n",
      "print '-' * len(header)\n",
      "\n",
      "for i, info in enumerate(m.powerfit((X, Z), (VX, VZ), stop, pause)):\n",
      "    if info['n_iter'] % n_report != 0:\n",
      "        continue\n",
      "    passed = time.time() - start\n",
      "    losses.append((info['loss'], info['val_loss']))\n",
      "    \n",
      "    #img = tile_raster_images(fe.parameters['in_to_hidden'].T, image_dims, feature_dims, (1, 1))\n",
      "    #save_and_display(img, 'filters-%i.png' % i)  \n",
      "    info.update({\n",
      "        'time': passed,\n",
      "        'train_emp': f_n_wrong(X, Z),\n",
      "        'test_emp': f_n_wrong(TX, TZ),\n",
      "    })\n",
      "    row = '%(n_iter)i\\t%(time)g\\t%(loss)g\\t%(val_loss)g\\t%(train_emp)g\\t%(test_emp)g' % info\n",
      "    print row"
     ],
     "language": "python",
     "metadata": {},
     "outputs": [
      {
       "output_type": "stream",
       "stream": "stderr",
       "text": [
        "ERROR (theano.gof.opt): SeqOptimizer apply <theano.tensor.opt.FusionOptimizer object at 0x106bdf650>\n"
       ]
      },
      {
       "output_type": "stream",
       "stream": "stderr",
       "text": [
        "ERROR:theano.gof.opt:SeqOptimizer apply <theano.tensor.opt.FusionOptimizer object at 0x106bdf650>\n"
       ]
      },
      {
       "output_type": "stream",
       "stream": "stderr",
       "text": [
        "ERROR (theano.gof.opt): Traceback:\n"
       ]
      },
      {
       "output_type": "stream",
       "stream": "stderr",
       "text": [
        "ERROR:theano.gof.opt:Traceback:\n"
       ]
      },
      {
       "output_type": "stream",
       "stream": "stderr",
       "text": [
        "ERROR (theano.gof.opt): Traceback (most recent call last):\n",
        "  File \"/Users/bayerj/devel/Theano/theano/gof/opt.py\", line 193, in apply\n",
        "    sub_prof = optimizer.optimize(fgraph)\n",
        "  File \"/Users/bayerj/devel/Theano/theano/gof/opt.py\", line 78, in optimize\n",
        "    ret = self.apply(fgraph, *args, **kwargs)\n",
        "  File \"/Users/bayerj/devel/Theano/theano/tensor/opt.py\", line 5784, in apply\n",
        "    new_outputs = self.optimizer(node)\n",
        "  File \"/Users/bayerj/devel/Theano/theano/tensor/opt.py\", line 5620, in local_fuse\n",
        "    tv = gof.op.get_test_value(ii)\n",
        "  File \"/Users/bayerj/devel/Theano/theano/gof/op.py\", line 829, in get_test_value\n",
        "    return PureOp._get_test_value(v_var)\n",
        "  File \"/Users/bayerj/devel/Theano/theano/gof/op.py\", line 455, in _get_test_value\n",
        "    ret = v.type.filter(v.tag.test_value)\n",
        "  File \"/Users/bayerj/devel/Theano/theano/tensor/type.py\", line 130, in filter\n",
        "    raise TypeError(err_msg, data)\n",
        "TypeError: For compute_test_value, one input test value does not have the requested type.\n",
        " \n",
        "Backtrace when that variable is created:\n",
        "  File \"/Users/bayerj/devel/breze/breze/learn/cnn.py\", line 46, in _init_exprs\n",
        "    target = T.matrix('target')\n",
        "\n",
        "The error when converting the test value to that variable type:\n",
        "TensorType(float32, matrix) cannot store a value of dtype float64 without risking loss of precision. If you do not mind this loss, you can: 1) explicitly cast your data to float32, or 2) set \"allow_input_downcast=True\" when calling \"function\".\n",
        "[[ 0.  0.  0.  0.  0.  0.  0.  0.  0.  0.]\n",
        " [ 0.  0.  0.  0.  0.  0.  0.  0.  0.  0.]]\n",
        "\n"
       ]
      },
      {
       "output_type": "stream",
       "stream": "stderr",
       "text": [
        "ERROR:theano.gof.opt:Traceback (most recent call last):\n",
        "  File \"/Users/bayerj/devel/Theano/theano/gof/opt.py\", line 193, in apply\n",
        "    sub_prof = optimizer.optimize(fgraph)\n",
        "  File \"/Users/bayerj/devel/Theano/theano/gof/opt.py\", line 78, in optimize\n",
        "    ret = self.apply(fgraph, *args, **kwargs)\n",
        "  File \"/Users/bayerj/devel/Theano/theano/tensor/opt.py\", line 5784, in apply\n",
        "    new_outputs = self.optimizer(node)\n",
        "  File \"/Users/bayerj/devel/Theano/theano/tensor/opt.py\", line 5620, in local_fuse\n",
        "    tv = gof.op.get_test_value(ii)\n",
        "  File \"/Users/bayerj/devel/Theano/theano/gof/op.py\", line 829, in get_test_value\n",
        "    return PureOp._get_test_value(v_var)\n",
        "  File \"/Users/bayerj/devel/Theano/theano/gof/op.py\", line 455, in _get_test_value\n",
        "    ret = v.type.filter(v.tag.test_value)\n",
        "  File \"/Users/bayerj/devel/Theano/theano/tensor/type.py\", line 130, in filter\n",
        "    raise TypeError(err_msg, data)\n",
        "TypeError: For compute_test_value, one input test value does not have the requested type.\n",
        " \n",
        "Backtrace when that variable is created:\n",
        "  File \"/Users/bayerj/devel/breze/breze/learn/cnn.py\", line 46, in _init_exprs\n",
        "    target = T.matrix('target')\n",
        "\n",
        "The error when converting the test value to that variable type:\n",
        "TensorType(float32, matrix) cannot store a value of dtype float64 without risking loss of precision. If you do not mind this loss, you can: 1) explicitly cast your data to float32, or 2) set \"allow_input_downcast=True\" when calling \"function\".\n",
        "[[ 0.  0.  0.  0.  0.  0.  0.  0.  0.  0.]\n",
        " [ 0.  0.  0.  0.  0.  0.  0.  0.  0.  0.]]\n",
        "\n"
       ]
      },
      {
       "output_type": "stream",
       "stream": "stdout",
       "text": [
        "#\tseconds\tloss\tval loss\ttrain emp\ttest emp\n",
        "------------------------------------------\n",
        "500\t8.67575\t1.07545\t1.03445\t11173\t2098"
       ]
      },
      {
       "output_type": "stream",
       "stream": "stdout",
       "text": [
        "\n",
        "1000\t19.1205\t0.72673\t0.67667\t9249\t1724"
       ]
      },
      {
       "output_type": "stream",
       "stream": "stdout",
       "text": [
        "\n",
        "1500\t29.8293\t0.629349\t0.57966\t8480\t1580"
       ]
      },
      {
       "output_type": "stream",
       "stream": "stdout",
       "text": [
        "\n",
        "2000\t40.0576\t0.581873\t0.533192\t8046\t1519"
       ]
      },
      {
       "output_type": "stream",
       "stream": "stdout",
       "text": [
        "\n",
        "2500\t50.8373\t0.551194\t0.504271\t7819\t1455"
       ]
      },
      {
       "output_type": "stream",
       "stream": "stdout",
       "text": [
        "\n",
        "3000\t62.4156\t0.529668\t0.483724\t7608\t1425"
       ]
      },
      {
       "output_type": "stream",
       "stream": "stdout",
       "text": [
        "\n",
        "3500\t73.5352\t0.512287\t0.468132\t7358\t1378"
       ]
      },
      {
       "output_type": "stream",
       "stream": "stdout",
       "text": [
        "\n",
        "4000\t84.0746\t0.497644\t0.454178\t7126\t1352"
       ]
      },
      {
       "output_type": "stream",
       "stream": "stdout",
       "text": [
        "\n",
        "4500\t94.6228\t0.485117\t0.442876\t7006\t1313"
       ]
      },
      {
       "output_type": "stream",
       "stream": "stdout",
       "text": [
        "\n",
        "5000\t105.458\t0.474066\t0.432193\t6897\t1309"
       ]
      },
      {
       "output_type": "stream",
       "stream": "stdout",
       "text": [
        "\n",
        "5500\t116.334\t0.463808\t0.422598\t6762\t1289"
       ]
      },
      {
       "output_type": "stream",
       "stream": "stdout",
       "text": [
        "\n",
        "6000\t128.113\t0.453563\t0.413252\t6605\t1257"
       ]
      },
      {
       "output_type": "stream",
       "stream": "stdout",
       "text": [
        "\n",
        "6500\t140.243\t0.443538\t0.40425\t6498\t1247"
       ]
      },
      {
       "output_type": "stream",
       "stream": "stdout",
       "text": [
        "\n",
        "7000\t152.286\t0.433666\t0.394775\t6364\t1230"
       ]
      },
      {
       "output_type": "stream",
       "stream": "stdout",
       "text": [
        "\n",
        "7500\t164.233\t0.422913\t0.384013\t6176\t1178"
       ]
      },
      {
       "output_type": "stream",
       "stream": "stdout",
       "text": [
        "\n",
        "8000\t176.17\t0.412405\t0.373594\t6004\t1139"
       ]
      },
      {
       "output_type": "stream",
       "stream": "stdout",
       "text": [
        "\n",
        "8500\t188.316\t0.401221\t0.363287\t5895\t1102"
       ]
      },
      {
       "output_type": "stream",
       "stream": "stdout",
       "text": [
        "\n",
        "9000\t200.785\t0.391016\t0.35356\t5733\t1061"
       ]
      },
      {
       "output_type": "stream",
       "stream": "stdout",
       "text": [
        "\n",
        "9500\t212.925\t0.381452\t0.344642\t5569\t1046"
       ]
      },
      {
       "output_type": "stream",
       "stream": "stdout",
       "text": [
        "\n",
        "10000\t224.913\t0.372744\t0.336444\t5508\t1021"
       ]
      },
      {
       "output_type": "stream",
       "stream": "stdout",
       "text": [
        "\n",
        "10500\t235.398\t0.365051\t0.329512\t5387\t1000"
       ]
      },
      {
       "output_type": "stream",
       "stream": "stdout",
       "text": [
        "\n",
        "11000\t245.712\t0.3578\t0.323189\t5274\t982"
       ]
      },
      {
       "output_type": "stream",
       "stream": "stdout",
       "text": [
        "\n",
        "11500\t256.216\t0.351214\t0.317186\t5196\t964"
       ]
      },
      {
       "output_type": "stream",
       "stream": "stdout",
       "text": [
        "\n",
        "12000\t266.638\t0.344848\t0.311039\t5092\t953"
       ]
      },
      {
       "output_type": "stream",
       "stream": "stdout",
       "text": [
        "\n",
        "12500\t277.222\t0.339005\t0.306275\t5001\t928"
       ]
      },
      {
       "output_type": "stream",
       "stream": "stdout",
       "text": [
        "\n",
        "13000\t287.849\t0.333138\t0.30086\t4924\t914"
       ]
      },
      {
       "output_type": "stream",
       "stream": "stdout",
       "text": [
        "\n",
        "13500\t298.402\t0.327856\t0.296143\t4875\t897"
       ]
      },
      {
       "output_type": "stream",
       "stream": "stdout",
       "text": [
        "\n",
        "14000\t310.153\t0.322323\t0.291245\t4778\t875"
       ]
      },
      {
       "output_type": "stream",
       "stream": "stdout",
       "text": [
        "\n",
        "14500\t322.348\t0.317351\t0.286761\t4689\t862"
       ]
      },
      {
       "output_type": "stream",
       "stream": "stdout",
       "text": [
        "\n",
        "15000\t332.964\t0.312354\t0.282316\t4614\t850"
       ]
      },
      {
       "output_type": "stream",
       "stream": "stdout",
       "text": [
        "\n",
        "15500\t343.456\t0.30758\t0.27878\t4545\t833"
       ]
      },
      {
       "output_type": "stream",
       "stream": "stdout",
       "text": [
        "\n",
        "16000\t354.173\t0.303059\t0.274971\t4475\t824"
       ]
      },
      {
       "output_type": "stream",
       "stream": "stdout",
       "text": [
        "\n",
        "16500\t364.731\t0.298594\t0.271113\t4416\t803"
       ]
      },
      {
       "output_type": "stream",
       "stream": "stdout",
       "text": [
        "\n",
        "17000\t375.308\t0.29457\t0.267649\t4342\t792"
       ]
      },
      {
       "output_type": "stream",
       "stream": "stdout",
       "text": [
        "\n",
        "17500\t385.877\t0.29044\t0.264161\t4292\t789"
       ]
      },
      {
       "output_type": "stream",
       "stream": "stdout",
       "text": [
        "\n",
        "18000\t396.507\t0.286478\t0.260759\t4210\t767"
       ]
      },
      {
       "output_type": "stream",
       "stream": "stdout",
       "text": [
        "\n",
        "18500\t407.107\t0.282617\t0.2574\t4132\t764"
       ]
      },
      {
       "output_type": "stream",
       "stream": "stdout",
       "text": [
        "\n",
        "19000\t417.731\t0.279127\t0.254568\t4096\t749"
       ]
      },
      {
       "output_type": "stream",
       "stream": "stdout",
       "text": [
        "\n",
        "19500\t428.185\t0.275483\t0.251448\t4032\t741"
       ]
      },
      {
       "output_type": "stream",
       "stream": "stdout",
       "text": [
        "\n",
        "20000\t438.693\t0.27212\t0.248733\t3977\t738"
       ]
      },
      {
       "output_type": "stream",
       "stream": "stdout",
       "text": [
        "\n",
        "20500\t449.318\t0.269067\t0.246561\t3938\t733"
       ]
      },
      {
       "output_type": "stream",
       "stream": "stdout",
       "text": [
        "\n",
        "21000\t459.977\t0.265871\t0.243639\t3883\t717"
       ]
      },
      {
       "output_type": "stream",
       "stream": "stdout",
       "text": [
        "\n",
        "21500\t470.473\t0.262803\t0.241062\t3834\t712"
       ]
      },
      {
       "output_type": "stream",
       "stream": "stdout",
       "text": [
        "\n",
        "22000\t481.091\t0.260071\t0.239155\t3811\t699"
       ]
      },
      {
       "output_type": "stream",
       "stream": "stdout",
       "text": [
        "\n",
        "22500\t491.652\t0.257177\t0.236085\t3754\t692"
       ]
      },
      {
       "output_type": "stream",
       "stream": "stdout",
       "text": [
        "\n",
        "23000\t502.176\t0.254418\t0.233845\t3701\t688"
       ]
      },
      {
       "output_type": "stream",
       "stream": "stdout",
       "text": [
        "\n",
        "23500\t512.85\t0.251953\t0.23218\t3676\t686"
       ]
      },
      {
       "output_type": "stream",
       "stream": "stdout",
       "text": [
        "\n",
        "24000\t523.6\t0.249463\t0.229549\t3638\t673"
       ]
      },
      {
       "output_type": "stream",
       "stream": "stdout",
       "text": [
        "\n",
        "24500\t534.334\t0.247002\t0.227852\t3595\t677"
       ]
      },
      {
       "output_type": "stream",
       "stream": "stdout",
       "text": [
        "\n",
        "25000\t545.157\t0.244608\t0.225943\t3567\t669"
       ]
      },
      {
       "output_type": "stream",
       "stream": "stdout",
       "text": [
        "\n",
        "25500\t555.938\t0.242407\t0.224095\t3528\t667"
       ]
      },
      {
       "output_type": "stream",
       "stream": "stdout",
       "text": [
        "\n",
        "26000\t566.508\t0.24033\t0.222534\t3523\t661"
       ]
      },
      {
       "output_type": "stream",
       "stream": "stdout",
       "text": [
        "\n",
        "26500\t576.998\t0.238095\t0.22043\t3475\t663"
       ]
      },
      {
       "output_type": "stream",
       "stream": "stdout",
       "text": [
        "\n",
        "27000\t587.615\t0.235986\t0.218772\t3448\t653"
       ]
      },
      {
       "output_type": "stream",
       "stream": "stdout",
       "text": [
        "\n",
        "27500\t598.334\t0.233891\t0.217038\t3434\t641"
       ]
      },
      {
       "output_type": "stream",
       "stream": "stdout",
       "text": [
        "\n",
        "28000\t609.002\t0.231995\t0.214988\t3376\t631"
       ]
      },
      {
       "output_type": "stream",
       "stream": "stdout",
       "text": [
        "\n",
        "28500\t619.647\t0.230019\t0.214026\t3372\t636"
       ]
      },
      {
       "output_type": "stream",
       "stream": "stdout",
       "text": [
        "\n",
        "29000\t630.189\t0.228143\t0.212045\t3347\t627"
       ]
      },
      {
       "output_type": "stream",
       "stream": "stdout",
       "text": [
        "\n",
        "29500\t640.876\t0.226285\t0.210689\t3310\t626"
       ]
      },
      {
       "output_type": "stream",
       "stream": "stdout",
       "text": [
        "\n",
        "30000\t651.466\t0.224536\t0.20883\t3311\t620"
       ]
      },
      {
       "output_type": "stream",
       "stream": "stdout",
       "text": [
        "\n",
        "30500\t661.998\t0.2228\t0.207753\t3255\t622"
       ]
      },
      {
       "output_type": "stream",
       "stream": "stdout",
       "text": [
        "\n",
        "31000\t672.707\t0.220974\t0.206098\t3227\t617"
       ]
      },
      {
       "output_type": "stream",
       "stream": "stdout",
       "text": [
        "\n",
        "31500\t683.343\t0.219283\t0.204376\t3219\t604"
       ]
      },
      {
       "output_type": "stream",
       "stream": "stdout",
       "text": [
        "\n",
        "32000\t693.975\t0.217685\t0.203273\t3185\t594"
       ]
      },
      {
       "output_type": "stream",
       "stream": "stdout",
       "text": [
        "\n",
        "32500\t704.748\t0.215862\t0.20175\t3166\t595"
       ]
      },
      {
       "output_type": "stream",
       "stream": "stdout",
       "text": [
        "\n",
        "33000\t715.314\t0.214349\t0.200928\t3156\t589"
       ]
      },
      {
       "output_type": "stream",
       "stream": "stdout",
       "text": [
        "\n",
        "33500\t725.982\t0.212726\t0.199312\t3108\t586"
       ]
      },
      {
       "output_type": "stream",
       "stream": "stdout",
       "text": [
        "\n",
        "34000\t736.605\t0.211072\t0.197916\t3090\t587"
       ]
      },
      {
       "output_type": "stream",
       "stream": "stdout",
       "text": [
        "\n",
        "34500\t747.215\t0.209597\t0.196536\t3082\t576"
       ]
      },
      {
       "output_type": "stream",
       "stream": "stdout",
       "text": [
        "\n",
        "35000\t757.873\t0.208025\t0.195192\t3052\t575"
       ]
      },
      {
       "output_type": "stream",
       "stream": "stdout",
       "text": [
        "\n",
        "35500\t768.461\t0.20672\t0.193779\t3034\t575"
       ]
      },
      {
       "output_type": "stream",
       "stream": "stdout",
       "text": [
        "\n",
        "36000\t779.123\t0.205123\t0.192914\t3002\t579"
       ]
      },
      {
       "output_type": "stream",
       "stream": "stdout",
       "text": [
        "\n",
        "36500\t789.841\t0.203554\t0.191696\t2989\t571"
       ]
      },
      {
       "output_type": "stream",
       "stream": "stdout",
       "text": [
        "\n",
        "37000\t800.434\t0.20212\t0.190383\t2979\t566"
       ]
      },
      {
       "output_type": "stream",
       "stream": "stdout",
       "text": [
        "\n",
        "37500\t811.139\t0.200721\t0.189442\t2948\t563"
       ]
      },
      {
       "output_type": "stream",
       "stream": "stdout",
       "text": [
        "\n",
        "38000\t821.682\t0.199301\t0.188199\t2951\t560"
       ]
      },
      {
       "output_type": "stream",
       "stream": "stdout",
       "text": [
        "\n",
        "38500\t832.483\t0.197982\t0.187211\t2927\t555"
       ]
      },
      {
       "output_type": "stream",
       "stream": "stdout",
       "text": [
        "\n",
        "39000\t843.197\t0.196861\t0.186096\t2912\t557"
       ]
      },
      {
       "output_type": "stream",
       "stream": "stdout",
       "text": [
        "\n",
        "39500\t853.94\t0.195408\t0.185254\t2882\t557"
       ]
      },
      {
       "output_type": "stream",
       "stream": "stdout",
       "text": [
        "\n",
        "40000\t864.588\t0.194192\t0.184304\t2872\t559"
       ]
      },
      {
       "output_type": "stream",
       "stream": "stdout",
       "text": [
        "\n",
        "40500\t875.249\t0.19296\t0.183116\t2855\t551"
       ]
      },
      {
       "output_type": "stream",
       "stream": "stdout",
       "text": [
        "\n",
        "41000\t885.964\t0.191875\t0.182148\t2831\t543"
       ]
      },
      {
       "output_type": "stream",
       "stream": "stdout",
       "text": [
        "\n",
        "41500\t896.556\t0.190658\t0.181277\t2789\t539"
       ]
      },
      {
       "output_type": "stream",
       "stream": "stdout",
       "text": [
        "\n",
        "42000\t907.411\t0.18979\t0.181261\t2788\t542"
       ]
      },
      {
       "output_type": "stream",
       "stream": "stdout",
       "text": [
        "\n",
        "42500\t919.977\t0.188438\t0.179555\t2754\t536"
       ]
      },
      {
       "output_type": "stream",
       "stream": "stdout",
       "text": [
        "\n",
        "43000\t930.749\t0.187466\t0.17893\t2761\t540"
       ]
      },
      {
       "output_type": "stream",
       "stream": "stdout",
       "text": [
        "\n",
        "43500\t942.075\t0.186413\t0.178044\t2764\t535"
       ]
      },
      {
       "output_type": "stream",
       "stream": "stdout",
       "text": [
        "\n",
        "44000\t956.818\t0.185581\t0.177727\t2729\t529"
       ]
      },
      {
       "output_type": "stream",
       "stream": "stdout",
       "text": [
        "\n",
        "44500\t969.613\t0.184587\t0.176441\t2711\t534"
       ]
      },
      {
       "output_type": "stream",
       "stream": "stdout",
       "text": [
        "\n",
        "45000\t981.853\t0.183715\t0.176102\t2692\t529"
       ]
      },
      {
       "output_type": "stream",
       "stream": "stdout",
       "text": [
        "\n",
        "45500\t993.722\t0.182616\t0.17534\t2694\t533"
       ]
      },
      {
       "output_type": "stream",
       "stream": "stdout",
       "text": [
        "\n",
        "46000\t1005.58\t0.181823\t0.174813\t2683\t536"
       ]
      },
      {
       "output_type": "stream",
       "stream": "stdout",
       "text": [
        "\n",
        "46500\t1018.81\t0.180927\t0.173818\t2668\t523"
       ]
      },
      {
       "output_type": "stream",
       "stream": "stdout",
       "text": [
        "\n",
        "47000\t1032.36\t0.180169\t0.173087\t2653\t521"
       ]
      },
      {
       "output_type": "stream",
       "stream": "stdout",
       "text": [
        "\n",
        "47500\t1044.85\t0.179318\t0.172547\t2645\t518"
       ]
      },
      {
       "output_type": "stream",
       "stream": "stdout",
       "text": [
        "\n",
        "48000\t1056.54\t0.178487\t0.171813\t2634\t522"
       ]
      },
      {
       "output_type": "stream",
       "stream": "stdout",
       "text": [
        "\n",
        "48500\t1067.58\t0.177714\t0.171282\t2630\t516"
       ]
      },
      {
       "output_type": "stream",
       "stream": "stdout",
       "text": [
        "\n",
        "49000\t1078.49\t0.177058\t0.170926\t2601\t516"
       ]
      },
      {
       "output_type": "stream",
       "stream": "stdout",
       "text": [
        "\n",
        "49500\t1091.38\t0.176275\t0.170354\t2597\t516"
       ]
      },
      {
       "output_type": "stream",
       "stream": "stdout",
       "text": [
        "\n",
        "50000\t1104.24\t0.175722\t0.170421\t2581\t512"
       ]
      },
      {
       "output_type": "stream",
       "stream": "stdout",
       "text": [
        "\n",
        "50500\t1116.12\t0.174831\t0.169424\t2573\t505"
       ]
      },
      {
       "output_type": "stream",
       "stream": "stdout",
       "text": [
        "\n",
        "51000\t1129.05\t0.174147\t0.168836\t2579\t501"
       ]
      },
      {
       "output_type": "stream",
       "stream": "stdout",
       "text": [
        "\n",
        "51500\t1141.95\t0.173609\t0.168513\t2563\t500"
       ]
      },
      {
       "output_type": "stream",
       "stream": "stdout",
       "text": [
        "\n",
        "52000\t1154.71\t0.172849\t0.168044\t2553\t507"
       ]
      },
      {
       "output_type": "stream",
       "stream": "stdout",
       "text": [
        "\n",
        "52500\t1167.31\t0.172263\t0.167595\t2537\t510"
       ]
      },
      {
       "output_type": "stream",
       "stream": "stdout",
       "text": [
        "\n",
        "53000\t1179.46\t0.171599\t0.167201\t2526\t496"
       ]
      },
      {
       "output_type": "stream",
       "stream": "stdout",
       "text": [
        "\n",
        "53500\t1191.09\t0.171055\t0.167058\t2517\t504"
       ]
      },
      {
       "output_type": "stream",
       "stream": "stdout",
       "text": [
        "\n",
        "54000\t1203.37\t0.1704\t0.166125\t2516\t502"
       ]
      },
      {
       "output_type": "stream",
       "stream": "stdout",
       "text": [
        "\n",
        "54500\t1214.89\t0.169814\t0.165488\t2502\t498"
       ]
      },
      {
       "output_type": "stream",
       "stream": "stdout",
       "text": [
        "\n",
        "55000\t1226.65\t0.169208\t0.164771\t2500\t499"
       ]
      },
      {
       "output_type": "stream",
       "stream": "stdout",
       "text": [
        "\n",
        "55500\t1239.78\t0.168651\t0.165002\t2477\t493"
       ]
      },
      {
       "output_type": "stream",
       "stream": "stdout",
       "text": [
        "\n",
        "56000\t1253.3\t0.168132\t0.164284\t2473\t494"
       ]
      },
      {
       "output_type": "stream",
       "stream": "stdout",
       "text": [
        "\n",
        "56500\t1265.63\t0.167549\t0.164004\t2455\t497"
       ]
      },
      {
       "output_type": "stream",
       "stream": "stdout",
       "text": [
        "\n",
        "57000\t1276.62\t0.166993\t0.163657\t2453\t497"
       ]
      },
      {
       "output_type": "stream",
       "stream": "stdout",
       "text": [
        "\n",
        "57500\t1288.38\t0.16657\t0.163734\t2453\t497"
       ]
      },
      {
       "output_type": "stream",
       "stream": "stdout",
       "text": [
        "\n",
        "58000\t1300.43\t0.165926\t0.162885\t2452\t494"
       ]
      },
      {
       "output_type": "stream",
       "stream": "stdout",
       "text": [
        "\n",
        "58500\t1315.14\t0.16546\t0.162439\t2434\t493"
       ]
      },
      {
       "output_type": "stream",
       "stream": "stdout",
       "text": [
        "\n",
        "59000\t1327.64\t0.164956\t0.162258\t2427\t496"
       ]
      },
      {
       "output_type": "stream",
       "stream": "stdout",
       "text": [
        "\n",
        "59500\t1339.47\t0.164552\t0.161971\t2418\t494"
       ]
      },
      {
       "output_type": "stream",
       "stream": "stdout",
       "text": [
        "\n",
        "60000\t1351.19\t0.163966\t0.161372\t2414\t492"
       ]
      },
      {
       "output_type": "stream",
       "stream": "stdout",
       "text": [
        "\n",
        "60500\t1362.82\t0.163436\t0.160525\t2413\t486"
       ]
      },
      {
       "output_type": "stream",
       "stream": "stdout",
       "text": [
        "\n",
        "61000\t1375.18\t0.162951\t0.160488\t2408\t487"
       ]
      },
      {
       "output_type": "stream",
       "stream": "stdout",
       "text": [
        "\n",
        "61500\t1386.41\t0.162608\t0.159948\t2398\t485"
       ]
      },
      {
       "output_type": "stream",
       "stream": "stdout",
       "text": [
        "\n",
        "62000\t1398.05\t0.161998\t0.159886\t2381\t486"
       ]
      },
      {
       "output_type": "stream",
       "stream": "stdout",
       "text": [
        "\n",
        "62500\t1409.16\t0.161585\t0.159666\t2372\t484"
       ]
      },
      {
       "output_type": "stream",
       "stream": "stdout",
       "text": [
        "\n",
        "63000\t1420.19\t0.161167\t0.159647\t2363\t486"
       ]
      },
      {
       "output_type": "stream",
       "stream": "stdout",
       "text": [
        "\n",
        "63500\t1432.19\t0.160769\t0.158943\t2373\t475"
       ]
      },
      {
       "output_type": "stream",
       "stream": "stdout",
       "text": [
        "\n",
        "64000\t1443.85\t0.160249\t0.158526\t2362\t481"
       ]
      },
      {
       "output_type": "stream",
       "stream": "stdout",
       "text": [
        "\n",
        "64500\t1456.02\t0.159799\t0.158111\t2365\t475"
       ]
      },
      {
       "output_type": "stream",
       "stream": "stdout",
       "text": [
        "\n",
        "65000\t1467.27\t0.159377\t0.157936\t2356\t480"
       ]
      },
      {
       "output_type": "stream",
       "stream": "stdout",
       "text": [
        "\n",
        "65500\t1478.48\t0.159028\t0.157067\t2349\t477"
       ]
      },
      {
       "output_type": "stream",
       "stream": "stdout",
       "text": [
        "\n",
        "66000\t1490.69\t0.158522\t0.157162\t2348\t476"
       ]
      },
      {
       "output_type": "stream",
       "stream": "stdout",
       "text": [
        "\n",
        "66500\t1501.52\t0.158237\t0.157237\t2349\t479"
       ]
      },
      {
       "output_type": "stream",
       "stream": "stdout",
       "text": [
        "\n",
        "67000\t1512.4\t0.157952\t0.156712\t2353\t478"
       ]
      },
      {
       "output_type": "stream",
       "stream": "stdout",
       "text": [
        "\n",
        "67500\t1523.15\t0.157358\t0.156511\t2330\t476"
       ]
      },
      {
       "output_type": "stream",
       "stream": "stdout",
       "text": [
        "\n",
        "68000\t1535.81\t0.157085\t0.156284\t2330\t472"
       ]
      },
      {
       "output_type": "stream",
       "stream": "stdout",
       "text": [
        "\n",
        "68500\t1547.84\t0.156627\t0.156255\t2322\t472"
       ]
      },
      {
       "output_type": "stream",
       "stream": "stdout",
       "text": [
        "\n",
        "69000\t1559.96\t0.156243\t0.155937\t2309\t472"
       ]
      },
      {
       "output_type": "stream",
       "stream": "stdout",
       "text": [
        "\n",
        "69500\t1572.25\t0.155882\t0.155401\t2293\t474"
       ]
      },
      {
       "output_type": "stream",
       "stream": "stdout",
       "text": [
        "\n",
        "70000\t1584.67\t0.155578\t0.155663\t2300\t472"
       ]
      },
      {
       "output_type": "stream",
       "stream": "stdout",
       "text": [
        "\n",
        "70500\t1598.38\t0.155152\t0.154981\t2300\t474"
       ]
      },
      {
       "output_type": "stream",
       "stream": "stdout",
       "text": [
        "\n",
        "71000\t1609.86\t0.154812\t0.154738\t2281\t466"
       ]
      },
      {
       "output_type": "stream",
       "stream": "stdout",
       "text": [
        "\n",
        "71500\t1620.77\t0.154508\t0.155152\t2292\t465"
       ]
      },
      {
       "output_type": "stream",
       "stream": "stdout",
       "text": [
        "\n",
        "72000\t1632.39\t0.154086\t0.153916\t2295\t467"
       ]
      },
      {
       "output_type": "stream",
       "stream": "stdout",
       "text": [
        "\n",
        "72500\t1647.64\t0.153693\t0.153744\t2271\t461"
       ]
      },
      {
       "output_type": "stream",
       "stream": "stdout",
       "text": [
        "\n",
        "73000\t1665.1\t0.153354\t0.153516\t2270\t467"
       ]
      },
      {
       "output_type": "stream",
       "stream": "stdout",
       "text": [
        "\n",
        "73500\t1676.92\t0.153037\t0.153392\t2265\t463"
       ]
      },
      {
       "output_type": "stream",
       "stream": "stdout",
       "text": [
        "\n",
        "74000\t1688.45\t0.152785\t0.153035\t2272\t461"
       ]
      },
      {
       "output_type": "stream",
       "stream": "stdout",
       "text": [
        "\n",
        "74500\t1699.89\t0.152597\t0.15237\t2270\t456"
       ]
      },
      {
       "output_type": "stream",
       "stream": "stdout",
       "text": [
        "\n",
        "75000\t1711.44\t0.152072\t0.152821\t2252\t461"
       ]
      },
      {
       "output_type": "stream",
       "stream": "stdout",
       "text": [
        "\n",
        "75500\t1722.95\t0.151976\t0.152762\t2261\t460"
       ]
      },
      {
       "output_type": "stream",
       "stream": "stdout",
       "text": [
        "\n",
        "76000\t1737.5\t0.151539\t0.152333\t2239\t458"
       ]
      },
      {
       "output_type": "stream",
       "stream": "stdout",
       "text": [
        "\n",
        "76500\t1749.2\t0.151209\t0.152117\t2247\t462"
       ]
      },
      {
       "output_type": "stream",
       "stream": "stdout",
       "text": [
        "\n",
        "77000\t1761.17\t0.150871\t0.151845\t2247\t451"
       ]
      },
      {
       "output_type": "stream",
       "stream": "stdout",
       "text": [
        "\n",
        "77500\t1772.61\t0.150612\t0.151952\t2231\t451"
       ]
      },
      {
       "output_type": "stream",
       "stream": "stdout",
       "text": [
        "\n",
        "78000\t1783.63\t0.150223\t0.151505\t2231\t449"
       ]
      },
      {
       "output_type": "stream",
       "stream": "stdout",
       "text": [
        "\n",
        "78500\t1794.92\t0.150016\t0.150982\t2245\t453"
       ]
      },
      {
       "output_type": "stream",
       "stream": "stdout",
       "text": [
        "\n",
        "79000\t1806.44\t0.149727\t0.151222\t2230\t451"
       ]
      },
      {
       "output_type": "stream",
       "stream": "stdout",
       "text": [
        "\n",
        "79500\t1818.77\t0.149468\t0.151458\t2233\t453"
       ]
      },
      {
       "output_type": "stream",
       "stream": "stdout",
       "text": [
        "\n",
        "80000\t1830.22\t0.149107\t0.150772\t2231\t449"
       ]
      },
      {
       "output_type": "stream",
       "stream": "stdout",
       "text": [
        "\n",
        "80500\t1841.81\t0.148836\t0.150305\t2213\t445"
       ]
      },
      {
       "output_type": "stream",
       "stream": "stdout",
       "text": [
        "\n",
        "81000\t1853.27\t0.148648\t0.150489\t2216\t444"
       ]
      },
      {
       "output_type": "stream",
       "stream": "stdout",
       "text": [
        "\n",
        "81500\t1864.81\t0.148427\t0.150518\t2192\t455"
       ]
      },
      {
       "output_type": "stream",
       "stream": "stdout",
       "text": [
        "\n",
        "82000\t1876.6\t0.147973\t0.15024\t2200\t450"
       ]
      },
      {
       "output_type": "stream",
       "stream": "stdout",
       "text": [
        "\n",
        "82500\t1887.68\t0.147817\t0.150016\t2206\t445"
       ]
      },
      {
       "output_type": "stream",
       "stream": "stdout",
       "text": [
        "\n",
        "83000\t1899.12\t0.14744\t0.149543\t2202\t448"
       ]
      },
      {
       "output_type": "stream",
       "stream": "stdout",
       "text": [
        "\n",
        "83500\t1910.61\t0.147212\t0.149393\t2206\t448"
       ]
      },
      {
       "output_type": "stream",
       "stream": "stdout",
       "text": [
        "\n",
        "84000\t1923.37\t0.147166\t0.149079\t2205\t444"
       ]
      },
      {
       "output_type": "stream",
       "stream": "stdout",
       "text": [
        "\n",
        "84500\t1935.22\t0.146659\t0.149214\t2190\t448"
       ]
      },
      {
       "output_type": "stream",
       "stream": "stdout",
       "text": [
        "\n",
        "85000\t1948.01\t0.146456\t0.149225\t2189\t450"
       ]
      },
      {
       "output_type": "stream",
       "stream": "stdout",
       "text": [
        "\n",
        "85500\t1960.37\t0.146342\t0.148957\t2187\t448"
       ]
      },
      {
       "output_type": "stream",
       "stream": "stdout",
       "text": [
        "\n",
        "86000\t1972.2\t0.14602\t0.149304\t2189\t451"
       ]
      },
      {
       "output_type": "stream",
       "stream": "stdout",
       "text": [
        "\n",
        "86500\t1984.03\t0.145701\t0.148529\t2188\t447"
       ]
      },
      {
       "output_type": "stream",
       "stream": "stdout",
       "text": [
        "\n",
        "87000\t1995.56\t0.145479\t0.148521\t2184\t449"
       ]
      },
      {
       "output_type": "stream",
       "stream": "stdout",
       "text": [
        "\n",
        "87500\t2008.57\t0.145248\t0.148281\t2175\t445"
       ]
      },
      {
       "output_type": "stream",
       "stream": "stdout",
       "text": [
        "\n",
        "88000\t2020.81\t0.145129\t0.148588\t2187\t448"
       ]
      },
      {
       "output_type": "stream",
       "stream": "stdout",
       "text": [
        "\n",
        "88500\t2033.97\t0.144781\t0.148087\t2166\t443"
       ]
      },
      {
       "output_type": "stream",
       "stream": "stdout",
       "text": [
        "\n",
        "89000\t2046.1\t0.144565\t0.147586\t2162\t443"
       ]
      },
      {
       "output_type": "stream",
       "stream": "stdout",
       "text": [
        "\n",
        "89500\t2057.96\t0.144284\t0.147807\t2172\t448"
       ]
      },
      {
       "output_type": "stream",
       "stream": "stdout",
       "text": [
        "\n",
        "90000\t2069.84\t0.144083\t0.147687\t2153\t446"
       ]
      },
      {
       "output_type": "stream",
       "stream": "stdout",
       "text": [
        "\n",
        "90500\t2081\t0.14386\t0.147182\t2138\t440"
       ]
      },
      {
       "output_type": "stream",
       "stream": "stdout",
       "text": [
        "\n",
        "91000\t2093.14\t0.143605\t0.147231\t2145\t447"
       ]
      },
      {
       "output_type": "stream",
       "stream": "stdout",
       "text": [
        "\n",
        "91500\t2104.82\t0.143364\t0.1472\t2160\t450"
       ]
      },
      {
       "output_type": "stream",
       "stream": "stdout",
       "text": [
        "\n",
        "92000\t2117.22\t0.143353\t0.147305\t2162\t447"
       ]
      },
      {
       "output_type": "stream",
       "stream": "stdout",
       "text": [
        "\n",
        "92500\t2129.99\t0.143036\t0.147186\t2161\t448"
       ]
      },
      {
       "output_type": "stream",
       "stream": "stdout",
       "text": [
        "\n",
        "93000\t2142.19\t0.142821\t0.146962\t2154\t447"
       ]
      },
      {
       "output_type": "stream",
       "stream": "stdout",
       "text": [
        "\n",
        "93500\t2155.46\t0.142597\t0.146978\t2141\t448"
       ]
      },
      {
       "output_type": "stream",
       "stream": "stdout",
       "text": [
        "\n",
        "94000\t2168.71\t0.142393\t0.14665\t2119\t443"
       ]
      },
      {
       "output_type": "stream",
       "stream": "stdout",
       "text": [
        "\n",
        "94500\t2181.27\t0.142213\t0.146695\t2127\t444"
       ]
      },
      {
       "output_type": "stream",
       "stream": "stdout",
       "text": [
        "\n",
        "95000\t2193.43\t0.141939\t0.146321\t2106\t443"
       ]
      },
      {
       "output_type": "stream",
       "stream": "stdout",
       "text": [
        "\n",
        "95500\t2206.02\t0.141841\t0.146625\t2140\t446"
       ]
      },
      {
       "output_type": "stream",
       "stream": "stdout",
       "text": [
        "\n",
        "96000\t2218.37\t0.141477\t0.145821\t2117\t441"
       ]
      },
      {
       "output_type": "stream",
       "stream": "stdout",
       "text": [
        "\n",
        "96500\t2230.68\t0.141315\t0.146114\t2124\t444"
       ]
      },
      {
       "output_type": "stream",
       "stream": "stdout",
       "text": [
        "\n",
        "97000\t2243.53\t0.14108\t0.146022\t2124\t447"
       ]
      },
      {
       "output_type": "stream",
       "stream": "stdout",
       "text": [
        "\n",
        "97500\t2256.05\t0.140875\t0.145713\t2109\t443"
       ]
      },
      {
       "output_type": "stream",
       "stream": "stdout",
       "text": [
        "\n",
        "98000\t2268.43\t0.140683\t0.145751\t2101\t438"
       ]
      },
      {
       "output_type": "stream",
       "stream": "stdout",
       "text": [
        "\n",
        "98500\t2279.92\t0.140536\t0.145577\t2091\t442"
       ]
      },
      {
       "output_type": "stream",
       "stream": "stdout",
       "text": [
        "\n",
        "99000\t2291.46\t0.140306\t0.145165\t2097\t446"
       ]
      },
      {
       "output_type": "stream",
       "stream": "stdout",
       "text": [
        "\n",
        "99500\t2304.3\t0.140082\t0.144882\t2094\t446"
       ]
      },
      {
       "output_type": "stream",
       "stream": "stdout",
       "text": [
        "\n",
        "100000\t2315.53\t0.140049\t0.145029\t2090\t443"
       ]
      },
      {
       "output_type": "stream",
       "stream": "stdout",
       "text": [
        "\n",
        "100500\t2328.15\t0.139815\t0.145095\t2094\t442"
       ]
      },
      {
       "output_type": "stream",
       "stream": "stdout",
       "text": [
        "\n",
        "101000\t2340.51\t0.139501\t0.144828\t2088\t442"
       ]
      },
      {
       "output_type": "stream",
       "stream": "stdout",
       "text": [
        "\n",
        "101500\t2352.66\t0.139426\t0.144556\t2101\t448"
       ]
      },
      {
       "output_type": "stream",
       "stream": "stdout",
       "text": [
        "\n",
        "102000\t2364.88\t0.139157\t0.144597\t2076\t448"
       ]
      },
      {
       "output_type": "stream",
       "stream": "stdout",
       "text": [
        "\n",
        "102500\t2377.34\t0.138977\t0.144312\t2074\t445"
       ]
      },
      {
       "output_type": "stream",
       "stream": "stdout",
       "text": [
        "\n",
        "103000\t2389.95\t0.138873\t0.145172\t2102\t445"
       ]
      },
      {
       "output_type": "stream",
       "stream": "stdout",
       "text": [
        "\n",
        "103500\t2402.63\t0.138571\t0.144084\t2076\t444"
       ]
      },
      {
       "output_type": "stream",
       "stream": "stdout",
       "text": [
        "\n",
        "104000\t2414.47\t0.138503\t0.143921\t2068\t441"
       ]
      },
      {
       "output_type": "stream",
       "stream": "stdout",
       "text": [
        "\n",
        "104500\t2426.79\t0.138134\t0.144076\t2077\t439"
       ]
      },
      {
       "output_type": "stream",
       "stream": "stdout",
       "text": [
        "\n",
        "105000\t2439.08\t0.138049\t0.144281\t2070\t437"
       ]
      },
      {
       "output_type": "stream",
       "stream": "stdout",
       "text": [
        "\n",
        "105500\t2450.97\t0.137794\t0.144132\t2065\t438"
       ]
      },
      {
       "output_type": "stream",
       "stream": "stdout",
       "text": [
        "\n",
        "106000\t2462.77\t0.137644\t0.143683\t2061\t444"
       ]
      },
      {
       "output_type": "stream",
       "stream": "stdout",
       "text": [
        "\n",
        "106500\t2474.7\t0.137419\t0.143542\t2064\t438"
       ]
      },
      {
       "output_type": "stream",
       "stream": "stdout",
       "text": [
        "\n",
        "107000\t2485.81\t0.137319\t0.143653\t2059\t431"
       ]
      },
      {
       "output_type": "stream",
       "stream": "stdout",
       "text": [
        "\n",
        "107500\t2497.5\t0.137082\t0.14343\t2049\t438"
       ]
      },
      {
       "output_type": "stream",
       "stream": "stdout",
       "text": [
        "\n",
        "108000\t2509.65\t0.136995\t0.143325\t2061\t435"
       ]
      },
      {
       "output_type": "stream",
       "stream": "stdout",
       "text": [
        "\n",
        "108500\t2522.01\t0.13672\t0.143417\t2055\t438"
       ]
      },
      {
       "output_type": "stream",
       "stream": "stdout",
       "text": [
        "\n",
        "109000\t2534.41\t0.136544\t0.143354\t2048\t434"
       ]
      },
      {
       "output_type": "stream",
       "stream": "stdout",
       "text": [
        "\n",
        "109500\t2547.06\t0.136469\t0.143004\t2030\t436"
       ]
      },
      {
       "output_type": "stream",
       "stream": "stdout",
       "text": [
        "\n",
        "110000\t2559.15\t0.136257\t0.142685\t2057\t433"
       ]
      },
      {
       "output_type": "stream",
       "stream": "stdout",
       "text": [
        "\n",
        "110500\t2571.14\t0.13601\t0.143182\t2042\t433"
       ]
      },
      {
       "output_type": "stream",
       "stream": "stdout",
       "text": [
        "\n",
        "111000\t2583.54\t0.135821\t0.142931\t2050\t431"
       ]
      },
      {
       "output_type": "stream",
       "stream": "stdout",
       "text": [
        "\n",
        "111500\t2595.79\t0.135745\t0.143253\t2034\t430"
       ]
      },
      {
       "output_type": "stream",
       "stream": "stdout",
       "text": [
        "\n",
        "112000\t2608.42\t0.135512\t0.142815\t2040\t430"
       ]
      },
      {
       "output_type": "stream",
       "stream": "stdout",
       "text": [
        "\n",
        "112500\t2620.83\t0.135378\t0.142333\t2042\t434"
       ]
      },
      {
       "output_type": "stream",
       "stream": "stdout",
       "text": [
        "\n",
        "113000\t2635.25\t0.135187\t0.142431\t2035\t433"
       ]
      },
      {
       "output_type": "stream",
       "stream": "stdout",
       "text": [
        "\n",
        "113500\t2652.78\t0.134987\t0.14204\t2018\t429"
       ]
      },
      {
       "output_type": "stream",
       "stream": "stdout",
       "text": [
        "\n",
        "114000\t2669.15\t0.134859\t0.142344\t2027\t424"
       ]
      },
      {
       "output_type": "stream",
       "stream": "stdout",
       "text": [
        "\n",
        "114500\t2681.99\t0.134592\t0.142178\t2009\t432"
       ]
      },
      {
       "output_type": "stream",
       "stream": "stdout",
       "text": [
        "\n",
        "115000\t2694\t0.134394\t0.141816\t2024\t430"
       ]
      },
      {
       "output_type": "stream",
       "stream": "stdout",
       "text": [
        "\n",
        "115500\t2705.54\t0.134324\t0.141734\t2018\t422"
       ]
      },
      {
       "output_type": "stream",
       "stream": "stdout",
       "text": [
        "\n",
        "116000\t2717.5\t0.134089\t0.141932\t2029\t431"
       ]
      },
      {
       "output_type": "stream",
       "stream": "stdout",
       "text": [
        "\n",
        "116500\t2731.6\t0.133834\t0.141516\t2007\t425"
       ]
      },
      {
       "output_type": "stream",
       "stream": "stdout",
       "text": [
        "\n",
        "117000\t2744.46\t0.133679\t0.141302\t2004\t423"
       ]
      },
      {
       "output_type": "stream",
       "stream": "stdout",
       "text": [
        "\n",
        "117500\t2756.56\t0.133522\t0.141513\t2007\t425"
       ]
      },
      {
       "output_type": "stream",
       "stream": "stdout",
       "text": [
        "\n",
        "118000\t2768.85\t0.133329\t0.141613\t2001\t424"
       ]
      },
      {
       "output_type": "stream",
       "stream": "stdout",
       "text": [
        "\n",
        "118500\t2780.87\t0.133173\t0.141278\t2008\t425"
       ]
      },
      {
       "output_type": "stream",
       "stream": "stdout",
       "text": [
        "\n",
        "119000\t2793.31\t0.133122\t0.141323\t2016\t427"
       ]
      },
      {
       "output_type": "stream",
       "stream": "stdout",
       "text": [
        "\n",
        "119500\t2805.71\t0.132781\t0.14112\t1997\t429"
       ]
      },
      {
       "output_type": "stream",
       "stream": "stdout",
       "text": [
        "\n",
        "120000\t2818.86\t0.132642\t0.140999\t1984\t425"
       ]
      },
      {
       "output_type": "stream",
       "stream": "stdout",
       "text": [
        "\n",
        "120500\t2831.58\t0.132498\t0.140837\t2002\t426"
       ]
      },
      {
       "output_type": "stream",
       "stream": "stdout",
       "text": [
        "\n",
        "121000\t2843.95\t0.132313\t0.140678\t1995\t424"
       ]
      },
      {
       "output_type": "stream",
       "stream": "stdout",
       "text": [
        "\n",
        "121500\t2855.98\t0.132154\t0.140926\t1977\t418"
       ]
      },
      {
       "output_type": "stream",
       "stream": "stdout",
       "text": [
        "\n",
        "122000\t2867.78\t0.13195\t0.140584\t1974\t414"
       ]
      },
      {
       "output_type": "stream",
       "stream": "stdout",
       "text": [
        "\n",
        "122500\t2880.73\t0.131726\t0.140437\t1989\t423"
       ]
      },
      {
       "output_type": "stream",
       "stream": "stdout",
       "text": [
        "\n",
        "123000\t2892.77\t0.131597\t0.140467\t1981\t414"
       ]
      },
      {
       "output_type": "stream",
       "stream": "stdout",
       "text": [
        "\n",
        "123500\t2904.77\t0.131344\t0.139978\t1964\t417"
       ]
      },
      {
       "output_type": "stream",
       "stream": "stdout",
       "text": [
        "\n",
        "124000\t2916.89\t0.131172\t0.139954\t1980\t413"
       ]
      },
      {
       "output_type": "stream",
       "stream": "stdout",
       "text": [
        "\n",
        "124500\t2928.96\t0.131079\t0.140133\t1968\t411"
       ]
      },
      {
       "output_type": "stream",
       "stream": "stdout",
       "text": [
        "\n",
        "125000\t2940.47\t0.131022\t0.140278\t1978\t413"
       ]
      },
      {
       "output_type": "stream",
       "stream": "stdout",
       "text": [
        "\n",
        "125500\t2951.7\t0.130718\t0.139897\t1972\t412"
       ]
      },
      {
       "output_type": "stream",
       "stream": "stdout",
       "text": [
        "\n",
        "126000\t2962.71\t0.130486\t0.139616\t1970\t413"
       ]
      },
      {
       "output_type": "stream",
       "stream": "stdout",
       "text": [
        "\n",
        "126500\t2974.11\t0.130277\t0.139398\t1964\t414"
       ]
      },
      {
       "output_type": "stream",
       "stream": "stdout",
       "text": [
        "\n",
        "127000\t2985.48\t0.130291\t0.139065\t1955\t411"
       ]
      },
      {
       "output_type": "stream",
       "stream": "stdout",
       "text": [
        "\n",
        "127500\t2997.67\t0.130002\t0.139396\t1961\t408"
       ]
      },
      {
       "output_type": "stream",
       "stream": "stdout",
       "text": [
        "\n",
        "128000\t3011.18\t0.129815\t0.138914\t1960\t414"
       ]
      },
      {
       "output_type": "stream",
       "stream": "stdout",
       "text": [
        "\n",
        "128500\t3023.43\t0.12961\t0.139063\t1960\t411"
       ]
      },
      {
       "output_type": "stream",
       "stream": "stdout",
       "text": [
        "\n",
        "129000\t3035.29\t0.129636\t0.13939\t1966\t407"
       ]
      },
      {
       "output_type": "stream",
       "stream": "stdout",
       "text": [
        "\n",
        "129500\t3047.11\t0.129294\t0.138471\t1936\t413"
       ]
      },
      {
       "output_type": "stream",
       "stream": "stdout",
       "text": [
        "\n",
        "130000\t3058.59\t0.129132\t0.13852\t1944\t414"
       ]
      },
      {
       "output_type": "stream",
       "stream": "stdout",
       "text": [
        "\n",
        "130500\t3070.43\t0.128967\t0.138497\t1943\t408"
       ]
      },
      {
       "output_type": "stream",
       "stream": "stdout",
       "text": [
        "\n",
        "131000\t3082.45\t0.128719\t0.138492\t1947\t406"
       ]
      },
      {
       "output_type": "stream",
       "stream": "stdout",
       "text": [
        "\n",
        "131500\t3094.45\t0.12861\t0.138039\t1934\t409"
       ]
      },
      {
       "output_type": "stream",
       "stream": "stdout",
       "text": [
        "\n",
        "132000\t3106.45\t0.128416\t0.138209\t1932\t412"
       ]
      },
      {
       "output_type": "stream",
       "stream": "stdout",
       "text": [
        "\n",
        "132500\t3118.19\t0.128215\t0.137898\t1931\t407"
       ]
      },
      {
       "output_type": "stream",
       "stream": "stdout",
       "text": [
        "\n",
        "133000\t3129.85\t0.128056\t0.138073\t1919\t408"
       ]
      },
      {
       "output_type": "stream",
       "stream": "stdout",
       "text": [
        "\n",
        "133500\t3141.83\t0.127875\t0.137562\t1911\t407"
       ]
      },
      {
       "output_type": "stream",
       "stream": "stdout",
       "text": [
        "\n",
        "134000\t3153.49\t0.127701\t0.137529\t1925\t409"
       ]
      },
      {
       "output_type": "stream",
       "stream": "stdout",
       "text": [
        "\n",
        "134500\t3165.17\t0.127579\t0.13727\t1904\t402"
       ]
      },
      {
       "output_type": "stream",
       "stream": "stdout",
       "text": [
        "\n",
        "135000\t3176.64\t0.127414\t0.137082\t1911\t404"
       ]
      },
      {
       "output_type": "stream",
       "stream": "stdout",
       "text": [
        "\n",
        "135500\t3188.31\t0.127348\t0.137254\t1919\t401"
       ]
      },
      {
       "output_type": "stream",
       "stream": "stdout",
       "text": [
        "\n",
        "136000\t3200.21\t0.127096\t0.136997\t1915\t403"
       ]
      },
      {
       "output_type": "stream",
       "stream": "stdout",
       "text": [
        "\n",
        "136500\t3212.43\t0.127039\t0.136831\t1899\t406"
       ]
      },
      {
       "output_type": "stream",
       "stream": "stdout",
       "text": [
        "\n",
        "137000\t3225.74\t0.12676\t0.13662\t1900\t407"
       ]
      },
      {
       "output_type": "stream",
       "stream": "stdout",
       "text": [
        "\n",
        "137500\t3238.98\t0.126628\t0.136909\t1896\t402"
       ]
      },
      {
       "output_type": "stream",
       "stream": "stdout",
       "text": [
        "\n",
        "138000\t3250.65\t0.12636\t0.136322\t1894\t406"
       ]
      },
      {
       "output_type": "stream",
       "stream": "stdout",
       "text": [
        "\n",
        "138500\t3262.64\t0.126183\t0.136486\t1895\t406"
       ]
      },
      {
       "output_type": "stream",
       "stream": "stdout",
       "text": [
        "\n",
        "139000\t3274.46\t0.126016\t0.136022\t1892\t406"
       ]
      },
      {
       "output_type": "stream",
       "stream": "stdout",
       "text": [
        "\n",
        "139500\t3287.51\t0.125858\t0.135979\t1891\t405"
       ]
      },
      {
       "output_type": "stream",
       "stream": "stdout",
       "text": [
        "\n",
        "140000\t3299.49\t0.125739\t0.136359\t1896\t399"
       ]
      },
      {
       "output_type": "stream",
       "stream": "stdout",
       "text": [
        "\n",
        "140500\t3313.23\t0.12554\t0.135676\t1884\t405"
       ]
      },
      {
       "output_type": "stream",
       "stream": "stdout",
       "text": [
        "\n",
        "141000\t3330.96\t0.125377\t0.135581\t1885\t401"
       ]
      },
      {
       "output_type": "stream",
       "stream": "stdout",
       "text": [
        "\n",
        "141500\t3343.22\t0.125209\t0.135682\t1883\t404"
       ]
      },
      {
       "output_type": "stream",
       "stream": "stdout",
       "text": [
        "\n",
        "142000\t3354.94\t0.125217\t0.135568\t1865\t398"
       ]
      },
      {
       "output_type": "stream",
       "stream": "stdout",
       "text": [
        "\n",
        "142500\t3367.04\t0.124954\t0.135445\t1871\t397"
       ]
      },
      {
       "output_type": "stream",
       "stream": "stdout",
       "text": [
        "\n",
        "143000\t3378.94\t0.124761\t0.135607\t1863\t398"
       ]
      },
      {
       "output_type": "stream",
       "stream": "stdout",
       "text": [
        "\n",
        "143500\t3390.62\t0.124543\t0.13528\t1866\t400"
       ]
      },
      {
       "output_type": "stream",
       "stream": "stdout",
       "text": [
        "\n",
        "144000\t3402.17\t0.124458\t0.135249\t1876\t400"
       ]
      },
      {
       "output_type": "stream",
       "stream": "stdout",
       "text": [
        "\n",
        "144500\t3413.69\t0.124342\t0.135265\t1868\t396"
       ]
      },
      {
       "output_type": "stream",
       "stream": "stdout",
       "text": [
        "\n",
        "145000\t3424.84\t0.124092\t0.134676\t1849\t396"
       ]
      },
      {
       "output_type": "stream",
       "stream": "stdout",
       "text": [
        "\n",
        "145500\t3436.64\t0.12393\t0.134975\t1865\t394"
       ]
      },
      {
       "output_type": "stream",
       "stream": "stdout",
       "text": [
        "\n",
        "146000\t3448.46\t0.123793\t0.134645\t1852\t395"
       ]
      },
      {
       "output_type": "stream",
       "stream": "stdout",
       "text": [
        "\n",
        "146500\t3460.16\t0.12361\t0.134553\t1841\t396"
       ]
      },
      {
       "output_type": "stream",
       "stream": "stdout",
       "text": [
        "\n",
        "147000\t3471.46\t0.123519\t0.134272\t1843\t392"
       ]
      },
      {
       "output_type": "stream",
       "stream": "stdout",
       "text": [
        "\n",
        "147500\t3483.03\t0.12327\t0.134182\t1850\t395"
       ]
      },
      {
       "output_type": "stream",
       "stream": "stdout",
       "text": [
        "\n",
        "148000\t3494.92\t0.12316\t0.134262\t1838\t390"
       ]
      },
      {
       "output_type": "stream",
       "stream": "stdout",
       "text": [
        "\n",
        "148500\t3506.21\t0.123041\t0.133951\t1840\t390"
       ]
      },
      {
       "output_type": "stream",
       "stream": "stdout",
       "text": [
        "\n",
        "149000\t3517.86\t0.122924\t0.13384\t1835\t392"
       ]
      },
      {
       "output_type": "stream",
       "stream": "stdout",
       "text": [
        "\n",
        "149500\t3529.1\t0.122742\t0.133911\t1837\t385"
       ]
      },
      {
       "output_type": "stream",
       "stream": "stdout",
       "text": [
        "\n",
        "150000\t3540.91\t0.122524\t0.133688\t1816\t394"
       ]
      },
      {
       "output_type": "stream",
       "stream": "stdout",
       "text": [
        "\n",
        "150500\t3552.45\t0.122327\t0.133373\t1832\t391"
       ]
      },
      {
       "output_type": "stream",
       "stream": "stdout",
       "text": [
        "\n",
        "151000\t3564.15\t0.122197\t0.132938\t1812\t394"
       ]
      },
      {
       "output_type": "stream",
       "stream": "stdout",
       "text": [
        "\n",
        "151500\t3575.86\t0.122079\t0.133174\t1808\t389"
       ]
      },
      {
       "output_type": "stream",
       "stream": "stdout",
       "text": [
        "\n",
        "152000\t3587.31\t0.121964\t0.132953\t1814\t389"
       ]
      },
      {
       "output_type": "stream",
       "stream": "stdout",
       "text": [
        "\n",
        "152500\t3598.84\t0.121808\t0.133024\t1803\t389"
       ]
      },
      {
       "output_type": "stream",
       "stream": "stdout",
       "text": [
        "\n",
        "153000\t3610.46\t0.121658\t0.133002\t1825\t385"
       ]
      },
      {
       "output_type": "stream",
       "stream": "stdout",
       "text": [
        "\n",
        "153500\t3621.67\t0.121544\t0.132694\t1810\t388"
       ]
      },
      {
       "output_type": "stream",
       "stream": "stdout",
       "text": [
        "\n",
        "154000\t3632.58\t0.121301\t0.132592\t1812\t388"
       ]
      },
      {
       "output_type": "stream",
       "stream": "stdout",
       "text": [
        "\n",
        "154500\t3643.74\t0.121158\t0.132436\t1807\t385"
       ]
      },
      {
       "output_type": "stream",
       "stream": "stdout",
       "text": [
        "\n",
        "155000\t3655.83\t0.120957\t0.132306\t1795\t382"
       ]
      },
      {
       "output_type": "stream",
       "stream": "stdout",
       "text": [
        "\n",
        "155500\t3667.35\t0.120868\t0.131925\t1792\t386"
       ]
      },
      {
       "output_type": "stream",
       "stream": "stdout",
       "text": [
        "\n",
        "156000\t3679.98\t0.12074\t0.131845\t1792\t384"
       ]
      },
      {
       "output_type": "stream",
       "stream": "stdout",
       "text": [
        "\n",
        "156500\t3694.95\t0.120568\t0.131714\t1801\t383"
       ]
      },
      {
       "output_type": "stream",
       "stream": "stdout",
       "text": [
        "\n",
        "157000\t3706.33\t0.120456\t0.131932\t1803\t384"
       ]
      },
      {
       "output_type": "stream",
       "stream": "stdout",
       "text": [
        "\n",
        "157500\t3718.46\t0.120239\t0.131609\t1783\t380"
       ]
      },
      {
       "output_type": "stream",
       "stream": "stdout",
       "text": [
        "\n",
        "158000\t3729.61\t0.120149\t0.131687\t1805\t378"
       ]
      },
      {
       "output_type": "stream",
       "stream": "stdout",
       "text": [
        "\n",
        "158500\t3740.71\t0.119993\t0.13163\t1795\t383"
       ]
      },
      {
       "output_type": "stream",
       "stream": "stdout",
       "text": [
        "\n",
        "159000\t3752.09\t0.119972\t0.131209\t1792\t383"
       ]
      },
      {
       "output_type": "stream",
       "stream": "stdout",
       "text": [
        "\n",
        "159500\t3763.81\t0.119708\t0.131148\t1787\t379"
       ]
      },
      {
       "output_type": "stream",
       "stream": "stdout",
       "text": [
        "\n",
        "160000\t3775.53\t0.119581\t0.131044\t1782\t383"
       ]
      },
      {
       "output_type": "stream",
       "stream": "stdout",
       "text": [
        "\n",
        "160500\t3787.16\t0.11936\t0.130798\t1778\t380"
       ]
      },
      {
       "output_type": "stream",
       "stream": "stdout",
       "text": [
        "\n",
        "161000\t3798.62\t0.119275\t0.1308\t1793\t387"
       ]
      },
      {
       "output_type": "stream",
       "stream": "stdout",
       "text": [
        "\n",
        "161500\t3810.54\t0.119441\t0.131013\t1800\t377"
       ]
      },
      {
       "output_type": "stream",
       "stream": "stdout",
       "text": [
        "\n",
        "162000\t3822.14\t0.118948\t0.130538\t1773\t379"
       ]
      },
      {
       "output_type": "stream",
       "stream": "stdout",
       "text": [
        "\n",
        "162500\t3833.31\t0.118809\t0.130328\t1778\t379"
       ]
      },
      {
       "output_type": "stream",
       "stream": "stdout",
       "text": [
        "\n",
        "163000\t3845.17\t0.118672\t0.130061\t1776\t380"
       ]
      },
      {
       "output_type": "stream",
       "stream": "stdout",
       "text": [
        "\n",
        "163500\t3856.76\t0.118551\t0.130181\t1777\t380"
       ]
      },
      {
       "output_type": "stream",
       "stream": "stdout",
       "text": [
        "\n",
        "164000\t3868.42\t0.118412\t0.12965\t1771\t383"
       ]
      },
      {
       "output_type": "stream",
       "stream": "stdout",
       "text": [
        "\n",
        "164500\t3880.04\t0.118377\t0.130066\t1782\t379"
       ]
      },
      {
       "output_type": "stream",
       "stream": "stdout",
       "text": [
        "\n",
        "165000\t3891.72\t0.118115\t0.129753\t1770\t380"
       ]
      },
      {
       "output_type": "stream",
       "stream": "stdout",
       "text": [
        "\n",
        "165500\t3902.98\t0.117971\t0.129483\t1770\t385"
       ]
      },
      {
       "output_type": "stream",
       "stream": "stdout",
       "text": [
        "\n",
        "166000\t3914.12\t0.117879\t0.129225\t1766\t383"
       ]
      },
      {
       "output_type": "stream",
       "stream": "stdout",
       "text": [
        "\n",
        "166500\t3925.45\t0.117763\t0.128939\t1762\t382"
       ]
      },
      {
       "output_type": "stream",
       "stream": "stdout",
       "text": [
        "\n",
        "167000\t3937.12\t0.117618\t0.128926\t1758\t379"
       ]
      },
      {
       "output_type": "stream",
       "stream": "stdout",
       "text": [
        "\n",
        "167500\t3948.53\t0.117584\t0.129026\t1762\t383"
       ]
      },
      {
       "output_type": "stream",
       "stream": "stdout",
       "text": [
        "\n",
        "168000\t3960.02\t0.117389\t0.129263\t1768\t383"
       ]
      },
      {
       "output_type": "stream",
       "stream": "stdout",
       "text": [
        "\n",
        "168500\t3971.87\t0.117293\t0.129103\t1772\t381"
       ]
      },
      {
       "output_type": "stream",
       "stream": "stdout",
       "text": [
        "\n",
        "169000\t3983.61\t0.117101\t0.128586\t1753\t382"
       ]
      },
      {
       "output_type": "stream",
       "stream": "stdout",
       "text": [
        "\n",
        "169500\t3995.15\t0.117005\t0.128595\t1763\t381"
       ]
      },
      {
       "output_type": "stream",
       "stream": "stdout",
       "text": [
        "\n",
        "170000\t4006.74\t0.116786\t0.128285\t1747\t379"
       ]
      },
      {
       "output_type": "stream",
       "stream": "stdout",
       "text": [
        "\n",
        "170500\t4018.15\t0.116657\t0.128383\t1756\t382"
       ]
      },
      {
       "output_type": "stream",
       "stream": "stdout",
       "text": [
        "\n",
        "171000\t4029.39\t0.116516\t0.128024\t1742\t382"
       ]
      },
      {
       "output_type": "stream",
       "stream": "stdout",
       "text": [
        "\n",
        "171500\t4040.58\t0.116652\t0.128565\t1746\t373"
       ]
      },
      {
       "output_type": "stream",
       "stream": "stdout",
       "text": [
        "\n",
        "172000\t4051.61\t0.116296\t0.128004\t1740\t378"
       ]
      },
      {
       "output_type": "stream",
       "stream": "stdout",
       "text": [
        "\n",
        "172500\t4062.98\t0.116137\t0.127887\t1740\t382"
       ]
      },
      {
       "output_type": "stream",
       "stream": "stdout",
       "text": [
        "\n",
        "173000\t4075.26\t0.116035\t0.127989\t1755\t380"
       ]
      },
      {
       "output_type": "stream",
       "stream": "stdout",
       "text": [
        "\n",
        "173500\t4086.66\t0.11595\t0.127555\t1741\t377"
       ]
      },
      {
       "output_type": "stream",
       "stream": "stdout",
       "text": [
        "\n",
        "174000\t4098.08\t0.115833\t0.127827\t1753\t382"
       ]
      },
      {
       "output_type": "stream",
       "stream": "stdout",
       "text": [
        "\n",
        "174500\t4109.51\t0.115711\t0.127355\t1729\t378"
       ]
      },
      {
       "output_type": "stream",
       "stream": "stdout",
       "text": [
        "\n",
        "175000\t4124.25\t0.115578\t0.127356\t1745\t377"
       ]
      },
      {
       "output_type": "stream",
       "stream": "stdout",
       "text": [
        "\n",
        "175500\t4135.73\t0.115404\t0.127196\t1739\t377"
       ]
      },
      {
       "output_type": "stream",
       "stream": "stdout",
       "text": [
        "\n",
        "176000\t4146.92\t0.115316\t0.127207\t1751\t380"
       ]
      },
      {
       "output_type": "stream",
       "stream": "stdout",
       "text": [
        "\n",
        "176500\t4158.57\t0.115179\t0.126974\t1736\t375"
       ]
      },
      {
       "output_type": "stream",
       "stream": "stdout",
       "text": [
        "\n",
        "177000\t4169.69\t0.115055\t0.126944\t1726\t378"
       ]
      },
      {
       "output_type": "stream",
       "stream": "stdout",
       "text": [
        "\n",
        "177500\t4181.58\t0.114905\t0.12687\t1732\t379"
       ]
      },
      {
       "output_type": "stream",
       "stream": "stdout",
       "text": [
        "\n",
        "178000\t4193.56\t0.114835\t0.126507\t1729\t374"
       ]
      },
      {
       "output_type": "stream",
       "stream": "stdout",
       "text": [
        "\n",
        "178500\t4205.49\t0.114715\t0.126542\t1745\t376"
       ]
      },
      {
       "output_type": "stream",
       "stream": "stdout",
       "text": [
        "\n",
        "179000\t4217.8\t0.114635\t0.126551\t1744\t377"
       ]
      },
      {
       "output_type": "stream",
       "stream": "stdout",
       "text": [
        "\n",
        "179500\t4230.1\t0.114509\t0.126132\t1729\t372"
       ]
      },
      {
       "output_type": "stream",
       "stream": "stdout",
       "text": [
        "\n",
        "180000\t4243.21\t0.114343\t0.126134\t1724\t376"
       ]
      },
      {
       "output_type": "stream",
       "stream": "stdout",
       "text": [
        "\n",
        "180500\t4256.6\t0.114238\t0.126029\t1724\t375"
       ]
      },
      {
       "output_type": "stream",
       "stream": "stdout",
       "text": [
        "\n",
        "181000\t4269.64\t0.11412\t0.126034\t1726\t375"
       ]
      },
      {
       "output_type": "stream",
       "stream": "stdout",
       "text": [
        "\n",
        "181500\t4283.01\t0.114111\t0.126013\t1723\t378"
       ]
      },
      {
       "output_type": "stream",
       "stream": "stdout",
       "text": [
        "\n",
        "182000\t4299.76\t0.114087\t0.126468\t1739\t371"
       ]
      },
      {
       "output_type": "stream",
       "stream": "stdout",
       "text": [
        "\n",
        "182500\t4312.84\t0.113801\t0.125682\t1732\t374"
       ]
      },
      {
       "output_type": "stream",
       "stream": "stdout",
       "text": [
        "\n",
        "183000\t4325.16\t0.113703\t0.125601\t1736\t372"
       ]
      },
      {
       "output_type": "stream",
       "stream": "stdout",
       "text": [
        "\n",
        "183500\t4336.34\t0.11365\t0.125544\t1724\t369"
       ]
      },
      {
       "output_type": "stream",
       "stream": "stdout",
       "text": [
        "\n",
        "184000\t4347.82\t0.113591\t0.125476\t1715\t369"
       ]
      },
      {
       "output_type": "stream",
       "stream": "stdout",
       "text": [
        "\n",
        "184500\t4359\t0.113436\t0.125368\t1721\t372"
       ]
      },
      {
       "output_type": "stream",
       "stream": "stdout",
       "text": [
        "\n",
        "185000\t4371.3\t0.11333\t0.125707\t1719\t374"
       ]
      },
      {
       "output_type": "stream",
       "stream": "stdout",
       "text": [
        "\n",
        "185500\t4383.3\t0.1131\t0.125142\t1708\t369"
       ]
      },
      {
       "output_type": "stream",
       "stream": "stdout",
       "text": [
        "\n",
        "186000\t4394.9\t0.11313\t0.125518\t1719\t372"
       ]
      },
      {
       "output_type": "stream",
       "stream": "stdout",
       "text": [
        "\n",
        "186500\t4406.44\t0.112916\t0.125161\t1711\t371"
       ]
      },
      {
       "output_type": "stream",
       "stream": "stdout",
       "text": [
        "\n",
        "187000\t4418.62\t0.113034\t0.125076\t1711\t370"
       ]
      },
      {
       "output_type": "stream",
       "stream": "stdout",
       "text": [
        "\n",
        "187500\t4430.98\t0.112725\t0.124864\t1710\t364"
       ]
      },
      {
       "output_type": "stream",
       "stream": "stdout",
       "text": [
        "\n",
        "188000\t4443.39\t0.112693\t0.124937\t1715\t373"
       ]
      },
      {
       "output_type": "stream",
       "stream": "stdout",
       "text": [
        "\n",
        "188500\t4455.29\t0.112475\t0.124701\t1702\t370"
       ]
      },
      {
       "output_type": "stream",
       "stream": "stdout",
       "text": [
        "\n",
        "189000\t4467.51\t0.112508\t0.124599\t1701\t364"
       ]
      },
      {
       "output_type": "stream",
       "stream": "stdout",
       "text": [
        "\n",
        "189500\t4479.05\t0.11235\t0.124507\t1704\t367"
       ]
      },
      {
       "output_type": "stream",
       "stream": "stdout",
       "text": [
        "\n",
        "190000\t4491.86\t0.112179\t0.124472\t1706\t366"
       ]
      },
      {
       "output_type": "stream",
       "stream": "stdout",
       "text": [
        "\n",
        "190500\t4503.97\t0.112089\t0.124208\t1704\t365"
       ]
      },
      {
       "output_type": "stream",
       "stream": "stdout",
       "text": [
        "\n",
        "191000\t4517.95\t0.111974\t0.124038\t1708\t364"
       ]
      },
      {
       "output_type": "stream",
       "stream": "stdout",
       "text": [
        "\n",
        "191500\t4530.3\t0.111839\t0.12394\t1702\t368"
       ]
      },
      {
       "output_type": "stream",
       "stream": "stdout",
       "text": [
        "\n",
        "192000\t4541.45\t0.111819\t0.123754\t1696\t364"
       ]
      },
      {
       "output_type": "stream",
       "stream": "stdout",
       "text": [
        "\n",
        "192500\t4552.39\t0.111699\t0.124004\t1695\t369"
       ]
      },
      {
       "output_type": "stream",
       "stream": "stdout",
       "text": [
        "\n",
        "193000\t4563.69\t0.111645\t0.12375\t1689\t364"
       ]
      },
      {
       "output_type": "stream",
       "stream": "stdout",
       "text": [
        "\n",
        "193500\t4575.07\t0.111588\t0.123861\t1702\t367"
       ]
      },
      {
       "output_type": "stream",
       "stream": "stdout",
       "text": [
        "\n",
        "194000\t4586.52\t0.111498\t0.123455\t1701\t363"
       ]
      },
      {
       "output_type": "stream",
       "stream": "stdout",
       "text": [
        "\n",
        "194500\t4598.01\t0.111454\t0.123952\t1690\t363"
       ]
      },
      {
       "output_type": "stream",
       "stream": "stdout",
       "text": [
        "\n",
        "195000\t4609.67\t0.11118\t0.12359\t1692\t363"
       ]
      },
      {
       "output_type": "stream",
       "stream": "stdout",
       "text": [
        "\n",
        "195500\t4620.68\t0.111129\t0.123407\t1701\t364"
       ]
      },
      {
       "output_type": "stream",
       "stream": "stdout",
       "text": [
        "\n",
        "196000\t4632.09\t0.111068\t0.123365\t1700\t370"
       ]
      },
      {
       "output_type": "stream",
       "stream": "stdout",
       "text": [
        "\n",
        "196500\t4645\t0.110943\t0.12332\t1696\t362"
       ]
      },
      {
       "output_type": "stream",
       "stream": "stdout",
       "text": [
        "\n",
        "197000\t4656.17\t0.110803\t0.123237\t1684\t361"
       ]
      },
      {
       "output_type": "stream",
       "stream": "stdout",
       "text": [
        "\n",
        "197500\t4668.29\t0.110836\t0.122947\t1698\t364"
       ]
      },
      {
       "output_type": "stream",
       "stream": "stdout",
       "text": [
        "\n"
       ]
      }
     ],
     "prompt_number": 8
    },
    {
     "cell_type": "markdown",
     "metadata": {},
     "source": [
      "Parameters that did best on the, uh, testing set."
     ]
    },
    {
     "cell_type": "code",
     "collapsed": false,
     "input": [
      "m.parameters.data[...] = info['best_pars']"
     ],
     "language": "python",
     "metadata": {},
     "outputs": [],
     "prompt_number": 9
    },
    {
     "cell_type": "markdown",
     "metadata": {},
     "source": [
      "Evaluation\n",
      "=========="
     ]
    },
    {
     "cell_type": "code",
     "collapsed": false,
     "input": [
      "fig = plt.figure(figsize=(16, 9))\n",
      "ax = fig.add_subplot(111)\n",
      "ax.plot(losses)"
     ],
     "language": "python",
     "metadata": {},
     "outputs": [
      {
       "metadata": {},
       "output_type": "pyout",
       "prompt_number": 12,
       "text": [
        "[<matplotlib.lines.Line2D at 0x10cac1090>,\n",
        " <matplotlib.lines.Line2D at 0x10caad910>]"
       ]
      },
      {
       "metadata": {},
       "output_type": "display_data",
       "png": "[encoded data removed]",
       "text": [
        "<matplotlib.figure.Figure at 0x10d645790>"
       ]
      }
     ],
     "prompt_number": 12
    },
    {
     "cell_type": "code",
     "collapsed": false,
     "input": [
      "f_predict = m.function(['inpt'], T.argmax(m.cnn.output, axis=1))\n",
      "\n",
      "TY = f_predict(TX)\n",
      "\n",
      "print 'Number of mistakes on the testing set:', (TY != TZ.argmax(axis=1)).sum()"
     ],
     "language": "python",
     "metadata": {},
     "outputs": [
      {
       "output_type": "stream",
       "stream": "stdout",
       "text": [
        "Number of mistakes on the testing set: 865\n"
       ]
      }
     ],
     "prompt_number": 14
    }
   ],
   "metadata": {}
  }
 ]
}