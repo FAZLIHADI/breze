{
 "metadata": {
  "name": "",
  "signature": "sha256:3dc5202c39b75dbb73f91b5857cece387dd5d35a0d8654dfed27fb5d8f61ccf8"
 },
 "nbformat": 3,
 "nbformat_minor": 0,
 "worksheets": [
  {
   "cells": [
    {
     "cell_type": "code",
     "collapsed": false,
     "input": [
      "import cPickle\n",
      "import itertools\n",
      "import gzip\n",
      "import time\n",
      "\n",
      "import numpy as np\n",
      "import theano\n",
      "import theano.tensor as T\n",
      "\n",
      "import climin.stops\n",
      "import climin.initialize\n",
      "import climin.project\n",
      "import climin.schedule\n",
      "\n",
      "import breze.arch.util\n",
      "\n",
      "import breze.learn.base\n",
      "from breze.learn.data import one_hot\n",
      "\n",
      "from breze.learn import cnn\n",
      "\n",
      "import matplotlib.pyplot as plt\n",
      "%matplotlib inline"
     ],
     "language": "python",
     "metadata": {},
     "outputs": [],
     "prompt_number": 11
    },
    {
     "cell_type": "markdown",
     "metadata": {},
     "source": [
      "Prepare Data\n",
      "============\n",
      "\n",
      "We load the MNIST data. It is available at http://www.iro.umontreal.ca/~lisa/deep/data/mnist/mnist.pkl.gz.\n",
      "\n",
      "The inputs all lie between 0 and 1. Each target is a variable where the correct class is marked with a ``1`` and the wrong classes with ``-1``."
     ]
    },
    {
     "cell_type": "code",
     "collapsed": false,
     "input": [
      "datafile = 'mnist.pkl.gz'\n",
      "# Load data.                                                                                                   \n",
      "\n",
      "with gzip.open(datafile,'rb') as f:                                                                        \n",
      "    train_set, val_set, test_set = cPickle.load(f)                                                       \n",
      "\n",
      "X, Z = train_set                                                                                               \n",
      "VX, VZ = val_set\n",
      "TX, TZ = test_set\n",
      "\n",
      "Z = one_hot(Z, 10)\n",
      "VZ = one_hot(VZ, 10)\n",
      "TZ = one_hot(TZ, 10)\n",
      "\n",
      "image_height, image_width = image_dims = 28, 28\n",
      "X = X.reshape((-1, 1, image_height, image_width))\n",
      "VX = VX.reshape((-1, 1, image_height, image_width))\n",
      "TX = TX.reshape((-1, 1, image_height, image_width))\n",
      "\n",
      "X, Z, VX, VZ, TX, TZ = [breze.learn.base.cast_array_to_local_type(i) for i in (X, Z, VX, VZ, TX, TZ)]"
     ],
     "language": "python",
     "metadata": {},
     "outputs": [],
     "prompt_number": 5
    },
    {
     "cell_type": "code",
     "collapsed": false,
     "input": [
      "max_passes = 400\n",
      "batch_size = 500\n",
      "max_iter = max_passes * X.shape[0] / batch_size\n",
      "n_report = X.shape[0] / batch_size\n",
      "\n",
      "stop = climin.stops.AfterNIterations(max_iter)\n",
      "pause = climin.stops.ModuloNIterations(n_report)\n",
      "\n",
      "optimizer = 'adam'\n",
      "#optimizer = dropout_optimizer_conf(steprate_0=1, n_repeats=1)\n",
      "m = cnn.SimpleCnn2d(image_height, image_width, 1, [20], [(2, 2)], 10, ['tanh'], out_transfer='softmax',\n",
      "        loss='cat_ce', optimizer=optimizer, batch_size=batch_size, max_iter=max_iter)\n",
      "\n",
      "m.parameters.data[...] = np.random.normal(0, 0.01, m.parameters.data.shape)\n",
      "\n",
      "\n",
      "def f_n_wrong(x, z):\n",
      "    y = m.predict(x)\n",
      "    return (y.argmax(axis=1) != z.argmax(axis=1)).sum()\n",
      "        \n",
      "    \n",
      "losses = []\n",
      "print 'max iter', max_iter"
     ],
     "language": "python",
     "metadata": {},
     "outputs": [
      {
       "output_type": "stream",
       "stream": "stdout",
       "text": [
        "max iter 40000\n"
       ]
      }
     ],
     "prompt_number": 7
    },
    {
     "cell_type": "code",
     "collapsed": false,
     "input": [
      "start = time.time()\n",
      "# Set up a nice printout.\n",
      "keys = '#', 'seconds', 'loss', 'val loss', 'train emp', 'test emp'\n",
      "max_len = max(len(i) for i in keys)\n",
      "header = '\\t'.join(i for i in keys)\n",
      "print header\n",
      "print '-' * len(header)\n",
      "\n",
      "for i, info in enumerate(m.powerfit((X, Z), (VX, VZ), stop, pause)):\n",
      "    if info['n_iter'] % n_report != 0:\n",
      "        continue\n",
      "    passed = time.time() - start\n",
      "    losses.append((info['loss'], info['val_loss']))\n",
      "    \n",
      "    #img = tile_raster_images(fe.parameters['in_to_hidden'].T, image_dims, feature_dims, (1, 1))\n",
      "    #save_and_display(img, 'filters-%i.png' % i)  \n",
      "    info.update({\n",
      "        'time': passed,\n",
      "        'train_emp': f_n_wrong(X, Z),\n",
      "        'test_emp': f_n_wrong(TX, TZ),\n",
      "    })\n",
      "    row = '%(n_iter)i\\t%(time)g\\t%(loss)g\\t%(val_loss)g\\t%(train_emp)g\\t%(test_emp)g' % info\n",
      "    print row"
     ],
     "language": "python",
     "metadata": {},
     "outputs": [
      {
       "output_type": "stream",
       "stream": "stderr",
       "text": [
        "ERROR (theano.gof.opt): SeqOptimizer apply <theano.tensor.opt.FusionOptimizer object at 0x106ce4390>\n"
       ]
      },
      {
       "output_type": "stream",
       "stream": "stderr",
       "text": [
        "ERROR:theano.gof.opt:SeqOptimizer apply <theano.tensor.opt.FusionOptimizer object at 0x106ce4390>\n"
       ]
      },
      {
       "output_type": "stream",
       "stream": "stderr",
       "text": [
        "ERROR (theano.gof.opt): Traceback:\n"
       ]
      },
      {
       "output_type": "stream",
       "stream": "stderr",
       "text": [
        "ERROR:theano.gof.opt:Traceback:\n"
       ]
      },
      {
       "output_type": "stream",
       "stream": "stderr",
       "text": [
        "ERROR (theano.gof.opt): Traceback (most recent call last):\n",
        "  File \"/Users/bayerj/devel/Theano/theano/gof/opt.py\", line 193, in apply\n",
        "    sub_prof = optimizer.optimize(fgraph)\n",
        "  File \"/Users/bayerj/devel/Theano/theano/gof/opt.py\", line 78, in optimize\n",
        "    ret = self.apply(fgraph, *args, **kwargs)\n",
        "  File \"/Users/bayerj/devel/Theano/theano/tensor/opt.py\", line 5784, in apply\n",
        "    new_outputs = self.optimizer(node)\n",
        "  File \"/Users/bayerj/devel/Theano/theano/tensor/opt.py\", line 5620, in local_fuse\n",
        "    tv = gof.op.get_test_value(ii)\n",
        "  File \"/Users/bayerj/devel/Theano/theano/gof/op.py\", line 829, in get_test_value\n",
        "    return PureOp._get_test_value(v_var)\n",
        "  File \"/Users/bayerj/devel/Theano/theano/gof/op.py\", line 455, in _get_test_value\n",
        "    ret = v.type.filter(v.tag.test_value)\n",
        "  File \"/Users/bayerj/devel/Theano/theano/tensor/type.py\", line 130, in filter\n",
        "    raise TypeError(err_msg, data)\n",
        "TypeError: For compute_test_value, one input test value does not have the requested type.\n",
        " \n",
        "Backtrace when that variable is created:\n",
        "  File \"/Users/bayerj/devel/breze/breze/learn/cnn.py\", line 46, in _init_exprs\n",
        "    target = T.matrix('target')\n",
        "\n",
        "The error when converting the test value to that variable type:\n",
        "TensorType(float32, matrix) cannot store a value of dtype float64 without risking loss of precision. If you do not mind this loss, you can: 1) explicitly cast your data to float32, or 2) set \"allow_input_downcast=True\" when calling \"function\".\n",
        "[[ 0.  0.  0.  0.  0.  0.  0.  0.  0.  0.]\n",
        " [ 0.  0.  0.  0.  0.  0.  0.  0.  0.  0.]]\n",
        "\n"
       ]
      },
      {
       "output_type": "stream",
       "stream": "stderr",
       "text": [
        "ERROR:theano.gof.opt:Traceback (most recent call last):\n",
        "  File \"/Users/bayerj/devel/Theano/theano/gof/opt.py\", line 193, in apply\n",
        "    sub_prof = optimizer.optimize(fgraph)\n",
        "  File \"/Users/bayerj/devel/Theano/theano/gof/opt.py\", line 78, in optimize\n",
        "    ret = self.apply(fgraph, *args, **kwargs)\n",
        "  File \"/Users/bayerj/devel/Theano/theano/tensor/opt.py\", line 5784, in apply\n",
        "    new_outputs = self.optimizer(node)\n",
        "  File \"/Users/bayerj/devel/Theano/theano/tensor/opt.py\", line 5620, in local_fuse\n",
        "    tv = gof.op.get_test_value(ii)\n",
        "  File \"/Users/bayerj/devel/Theano/theano/gof/op.py\", line 829, in get_test_value\n",
        "    return PureOp._get_test_value(v_var)\n",
        "  File \"/Users/bayerj/devel/Theano/theano/gof/op.py\", line 455, in _get_test_value\n",
        "    ret = v.type.filter(v.tag.test_value)\n",
        "  File \"/Users/bayerj/devel/Theano/theano/tensor/type.py\", line 130, in filter\n",
        "    raise TypeError(err_msg, data)\n",
        "TypeError: For compute_test_value, one input test value does not have the requested type.\n",
        " \n",
        "Backtrace when that variable is created:\n",
        "  File \"/Users/bayerj/devel/breze/breze/learn/cnn.py\", line 46, in _init_exprs\n",
        "    target = T.matrix('target')\n",
        "\n",
        "The error when converting the test value to that variable type:\n",
        "TensorType(float32, matrix) cannot store a value of dtype float64 without risking loss of precision. If you do not mind this loss, you can: 1) explicitly cast your data to float32, or 2) set \"allow_input_downcast=True\" when calling \"function\".\n",
        "[[ 0.  0.  0.  0.  0.  0.  0.  0.  0.  0.]\n",
        " [ 0.  0.  0.  0.  0.  0.  0.  0.  0.  0.]]\n",
        "\n"
       ]
      },
      {
       "output_type": "stream",
       "stream": "stdout",
       "text": [
        "#\tseconds\tloss\tval loss\ttrain emp\ttest emp\n",
        "------------------------------------------\n",
        "100\t20.737\t1.76691\t1.7497\t13845\t2675"
       ]
      },
      {
       "output_type": "stream",
       "stream": "stdout",
       "text": [
        "\n",
        "200\t46.7724\t0.921995\t0.87649\t9078\t1702"
       ]
      },
      {
       "output_type": "stream",
       "stream": "stdout",
       "text": [
        "\n",
        "300\t79.7428\t0.628749\t0.578153\t7501\t1387"
       ]
      },
      {
       "output_type": "stream",
       "stream": "stdout",
       "text": [
        "\n",
        "400\t106.207\t0.512522\t0.464611\t6621\t1220"
       ]
      },
      {
       "output_type": "stream",
       "stream": "stdout",
       "text": [
        "\n",
        "500\t132.756\t0.452132\t0.40795\t6102\t1107"
       ]
      },
      {
       "output_type": "stream",
       "stream": "stdout",
       "text": [
        "\n",
        "600\t160.324\t0.414646\t0.373684\t5697\t1046"
       ]
      },
      {
       "output_type": "stream",
       "stream": "stdout",
       "text": [
        "\n",
        "700\t185.987\t0.389624\t0.35216\t5407\t994"
       ]
      },
      {
       "output_type": "stream",
       "stream": "stdout",
       "text": [
        "\n",
        "800\t210.819\t0.371426\t0.336982\t5248\t959"
       ]
      },
      {
       "output_type": "stream",
       "stream": "stdout",
       "text": [
        "\n",
        "900\t235.721\t0.35751\t0.32572\t5032\t928"
       ]
      },
      {
       "output_type": "stream",
       "stream": "stdout",
       "text": [
        "\n",
        "1000\t260.867\t0.347067\t0.317609\t4931\t907"
       ]
      },
      {
       "output_type": "stream",
       "stream": "stdout",
       "text": [
        "\n",
        "1100\t285.026\t0.338527\t0.311044\t4818\t903"
       ]
      },
      {
       "output_type": "stream",
       "stream": "stdout",
       "text": [
        "\n",
        "1200\t309.02\t0.330601\t0.304232\t4688\t866"
       ]
      },
      {
       "output_type": "stream",
       "stream": "stdout",
       "text": [
        "\n",
        "1300\t333.973\t0.324787\t0.299743\t4596\t865"
       ]
      },
      {
       "output_type": "stream",
       "stream": "stdout",
       "text": [
        "\n"
       ]
      }
     ],
     "prompt_number": 8
    },
    {
     "cell_type": "markdown",
     "metadata": {},
     "source": [
      "Parameters that did best on the, uh, testing set."
     ]
    },
    {
     "cell_type": "code",
     "collapsed": false,
     "input": [
      "m.parameters.data[...] = info['best_pars']"
     ],
     "language": "python",
     "metadata": {},
     "outputs": [],
     "prompt_number": 9
    },
    {
     "cell_type": "markdown",
     "metadata": {},
     "source": [
      "Evaluation\n",
      "=========="
     ]
    },
    {
     "cell_type": "code",
     "collapsed": false,
     "input": [
      "fig = plt.figure(figsize=(16, 9))\n",
      "ax = fig.add_subplot(111)\n",
      "ax.plot(losses)"
     ],
     "language": "python",
     "metadata": {},
     "outputs": [
      {
       "metadata": {},
       "output_type": "pyout",
       "prompt_number": 12,
       "text": [
        "[<matplotlib.lines.Line2D at 0x10cac1090>,\n",
        " <matplotlib.lines.Line2D at 0x10caad910>]"
       ]
      },
      {
       "metadata": {},
       "output_type": "display_data",
       "png": "[encoded data removed]",
       "text": [
        "<matplotlib.figure.Figure at 0x10d645790>"
       ]
      }
     ],
     "prompt_number": 12
    },
    {
     "cell_type": "code",
     "collapsed": false,
     "input": [
      "f_predict = m.function(['inpt'], T.argmax(m.cnn.output, axis=1))\n",
      "\n",
      "TY = f_predict(TX)\n",
      "\n",
      "print 'Number of mistakes on the testing set:', (TY != TZ.argmax(axis=1)).sum()"
     ],
     "language": "python",
     "metadata": {},
     "outputs": [
      {
       "output_type": "stream",
       "stream": "stdout",
       "text": [
        "Number of mistakes on the testing set: 865\n"
       ]
      }
     ],
     "prompt_number": 14
    }
   ],
   "metadata": {}
  }
 ]
}