{
 "metadata": {
  "name": "",
  "signature": "sha256:fc824c3118664b776b3849c63ea84283fb54a89b81748449a2d883002f0d7dc4"
 },
 "nbformat": 3,
 "nbformat_minor": 0,
 "worksheets": [
  {
   "cells": [
    {
     "cell_type": "code",
     "collapsed": false,
     "input": [
      "import cPickle\n",
      "import gzip\n",
      "import time\n",
      "\n",
      "import numpy as np\n",
      "import theano.tensor as T\n",
      "\n",
      "import climin.stops\n",
      "import climin.initialize\n",
      "import climin.project\n",
      "import climin.schedule\n",
      "import climin.mathadapt as ma\n",
      "\n",
      "from breze.learn.mlp import Mlp\n",
      "\n",
      "from breze.learn.data import one_hot\n",
      "import breze.learn.base"
     ],
     "language": "python",
     "metadata": {},
     "outputs": [],
     "prompt_number": 1
    },
    {
     "cell_type": "code",
     "collapsed": false,
     "input": [
      "datafile = '../mnist.pkl.gz'\n",
      "# Load data.                                                                                                   \n",
      "\n",
      "with gzip.open(datafile,'rb') as f:                                                                        \n",
      "    train_set, val_set, test_set = cPickle.load(f)                                                       \n",
      "\n",
      "X, Z = train_set                                                                                               \n",
      "VX, VZ = val_set\n",
      "TX, TZ = test_set\n",
      "\n",
      "Z = one_hot(Z, 10)\n",
      "VZ = one_hot(VZ, 10)\n",
      "TZ = one_hot(TZ, 10)\n",
      "\n",
      "image_dims = 28, 28\n",
      "\n",
      "X, Z, VX, VZ, TX, TZ = [breze.learn.base.cast_array_to_local_type(i) for i in (X, Z, VX, VZ, TX, TZ)]"
     ],
     "language": "python",
     "metadata": {},
     "outputs": [],
     "prompt_number": 2
    },
    {
     "cell_type": "code",
     "collapsed": false,
     "input": [
      "max_passes = 300\n",
      "batch_size = 250\n",
      "max_iter = max_passes * X.shape[0] / batch_size\n",
      "n_report = X.shape[0] / batch_size\n",
      "loss = 'cat_ce' # One of: nce, expected_squared_hinge_1, expected_hinge_1\n",
      "\n",
      "stop = climin.stops.AfterNIterations(max_iter)\n",
      "pause = climin.stops.ModuloNIterations(n_report)\n",
      "\n",
      "optimizer = 'adam'\n",
      "\n",
      "m = Mlp(784, [512, 512], 10, \n",
      "        hidden_transfers=['rectifier', 'rectifier'], out_transfer='softmax',\n",
      "        loss=loss, \n",
      "        optimizer=optimizer, batch_size=batch_size, max_iter=max_iter)\n",
      "        \n",
      "climin.initialize.randomize_normal(m.parameters.data, 0, 1e-2)\n",
      "\n",
      "losses = []\n",
      "print 'max iter', max_iter"
     ],
     "language": "python",
     "metadata": {},
     "outputs": [
      {
       "output_type": "stream",
       "stream": "stdout",
       "text": [
        "max iter 60000\n"
       ]
      }
     ],
     "prompt_number": 7
    },
    {
     "cell_type": "code",
     "collapsed": false,
     "input": [
      "start = time.time()\n",
      "# Set up a nice printout.\n",
      "keys = '#', 'loss', 'val loss', 'seconds', 'wd', 'train emp', 'val emp', 'test emp'\n",
      "max_len = max(len(i) for i in keys)\n",
      "header = '\\t'.join(i for i in keys)\n",
      "print header\n",
      "print '-' * len(header)\n",
      "\n",
      "for i, info in enumerate(m.powerfit((X, Z), (VX, VZ), stop, pause)):\n",
      "    if info['n_iter'] % n_report != 0:\n",
      "        continue\n",
      "    passed = time.time() - start\n",
      "    losses.append((info['loss'], info['val_loss']))\n",
      "    \n",
      "    info.update({\n",
      "        'time': passed,\n",
      "        #'train_emp': ma.scalar(f_n_wrong(X, Z)),\n",
      "        #'val_emp': ma.scalar(f_n_wrong(VX, VZ)),\n",
      "        #'test_emp': ma.scalar(f_n_wrong(TX, TZ)),\n",
      "    })\n",
      "    #row = '%(n_iter)i\\t%(time)g\\t\\t%(loss)g\\t%(val_loss)g\\t%(train_emp)g\\t%(val_emp)g\\t%(test_emp)g' % info\n",
      "    row = '%(n_iter)i\\t%(time)g\\t\\t%(loss)g\\t%(val_loss)g' % info\n",
      "    print row"
     ],
     "language": "python",
     "metadata": {},
     "outputs": [
      {
       "output_type": "stream",
       "stream": "stdout",
       "text": [
        "#\tloss\tval loss\tseconds\twd\ttrain emp\tval emp\ttest emp\n",
        "-----------------------------------------------------\n",
        "200\t20.5851\t\t0.38071\t0.353303"
       ]
      },
      {
       "output_type": "stream",
       "stream": "stdout",
       "text": [
        "\n",
        "400\t36.9488\t\t0.290748\t0.271885"
       ]
      },
      {
       "output_type": "stream",
       "stream": "stdout",
       "text": [
        "\n",
        "600\t52.0741\t\t0.244493\t0.228876"
       ]
      },
      {
       "output_type": "stream",
       "stream": "stdout",
       "text": [
        "\n",
        "800\t67.4753\t\t0.215699\t0.204642"
       ]
      },
      {
       "output_type": "stream",
       "stream": "stdout",
       "text": [
        "\n",
        "1000\t83.2176\t\t0.187255\t0.179552"
       ]
      },
      {
       "output_type": "stream",
       "stream": "stdout",
       "text": [
        "\n",
        "1200\t98.946\t\t0.161797\t0.164624"
       ]
      },
      {
       "output_type": "stream",
       "stream": "stdout",
       "text": [
        "\n",
        "1400\t115.63\t\t0.144462\t0.15107"
       ]
      },
      {
       "output_type": "stream",
       "stream": "stdout",
       "text": [
        "\n",
        "1600\t131.05\t\t0.124323\t0.133087"
       ]
      },
      {
       "output_type": "stream",
       "stream": "stdout",
       "text": [
        "\n",
        "1800\t147.653\t\t0.115304\t0.131023"
       ]
      },
      {
       "output_type": "stream",
       "stream": "stdout",
       "text": [
        "\n",
        "2000\t164.155\t\t0.102125\t0.118757"
       ]
      },
      {
       "output_type": "stream",
       "stream": "stdout",
       "text": [
        "\n",
        "2200\t179.668\t\t0.088947\t0.112154"
       ]
      },
      {
       "output_type": "stream",
       "stream": "stdout",
       "text": [
        "\n",
        "2400\t194.928\t\t0.0855483\t0.10999"
       ]
      },
      {
       "output_type": "stream",
       "stream": "stdout",
       "text": [
        "\n",
        "2600\t211.19\t\t0.0745604\t0.103024"
       ]
      },
      {
       "output_type": "stream",
       "stream": "stdout",
       "text": [
        "\n",
        "2800\t226.761\t\t0.0621539\t0.0938716"
       ]
      },
      {
       "output_type": "stream",
       "stream": "stdout",
       "text": [
        "\n",
        "3000\t243.448\t\t0.0563097\t0.0908206"
       ]
      },
      {
       "output_type": "stream",
       "stream": "stdout",
       "text": [
        "\n",
        "3200\t259.397\t\t0.0486709\t0.0886185"
       ]
      },
      {
       "output_type": "stream",
       "stream": "stdout",
       "text": [
        "\n"
       ]
      }
     ],
     "prompt_number": 8
    },
    {
     "cell_type": "code",
     "collapsed": false,
     "input": [
      "Y = m.predict(X)\n",
      "VY = m.predict(VX)\n",
      "TY = m.predict(TX)"
     ],
     "language": "python",
     "metadata": {},
     "outputs": [],
     "prompt_number": 13
    },
    {
     "cell_type": "code",
     "collapsed": false,
     "input": [
      "print 'incorrect samples train/val/test:  %i/%i/%i' % (\n",
      "    (Y.argmax(1) != Z.argmax(1)).sum(),\n",
      "    (VY.argmax(1) != VZ.argmax(1)).sum(),\n",
      "    (TY.argmax(1) != TZ.argmax(1)).sum())"
     ],
     "language": "python",
     "metadata": {},
     "outputs": [
      {
       "output_type": "stream",
       "stream": "stdout",
       "text": [
        "incorrect samples train/val/test:  645/249/259\n"
       ]
      }
     ],
     "prompt_number": 15
    }
   ],
   "metadata": {}
  }
 ]
}