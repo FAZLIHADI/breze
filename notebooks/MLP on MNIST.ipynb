{
 "metadata": {
  "name": ""
 },
 "nbformat": 3,
 "nbformat_minor": 0,
 "worksheets": [
  {
   "cells": [
    {
     "cell_type": "code",
     "collapsed": false,
     "input": [
      "import cPickle\n",
      "import gzip\n",
      "import time\n",
      "\n",
      "import numpy as np\n",
      "import theano.tensor as T\n",
      "\n",
      "import climin.schedule\n",
      "import climin.stops\n",
      "import climin.initialize\n",
      "\n",
      "from breze.learn.mlp import Mlp\n",
      "from breze.learn.data import one_hot"
     ],
     "language": "python",
     "metadata": {},
     "outputs": [],
     "prompt_number": 7
    },
    {
     "cell_type": "markdown",
     "metadata": {},
     "source": [
      "Prepare Data\n",
      "============\n",
      "\n",
      "We load the MNIST data. It is available at http://www.iro.umontreal.ca/~lisa/deep/data/mnist/mnist.pkl.gz.\n",
      "\n",
      "The inputs all lie between 0 and 1. Each target is a one of k variable."
     ]
    },
    {
     "cell_type": "code",
     "collapsed": false,
     "input": [
      "datafile = 'mnist.pkl.gz'\n",
      "# Load data.                                                                                                   \n",
      "\n",
      "with gzip.open(datafile,'rb') as f:                                                                        \n",
      "    train_set, val_set, test_set = cPickle.load(f)                                                       \n",
      "\n",
      "X, Z = train_set                                                                                               \n",
      "VX, VZ = val_set\n",
      "TX, TZ = test_set\n",
      "\n",
      "Z = one_hot(Z, 10)\n",
      "VZ = one_hot(VZ, 10)\n",
      "TZ = one_hot(TZ, 10)\n",
      "\n",
      "image_dims = 28, 28"
     ],
     "language": "python",
     "metadata": {},
     "outputs": [],
     "prompt_number": 6
    },
    {
     "cell_type": "markdown",
     "metadata": {},
     "source": [
      "Define Model\n",
      "============\n",
      "\n",
      "We will use a normal text book multi layer perceptron. "
     ]
    },
    {
     "cell_type": "code",
     "collapsed": true,
     "input": [
      "max_passes = 150\n",
      "batch_size = 250\n",
      "max_iter = max_passes * X.shape[0] / batch_size\n",
      "n_report = X.shape[0] / batch_size\n",
      "\n",
      "stop = climin.stops.after_n_iterations(max_iter)\n",
      "pause = climin.stops.modulo_n_iterations(n_report)\n",
      "\n",
      "#optimizer = 'rmsprop', {'steprate': 0.0001, 'momentum': 0.95, 'decay': 0.8}\n",
      "optimizer = 'gd', {'steprate': 0.1, 'momentum': climin.schedule.SutskeverBlend(0.99, 250), 'momentum_type': 'nesterov'}\n",
      "\n",
      "m = Mlp(784, [800], 10, hidden_transfers=['sigmoid'], out_transfer='softmax', loss='nce',\n",
      "        optimizer=optimizer, batch_size=batch_size)\n",
      "climin.initialize.randomize_normal(m.parameters.data, 0, 1e-1)\n",
      "\n",
      "losses = []\n",
      "print 'max iter', max_iter"
     ],
     "language": "python",
     "metadata": {},
     "outputs": [
      {
       "output_type": "stream",
       "stream": "stdout",
       "text": [
        "max iter 30000\n"
       ]
      }
     ],
     "prompt_number": 43
    },
    {
     "cell_type": "markdown",
     "metadata": {},
     "source": [
      "### Weight Decay\n",
      "\n",
      "We will also add a weight decay term, which involves manipulating the ``.exprs`` attribute of the model. We need to divide by the number of samples to make sure that it scales nicely with the batch size. The ``true_loss`` field is the loss that we actually care about, while ``loss`` can have extra terms, e.g. regularizes. For learning, ``loss`` will be respected."
     ]
    },
    {
     "cell_type": "code",
     "collapsed": false,
     "input": [
      "weight_decay = ((m.parameters.in_to_hidden**2).sum()\n",
      "                + (m.parameters.hidden_to_hidden_0**2).sum()\n",
      "                + (m.parameters.hidden_to_out**2).sum())\n",
      "weight_decay /= m.exprs['inpt'].shape[0]\n",
      "m.exprs['true_loss'] = m.exprs['loss']\n",
      "c_wd = 0.001\n",
      "m.exprs['loss'] = m.exprs['loss'] + c_wd * weight_decay"
     ],
     "language": "python",
     "metadata": {},
     "outputs": [],
     "prompt_number": 40
    },
    {
     "cell_type": "markdown",
     "metadata": {},
     "source": [
      "### Helper Functions\n",
      "\n",
      "Here is a function that will give as the average zero-one loss."
     ]
    },
    {
     "cell_type": "code",
     "collapsed": false,
     "input": [
      "n_wrong = 1 - T.eq(T.argmax(m.exprs['output'], axis=1), T.argmax(m.exprs['target'], axis=1)).mean()\n",
      "f_n_wrong = m.function(['inpt', 'target'], n_wrong)"
     ],
     "language": "python",
     "metadata": {},
     "outputs": [],
     "prompt_number": 44
    },
    {
     "cell_type": "markdown",
     "metadata": {},
     "source": [
      "Learn\n",
      "=====\n",
      "\n",
      "First train an report validation error to manually check for the training error at which validation error is minimal."
     ]
    },
    {
     "cell_type": "code",
     "collapsed": false,
     "input": [
      "start = time.time()\n",
      "# Set up a nice printout.\n",
      "keys = '#', 'seconds', 'loss', 'val loss', 'train emp', 'val emp'\n",
      "max_len = max(len(i) for i in keys)\n",
      "header = '\\t'.join(i for i in keys)\n",
      "print header\n",
      "print '-' * len(header)\n",
      "\n",
      "for i, info in enumerate(m.powerfit((X, Z), (VX, VZ), stop, pause)):\n",
      "    if info['n_iter'] % n_report != 0:\n",
      "        continue\n",
      "    passed = time.time() - start\n",
      "    losses.append((info['loss'], info['val_loss']))\n",
      "    \n",
      "    #img = tile_raster_images(fe.parameters['in_to_hidden'].T, image_dims, feature_dims, (1, 1))\n",
      "    #save_and_display(img, 'filters-%i.png' % i)  \n",
      "    info.update({\n",
      "        'time': passed,\n",
      "        'train_emp': f_n_wrong(X, Z),\n",
      "        'val_emp': f_n_wrong(VX, VZ),\n",
      "    })\n",
      "    row = '%(n_iter)i\\t%(time)g\\t%(loss)g\\t%(val_loss)g\\t%(train_emp)g\\t%(val_emp)g' % info\n",
      "    print row"
     ],
     "language": "python",
     "metadata": {},
     "outputs": [
      {
       "output_type": "stream",
       "stream": "stdout",
       "text": [
        "#\tseconds\tloss\tval loss\ttrain emp\tval emp\n",
        "-----------------------------------------\n",
        "0\t2.4445\t3.07546\t3.1026\t0.92974\t0.9305"
       ]
      },
      {
       "output_type": "stream",
       "stream": "stdout",
       "text": [
        "\n",
        "200\t7.56014\t0.417978\t0.379386\t0.11748\t0.1042"
       ]
      },
      {
       "output_type": "stream",
       "stream": "stdout",
       "text": [
        "\n",
        "400\t12.6866\t0.331538\t0.306051\t0.09494\t0.0869"
       ]
      },
      {
       "output_type": "stream",
       "stream": "stdout",
       "text": [
        "\n",
        "600\t17.8105\t0.296371\t0.277314\t0.08562\t0.0792"
       ]
      },
      {
       "output_type": "stream",
       "stream": "stdout",
       "text": [
        "\n",
        "800\t22.8893\t0.275856\t0.263936\t0.07944\t0.0767"
       ]
      },
      {
       "output_type": "stream",
       "stream": "stdout",
       "text": [
        "\n",
        "1000\t28.0362\t0.253495\t0.24344\t0.07346\t0.0688"
       ]
      },
      {
       "output_type": "stream",
       "stream": "stdout",
       "text": [
        "\n",
        "1200\t33.1375\t0.233995\t0.226591\t0.06666\t0.0637"
       ]
      },
      {
       "output_type": "stream",
       "stream": "stdout",
       "text": [
        "\n",
        "1400\t38.2313\t0.196286\t0.194492\t0.05604\t0.0534"
       ]
      },
      {
       "output_type": "stream",
       "stream": "stdout",
       "text": [
        "\n",
        "1600\t43.3539\t0.181744\t0.18335\t0.05302\t0.0485"
       ]
      },
      {
       "output_type": "stream",
       "stream": "stdout",
       "text": [
        "\n",
        "1800\t48.4681\t0.143156\t0.1527\t0.04134\t0.0418"
       ]
      },
      {
       "output_type": "stream",
       "stream": "stdout",
       "text": [
        "\n",
        "2000\t53.6001\t0.122384\t0.138537\t0.03512\t0.0372"
       ]
      },
      {
       "output_type": "stream",
       "stream": "stdout",
       "text": [
        "\n",
        "2200\t58.7481\t0.10453\t0.118706\t0.02914\t0.0328"
       ]
      },
      {
       "output_type": "stream",
       "stream": "stdout",
       "text": [
        "\n",
        "2400\t63.8826\t0.0975571\t0.120155\t0.02876\t0.0355"
       ]
      },
      {
       "output_type": "stream",
       "stream": "stdout",
       "text": [
        "\n",
        "2600\t68.9744\t0.0871339\t0.111444\t0.02532\t0.0311"
       ]
      },
      {
       "output_type": "stream",
       "stream": "stdout",
       "text": [
        "\n",
        "2800\t74.0513\t0.075646\t0.105049\t0.02274\t0.0309"
       ]
      },
      {
       "output_type": "stream",
       "stream": "stdout",
       "text": [
        "\n",
        "3000\t79.2072\t0.0595093\t0.0914931\t0.01604\t0.0268"
       ]
      },
      {
       "output_type": "stream",
       "stream": "stdout",
       "text": [
        "\n",
        "3200\t84.3086\t0.0532944\t0.0886876\t0.01424\t0.0269"
       ]
      },
      {
       "output_type": "stream",
       "stream": "stdout",
       "text": [
        "\n",
        "3400\t89.4046\t0.0509068\t0.0928271\t0.01466\t0.0273"
       ]
      },
      {
       "output_type": "stream",
       "stream": "stdout",
       "text": [
        "\n",
        "3600\t94.4787\t0.0404465\t0.0805937\t0.011\t0.023"
       ]
      },
      {
       "output_type": "stream",
       "stream": "stdout",
       "text": [
        "\n",
        "3800\t99.6158\t0.034184\t0.0779153\t0.0084\t0.0229"
       ]
      },
      {
       "output_type": "stream",
       "stream": "stdout",
       "text": [
        "\n",
        "4000\t104.702\t0.0339115\t0.0857248\t0.00918\t0.0248"
       ]
      },
      {
       "output_type": "stream",
       "stream": "stdout",
       "text": [
        "\n",
        "4200\t109.821\t0.0247724\t0.0734384\t0.00552\t0.0207"
       ]
      },
      {
       "output_type": "stream",
       "stream": "stdout",
       "text": [
        "\n",
        "4400\t114.921\t0.0236113\t0.0748197\t0.00514\t0.021"
       ]
      },
      {
       "output_type": "stream",
       "stream": "stdout",
       "text": [
        "\n",
        "4600\t120.009\t0.0231444\t0.0764605\t0.00538\t0.0208"
       ]
      },
      {
       "output_type": "stream",
       "stream": "stdout",
       "text": [
        "\n",
        "4800\t125.106\t0.015843\t0.0700854\t0.00278\t0.0211"
       ]
      },
      {
       "output_type": "stream",
       "stream": "stdout",
       "text": [
        "\n",
        "5000\t130.198\t0.0137503\t0.0702266\t0.00232\t0.0205"
       ]
      },
      {
       "output_type": "stream",
       "stream": "stdout",
       "text": [
        "\n",
        "5200\t135.278\t0.0109675\t0.0704216\t0.0013\t0.0193"
       ]
      },
      {
       "output_type": "stream",
       "stream": "stdout",
       "text": [
        "\n",
        "5400\t140.42\t0.00936435\t0.0722354\t0.0011\t0.0203"
       ]
      },
      {
       "output_type": "stream",
       "stream": "stdout",
       "text": [
        "\n",
        "5600\t145.514\t0.00899366\t0.0699306\t0.0011\t0.02"
       ]
      },
      {
       "output_type": "stream",
       "stream": "stdout",
       "text": [
        "\n",
        "5800\t150.636\t0.00752636\t0.0726169\t0.00066\t0.0205"
       ]
      },
      {
       "output_type": "stream",
       "stream": "stdout",
       "text": [
        "\n",
        "6000\t155.727\t0.0087496\t0.0783692\t0.00116\t0.0205"
       ]
      },
      {
       "output_type": "stream",
       "stream": "stdout",
       "text": [
        "\n",
        "6200\t160.883\t0.00551062\t0.0694023\t0.00042\t0.0194"
       ]
      },
      {
       "output_type": "stream",
       "stream": "stdout",
       "text": [
        "\n",
        "6400\t165.984\t0.00499641\t0.0709554\t0.00028\t0.0194"
       ]
      },
      {
       "output_type": "stream",
       "stream": "stdout",
       "text": [
        "\n",
        "6600\t171.096\t0.00467741\t0.0734038\t0.0002\t0.0194"
       ]
      },
      {
       "output_type": "stream",
       "stream": "stdout",
       "text": [
        "\n",
        "6800\t176.176\t0.00394454\t0.0725332\t0.00014\t0.0193"
       ]
      },
      {
       "output_type": "stream",
       "stream": "stdout",
       "text": [
        "\n",
        "7000\t181.407\t0.00427173\t0.0745821\t0.00016\t0.0198"
       ]
      },
      {
       "output_type": "stream",
       "stream": "stdout",
       "text": [
        "\n",
        "7200\t186.52\t0.00354029\t0.0746135\t0.00016\t0.0198"
       ]
      },
      {
       "output_type": "stream",
       "stream": "stdout",
       "text": [
        "\n",
        "7400\t191.626\t0.00267222\t0.0735019\t6e-05\t0.0184"
       ]
      },
      {
       "output_type": "stream",
       "stream": "stdout",
       "text": [
        "\n",
        "7600\t196.722\t0.00273959\t0.072958\t6e-05\t0.0189"
       ]
      },
      {
       "output_type": "stream",
       "stream": "stdout",
       "text": [
        "\n",
        "7800\t201.848\t0.0021932\t0.0720483\t4e-05\t0.0183"
       ]
      },
      {
       "output_type": "stream",
       "stream": "stdout",
       "text": [
        "\n",
        "8000\t206.924\t0.00239229\t0.0742955\t0.00012\t0.019"
       ]
      },
      {
       "output_type": "stream",
       "stream": "stdout",
       "text": [
        "\n",
        "8200\t212.074\t0.00189073\t0.0722122\t0\t0.0185"
       ]
      },
      {
       "output_type": "stream",
       "stream": "stdout",
       "text": [
        "\n",
        "8400\t217.171\t0.00167228\t0.0739081\t0\t0.0183"
       ]
      },
      {
       "output_type": "stream",
       "stream": "stdout",
       "text": [
        "\n",
        "8600\t222.296\t0.00156073\t0.0739464\t0\t0.018"
       ]
      },
      {
       "output_type": "stream",
       "stream": "stdout",
       "text": [
        "\n",
        "8800\t227.435\t0.0014711\t0.0743363\t0\t0.0183"
       ]
      },
      {
       "output_type": "stream",
       "stream": "stdout",
       "text": [
        "\n",
        "9000\t232.546\t0.00155356\t0.0765061\t0\t0.0183"
       ]
      },
      {
       "output_type": "stream",
       "stream": "stdout",
       "text": [
        "\n",
        "9200\t237.655\t0.0013029\t0.0746351\t0\t0.0181"
       ]
      },
      {
       "output_type": "stream",
       "stream": "stdout",
       "text": [
        "\n",
        "9400\t242.721\t0.00131062\t0.0749992\t0\t0.0181"
       ]
      },
      {
       "output_type": "stream",
       "stream": "stdout",
       "text": [
        "\n",
        "9600\t247.796\t0.00116427\t0.0749318\t0\t0.0181"
       ]
      },
      {
       "output_type": "stream",
       "stream": "stdout",
       "text": [
        "\n",
        "9800\t252.914\t0.00120349\t0.0766798\t0\t0.0188"
       ]
      },
      {
       "output_type": "stream",
       "stream": "stdout",
       "text": [
        "\n",
        "10000\t258.026\t0.00099276\t0.07603\t0\t0.0186"
       ]
      },
      {
       "output_type": "stream",
       "stream": "stdout",
       "text": [
        "\n",
        "10200\t263.149\t0.000963097\t0.0770656\t0\t0.0179"
       ]
      },
      {
       "output_type": "stream",
       "stream": "stdout",
       "text": [
        "\n",
        "10400\t268.254\t0.000905446\t0.0760209\t0\t0.018"
       ]
      },
      {
       "output_type": "stream",
       "stream": "stdout",
       "text": [
        "\n",
        "10600\t273.363\t0.000846086\t0.0770189\t0\t0.018"
       ]
      },
      {
       "output_type": "stream",
       "stream": "stdout",
       "text": [
        "\n",
        "10800\t278.464\t0.000802918\t0.0769459\t0\t0.0184"
       ]
      },
      {
       "output_type": "stream",
       "stream": "stdout",
       "text": [
        "\n",
        "11000\t283.576\t0.000761745\t0.0772018\t0\t0.018"
       ]
      },
      {
       "output_type": "stream",
       "stream": "stdout",
       "text": [
        "\n",
        "11200\t288.703\t0.000746734\t0.0774531\t0\t0.0179"
       ]
      },
      {
       "output_type": "stream",
       "stream": "stdout",
       "text": [
        "\n",
        "11400\t293.802\t0.000704526\t0.0773061\t0\t0.018"
       ]
      },
      {
       "output_type": "stream",
       "stream": "stdout",
       "text": [
        "\n",
        "11600\t298.92\t0.000662466\t0.0769555\t0\t0.0179"
       ]
      },
      {
       "output_type": "stream",
       "stream": "stdout",
       "text": [
        "\n",
        "11800\t303.979\t0.000632795\t0.0779971\t0\t0.0177"
       ]
      },
      {
       "output_type": "stream",
       "stream": "stdout",
       "text": [
        "\n",
        "12000\t309.099\t0.000634421\t0.0791481\t0\t0.0182"
       ]
      },
      {
       "output_type": "stream",
       "stream": "stdout",
       "text": [
        "\n",
        "12200\t314.228\t0.000587457\t0.0786188\t0\t0.0179"
       ]
      },
      {
       "output_type": "stream",
       "stream": "stdout",
       "text": [
        "\n",
        "12400\t319.314\t0.000589863\t0.0774357\t0\t0.0176"
       ]
      },
      {
       "output_type": "stream",
       "stream": "stdout",
       "text": [
        "\n",
        "12600\t324.434\t0.000538747\t0.0787979\t0\t0.0182"
       ]
      },
      {
       "output_type": "stream",
       "stream": "stdout",
       "text": [
        "\n",
        "12800\t329.53\t0.000527185\t0.0795843\t0\t0.018"
       ]
      },
      {
       "output_type": "stream",
       "stream": "stdout",
       "text": [
        "\n",
        "13000\t334.642\t0.000510269\t0.0792363\t0\t0.0171"
       ]
      },
      {
       "output_type": "stream",
       "stream": "stdout",
       "text": [
        "\n",
        "13200\t339.77\t0.000485778\t0.0788604\t0\t0.0175"
       ]
      },
      {
       "output_type": "stream",
       "stream": "stdout",
       "text": [
        "\n",
        "13400\t344.871\t0.000473216\t0.0802608\t0\t0.0184"
       ]
      },
      {
       "output_type": "stream",
       "stream": "stdout",
       "text": [
        "\n",
        "13600\t350.013\t0.000450125\t0.0789807\t0\t0.0171"
       ]
      },
      {
       "output_type": "stream",
       "stream": "stdout",
       "text": [
        "\n",
        "13800\t355.117\t0.000437883\t0.0798883\t0\t0.0176"
       ]
      },
      {
       "output_type": "stream",
       "stream": "stdout",
       "text": [
        "\n",
        "14000\t360.179\t0.000423358\t0.0805109\t0\t0.0178"
       ]
      },
      {
       "output_type": "stream",
       "stream": "stdout",
       "text": [
        "\n",
        "14200\t365.287\t0.000415753\t0.081213\t0\t0.018"
       ]
      },
      {
       "output_type": "stream",
       "stream": "stdout",
       "text": [
        "\n",
        "14400\t370.369\t0.000397343\t0.0802517\t0\t0.0178"
       ]
      },
      {
       "output_type": "stream",
       "stream": "stdout",
       "text": [
        "\n",
        "14600\t375.521\t0.000386851\t0.0806702\t0\t0.0178"
       ]
      },
      {
       "output_type": "stream",
       "stream": "stdout",
       "text": [
        "\n",
        "14800\t380.668\t0.000373364\t0.0806947\t0\t0.0177"
       ]
      },
      {
       "output_type": "stream",
       "stream": "stdout",
       "text": [
        "\n",
        "15000\t385.742\t0.00036648\t0.0816332\t0\t0.0179"
       ]
      },
      {
       "output_type": "stream",
       "stream": "stdout",
       "text": [
        "\n",
        "15200\t390.902\t0.000354112\t0.0811381\t0\t0.0176"
       ]
      },
      {
       "output_type": "stream",
       "stream": "stdout",
       "text": [
        "\n",
        "15400\t396.011\t0.000353886\t0.0805412\t0\t0.0176"
       ]
      },
      {
       "output_type": "stream",
       "stream": "stdout",
       "text": [
        "\n",
        "15600\t401.143\t0.000350154\t0.0819625\t0\t0.0183"
       ]
      },
      {
       "output_type": "stream",
       "stream": "stdout",
       "text": [
        "\n",
        "15800\t406.251\t0.000327374\t0.0817967\t0\t0.0178"
       ]
      },
      {
       "output_type": "stream",
       "stream": "stdout",
       "text": [
        "\n",
        "16000\t411.368\t0.000317725\t0.0816616\t0\t0.0176"
       ]
      },
      {
       "output_type": "stream",
       "stream": "stdout",
       "text": [
        "\n",
        "16200\t416.511\t0.00031631\t0.081981\t0\t0.0179"
       ]
      },
      {
       "output_type": "stream",
       "stream": "stdout",
       "text": [
        "\n",
        "16400\t421.626\t0.000302986\t0.0818397\t0\t0.0178"
       ]
      },
      {
       "output_type": "stream",
       "stream": "stdout",
       "text": [
        "\n",
        "16600\t426.77\t0.000305253\t0.0830721\t0\t0.0176"
       ]
      },
      {
       "output_type": "stream",
       "stream": "stdout",
       "text": [
        "\n",
        "16800\t431.864\t0.000298807\t0.0824264\t0\t0.0177"
       ]
      },
      {
       "output_type": "stream",
       "stream": "stdout",
       "text": [
        "\n",
        "17000\t436.962\t0.000290744\t0.0835662\t0\t0.018"
       ]
      },
      {
       "output_type": "stream",
       "stream": "stdout",
       "text": [
        "\n",
        "17200\t442.091\t0.000281826\t0.0828933\t0\t0.0174"
       ]
      },
      {
       "output_type": "stream",
       "stream": "stdout",
       "text": [
        "\n",
        "17400\t447.206\t0.000278173\t0.0823857\t0\t0.0178"
       ]
      },
      {
       "output_type": "stream",
       "stream": "stdout",
       "text": [
        "\n",
        "17600\t452.337\t0.000272048\t0.082797\t0\t0.0173"
       ]
      },
      {
       "output_type": "stream",
       "stream": "stdout",
       "text": [
        "\n",
        "17800\t457.415\t0.000261984\t0.0829291\t0\t0.0176"
       ]
      },
      {
       "output_type": "stream",
       "stream": "stdout",
       "text": [
        "\n",
        "18000\t462.513\t0.000263869\t0.0833334\t0\t0.0176"
       ]
      },
      {
       "output_type": "stream",
       "stream": "stdout",
       "text": [
        "\n",
        "18200\t467.637\t0.000251294\t0.0824061\t0\t0.0175"
       ]
      },
      {
       "output_type": "stream",
       "stream": "stdout",
       "text": [
        "\n",
        "18400\t472.728\t0.000245877\t0.0835174\t0\t0.0177"
       ]
      },
      {
       "output_type": "stream",
       "stream": "stdout",
       "text": [
        "\n",
        "18600\t477.857\t0.000244114\t0.0834158\t0\t0.0174"
       ]
      },
      {
       "output_type": "stream",
       "stream": "stdout",
       "text": [
        "\n",
        "18800\t482.977\t0.000240078\t0.0838885\t0\t0.0179"
       ]
      },
      {
       "output_type": "stream",
       "stream": "stdout",
       "text": [
        "\n",
        "19000\t488.057\t0.000234643\t0.0832922\t0\t0.0173"
       ]
      },
      {
       "output_type": "stream",
       "stream": "stdout",
       "text": [
        "\n",
        "19200\t493.162\t0.000230875\t0.08343\t0\t0.018"
       ]
      },
      {
       "output_type": "stream",
       "stream": "stdout",
       "text": [
        "\n",
        "19400\t498.295\t0.000224565\t0.0836474\t0\t0.0176"
       ]
      },
      {
       "output_type": "stream",
       "stream": "stdout",
       "text": [
        "\n",
        "19600\t503.4\t0.000221454\t0.0833511\t0\t0.0174"
       ]
      },
      {
       "output_type": "stream",
       "stream": "stdout",
       "text": [
        "\n",
        "19800\t508.516\t0.000215867\t0.0836053\t0\t0.0171"
       ]
      },
      {
       "output_type": "stream",
       "stream": "stdout",
       "text": [
        "\n",
        "20000\t513.612\t0.00021296\t0.0835295\t0\t0.0176"
       ]
      },
      {
       "output_type": "stream",
       "stream": "stdout",
       "text": [
        "\n",
        "20200\t518.724\t0.000213974\t0.0833194\t0\t0.0174"
       ]
      },
      {
       "output_type": "stream",
       "stream": "stdout",
       "text": [
        "\n",
        "20400\t523.866\t0.000207514\t0.0838509\t0\t0.0173"
       ]
      },
      {
       "output_type": "stream",
       "stream": "stdout",
       "text": [
        "\n",
        "20600\t529.002\t0.000206804\t0.0841211\t0\t0.0176"
       ]
      },
      {
       "output_type": "stream",
       "stream": "stdout",
       "text": [
        "\n",
        "20800\t534.083\t0.000199955\t0.0842636\t0\t0.0172"
       ]
      },
      {
       "output_type": "stream",
       "stream": "stdout",
       "text": [
        "\n",
        "21000\t539.212\t0.000197191\t0.0848795\t0\t0.0175"
       ]
      },
      {
       "output_type": "stream",
       "stream": "stdout",
       "text": [
        "\n",
        "21200\t544.303\t0.000196006\t0.0842465\t0\t0.0174"
       ]
      },
      {
       "output_type": "stream",
       "stream": "stdout",
       "text": [
        "\n",
        "21400\t549.411\t0.000191462\t0.0846271\t0\t0.0173"
       ]
      },
      {
       "output_type": "stream",
       "stream": "stdout",
       "text": [
        "\n",
        "21600\t554.525\t0.000188152\t0.0845912\t0\t0.0174"
       ]
      },
      {
       "output_type": "stream",
       "stream": "stdout",
       "text": [
        "\n",
        "21800\t559.636\t0.000187598\t0.084241\t0\t0.0175"
       ]
      },
      {
       "output_type": "stream",
       "stream": "stdout",
       "text": [
        "\n",
        "22000\t564.725\t0.000189028\t0.0847999\t0\t0.0175"
       ]
      },
      {
       "output_type": "stream",
       "stream": "stdout",
       "text": [
        "\n",
        "22200\t569.832\t0.000180929\t0.0847187\t0\t0.0176"
       ]
      },
      {
       "output_type": "stream",
       "stream": "stdout",
       "text": [
        "\n",
        "22400\t574.903\t0.000179466\t0.0848977\t0\t0.0175"
       ]
      },
      {
       "output_type": "stream",
       "stream": "stdout",
       "text": [
        "\n",
        "22600\t580.021\t0.000174517\t0.085424\t0\t0.0173"
       ]
      },
      {
       "output_type": "stream",
       "stream": "stdout",
       "text": [
        "\n",
        "22800\t585.095\t0.000175894\t0.085339\t0\t0.0176"
       ]
      },
      {
       "output_type": "stream",
       "stream": "stdout",
       "text": [
        "\n",
        "23000\t590.191\t0.00017223\t0.0854126\t0\t0.0173"
       ]
      },
      {
       "output_type": "stream",
       "stream": "stdout",
       "text": [
        "\n",
        "23200\t595.289\t0.000167869\t0.0852765\t0\t0.0173"
       ]
      },
      {
       "output_type": "stream",
       "stream": "stdout",
       "text": [
        "\n",
        "23400\t600.375\t0.000165341\t0.085413\t0\t0.0174"
       ]
      },
      {
       "output_type": "stream",
       "stream": "stdout",
       "text": [
        "\n",
        "23600\t605.503\t0.000163956\t0.0853612\t0\t0.0173"
       ]
      },
      {
       "output_type": "stream",
       "stream": "stdout",
       "text": [
        "\n",
        "23800\t610.608\t0.000162985\t0.0858729\t0\t0.0177"
       ]
      },
      {
       "output_type": "stream",
       "stream": "stdout",
       "text": [
        "\n",
        "24000\t615.696\t0.000159409\t0.0852607\t0\t0.0173"
       ]
      },
      {
       "output_type": "stream",
       "stream": "stdout",
       "text": [
        "\n",
        "24200\t620.819\t0.000158557\t0.0858211\t0\t0.0176"
       ]
      },
      {
       "output_type": "stream",
       "stream": "stdout",
       "text": [
        "\n",
        "24400\t625.903\t0.000155592\t0.0856472\t0\t0.0172"
       ]
      },
      {
       "output_type": "stream",
       "stream": "stdout",
       "text": [
        "\n",
        "24600\t631.096\t0.000153173\t0.0859378\t0\t0.0175"
       ]
      },
      {
       "output_type": "stream",
       "stream": "stdout",
       "text": [
        "\n",
        "24800\t636.26\t0.000154842\t0.0863481\t0\t0.0176"
       ]
      },
      {
       "output_type": "stream",
       "stream": "stdout",
       "text": [
        "\n",
        "25000\t641.402\t0.000151092\t0.0860899\t0\t0.0178"
       ]
      },
      {
       "output_type": "stream",
       "stream": "stdout",
       "text": [
        "\n",
        "25200\t646.519\t0.000147727\t0.0861289\t0\t0.0175"
       ]
      },
      {
       "output_type": "stream",
       "stream": "stdout",
       "text": [
        "\n",
        "25400\t651.653\t0.000146465\t0.085752\t0\t0.0176"
       ]
      },
      {
       "output_type": "stream",
       "stream": "stdout",
       "text": [
        "\n",
        "25600\t656.737\t0.000143827\t0.0862298\t0\t0.0173"
       ]
      },
      {
       "output_type": "stream",
       "stream": "stdout",
       "text": [
        "\n",
        "25800\t661.847\t0.000142494\t0.0859286\t0\t0.0173"
       ]
      },
      {
       "output_type": "stream",
       "stream": "stdout",
       "text": [
        "\n",
        "26000\t666.949\t0.000140969\t0.0863603\t0\t0.0175"
       ]
      },
      {
       "output_type": "stream",
       "stream": "stdout",
       "text": [
        "\n",
        "26200\t672.08\t0.000139753\t0.0866947\t0\t0.0172"
       ]
      },
      {
       "output_type": "stream",
       "stream": "stdout",
       "text": [
        "\n",
        "26400\t677.192\t0.000137939\t0.0866762\t0\t0.0173"
       ]
      },
      {
       "output_type": "stream",
       "stream": "stdout",
       "text": [
        "\n",
        "26600\t682.314\t0.000137127\t0.0866442\t0\t0.0175"
       ]
      },
      {
       "output_type": "stream",
       "stream": "stdout",
       "text": [
        "\n",
        "26800\t687.459\t0.000134995\t0.0867693\t0\t0.0175"
       ]
      },
      {
       "output_type": "stream",
       "stream": "stdout",
       "text": [
        "\n",
        "27000\t692.589\t0.000134928\t0.0866527\t0\t0.0175"
       ]
      },
      {
       "output_type": "stream",
       "stream": "stdout",
       "text": [
        "\n",
        "27200\t697.709\t0.000134821\t0.0861801\t0\t0.0177"
       ]
      },
      {
       "output_type": "stream",
       "stream": "stdout",
       "text": [
        "\n",
        "27400\t702.825\t0.00013238\t0.0867142\t0\t0.0178"
       ]
      },
      {
       "output_type": "stream",
       "stream": "stdout",
       "text": [
        "\n",
        "27600\t707.931\t0.000129232\t0.0870339\t0\t0.0175"
       ]
      },
      {
       "output_type": "stream",
       "stream": "stdout",
       "text": [
        "\n",
        "27800\t713.035\t0.000128099\t0.0868759\t0\t0.0176"
       ]
      },
      {
       "output_type": "stream",
       "stream": "stdout",
       "text": [
        "\n",
        "28000\t718.161\t0.000126477\t0.0868376\t0\t0.0172"
       ]
      },
      {
       "output_type": "stream",
       "stream": "stdout",
       "text": [
        "\n",
        "28200\t723.268\t0.000125328\t0.0869032\t0\t0.0175"
       ]
      },
      {
       "output_type": "stream",
       "stream": "stdout",
       "text": [
        "\n",
        "28400\t728.366\t0.00012347\t0.08722\t0\t0.0174"
       ]
      },
      {
       "output_type": "stream",
       "stream": "stdout",
       "text": [
        "\n",
        "28600\t733.483\t0.000122734\t0.0867908\t0\t0.0174"
       ]
      },
      {
       "output_type": "stream",
       "stream": "stdout",
       "text": [
        "\n",
        "28800\t738.612\t0.000121435\t0.0866898\t0\t0.0172"
       ]
      },
      {
       "output_type": "stream",
       "stream": "stdout",
       "text": [
        "\n",
        "29000\t743.727\t0.00012012\t0.087324\t0\t0.0172"
       ]
      },
      {
       "output_type": "stream",
       "stream": "stdout",
       "text": [
        "\n",
        "29200\t748.845\t0.000118526\t0.0871944\t0\t0.0174"
       ]
      },
      {
       "output_type": "stream",
       "stream": "stdout",
       "text": [
        "\n",
        "29400\t753.963\t0.000117524\t0.0871975\t0\t0.0175"
       ]
      },
      {
       "output_type": "stream",
       "stream": "stdout",
       "text": [
        "\n",
        "29600\t759.114\t0.000116471\t0.0873649\t0\t0.0174"
       ]
      },
      {
       "output_type": "stream",
       "stream": "stdout",
       "text": [
        "\n",
        "29800\t764.214\t0.000116072\t0.0875123\t0\t0.0173"
       ]
      },
      {
       "output_type": "stream",
       "stream": "stdout",
       "text": [
        "\n",
        "30000\t769.341\t0.00011464\t0.0873362\t0\t0.0176"
       ]
      },
      {
       "output_type": "stream",
       "stream": "stdout",
       "text": [
        "\n"
       ]
      }
     ],
     "prompt_number": 45
    },
    {
     "cell_type": "markdown",
     "metadata": {},
     "source": [
      "Let's get the parameters that did best on the validation set."
     ]
    },
    {
     "cell_type": "code",
     "collapsed": false,
     "input": [
      "m.parameters.data[...] = info['best_pars']"
     ],
     "language": "python",
     "metadata": {},
     "outputs": [],
     "prompt_number": 46
    },
    {
     "cell_type": "markdown",
     "metadata": {},
     "source": [
      "Evaluation\n",
      "--------------"
     ]
    },
    {
     "cell_type": "code",
     "collapsed": false,
     "input": [
      "fig = plt.figure(figsize=(16, 9))\n",
      "ax = fig.add_subplot(111)\n",
      "ax.plot(losses)"
     ],
     "language": "python",
     "metadata": {},
     "outputs": [
      {
       "metadata": {},
       "output_type": "pyout",
       "prompt_number": 37,
       "text": [
        "[<matplotlib.lines.Line2D at 0x11bf86e90>,\n",
        " <matplotlib.lines.Line2D at 0x11c88e490>]"
       ]
      },
      {
       "metadata": {},
       "output_type": "display_data",
       "png": "[encoded data removed]",
       "text": [
        "<matplotlib.figure.Figure at 0x113cbf750>"
       ]
      }
     ],
     "prompt_number": 37
    },
    {
     "cell_type": "code",
     "collapsed": false,
     "input": [
      "f_predict = m.function(['inpt'], T.argmax(m.exprs['output_in'], axis=1))\n",
      "\n",
      "TY = f_predict(TX)\n",
      "\n",
      "print 'Number of mistakes on the testing set:', (TY != TZ.argmax(axis=1)).sum()"
     ],
     "language": "python",
     "metadata": {},
     "outputs": [
      {
       "output_type": "stream",
       "stream": "stdout",
       "text": [
        "Number of mistakes on the testing set: 175\n"
       ]
      }
     ],
     "prompt_number": 47
    }
   ],
   "metadata": {}
  }
 ]
}