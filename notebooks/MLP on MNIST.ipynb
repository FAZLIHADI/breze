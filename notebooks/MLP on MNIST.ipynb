{
 "metadata": {
  "name": ""
 },
 "nbformat": 3,
 "nbformat_minor": 0,
 "worksheets": [
  {
   "cells": [
    {
     "cell_type": "code",
     "collapsed": false,
     "input": [
      "import cPickle\n",
      "import gzip\n",
      "import time\n",
      "\n",
      "import numpy as np\n",
      "import theano.tensor as T\n",
      "\n",
      "import climin.schedule\n",
      "import climin.stops\n",
      "import climin.initialize\n",
      "\n",
      "from breze.learn.mlp import Mlp\n",
      "from breze.learn.data import one_hot"
     ],
     "language": "python",
     "metadata": {},
     "outputs": [],
     "prompt_number": 1
    },
    {
     "cell_type": "markdown",
     "metadata": {},
     "source": [
      "Prepare Data\n",
      "============\n",
      "\n",
      "We load the MNIST data. It is available at http://www.iro.umontreal.ca/~lisa/deep/data/mnist/mnist.pkl.gz.\n",
      "\n",
      "The inputs all lie between 0 and 1. Each target is a one of k variable."
     ]
    },
    {
     "cell_type": "code",
     "collapsed": false,
     "input": [
      "datafile = 'mnist.pkl.gz'\n",
      "# Load data.                                                                                                   \n",
      "\n",
      "with gzip.open(datafile,'rb') as f:                                                                        \n",
      "    train_set, val_set, test_set = cPickle.load(f)                                                       \n",
      "\n",
      "X, Z = train_set                                                                                               \n",
      "VX, VZ = val_set\n",
      "TX, TZ = test_set\n",
      "\n",
      "Z = one_hot(Z, 10)\n",
      "VZ = one_hot(VZ, 10)\n",
      "TZ = one_hot(TZ, 10)\n",
      "\n",
      "image_dims = 28, 28"
     ],
     "language": "python",
     "metadata": {},
     "outputs": [],
     "prompt_number": 2
    },
    {
     "cell_type": "markdown",
     "metadata": {},
     "source": [
      "Define Model\n",
      "============\n",
      "\n",
      "We will use a normal text book multi layer perceptron. "
     ]
    },
    {
     "cell_type": "code",
     "collapsed": true,
     "input": [
      "max_passes = 150\n",
      "batch_size = 250\n",
      "max_iter = max_passes * X.shape[0] / batch_size\n",
      "n_report = X.shape[0] / batch_size\n",
      "\n",
      "stop = climin.stops.after_n_iterations(max_iter)\n",
      "pause = climin.stops.modulo_n_iterations(n_report)\n",
      "\n",
      "#optimizer = 'rmsprop', {'steprate': 0.0001, 'momentum': 0.95, 'decay': 0.8}\n",
      "optimizer = 'gd', {'steprate': 0.1, 'momentum': climin.schedule.SutskeverBlend(0.99, 250), 'momentum_type': 'nesterov'}\n",
      "\n",
      "m = Mlp(784, [800], 10, hidden_transfers=['sigmoid'], out_transfer='softmax', loss='multinomial_ce',\n",
      "        optimizer=optimizer, batch_size=batch_size)\n",
      "climin.initialize.randomize_normal(m.parameters.data, 0, 1e-1)\n",
      "\n",
      "losses = []\n",
      "print 'max iter', max_iter"
     ],
     "language": "python",
     "metadata": {},
     "outputs": [
      {
       "output_type": "stream",
       "stream": "stdout",
       "text": [
        "max iter 30000\n"
       ]
      }
     ],
     "prompt_number": 3
    },
    {
     "cell_type": "markdown",
     "metadata": {},
     "source": [
      "### Weight Decay\n",
      "\n",
      "We will also add a weight decay term, which involves manipulating the ``.exprs`` attribute of the model. We need to divide by the number of samples to make sure that it scales nicely with the batch size. The ``true_loss`` field is the loss that we actually care about, while ``loss`` can have extra terms, e.g. regularizes. For learning, ``loss`` will be respected."
     ]
    },
    {
     "cell_type": "code",
     "collapsed": false,
     "input": [
      "weight_decay = ((m.parameters.in_to_hidden**2).sum()\n",
      "                + (m.parameters.hidden_to_out**2).sum())\n",
      "weight_decay /= m.exprs['inpt'].shape[0]\n",
      "m.exprs['true_loss'] = m.exprs['loss']\n",
      "c_wd = 0.001\n",
      "m.exprs['loss'] = m.exprs['loss'] + c_wd * weight_decay"
     ],
     "language": "python",
     "metadata": {},
     "outputs": [],
     "prompt_number": 5
    },
    {
     "cell_type": "markdown",
     "metadata": {},
     "source": [
      "### Helper Functions\n",
      "\n",
      "Here is a function that will give as the average zero-one loss."
     ]
    },
    {
     "cell_type": "code",
     "collapsed": false,
     "input": [
      "n_wrong = 1 - T.eq(T.argmax(m.exprs['output'], axis=1), T.argmax(m.exprs['target'], axis=1)).mean()\n",
      "f_n_wrong = m.function(['inpt', 'target'], n_wrong)"
     ],
     "language": "python",
     "metadata": {},
     "outputs": [],
     "prompt_number": 6
    },
    {
     "cell_type": "markdown",
     "metadata": {},
     "source": [
      "Learn\n",
      "=====\n",
      "\n",
      "First train an report validation error to manually check for the training error at which validation error is minimal."
     ]
    },
    {
     "cell_type": "code",
     "collapsed": false,
     "input": [
      "start = time.time()\n",
      "# Set up a nice printout.\n",
      "keys = '#', 'seconds', 'loss', 'val loss', 'train emp', 'val emp'\n",
      "max_len = max(len(i) for i in keys)\n",
      "header = '\\t'.join(i for i in keys)\n",
      "print header\n",
      "print '-' * len(header)\n",
      "\n",
      "for i, info in enumerate(m.powerfit((X, Z), (VX, VZ), stop, pause)):\n",
      "    if info['n_iter'] % n_report != 0:\n",
      "        continue\n",
      "    passed = time.time() - start\n",
      "    losses.append((info['loss'], info['val_loss']))\n",
      "    \n",
      "    #img = tile_raster_images(fe.parameters['in_to_hidden'].T, image_dims, feature_dims, (1, 1))\n",
      "    #save_and_display(img, 'filters-%i.png' % i)  \n",
      "    info.update({\n",
      "        'time': passed,\n",
      "        'train_emp': f_n_wrong(X, Z),\n",
      "        'val_emp': f_n_wrong(VX, VZ),\n",
      "    })\n",
      "    row = '%(n_iter)i\\t%(time)g\\t%(loss)g\\t%(val_loss)g\\t%(train_emp)g\\t%(val_emp)g' % info\n",
      "    print row"
     ],
     "language": "python",
     "metadata": {},
     "outputs": [
      {
       "output_type": "stream",
       "stream": "stdout",
       "text": [
        "#\tseconds\tloss\tval loss\ttrain emp\tval emp\n",
        "-----------------------------------------\n",
        "0\t5.87151\t3.27241\t3.29476\t0.84698\t0.8549"
       ]
      },
      {
       "output_type": "stream",
       "stream": "stdout",
       "text": [
        "\n",
        "200\t11.1789\t0.414501\t0.377313\t0.11844\t0.1063"
       ]
      },
      {
       "output_type": "stream",
       "stream": "stdout",
       "text": [
        "\n",
        "400\t16.5687\t0.332924\t0.308396\t0.09708\t0.0901"
       ]
      },
      {
       "output_type": "stream",
       "stream": "stdout",
       "text": [
        "\n",
        "600\t22.3811\t0.302717\t0.285175\t0.08814\t0.082"
       ]
      },
      {
       "output_type": "stream",
       "stream": "stdout",
       "text": [
        "\n",
        "800\t28.6318\t0.276639\t0.265872\t0.07914\t0.0767"
       ]
      },
      {
       "output_type": "stream",
       "stream": "stdout",
       "text": [
        "\n",
        "1000\t34.0509\t0.25282\t0.242165\t0.07232\t0.0698"
       ]
      },
      {
       "output_type": "stream",
       "stream": "stdout",
       "text": [
        "\n",
        "1200\t39.347\t0.225203\t0.22137\t0.06418\t0.0617"
       ]
      },
      {
       "output_type": "stream",
       "stream": "stdout",
       "text": [
        "\n",
        "1400\t44.7789\t0.198885\t0.196941\t0.05606\t0.0545"
       ]
      },
      {
       "output_type": "stream",
       "stream": "stdout",
       "text": [
        "\n",
        "1600\t50.1211\t0.170257\t0.175099\t0.0491\t0.0481"
       ]
      },
      {
       "output_type": "stream",
       "stream": "stdout",
       "text": [
        "\n",
        "1800\t55.8812\t0.145003\t0.154417\t0.04116\t0.0435"
       ]
      },
      {
       "output_type": "stream",
       "stream": "stdout",
       "text": [
        "\n",
        "2000\t61.7971\t0.125825\t0.138759\t0.03518\t0.0376"
       ]
      },
      {
       "output_type": "stream",
       "stream": "stdout",
       "text": [
        "\n",
        "2200\t67.1598\t0.106061\t0.12302\t0.02976\t0.034"
       ]
      },
      {
       "output_type": "stream",
       "stream": "stdout",
       "text": [
        "\n",
        "2400\t72.6702\t0.0936819\t0.11715\t0.0261\t0.0334"
       ]
      },
      {
       "output_type": "stream",
       "stream": "stdout",
       "text": [
        "\n",
        "2600\t78.0427\t0.0844877\t0.108579\t0.0242\t0.0307"
       ]
      },
      {
       "output_type": "stream",
       "stream": "stdout",
       "text": [
        "\n",
        "2800\t83.4095\t0.0711633\t0.100716\t0.02012\t0.0294"
       ]
      },
      {
       "output_type": "stream",
       "stream": "stdout",
       "text": [
        "\n",
        "3000\t88.6894\t0.063716\t0.098928\t0.01832\t0.0296"
       ]
      },
      {
       "output_type": "stream",
       "stream": "stdout",
       "text": [
        "\n",
        "3200\t93.9465\t0.0538657\t0.0898084\t0.01526\t0.0257"
       ]
      },
      {
       "output_type": "stream",
       "stream": "stdout",
       "text": [
        "\n",
        "3400\t99.196\t0.0507288\t0.0891684\t0.01388\t0.0265"
       ]
      },
      {
       "output_type": "stream",
       "stream": "stdout",
       "text": [
        "\n",
        "3600\t104.476\t0.0405675\t0.0822284\t0.01018\t0.0246"
       ]
      },
      {
       "output_type": "stream",
       "stream": "stdout",
       "text": [
        "\n",
        "3800\t109.766\t0.035772\t0.0793204\t0.00868\t0.0236"
       ]
      },
      {
       "output_type": "stream",
       "stream": "stdout",
       "text": [
        "\n",
        "4000\t115.145\t0.0359062\t0.0823448\t0.00976\t0.0246"
       ]
      },
      {
       "output_type": "stream",
       "stream": "stdout",
       "text": [
        "\n",
        "4200\t120.447\t0.0287225\t0.077203\t0.00666\t0.022"
       ]
      },
      {
       "output_type": "stream",
       "stream": "stdout",
       "text": [
        "\n",
        "4400\t125.686\t0.0236723\t0.073271\t0.00474\t0.0218"
       ]
      },
      {
       "output_type": "stream",
       "stream": "stdout",
       "text": [
        "\n",
        "4600\t131.569\t0.0211068\t0.0764606\t0.00428\t0.0229"
       ]
      },
      {
       "output_type": "stream",
       "stream": "stdout",
       "text": [
        "\n",
        "4800\t137.276\t0.0182751\t0.0743221\t0.00336\t0.0218"
       ]
      },
      {
       "output_type": "stream",
       "stream": "stdout",
       "text": [
        "\n",
        "5000\t142.636\t0.0173465\t0.074225\t0.0033\t0.0223"
       ]
      },
      {
       "output_type": "stream",
       "stream": "stdout",
       "text": [
        "\n",
        "5200\t148.194\t0.0161051\t0.074619\t0.00302\t0.0228"
       ]
      },
      {
       "output_type": "stream",
       "stream": "stdout",
       "text": [
        "\n",
        "5400\t153.718\t0.0113819\t0.0692225\t0.00162\t0.0204"
       ]
      },
      {
       "output_type": "stream",
       "stream": "stdout",
       "text": [
        "\n",
        "5600\t159.064\t0.0102295\t0.0693444\t0.00118\t0.0191"
       ]
      },
      {
       "output_type": "stream",
       "stream": "stdout",
       "text": [
        "\n",
        "5800\t165.02\t0.011052\t0.0726135\t0.00152\t0.0211"
       ]
      },
      {
       "output_type": "stream",
       "stream": "stdout",
       "text": [
        "\n",
        "6000\t171.553\t0.00865071\t0.0701774\t0.0006\t0.0199"
       ]
      },
      {
       "output_type": "stream",
       "stream": "stdout",
       "text": [
        "\n",
        "6200\t179.966\t0.00852895\t0.0709863\t0.00086\t0.0196"
       ]
      },
      {
       "output_type": "stream",
       "stream": "stdout",
       "text": [
        "\n",
        "6400\t188.328\t0.00693986\t0.0697297\t0.00042\t0.0192"
       ]
      },
      {
       "output_type": "stream",
       "stream": "stdout",
       "text": [
        "\n",
        "6600\t195.566\t0.0064883\t0.0691226\t0.00028\t0.0193"
       ]
      },
      {
       "output_type": "stream",
       "stream": "stdout",
       "text": [
        "\n",
        "6800\t201.295\t0.00567501\t0.067998\t0.00022\t0.0183"
       ]
      },
      {
       "output_type": "stream",
       "stream": "stdout",
       "text": [
        "\n",
        "7000\t206.679\t0.00538197\t0.0674078\t0.00024\t0.0184"
       ]
      },
      {
       "output_type": "stream",
       "stream": "stdout",
       "text": [
        "\n",
        "7200\t212.486\t0.00573956\t0.0684\t0.00022\t0.0195"
       ]
      },
      {
       "output_type": "stream",
       "stream": "stdout",
       "text": [
        "\n",
        "7400\t217.951\t0.00478271\t0.0695086\t8e-05\t0.0197"
       ]
      },
      {
       "output_type": "stream",
       "stream": "stdout",
       "text": [
        "\n",
        "7600\t223.979\t0.00550834\t0.0695493\t0.00036\t0.0183"
       ]
      },
      {
       "output_type": "stream",
       "stream": "stdout",
       "text": [
        "\n"
       ]
      },
      {
       "output_type": "stream",
       "stream": "stderr",
       "text": [
        "/Users/bayerj/devel/climin/climin/util.py:115: UserWarning: Argument named f is not expected by <class 'climin.gd.GradientDescent'>\n",
        "  % (i, klass))\n"
       ]
      }
     ],
     "prompt_number": 7
    },
    {
     "cell_type": "markdown",
     "metadata": {},
     "source": [
      "Let's get the parameters that did best on the validation set."
     ]
    },
    {
     "cell_type": "code",
     "collapsed": false,
     "input": [
      "m.parameters.data[...] = info['best_pars']"
     ],
     "language": "python",
     "metadata": {},
     "outputs": [],
     "prompt_number": 8
    },
    {
     "cell_type": "markdown",
     "metadata": {},
     "source": [
      "Evaluation\n",
      "--------------"
     ]
    },
    {
     "cell_type": "code",
     "collapsed": false,
     "input": [
      "fig = plt.figure(figsize=(16, 9))\n",
      "ax = fig.add_subplot(111)\n",
      "ax.plot(losses)"
     ],
     "language": "python",
     "metadata": {},
     "outputs": [
      {
       "metadata": {},
       "output_type": "pyout",
       "prompt_number": 9,
       "text": [
        "[<matplotlib.lines.Line2D at 0x10c4aea10>,\n",
        " <matplotlib.lines.Line2D at 0x119bd41d0>]"
       ]
      },
      {
       "metadata": {},
       "output_type": "display_data",
       "png": "[encoded data removed]",
       "text": [
        "<matplotlib.figure.Figure at 0x10f1eedd0>"
       ]
      }
     ],
     "prompt_number": 9
    },
    {
     "cell_type": "code",
     "collapsed": false,
     "input": [
      "f_predict = m.function(['inpt'], T.argmax(m.exprs['output_in'], axis=1))\n",
      "\n",
      "TY = f_predict(TX)\n",
      "\n",
      "print 'Number of mistakes on the testing set:', (TY != TZ.argmax(axis=1)).sum()"
     ],
     "language": "python",
     "metadata": {},
     "outputs": [
      {
       "output_type": "stream",
       "stream": "stdout",
       "text": [
        "Number of mistakes on the testing set: 193\n"
       ]
      }
     ],
     "prompt_number": 10
    }
   ],
   "metadata": {}
  }
 ]
}