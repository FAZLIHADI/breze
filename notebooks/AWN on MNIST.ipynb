{
 "metadata": {
  "name": ""
 },
 "nbformat": 3,
 "nbformat_minor": 0,
 "worksheets": [
  {
   "cells": [
    {
     "cell_type": "code",
     "collapsed": false,
     "input": [
      "import cPickle\n",
      "import gzip\n",
      "import time\n",
      "\n",
      "import numpy as np\n",
      "import theano.tensor as T\n",
      "\n",
      "import climin.stops\n",
      "import climin.initialize\n",
      "import climin.project\n",
      "import climin.schedule\n",
      "import climin.mathadapt as ma\n",
      "\n",
      "import breze.learn.base\n",
      "from breze.learn.mlp import AwnNetwork, Mlp\n",
      "from breze.arch.component.varprop.transfer import rectifier\n",
      "from breze.arch.component.varprop.loss import nce\n",
      "from breze.learn.utils import parameter_copy\n",
      "\n",
      "from breze.learn.data import one_hot"
     ],
     "language": "python",
     "metadata": {},
     "outputs": [
      {
       "output_type": "stream",
       "stream": "stdout",
       "text": [
        "gnumpy: failed to use gpu_lock. Using board #0 without knowing whether it is in use or not.\n"
       ]
      },
      {
       "output_type": "stream",
       "stream": "stderr",
       "text": [
        "Using gpu device 0: GeForce GTX 480\n"
       ]
      }
     ],
     "prompt_number": 1
    },
    {
     "cell_type": "markdown",
     "metadata": {},
     "source": [
      "Prepare Data\n",
      "============\n",
      "\n",
      "We load the MNIST data. It is available at http://www.iro.umontreal.ca/~lisa/deep/data/mnist/mnist.pkl.gz.\n",
      "\n",
      "The inputs all lie between 0 and 1. Each target is a one of k variable."
     ]
    },
    {
     "cell_type": "code",
     "collapsed": false,
     "input": [
      "datafile = 'mnist.pkl.gz'\n",
      "# Load data.                                                                                                   \n",
      "\n",
      "with gzip.open(datafile,'rb') as f:                                                                        \n",
      "    train_set, val_set, test_set = cPickle.load(f)                                                       \n",
      "\n",
      "X, Z = train_set                                                                                               \n",
      "VX, VZ = val_set\n",
      "TX, TZ = test_set\n",
      "\n",
      "Z = one_hot(Z, 10)\n",
      "VZ = one_hot(VZ, 10)\n",
      "TZ = one_hot(TZ, 10)\n",
      "\n",
      "image_dims = 28, 28\n",
      "\n",
      "X, Z, VX, VZ, TX, TZ = [breze.learn.base.cast_array_to_local_type(i) for i in (X, Z, VX,VZ, TX, TZ)]"
     ],
     "language": "python",
     "metadata": {},
     "outputs": [
      {
       "output_type": "stream",
       "stream": "stderr",
       "text": [
        "/home/bayerj/devel/breze/breze/learn/base.py:34: UserWarning: Implicilty converting numpy.ndarray to gnumpy.garray\n",
        "  warnings.warn('Implicilty converting numpy.ndarray to gnumpy.garray')\n"
       ]
      }
     ],
     "prompt_number": 2
    },
    {
     "cell_type": "markdown",
     "metadata": {},
     "source": [
      "Define Model\n",
      "============"
     ]
    },
    {
     "cell_type": "code",
     "collapsed": false,
     "input": [
      "max_passes = 10\n",
      "batch_size = 200\n",
      "max_iter = max_passes * X.shape[0] / batch_size\n",
      "n_report = X.shape[0] / batch_size\n",
      "\n",
      "stop = climin.stops.after_n_iterations(max_iter)\n",
      "pause = climin.stops.modulo_n_iterations(n_report)\n",
      "\n",
      "optimizer = 'rmsprop', {'steprate': 0.001, 'momentum': 0.9, 'decay': 0.8, 'step_adapt': 0.00}\n",
      "#optimizer = dropout_optimizer_conf(steprate_0=1, n_repeats=1)\n",
      "#optimizer = 'lbfgs', {'n_factors': 25}\n",
      "#optimizer = 'gd', {'steprate': 1e-2, 'momentum': climin.schedule.sutskever_blend(0.995, 10), 'momentum_type': 'nesterov'}\n",
      "\n",
      "p = Mlp(784, [512] * 2, 10, \n",
      "        hidden_transfers=['sigmoid'] * 2, out_transfer='sigmoid',\n",
      "        loss='nces', \n",
      "        optimizer=optimizer, batch_size=batch_size, max_iter=max_iter,\n",
      "       )\n",
      "\n",
      "climin.initialize.randomize_normal(p.parameters.data, 0, 1e-3)\n",
      "\n",
      "n_wrong = 1 - T.eq(T.argmax(p.exprs['output_in'] , axis=1), T.argmax(p.exprs['target'], axis=1)).mean()\n",
      "p_f_n_wrong = p.function(['inpt', 'target'], n_wrong)\n",
      "                \n",
      "losses = []\n",
      "print 'max iter', max_iter"
     ],
     "language": "python",
     "metadata": {},
     "outputs": [
      {
       "output_type": "stream",
       "stream": "stdout",
       "text": [
        "max iter 2500\n"
       ]
      }
     ],
     "prompt_number": 3
    },
    {
     "cell_type": "code",
     "collapsed": false,
     "input": [
      "start = time.time()\n",
      "# Set up a nice printout.\n",
      "keys = '#', 'loss', 'val loss', 'seconds', 'wd', 'train emp', 'val emp', 'test emp'\n",
      "max_len = max(len(i) for i in keys)\n",
      "header = '\\t'.join(i for i in keys)\n",
      "print header\n",
      "print '-' * len(header)\n",
      "\n",
      "for i, info in enumerate(p.powerfit((X, Z), (VX, VZ), stop, pause)):\n",
      "    if info['n_iter'] % n_report != 0:\n",
      "        continue\n",
      "    passed = time.time() - start\n",
      "    losses.append((info['loss'], info['val_loss']))\n",
      "    \n",
      "    info.update({\n",
      "        'time': passed,\n",
      "        'train_emp': ma.scalar(p_f_n_wrong(X, Z)),\n",
      "        'val_emp': ma.scalar(p_f_n_wrong(VX, VZ)),\n",
      "        'test_emp': ma.scalar(p_f_n_wrong(TX, TZ)),\n",
      "    })\n",
      "    row = '%(n_iter)i\\t%(time)g\\t\\t%(loss)g\\t%(val_loss)g\\t%(train_emp)g\\t%(val_emp)g\\t%(test_emp)g' % info\n",
      "    print row\n",
      "    \n",
      "p.parameters.data[...] = info['best_pars']"
     ],
     "language": "python",
     "metadata": {},
     "outputs": [
      {
       "output_type": "stream",
       "stream": "stdout",
       "text": [
        "#\tloss\tval loss\tseconds\twd\ttrain emp\tval emp\ttest emp\n",
        "-----------------------------------------------------\n",
        "0\t2.85218\t\t6.487\t6.48709\t0.88644\t0.8936\t0.8865"
       ]
      },
      {
       "output_type": "stream",
       "stream": "stdout",
       "text": [
        "\n",
        "250\t4.7251\t\t0.595865\t0.553156\t0.1008\t0.0927\t0.0978"
       ]
      },
      {
       "output_type": "stream",
       "stream": "stdout",
       "text": [
        "\n",
        "500\t6.59345\t\t0.219291\t0.234888\t0.03514\t0.0358\t0.043"
       ]
      },
      {
       "output_type": "stream",
       "stream": "stdout",
       "text": [
        "\n",
        "750\t8.46279\t\t0.126094\t0.17763\t0.01976\t0.0275\t0.0306"
       ]
      },
      {
       "output_type": "stream",
       "stream": "stdout",
       "text": [
        "\n",
        "1000\t10.3311\t\t0.0955254\t0.168033\t0.01502\t0.0245\t0.027"
       ]
      },
      {
       "output_type": "stream",
       "stream": "stdout",
       "text": [
        "\n",
        "1250\t12.1993\t\t0.0559233\t0.151807\t0.00832\t0.0203\t0.0221"
       ]
      },
      {
       "output_type": "stream",
       "stream": "stdout",
       "text": [
        "\n",
        "1500\t14.0674\t\t0.0475051\t0.16169\t0.00762\t0.0217\t0.0222"
       ]
      },
      {
       "output_type": "stream",
       "stream": "stdout",
       "text": [
        "\n",
        "1750\t15.9347\t\t0.0382994\t0.184327\t0.00566\t0.0208\t0.0212"
       ]
      },
      {
       "output_type": "stream",
       "stream": "stdout",
       "text": [
        "\n",
        "2000\t17.8025\t\t0.0412795\t0.206972\t0.00594\t0.0232\t0.0228"
       ]
      },
      {
       "output_type": "stream",
       "stream": "stdout",
       "text": [
        "\n",
        "2250\t19.6674\t\t0.023644\t0.199245\t0.0032\t0.0223\t0.0229"
       ]
      },
      {
       "output_type": "stream",
       "stream": "stdout",
       "text": [
        "\n",
        "2500\t21.5365\t\t0.0191958\t0.222025\t0.00286\t0.021\t0.0204"
       ]
      },
      {
       "output_type": "stream",
       "stream": "stdout",
       "text": [
        "\n"
       ]
      }
     ],
     "prompt_number": 5
    },
    {
     "cell_type": "code",
     "collapsed": true,
     "input": [
      "max_passes = 300\n",
      "batch_size = 200\n",
      "max_iter = max_passes * X.shape[0] / batch_size\n",
      "n_report = X.shape[0] / batch_size\n",
      "\n",
      "stop = climin.stops.after_n_iterations(max_iter)\n",
      "pause = climin.stops.modulo_n_iterations(n_report)\n",
      "\n",
      "optimizer = 'rmsprop', {'steprate': 0.00001, 'momentum': 0.995, 'decay': 0.8, 'step_adapt': 0.00}\n",
      "#optimizer = dropout_optimizer_conf(steprate_0=1, n_repeats=1)\n",
      "#optimizer = 'lbfgs', {'n_factors': 25}\n",
      "#optimizer = 'gd', {'steprate': 1e-2, 'momentum': climin.schedule.sutskever_blend(0.995, 10), 'momentum_type': 'nesterov'}\n",
      "\n",
      "m = AwnNetwork(784, [512] * 2, 10, \n",
      "                       hidden_transfers=['sigmoid']* 2, out_transfer='sigmoid',\n",
      "                       loss='nces', \n",
      "                       optimizer=optimizer, batch_size=batch_size, max_iter=max_iter,\n",
      "                       inpt_var=1e-8)\n",
      "\n",
      "climin.initialize.randomize_normal(m.parameters.data, 0, 0.0001)\n",
      "\n",
      "parameter_copy(p, m, {\n",
      " 'hidden_bias_mean_0': 'hidden_bias_0',\n",
      " 'hidden_bias_mean_1': 'hidden_bias_1',\n",
      " 'hidden_to_hidden_mean_0': 'hidden_to_hidden_0',\n",
      " 'hidden_to_out_mean': 'hidden_to_out',\n",
      " 'in_to_hidden_mean': 'in_to_hidden',\n",
      " 'out_bias_mean': 'out_bias'})                   \n",
      "                      \n",
      "n_wrong = 1 - T.eq(T.argmax(m.exprs['output_in_mean'] , axis=1), T.argmax(m.exprs['target'], axis=1)).mean()\n",
      "f_n_wrong = m.function(['inpt', 'target'], n_wrong)\n",
      "                \n",
      "losses = []\n",
      "print 'max iter', max_iter"
     ],
     "language": "python",
     "metadata": {},
     "outputs": [
      {
       "output_type": "stream",
       "stream": "stdout",
       "text": [
        "max iter 75000\n"
       ]
      }
     ],
     "prompt_number": 6
    },
    {
     "cell_type": "code",
     "collapsed": false,
     "input": [
      "n_wrong = 1 - T.eq(T.argmax(p.exprs['output_in'] , axis=1), T.argmax(p.exprs['target'], axis=1)).mean()\n",
      "p_f_n_wrong = p.function(['inpt', 'target'], n_wrong)\n",
      "print p_f_n_wrong(TX, TZ)\n",
      "print f_n_wrong(TX, TZ)"
     ],
     "language": "python",
     "metadata": {},
     "outputs": [
      {
       "output_type": "stream",
       "stream": "stdout",
       "text": [
        "garray(0.022099999710917473)\n",
        "garray(0.023099999874830246)"
       ]
      },
      {
       "output_type": "stream",
       "stream": "stdout",
       "text": [
        "\n"
       ]
      }
     ],
     "prompt_number": 7
    },
    {
     "cell_type": "markdown",
     "metadata": {},
     "source": [
      "Learn\n",
      "====="
     ]
    },
    {
     "cell_type": "code",
     "collapsed": false,
     "input": [
      "start = time.time()\n",
      "# Set up a nice printout.\n",
      "keys = '#', 'loss', 'val loss', 'seconds', 'wd', 'train emp', 'val emp', 'test emp'\n",
      "max_len = max(len(i) for i in keys)\n",
      "header = '\\t'.join(i for i in keys)\n",
      "print header\n",
      "print '-' * len(header)\n",
      "\n",
      "for i, info in enumerate(m.powerfit((X, Z), (VX, VZ), stop, pause)):\n",
      "    if info['n_iter'] % n_report != 0:\n",
      "        continue\n",
      "    passed = time.time() - start\n",
      "    losses.append((info['loss'], info['val_loss']))\n",
      "    \n",
      "    info.update({\n",
      "        'time': passed,\n",
      "        'train_emp': ma.scalar(f_n_wrong(X, Z)),\n",
      "        'val_emp': ma.scalar(f_n_wrong(VX, VZ)),\n",
      "        'test_emp': ma.scalar(f_n_wrong(TX, TZ)),\n",
      "    })\n",
      "    row = '%(n_iter)i\\t%(time)g\\t\\t%(loss)g\\t%(val_loss)g\\t%(train_emp)g\\t%(val_emp)g\\t%(test_emp)g' % info\n",
      "    print row"
     ],
     "language": "python",
     "metadata": {},
     "outputs": [
      {
       "output_type": "stream",
       "stream": "stdout",
       "text": [
        "#\tloss\tval loss\tseconds\twd\ttrain emp\tval emp\ttest emp\n",
        "-----------------------------------------------------\n",
        "0\t15.9917\t\t0.110572\t0.198321\t0.00934\t0.0212\t0.0231"
       ]
      },
      {
       "output_type": "stream",
       "stream": "stdout",
       "text": [
        "\n",
        "250\t23.6124\t\t0.0448112\t0.134448\t0.006\t0.019\t0.0214"
       ]
      },
      {
       "output_type": "stream",
       "stream": "stdout",
       "text": [
        "\n",
        "500\t31.2377\t\t0.0319161\t0.133359\t0.00416\t0.0184\t0.0196"
       ]
      },
      {
       "output_type": "stream",
       "stream": "stdout",
       "text": [
        "\n",
        "750\t38.8615\t\t0.024771\t0.135855\t0.0028\t0.0187\t0.0192"
       ]
      },
      {
       "output_type": "stream",
       "stream": "stdout",
       "text": [
        "\n",
        "1000\t46.4845\t\t0.0180351\t0.13874\t0.0021\t0.0171\t0.0191"
       ]
      },
      {
       "output_type": "stream",
       "stream": "stdout",
       "text": [
        "\n",
        "1250\t54.1069\t\t0.0150004\t0.146634\t0.0016\t0.018\t0.0193"
       ]
      },
      {
       "output_type": "stream",
       "stream": "stdout",
       "text": [
        "\n",
        "1500\t61.7311\t\t0.0115533\t0.149223\t0.00112\t0.017\t0.0185"
       ]
      },
      {
       "output_type": "stream",
       "stream": "stdout",
       "text": [
        "\n",
        "1750\t69.3537\t\t0.00991836\t0.153073\t0.00092\t0.0186\t0.0184"
       ]
      }
     ],
     "prompt_number": "*"
    },
    {
     "cell_type": "code",
     "collapsed": false,
     "input": [
      "x = m.parameters['in_to_hidden_std'].flatten() ** 2 + 1e-4\n",
      "x.min(), x.max(), x.mean(), x.std()"
     ],
     "language": "python",
     "metadata": {},
     "outputs": [
      {
       "metadata": {},
       "output_type": "pyout",
       "prompt_number": 20,
       "text": [
        "(9.9999997e-05, 0.055663332, 0.00023674632289579937, 0.0010605405511382407)"
       ]
      }
     ],
     "prompt_number": 20
    },
    {
     "cell_type": "code",
     "collapsed": false,
     "input": [
      "fig = pylab.hist(abs(m.parameters['hidden_to_hidden_std_0']).flatten() ** 2 + 1e-4, bins=1000)"
     ],
     "language": "python",
     "metadata": {},
     "outputs": [
      {
       "metadata": {},
       "output_type": "display_data",
       "png": "[encoded data removed]",
       "text": [
        "<matplotlib.figure.Figure at 0x1066f9650>"
       ]
      }
     ],
     "prompt_number": 15
    },
    {
     "cell_type": "code",
     "collapsed": false,
     "input": [
      "parameter_copy(m, p, d2)  \n",
      "n_wrong = 1 - T.eq(T.argmax(p.exprs['output_in'] , axis=1), T.argmax(p.exprs['target'], axis=1)).mean()\n",
      "p_f_n_wrong = p.function(['inpt', 'target'], n_wrong)"
     ],
     "language": "python",
     "metadata": {},
     "outputs": [],
     "prompt_number": 10
    },
    {
     "cell_type": "code",
     "collapsed": false,
     "input": [
      "print p_f_n_wrong(TX, TZ)"
     ],
     "language": "python",
     "metadata": {},
     "outputs": [
      {
       "output_type": "stream",
       "stream": "stdout",
       "text": [
        "0.0246\n"
       ]
      }
     ],
     "prompt_number": 11
    },
    {
     "cell_type": "code",
     "collapsed": false,
     "input": [
      "fig = plt.figure(figsize=(16, 9))\n",
      "ax = fig.add_subplot(111)\n",
      "ax.plot(losses)"
     ],
     "language": "python",
     "metadata": {},
     "outputs": [
      {
       "metadata": {},
       "output_type": "pyout",
       "prompt_number": 12,
       "text": [
        "[<matplotlib.lines.Line2D at 0x110890650>,\n",
        " <matplotlib.lines.Line2D at 0x1108909d0>]"
       ]
      },
      {
       "metadata": {},
       "output_type": "display_data",
       "png": "[encoded data removed]",
       "text": [
        "<matplotlib.figure.Figure at 0x10ede7090>"
       ]
      }
     ],
     "prompt_number": 12
    },
    {
     "cell_type": "code",
     "collapsed": false,
     "input": [
      "_ = pylab.hist(m.parameters['in_to_hidden_var'].flatten(), bins=100)"
     ],
     "language": "python",
     "metadata": {},
     "outputs": [
      {
       "metadata": {},
       "output_type": "display_data",
       "png": "[encoded data removed]",
       "text": [
        "<matplotlib.figure.Figure at 0x10d782690>"
       ]
      }
     ],
     "prompt_number": 13
    },
    {
     "cell_type": "code",
     "collapsed": false,
     "input": [
      "f_predict = m.function(['inpt'], T.argmax(m.exprs['output_in_mean'], axis=1))\n",
      "\n",
      "TY = f_predict(TX)\n",
      "\n",
      "print 'Number of mistakes on the testing set:', (TY != TZ.argmax(axis=1)).sum()"
     ],
     "language": "python",
     "metadata": {},
     "outputs": [
      {
       "output_type": "stream",
       "stream": "stdout",
       "text": [
        "Number of mistakes on the testing set: 197\n"
       ]
      }
     ],
     "prompt_number": 12
    }
   ],
   "metadata": {}
  }
 ]
}