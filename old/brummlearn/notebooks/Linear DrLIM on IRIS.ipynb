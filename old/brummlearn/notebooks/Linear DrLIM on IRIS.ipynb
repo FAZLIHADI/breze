{
 "metadata": {
  "name": "Linear DrLIM on IRIS"
 },
 "nbformat": 3,
 "nbformat_minor": 0,
 "worksheets": [
  {
   "cells": [
    {
     "cell_type": "code",
     "collapsed": false,
     "input": [
      "import itertools\n",
      "import random\n",
      "\n",
      "import numpy as np\n",
      "\n",
      "from IPython.core import pylabtools\n",
      "pylabtools.figsize(16, 9)\n",
      "\n",
      "import climin.stops\n",
      "import climin.initialize\n",
      "\n",
      "from brummlearn.glm import GeneralizedLinearModel\n",
      "from brummlearn.data import one_hot\n",
      "\n",
      "from sklearn import neighbors"
     ],
     "language": "python",
     "metadata": {},
     "outputs": [],
     "prompt_number": 1
    },
    {
     "cell_type": "markdown",
     "metadata": {},
     "source": [
      "Prepare data\n",
      "============"
     ]
    },
    {
     "cell_type": "code",
     "collapsed": true,
     "input": [
      "data = [i for i in open('iris.data').readlines() if i.strip()]\n",
      "random.shuffle(data)\n",
      "rows = (i.split(',') for i in data)\n",
      "rows = (([float(j) for j in i[:-1]], i[-1]) for i in rows)\n",
      "PX = np.empty((len(data), 4))\n",
      "classes = []\n",
      "for i, (inpt, klass) in enumerate(rows):\n",
      "    PX[i] = inpt\n",
      "    classes.append(klass.strip())\n",
      "    \n",
      "class_types = sorted(set(classes))\n",
      "class_to_int = dict(zip(class_types, range(3)))\n",
      "PC = np.array([class_to_int[i] for i in classes])\n",
      "\n",
      "test_X = PX[100:]\n",
      "test_C = PC[100:]\n",
      "\n",
      "PX = PX[:100]\n",
      "PC = PC[:100]\n",
      "\n",
      "# Draw a number of positive/negative pairs.\n",
      "n_samples = PX.shape[0]\n",
      "pairs = [(i, j) for i in range(n_samples) for j in range(n_samples)]\n",
      "positive_pairs = [(i, j) for i, j in pairs if PC[i] == PC[j]]\n",
      "negative_pairs = [(i, j) for i, j in pairs if PC[i] != PC[j]]\n",
      "\n",
      "# Draw a number of negative pairs.\n",
      "n_pairs = 500\n",
      "n_samples = 2 * n_pairs\n",
      "positive_idxs = list(itertools.chain(*random.sample(positive_pairs, n_pairs)))\n",
      "negative_idxs = list(itertools.chain(*random.sample(negative_pairs, n_pairs)))\n",
      "\n",
      "AX_p = PX[positive_idxs]\n",
      "AX_n = PX[negative_idxs]\n",
      "AZ_p = np.ones((n_pairs, 1))\n",
      "AZ_n = np.zeros((n_pairs, 1))\n",
      "\n",
      "# Split into train, val and test.\n",
      "train_stop, val_stop = n_samples / 2, (n_samples / 4) * 3\n",
      "X_p, Z_p = AX_p[:train_stop], AZ_p[:train_stop / 2]\n",
      "X_n, Z_n = AX_n[:train_stop], AZ_n[:train_stop / 2]\n",
      "X, Z = np.concatenate([X_p, X_n], axis=0), np.concatenate([Z_p, Z_n], axis=0)\n",
      "\n",
      "VX_p, VZ_p = AX_p[train_stop:val_stop], AZ_p[train_stop / 2:val_stop / 2]\n",
      "VX_n, VZ_n = AX_n[train_stop:val_stop], AZ_n[train_stop / 2:val_stop / 2]\n",
      "VX, VZ = np.concatenate([VX_p, VX_n], axis=0), np.concatenate([VZ_p, VZ_n], axis=0)\n",
      "\n",
      "TX_p, TZ_p = AX_p[val_stop:], AZ_p[val_stop / 2:]\n",
      "TX_n, TZ_n = AX_n[val_stop:], AZ_n[val_stop / 2:]\n",
      "TX, TZ = np.concatenate([TX_p, TX_n], axis=0), np.concatenate([TZ_p, TZ_n], axis=0)"
     ],
     "language": "python",
     "metadata": {},
     "outputs": [],
     "prompt_number": 38
    },
    {
     "cell_type": "code",
     "collapsed": false,
     "input": [
      "print AX_p.shape, AZ_p.shape\n",
      "print X.shape, Z.shape\n",
      "print VX.shape, VZ.shape\n",
      "print TX.shape, TZ.shape"
     ],
     "language": "python",
     "metadata": {},
     "outputs": [
      {
       "output_type": "stream",
       "stream": "stdout",
       "text": [
        "(1000, 4) (500, 1)\n",
        "(1000, 4) (500, 1)\n",
        "(500, 4) (250, 1)\n",
        "(500, 4) (250, 1)\n"
       ]
      }
     ],
     "prompt_number": 39
    },
    {
     "cell_type": "markdown",
     "metadata": {},
     "source": [
      "Setup of model\n",
      "=============="
     ]
    },
    {
     "cell_type": "code",
     "collapsed": false,
     "input": [
      "max_iter = 100\n",
      "\n",
      "stop = climin.stops.any_([\n",
      "    #climin.stops.converged('loss'),\n",
      "    #climin.stops.rising('val_loss', 10, 1e-5, patience=5),\n",
      "    climin.stops.after_n_iterations(max_iter),\n",
      "    ])\n",
      "\n",
      "pause = climin.stops.modulo_n_iterations(10)\n",
      "\n",
      "optimizer = 'lbfgs'\n",
      "m = GeneralizedLinearModel(4, 2, out_transfer='identity', loss='drlim1', optimizer=optimizer, max_iter=max_iter)\n",
      "m.parameters.data[:] = np.random.normal(0, 2, m.parameters.data.shape)\n",
      "\n",
      "losses = []\n",
      "v_losses = []"
     ],
     "language": "python",
     "metadata": {},
     "outputs": [
      {
       "output_type": "stream",
       "stream": "stderr",
       "text": [
        "/Users/bayerj/devel/breze/breze/component/loss.py:226: DeprecationWarning: Division of two integer types with x / y is deprecated, please use x // y for an integer division.\n",
        "  n_pair = embedding.shape[0] / 2\n"
       ]
      }
     ],
     "prompt_number": 44
    },
    {
     "cell_type": "markdown",
     "metadata": {},
     "source": [
      "Learning\n",
      "========"
     ]
    },
    {
     "cell_type": "code",
     "collapsed": false,
     "input": [
      "# Set up a nice printout.\n",
      "keys = '#', 'loss', 'val loss'#, 'step_length'\n",
      "max_len = max(len(i) for i in keys)\n",
      "header = '   '.join(i.ljust(max_len) for i in keys)\n",
      "print header\n",
      "print '-' * len(header)\n",
      "\n",
      "for info in m.powerfit((X, Z), (VX, VZ), stop, pause):\n",
      "    losses.append(info['loss'])\n",
      "    v_losses.append(info['val_loss'])\n",
      "    \n",
      "    #img = tile_raster_images(fe.parameters['in_to_hidden'].T, image_dims, feature_dims, (1, 1))\n",
      "    #save_and_display(img, 'filters-%i.png' % i)  \n",
      "    \n",
      "    row = '%i' % info['n_iter'], '%.6f' % info['loss'], '%.6f' % info['val_loss']#, '%.6f' % info['step_length']\n",
      "    print '   '.join(i.ljust(max_len) for i in row)"
     ],
     "language": "python",
     "metadata": {},
     "outputs": [
      {
       "output_type": "stream",
       "stream": "stdout",
       "text": [
        "#          loss       val loss\n",
        "------------------------------\n",
        "0          0.750806   0.851519"
       ]
      },
      {
       "output_type": "stream",
       "stream": "stdout",
       "text": [
        "\n",
        "10         0.290770   0.308285\n",
        "20         0.290685   0.308378\n",
        "30         0.290684   0.308362"
       ]
      },
      {
       "output_type": "stream",
       "stream": "stdout",
       "text": [
        "\n",
        "40         0.290684   0.308362"
       ]
      },
      {
       "output_type": "stream",
       "stream": "stdout",
       "text": [
        "\n",
        "50         0.290684   0.308362"
       ]
      },
      {
       "output_type": "stream",
       "stream": "stdout",
       "text": [
        "\n",
        "60         0.290684   0.308362"
       ]
      },
      {
       "output_type": "stream",
       "stream": "stdout",
       "text": [
        "\n",
        "70         0.290684   0.308362"
       ]
      },
      {
       "output_type": "stream",
       "stream": "stdout",
       "text": [
        "\n",
        "80         0.290684   0.308362"
       ]
      },
      {
       "output_type": "stream",
       "stream": "stdout",
       "text": [
        "\n",
        "90         0.290684   0.308362"
       ]
      },
      {
       "output_type": "stream",
       "stream": "stdout",
       "text": [
        "\n"
       ]
      }
     ],
     "prompt_number": 45
    },
    {
     "cell_type": "markdown",
     "metadata": {},
     "source": [
      "Learning curves\n",
      "==============="
     ]
    },
    {
     "cell_type": "code",
     "collapsed": false,
     "input": [
      "pylab.plot(losses, 'b-', label='training loss')\n",
      "pylab.plot(v_losses, 'r-', label='validation loss')\n",
      "pylab.legend()"
     ],
     "language": "python",
     "metadata": {},
     "outputs": [
      {
       "output_type": "pyout",
       "prompt_number": 30,
       "text": [
        "<matplotlib.legend.Legend at 0x11dc8af90>"
       ]
      },
      {
       "output_type": "display_data",
       "png": "[encoded data removed]",
       "text": [
        "<matplotlib.figure.Figure at 0x11e2ef210>"
       ]
      }
     ],
     "prompt_number": 30
    },
    {
     "cell_type": "markdown",
     "metadata": {},
     "source": [
      "Embeddings\n",
      "=========="
     ]
    },
    {
     "cell_type": "code",
     "collapsed": false,
     "input": [
      "# Calculate embeddings.\n",
      "f_embed = m.function(['inpt'], 'output')\n",
      "E = f_embed(test_X)"
     ],
     "language": "python",
     "metadata": {},
     "outputs": [],
     "prompt_number": 46
    },
    {
     "cell_type": "code",
     "collapsed": false,
     "input": [
      "pylab.plot(E[test_C == 0, 0], E[test_C == 0, 1], 'ro', label=class_types[0])\n",
      "pylab.plot(E[test_C == 1, 0], E[test_C == 1, 1], 'yo', label=class_types[1])\n",
      "pylab.plot(E[test_C == 2, 0], E[test_C == 2, 1], 'ko', label=class_types[2])\n",
      "pylab.legend()"
     ],
     "language": "python",
     "metadata": {},
     "outputs": [
      {
       "output_type": "pyout",
       "prompt_number": 47,
       "text": [
        "<matplotlib.legend.Legend at 0x11cf7ab50>"
       ]
      },
      {
       "output_type": "display_data",
       "png": "[encoded data removed]",
       "text": [
        "<matplotlib.figure.Figure at 0x11e06db90>"
       ]
      }
     ],
     "prompt_number": 47
    },
    {
     "cell_type": "markdown",
     "metadata": {},
     "source": [
      "KNN\n",
      "==="
     ]
    },
    {
     "cell_type": "code",
     "collapsed": false,
     "input": [
      "# Tune hyper parameter for knn on validation set.\n",
      "best_loss = float('inf')\n",
      "best_k = None\n",
      "for k in [1, 2, 5, 8, 10, 12, 15, 20]:\n",
      "    clf = neighbors.KNeighborsClassifier(k)\n",
      "    clf.fit(E, C)\n",
      "    loss = (clf.predict(VE) == VC).mean()\n",
      "    print k, loss\n",
      "    if loss < best_loss:\n",
      "        best_k = k\n",
      "        best_loss = loss"
     ],
     "language": "python",
     "metadata": {},
     "outputs": []
    },
    {
     "cell_type": "code",
     "collapsed": false,
     "input": [
      "clf = neighbors.KNeighborsClassifier(best_k)\n",
      "\n",
      "# We use validation and training data for KNN.\n",
      "clf.fit(np.vstack([E, VE]), np.hstack([C, VC]))\n",
      "print '#wrong', (clf.predict(TE) == TC).sum(), 'out of ', TC.shape[0]"
     ],
     "language": "python",
     "metadata": {},
     "outputs": []
    }
   ],
   "metadata": {}
  }
 ]
}